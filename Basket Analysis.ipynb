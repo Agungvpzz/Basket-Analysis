{
 "cells": [
  {
   "cell_type": "code",
   "execution_count": 1,
   "id": "ec605fa7",
   "metadata": {
    "ExecuteTime": {
     "end_time": "2024-05-15T02:58:48.927052Z",
     "start_time": "2024-05-15T02:58:47.502617Z"
    },
    "deletable": false,
    "editable": false
   },
   "outputs": [],
   "source": [
    "import os\n",
    "import re\n",
    "\n",
    "import pandas as pd\n",
    "import numpy as np\n",
    "\n",
    "import plotly.express as px\n",
    "import networkx as nx\n",
    "\n",
    "import json\n",
    "import copy"
   ]
  },
  {
   "cell_type": "code",
   "execution_count": 2,
   "id": "b404a743",
   "metadata": {
    "ExecuteTime": {
     "end_time": "2024-05-15T02:59:05.911371Z",
     "start_time": "2024-05-15T02:58:49.056299Z"
    },
    "deletable": false,
    "editable": false
   },
   "outputs": [],
   "source": [
    "from mlxtend.frequent_patterns import apriori\n",
    "from mlxtend.frequent_patterns import association_rules\n",
    "from mlxtend.preprocessing import TransactionEncoder"
   ]
  },
  {
   "cell_type": "code",
   "execution_count": 23,
   "id": "10b328fd",
   "metadata": {
    "ExecuteTime": {
     "end_time": "2024-05-15T04:21:03.703970Z",
     "start_time": "2024-05-15T04:21:03.679716Z"
    },
    "deletable": false,
    "editable": false
   },
   "outputs": [],
   "source": [
    "from networks.RulesGraphManager import RulesGraphManager as RGM\n",
    "from grouper.NxGrouper import NxGrouper\n",
    "\n",
    "from echarts.EgraphForce import EgraphForce\n",
    "from echarts.EgraphStandard import EgraphStandard\n",
    "from echarts.JupyterEcharts import JupyterEcharts"
   ]
  },
  {
   "cell_type": "code",
   "execution_count": 3,
   "id": "3cafa265",
   "metadata": {
    "ExecuteTime": {
     "end_time": "2024-05-15T02:59:06.036393Z",
     "start_time": "2024-05-15T02:59:06.023523Z"
    },
    "deletable": false,
    "editable": false
   },
   "outputs": [],
   "source": [
    "pd.set_option('display.max_rows', 100)\n",
    "pd.set_option('display.max_colwidth', None)"
   ]
  },
  {
   "cell_type": "markdown",
   "id": "a0b11721",
   "metadata": {
    "ExecuteTime": {
     "end_time": "2024-05-14T09:36:09.727344Z",
     "start_time": "2024-05-14T09:36:09.718369Z"
    },
    "deletable": false,
    "editable": false,
    "run_control": {
     "frozen": true
    }
   },
   "source": [
    "### Data Preparation"
   ]
  },
  {
   "cell_type": "markdown",
   "id": "4525c24f",
   "metadata": {
    "ExecuteTime": {
     "end_time": "2024-05-14T09:43:32.197739Z",
     "start_time": "2024-05-14T09:43:32.188763Z"
    },
    "deletable": false,
    "editable": false,
    "run_control": {
     "frozen": true
    }
   },
   "source": [
    "#### Data Cleaning"
   ]
  },
  {
   "cell_type": "code",
   "execution_count": 4,
   "id": "3043044c",
   "metadata": {
    "ExecuteTime": {
     "end_time": "2024-05-15T03:05:31.534047Z",
     "start_time": "2024-05-15T03:05:31.509900Z"
    },
    "code_folding": [
     0
    ],
    "deletable": false,
    "editable": false
   },
   "outputs": [],
   "source": [
    "def get_cleaned_df():\n",
    "    global COL_CUSTOMER_ID, COL_ORDER_DATE, COL_ORDER_ID, COL_VALUE, COL_QUANTITY\n",
    "    COL_CUSTOMER_ID = 'Customer ID'\n",
    "    COL_ORDER_DATE = 'InvoiceDate'\n",
    "    COL_ORDER_ID = 'Invoice'\n",
    "    COL_VALUE = 'Sales'\n",
    "    COL_QUANTITY = 'Quantity'\n",
    "    \n",
    "    pathname = os.path.join(\"F:\\\\Data\\\\datas\", \"online_retail_II.csv\")\n",
    "    df = pd.read_csv(\n",
    "        pathname, \n",
    "        dtype = {'Customer ID': str, 'Invoice': str},\n",
    "        parse_dates = ['InvoiceDate']\n",
    "    )\n",
    "    \n",
    "    df = df.dropna()\n",
    "    df['Sales'] = df['Price'] * df['Quantity']\n",
    "    \n",
    "    price_0 = df[df['Price'] == 0].index\n",
    "    df = df.drop(index=price_0)\n",
    "    \n",
    "    # From this data below, we know that the canceled invoice (the initialize invoice) already dropped out in our dataset\n",
    "    # Our action is to get rid of the canceled Invoice. The canceled invoice code starts with \"C\"\n",
    "#     display(df[(df[COL_CUSTOMER_ID] == '16321.0') & (df['StockCode'] == '22087')])\n",
    "    df = df[~df['Invoice'].str.startswith('C')]\n",
    "    df['Description'] = df['Description'].map(lambda x: x.strip())\n",
    "    df['Description'] = df['Description'].map(lambda x: re.sub(r'\\s{2,}', ' ', x))\n",
    "    \n",
    "    return df[['Invoice', 'Description']]"
   ]
  },
  {
   "cell_type": "code",
   "execution_count": 5,
   "id": "4547cca6",
   "metadata": {
    "ExecuteTime": {
     "end_time": "2024-05-15T03:05:41.332526Z",
     "start_time": "2024-05-15T03:05:32.223054Z"
    },
    "deletable": false,
    "editable": false
   },
   "outputs": [],
   "source": [
    "df = get_cleaned_df()"
   ]
  },
  {
   "cell_type": "markdown",
   "id": "e0d2b703",
   "metadata": {
    "ExecuteTime": {
     "end_time": "2024-05-14T09:39:53.800328Z",
     "start_time": "2024-05-14T09:39:53.734564Z"
    },
    "deletable": false,
    "editable": false,
    "run_control": {
     "frozen": true
    }
   },
   "source": [
    "#### Data Encoding"
   ]
  },
  {
   "cell_type": "code",
   "execution_count": 6,
   "id": "eb51675b",
   "metadata": {
    "ExecuteTime": {
     "end_time": "2024-05-15T03:06:31.483650Z",
     "start_time": "2024-05-15T03:06:31.464466Z"
    },
    "deletable": false,
    "editable": false
   },
   "outputs": [],
   "source": [
    "def encoding_data(df, COL_ITEM_ID, COL_ORDER_ID):\n",
    "    df = df.copy()\n",
    "    df[COL_ITEM_ID] = df[COL_ITEM_ID].transform(lambda x: [x])\n",
    "    df = df.groupby(COL_ORDER_ID, as_index=False).sum()[COL_ITEM_ID]\n",
    "    df = df.map(lambda x: list(set(x)))\n",
    "                          \n",
    "    encoder = TransactionEncoder()\n",
    "    one_hot_transactions = pd.DataFrame(\n",
    "        encoder.fit(df).transform(df), columns=encoder.columns_\n",
    "    )\n",
    "    \n",
    "    return one_hot_transactions"
   ]
  },
  {
   "cell_type": "code",
   "execution_count": 7,
   "id": "071f799d",
   "metadata": {
    "ExecuteTime": {
     "end_time": "2024-05-15T03:06:33.435974Z",
     "start_time": "2024-05-15T03:06:32.102506Z"
    },
    "deletable": false,
    "editable": false
   },
   "outputs": [],
   "source": [
    "df_transactions = encoding_data(df, 'Description', 'Invoice')"
   ]
  },
  {
   "cell_type": "markdown",
   "id": "8ca6f29a",
   "metadata": {
    "ExecuteTime": {
     "end_time": "2024-05-14T09:39:39.738482Z",
     "start_time": "2024-05-14T09:39:39.721606Z"
    },
    "deletable": false,
    "editable": false,
    "run_control": {
     "frozen": true
    }
   },
   "source": [
    "### Data Mining (Rules Extraction)"
   ]
  },
  {
   "cell_type": "code",
   "execution_count": 8,
   "id": "06a0eae5",
   "metadata": {
    "ExecuteTime": {
     "end_time": "2024-05-15T03:06:36.779099Z",
     "start_time": "2024-05-15T03:06:34.710838Z"
    },
    "deletable": false,
    "editable": false
   },
   "outputs": [],
   "source": [
    "frequent_itemsets = apriori(df_transactions, min_support= 0.01, use_colnames=True, max_len = 3, low_memory=True)\n",
    "rules = association_rules(frequent_itemsets, metric=\"support\", min_threshold = 0.02)"
   ]
  },
  {
   "cell_type": "code",
   "execution_count": 9,
   "id": "fbaca930",
   "metadata": {
    "ExecuteTime": {
     "end_time": "2024-05-15T03:06:37.184040Z",
     "start_time": "2024-05-15T03:06:37.174859Z"
    },
    "deletable": false,
    "editable": false
   },
   "outputs": [],
   "source": [
    "rules['antecedents'] = rules['antecedents'].map(lambda x: ''.join(list(x)))\n",
    "rules['consequents'] = rules['consequents'].map(lambda x: ''.join(list(x)))"
   ]
  },
  {
   "cell_type": "code",
   "execution_count": 10,
   "id": "f6b29023",
   "metadata": {
    "ExecuteTime": {
     "end_time": "2024-05-15T03:06:37.826994Z",
     "start_time": "2024-05-15T03:06:37.802369Z"
    },
    "deletable": false,
    "editable": false
   },
   "outputs": [
    {
     "data": {
      "text/plain": [
       "(22, 10)"
      ]
     },
     "execution_count": 10,
     "metadata": {},
     "output_type": "execute_result"
    }
   ],
   "source": [
    "rules.shape"
   ]
  },
  {
   "cell_type": "markdown",
   "id": "04d0df31",
   "metadata": {
    "ExecuteTime": {
     "end_time": "2024-05-15T04:07:51.530300Z",
     "start_time": "2024-05-15T04:07:51.520326Z"
    },
    "deletable": false,
    "editable": false,
    "run_control": {
     "frozen": true
    }
   },
   "source": [
    "### Network Visualization with Echarts"
   ]
  },
  {
   "cell_type": "code",
   "execution_count": 14,
   "id": "3f2ec58a",
   "metadata": {
    "ExecuteTime": {
     "end_time": "2024-05-15T04:08:10.279722Z",
     "start_time": "2024-05-15T04:08:10.179337Z"
    },
    "deletable": false,
    "editable": false
   },
   "outputs": [],
   "source": [
    "myRGM = RGM(rules, 'antecedents', 'consequents')\n",
    "df_nodes, df_edges = myRGM.get_graph_features()"
   ]
  },
  {
   "cell_type": "code",
   "execution_count": 27,
   "id": "e4cc5c30",
   "metadata": {
    "ExecuteTime": {
     "end_time": "2024-05-15T04:21:23.289810Z",
     "start_time": "2024-05-15T04:21:23.259902Z"
    },
    "deletable": false,
    "editable": false
   },
   "outputs": [],
   "source": [
    "df_nodes = NxGrouper.greedy_modularity_communities(df_nodes, df_edges, 2)"
   ]
  },
  {
   "cell_type": "code",
   "execution_count": 30,
   "id": "1e010d23",
   "metadata": {
    "ExecuteTime": {
     "end_time": "2024-05-15T04:24:15.488272Z",
     "start_time": "2024-05-15T04:24:15.465513Z"
    },
    "collapsed": true,
    "deletable": false,
    "editable": false
   },
   "outputs": [
    {
     "data": {
      "text/html": [
       "<div>\n",
       "<style scoped>\n",
       "    .dataframe tbody tr th:only-of-type {\n",
       "        vertical-align: middle;\n",
       "    }\n",
       "\n",
       "    .dataframe tbody tr th {\n",
       "        vertical-align: top;\n",
       "    }\n",
       "\n",
       "    .dataframe thead th {\n",
       "        text-align: right;\n",
       "    }\n",
       "</style>\n",
       "<table border=\"1\" class=\"dataframe\">\n",
       "  <thead>\n",
       "    <tr style=\"text-align: right;\">\n",
       "      <th></th>\n",
       "      <th>nodes</th>\n",
       "      <th>adjacent_edges</th>\n",
       "      <th>out_edges</th>\n",
       "      <th>in_edges</th>\n",
       "      <th>mutual_edges</th>\n",
       "      <th>support</th>\n",
       "      <th>category</th>\n",
       "    </tr>\n",
       "  </thead>\n",
       "  <tbody>\n",
       "    <tr>\n",
       "      <th>0</th>\n",
       "      <td>LUNCH BAG SUKI DESIGN</td>\n",
       "      <td>3</td>\n",
       "      <td>3</td>\n",
       "      <td>3</td>\n",
       "      <td>3</td>\n",
       "      <td>0.053342</td>\n",
       "      <td>LUNCH BAG SUKI DESIGN</td>\n",
       "    </tr>\n",
       "    <tr>\n",
       "      <th>1</th>\n",
       "      <td>LUNCH BAG BLACK SKULL.</td>\n",
       "      <td>3</td>\n",
       "      <td>3</td>\n",
       "      <td>3</td>\n",
       "      <td>3</td>\n",
       "      <td>0.054018</td>\n",
       "      <td>LUNCH BAG BLACK SKULL.</td>\n",
       "    </tr>\n",
       "    <tr>\n",
       "      <th>2</th>\n",
       "      <td>LUNCH BAG CARS BLUE</td>\n",
       "      <td>2</td>\n",
       "      <td>2</td>\n",
       "      <td>2</td>\n",
       "      <td>2</td>\n",
       "      <td>0.048608</td>\n",
       "      <td>LUNCH BAG BLACK SKULL.</td>\n",
       "    </tr>\n",
       "    <tr>\n",
       "      <th>3</th>\n",
       "      <td>LUNCH BAG SPACEBOY DESIGN</td>\n",
       "      <td>2</td>\n",
       "      <td>2</td>\n",
       "      <td>2</td>\n",
       "      <td>2</td>\n",
       "      <td>0.050691</td>\n",
       "      <td>LUNCH BAG SUKI DESIGN</td>\n",
       "    </tr>\n",
       "    <tr>\n",
       "      <th>4</th>\n",
       "      <td>GREEN REGENCY TEACUP AND SAUCER</td>\n",
       "      <td>1</td>\n",
       "      <td>1</td>\n",
       "      <td>1</td>\n",
       "      <td>1</td>\n",
       "      <td>0.025237</td>\n",
       "      <td>GREEN REGENCY TEACUP AND SAUCER</td>\n",
       "    </tr>\n",
       "    <tr>\n",
       "      <th>5</th>\n",
       "      <td>HEART OF WICKER LARGE</td>\n",
       "      <td>1</td>\n",
       "      <td>1</td>\n",
       "      <td>1</td>\n",
       "      <td>1</td>\n",
       "      <td>0.047148</td>\n",
       "      <td>HEART OF WICKER LARGE</td>\n",
       "    </tr>\n",
       "    <tr>\n",
       "      <th>6</th>\n",
       "      <td>HOME BUILDING BLOCK WORD</td>\n",
       "      <td>1</td>\n",
       "      <td>1</td>\n",
       "      <td>1</td>\n",
       "      <td>1</td>\n",
       "      <td>0.049528</td>\n",
       "      <td>HOME BUILDING BLOCK WORD</td>\n",
       "    </tr>\n",
       "    <tr>\n",
       "      <th>7</th>\n",
       "      <td>RED HANGING HEART T-LIGHT HOLDER</td>\n",
       "      <td>1</td>\n",
       "      <td>1</td>\n",
       "      <td>1</td>\n",
       "      <td>1</td>\n",
       "      <td>0.044118</td>\n",
       "      <td>RED HANGING HEART T-LIGHT HOLDER</td>\n",
       "    </tr>\n",
       "    <tr>\n",
       "      <th>8</th>\n",
       "      <td>SWEETHEART CERAMIC TRINKET BOX</td>\n",
       "      <td>1</td>\n",
       "      <td>1</td>\n",
       "      <td>1</td>\n",
       "      <td>1</td>\n",
       "      <td>0.031675</td>\n",
       "      <td>SWEETHEART CERAMIC TRINKET BOX</td>\n",
       "    </tr>\n",
       "    <tr>\n",
       "      <th>9</th>\n",
       "      <td>WOODEN FRAME ANTIQUE WHITE</td>\n",
       "      <td>1</td>\n",
       "      <td>1</td>\n",
       "      <td>1</td>\n",
       "      <td>1</td>\n",
       "      <td>0.047959</td>\n",
       "      <td>WOODEN FRAME ANTIQUE WHITE</td>\n",
       "    </tr>\n",
       "    <tr>\n",
       "      <th>10</th>\n",
       "      <td>ROSES REGENCY TEACUP AND SAUCER</td>\n",
       "      <td>1</td>\n",
       "      <td>1</td>\n",
       "      <td>1</td>\n",
       "      <td>1</td>\n",
       "      <td>0.028564</td>\n",
       "      <td>GREEN REGENCY TEACUP AND SAUCER</td>\n",
       "    </tr>\n",
       "    <tr>\n",
       "      <th>11</th>\n",
       "      <td>HEART OF WICKER SMALL</td>\n",
       "      <td>1</td>\n",
       "      <td>1</td>\n",
       "      <td>1</td>\n",
       "      <td>1</td>\n",
       "      <td>0.048121</td>\n",
       "      <td>HEART OF WICKER LARGE</td>\n",
       "    </tr>\n",
       "    <tr>\n",
       "      <th>12</th>\n",
       "      <td>LOVE BUILDING BLOCK WORD</td>\n",
       "      <td>1</td>\n",
       "      <td>1</td>\n",
       "      <td>1</td>\n",
       "      <td>1</td>\n",
       "      <td>0.040169</td>\n",
       "      <td>HOME BUILDING BLOCK WORD</td>\n",
       "    </tr>\n",
       "    <tr>\n",
       "      <th>13</th>\n",
       "      <td>WHITE HANGING HEART T-LIGHT HOLDER</td>\n",
       "      <td>1</td>\n",
       "      <td>1</td>\n",
       "      <td>1</td>\n",
       "      <td>1</td>\n",
       "      <td>0.132219</td>\n",
       "      <td>RED HANGING HEART T-LIGHT HOLDER</td>\n",
       "    </tr>\n",
       "    <tr>\n",
       "      <th>14</th>\n",
       "      <td>STRAWBERRY CERAMIC TRINKET BOX</td>\n",
       "      <td>1</td>\n",
       "      <td>1</td>\n",
       "      <td>1</td>\n",
       "      <td>1</td>\n",
       "      <td>0.049176</td>\n",
       "      <td>SWEETHEART CERAMIC TRINKET BOX</td>\n",
       "    </tr>\n",
       "    <tr>\n",
       "      <th>15</th>\n",
       "      <td>WOODEN PICTURE FRAME WHITE FINISH</td>\n",
       "      <td>1</td>\n",
       "      <td>1</td>\n",
       "      <td>1</td>\n",
       "      <td>1</td>\n",
       "      <td>0.044848</td>\n",
       "      <td>WOODEN FRAME ANTIQUE WHITE</td>\n",
       "    </tr>\n",
       "  </tbody>\n",
       "</table>\n",
       "</div>"
      ],
      "text/plain": [
       "                                 nodes  adjacent_edges  out_edges  in_edges  \\\n",
       "0                LUNCH BAG SUKI DESIGN               3          3         3   \n",
       "1               LUNCH BAG BLACK SKULL.               3          3         3   \n",
       "2                  LUNCH BAG CARS BLUE               2          2         2   \n",
       "3            LUNCH BAG SPACEBOY DESIGN               2          2         2   \n",
       "4      GREEN REGENCY TEACUP AND SAUCER               1          1         1   \n",
       "5                HEART OF WICKER LARGE               1          1         1   \n",
       "6             HOME BUILDING BLOCK WORD               1          1         1   \n",
       "7     RED HANGING HEART T-LIGHT HOLDER               1          1         1   \n",
       "8       SWEETHEART CERAMIC TRINKET BOX               1          1         1   \n",
       "9           WOODEN FRAME ANTIQUE WHITE               1          1         1   \n",
       "10     ROSES REGENCY TEACUP AND SAUCER               1          1         1   \n",
       "11               HEART OF WICKER SMALL               1          1         1   \n",
       "12            LOVE BUILDING BLOCK WORD               1          1         1   \n",
       "13  WHITE HANGING HEART T-LIGHT HOLDER               1          1         1   \n",
       "14      STRAWBERRY CERAMIC TRINKET BOX               1          1         1   \n",
       "15   WOODEN PICTURE FRAME WHITE FINISH               1          1         1   \n",
       "\n",
       "    mutual_edges   support                          category  \n",
       "0              3  0.053342             LUNCH BAG SUKI DESIGN  \n",
       "1              3  0.054018            LUNCH BAG BLACK SKULL.  \n",
       "2              2  0.048608            LUNCH BAG BLACK SKULL.  \n",
       "3              2  0.050691             LUNCH BAG SUKI DESIGN  \n",
       "4              1  0.025237   GREEN REGENCY TEACUP AND SAUCER  \n",
       "5              1  0.047148             HEART OF WICKER LARGE  \n",
       "6              1  0.049528          HOME BUILDING BLOCK WORD  \n",
       "7              1  0.044118  RED HANGING HEART T-LIGHT HOLDER  \n",
       "8              1  0.031675    SWEETHEART CERAMIC TRINKET BOX  \n",
       "9              1  0.047959        WOODEN FRAME ANTIQUE WHITE  \n",
       "10             1  0.028564   GREEN REGENCY TEACUP AND SAUCER  \n",
       "11             1  0.048121             HEART OF WICKER LARGE  \n",
       "12             1  0.040169          HOME BUILDING BLOCK WORD  \n",
       "13             1  0.132219  RED HANGING HEART T-LIGHT HOLDER  \n",
       "14             1  0.049176    SWEETHEART CERAMIC TRINKET BOX  \n",
       "15             1  0.044848        WOODEN FRAME ANTIQUE WHITE  "
      ]
     },
     "execution_count": 30,
     "metadata": {},
     "output_type": "execute_result"
    }
   ],
   "source": [
    "df_nodes"
   ]
  },
  {
   "cell_type": "code",
   "execution_count": 28,
   "id": "4e13e7fe",
   "metadata": {
    "ExecuteTime": {
     "end_time": "2024-05-15T04:21:24.259773Z",
     "start_time": "2024-05-15T04:21:24.245722Z"
    },
    "deletable": false,
    "editable": false
   },
   "outputs": [],
   "source": [
    "force = EgraphForce(\n",
    "    df_edges, \n",
    "    df_nodes, \n",
    "    col_source='antecedents', \n",
    "    col_target='consequents', \n",
    "    col_name='nodes',\n",
    ")\n",
    "option = force.get_option()"
   ]
  },
  {
   "cell_type": "code",
   "execution_count": 29,
   "id": "0fbc461d",
   "metadata": {
    "ExecuteTime": {
     "end_time": "2024-05-15T04:21:24.822157Z",
     "start_time": "2024-05-15T04:21:24.803208Z"
    },
    "collapsed": true,
    "deletable": false,
    "editable": false
   },
   "outputs": [
    {
     "data": {
      "text/html": [
       "\n",
       "        <div id=\"chart\" style=\"width: 800px;height:800px;\"></div>\n",
       "        <script type=\"module\">\n",
       "        requirejs.config({paths: {echarts: 'https://cdn.jsdelivr.net/npm/echarts@5.3.2/dist/echarts.min',}});    \n",
       "        requirejs([\"echarts\"], (echarts) => {\n",
       "                        let myChart = echarts.init(document.getElementById('chart'));\n",
       "                        myChart.setOption({\"title\": {\"text\": \"Graph\", \"subtext\": \"Default layout\", \"top\": \"bottom\", \"left\": \"right\"}, \"tooltip\": {\"trigger\": \"item\", \"formatter\": \"{a} <br/>{b} - {c}\"}, \"legend\": [{\"data\": [\"LUNCH BAG SUKI DESIGN\", \"LUNCH BAG BLACK SKULL.\", \"GREEN REGENCY TEACUP AND SAUCER\", \"HEART OF WICKER LARGE\", \"HOME BUILDING BLOCK WORD\", \"RED HANGING HEART T-LIGHT HOLDER\", \"SWEETHEART CERAMIC TRINKET BOX\", \"WOODEN FRAME ANTIQUE WHITE\"]}], \"animationDuration\": 1500, \"animationEasingUpdate\": \"quinticInOut\", \"series\": [{\"name\": \"Series\", \"type\": \"graph\", \"layout\": \"force\", \"data\": [{\"name\": \"LUNCH BAG SUKI DESIGN\", \"category\": \"LUNCH BAG SUKI DESIGN\"}, {\"name\": \"LUNCH BAG BLACK SKULL.\", \"category\": \"LUNCH BAG BLACK SKULL.\"}, {\"name\": \"LUNCH BAG CARS BLUE\", \"category\": \"LUNCH BAG BLACK SKULL.\"}, {\"name\": \"LUNCH BAG SPACEBOY DESIGN\", \"category\": \"LUNCH BAG SUKI DESIGN\"}, {\"name\": \"GREEN REGENCY TEACUP AND SAUCER\", \"category\": \"GREEN REGENCY TEACUP AND SAUCER\"}, {\"name\": \"HEART OF WICKER LARGE\", \"category\": \"HEART OF WICKER LARGE\"}, {\"name\": \"HOME BUILDING BLOCK WORD\", \"category\": \"HOME BUILDING BLOCK WORD\"}, {\"name\": \"RED HANGING HEART T-LIGHT HOLDER\", \"category\": \"RED HANGING HEART T-LIGHT HOLDER\"}, {\"name\": \"SWEETHEART CERAMIC TRINKET BOX\", \"category\": \"SWEETHEART CERAMIC TRINKET BOX\"}, {\"name\": \"WOODEN FRAME ANTIQUE WHITE\", \"category\": \"WOODEN FRAME ANTIQUE WHITE\"}, {\"name\": \"ROSES REGENCY TEACUP AND SAUCER\", \"category\": \"GREEN REGENCY TEACUP AND SAUCER\"}, {\"name\": \"HEART OF WICKER SMALL\", \"category\": \"HEART OF WICKER LARGE\"}, {\"name\": \"LOVE BUILDING BLOCK WORD\", \"category\": \"HOME BUILDING BLOCK WORD\"}, {\"name\": \"WHITE HANGING HEART T-LIGHT HOLDER\", \"category\": \"RED HANGING HEART T-LIGHT HOLDER\"}, {\"name\": \"STRAWBERRY CERAMIC TRINKET BOX\", \"category\": \"SWEETHEART CERAMIC TRINKET BOX\"}, {\"name\": \"WOODEN PICTURE FRAME WHITE FINISH\", \"category\": \"WOODEN FRAME ANTIQUE WHITE\"}], \"links\": [{\"source\": \"GREEN REGENCY TEACUP AND SAUCER\", \"target\": \"ROSES REGENCY TEACUP AND SAUCER\"}, {\"source\": \"ROSES REGENCY TEACUP AND SAUCER\", \"target\": \"GREEN REGENCY TEACUP AND SAUCER\"}, {\"source\": \"HEART OF WICKER LARGE\", \"target\": \"HEART OF WICKER SMALL\"}, {\"source\": \"HEART OF WICKER SMALL\", \"target\": \"HEART OF WICKER LARGE\"}, {\"source\": \"HOME BUILDING BLOCK WORD\", \"target\": \"LOVE BUILDING BLOCK WORD\"}, {\"source\": \"LOVE BUILDING BLOCK WORD\", \"target\": \"HOME BUILDING BLOCK WORD\"}, {\"source\": \"LUNCH BAG CARS BLUE\", \"target\": \"LUNCH BAG BLACK SKULL.\"}, {\"source\": \"LUNCH BAG BLACK SKULL.\", \"target\": \"LUNCH BAG CARS BLUE\"}, {\"source\": \"LUNCH BAG SPACEBOY DESIGN\", \"target\": \"LUNCH BAG BLACK SKULL.\"}, {\"source\": \"LUNCH BAG BLACK SKULL.\", \"target\": \"LUNCH BAG SPACEBOY DESIGN\"}, {\"source\": \"LUNCH BAG SUKI DESIGN\", \"target\": \"LUNCH BAG BLACK SKULL.\"}, {\"source\": \"LUNCH BAG BLACK SKULL.\", \"target\": \"LUNCH BAG SUKI DESIGN\"}, {\"source\": \"LUNCH BAG CARS BLUE\", \"target\": \"LUNCH BAG SUKI DESIGN\"}, {\"source\": \"LUNCH BAG SUKI DESIGN\", \"target\": \"LUNCH BAG CARS BLUE\"}, {\"source\": \"LUNCH BAG SUKI DESIGN\", \"target\": \"LUNCH BAG SPACEBOY DESIGN\"}, {\"source\": \"LUNCH BAG SPACEBOY DESIGN\", \"target\": \"LUNCH BAG SUKI DESIGN\"}, {\"source\": \"RED HANGING HEART T-LIGHT HOLDER\", \"target\": \"WHITE HANGING HEART T-LIGHT HOLDER\"}, {\"source\": \"WHITE HANGING HEART T-LIGHT HOLDER\", \"target\": \"RED HANGING HEART T-LIGHT HOLDER\"}, {\"source\": \"SWEETHEART CERAMIC TRINKET BOX\", \"target\": \"STRAWBERRY CERAMIC TRINKET BOX\"}, {\"source\": \"STRAWBERRY CERAMIC TRINKET BOX\", \"target\": \"SWEETHEART CERAMIC TRINKET BOX\"}, {\"source\": \"WOODEN FRAME ANTIQUE WHITE\", \"target\": \"WOODEN PICTURE FRAME WHITE FINISH\"}, {\"source\": \"WOODEN PICTURE FRAME WHITE FINISH\", \"target\": \"WOODEN FRAME ANTIQUE WHITE\"}], \"categories\": [{\"name\": \"LUNCH BAG SUKI DESIGN\"}, {\"name\": \"LUNCH BAG BLACK SKULL.\"}, {\"name\": \"GREEN REGENCY TEACUP AND SAUCER\"}, {\"name\": \"HEART OF WICKER LARGE\"}, {\"name\": \"HOME BUILDING BLOCK WORD\"}, {\"name\": \"RED HANGING HEART T-LIGHT HOLDER\"}, {\"name\": \"SWEETHEART CERAMIC TRINKET BOX\"}, {\"name\": \"WOODEN FRAME ANTIQUE WHITE\"}], \"roam\": true, \"label\": {\"show\": false, \"position\": \"right\", \"formatter\": \"{b}\"}, \"edgeLabel\": {\"show\": false, \"position\": \"right\", \"formatter\": \"{b}\", \"fontSize\": 20}, \"symbol\": \"circle\", \"symbolSize\": 10, \"edgeSymbol\": [null, \"triangle\"], \"edgeSymbolSize\": [10, 10], \"lineStyle\": {\"color\": \"source\", \"curveness\": 0.2, \"width\": 1, \"opacity\": 0.5}, \"scaleLimit\": {\"min\": 0.4, \"max\": 5}, \"emphasis\": {\"focus\": \"adjacency\", \"lineStyle\": {\"width\": 10}, \"label\": {\"show\": false, \"position\": \"right\", \"formatter\": \"{b}\"}, \"edgeLabel\": {\"show\": false}}, \"zoom\": 1.0, \"draggable\": true, \"force\": {\"gravity\": 0.1, \"repulsion\": 50, \"edgeLength\": 30, \"friction\": 0.6}}]});\n",
       "                }\n",
       "            )\n",
       "        </script>\n",
       "    "
      ],
      "text/plain": [
       "<IPython.core.display.HTML object>"
      ]
     },
     "metadata": {},
     "output_type": "display_data"
    }
   ],
   "source": [
    "JupyterEcharts.show(option)"
   ]
  }
 ],
 "metadata": {
  "kernelspec": {
   "display_name": "Python 3 (ipykernel)",
   "language": "python",
   "name": "python3"
  },
  "language_info": {
   "codemirror_mode": {
    "name": "ipython",
    "version": 3
   },
   "file_extension": ".py",
   "mimetype": "text/x-python",
   "name": "python",
   "nbconvert_exporter": "python",
   "pygments_lexer": "ipython3",
   "version": "3.9.12"
  },
  "toc": {
   "base_numbering": 1,
   "nav_menu": {},
   "number_sections": true,
   "sideBar": true,
   "skip_h1_title": false,
   "title_cell": "Table of Contents",
   "title_sidebar": "Contents",
   "toc_cell": false,
   "toc_position": {},
   "toc_section_display": true,
   "toc_window_display": false
  },
  "varInspector": {
   "cols": {
    "lenName": 16,
    "lenType": 16,
    "lenVar": 40
   },
   "kernels_config": {
    "python": {
     "delete_cmd_postfix": "",
     "delete_cmd_prefix": "del ",
     "library": "var_list.py",
     "varRefreshCmd": "print(var_dic_list())"
    },
    "r": {
     "delete_cmd_postfix": ") ",
     "delete_cmd_prefix": "rm(",
     "library": "var_list.r",
     "varRefreshCmd": "cat(var_dic_list()) "
    }
   },
   "types_to_exclude": [
    "module",
    "function",
    "builtin_function_or_method",
    "instance",
    "_Feature"
   ],
   "window_display": false
  }
 },
 "nbformat": 4,
 "nbformat_minor": 5
}
