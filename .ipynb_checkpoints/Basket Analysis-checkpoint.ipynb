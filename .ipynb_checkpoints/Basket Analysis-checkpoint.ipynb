{
 "cells": [
  {
   "cell_type": "code",
   "execution_count": 1,
   "id": "ec605fa7",
   "metadata": {
    "ExecuteTime": {
     "end_time": "2024-05-15T10:58:16.398029Z",
     "start_time": "2024-05-15T10:58:15.033570Z"
    },
    "deletable": false,
    "editable": false
   },
   "outputs": [],
   "source": [
    "import os\n",
    "import re\n",
    "\n",
    "import pandas as pd\n",
    "import numpy as np\n",
    "\n",
    "import plotly.express as px\n",
    "import networkx as nx\n",
    "\n",
    "import json\n",
    "import copy"
   ]
  },
  {
   "cell_type": "code",
   "execution_count": 2,
   "id": "b404a743",
   "metadata": {
    "ExecuteTime": {
     "end_time": "2024-05-15T10:58:17.785998Z",
     "start_time": "2024-05-15T10:58:16.956680Z"
    },
    "deletable": false,
    "editable": false
   },
   "outputs": [],
   "source": [
    "from mlxtend.frequent_patterns import apriori\n",
    "from mlxtend.frequent_patterns import association_rules\n",
    "from mlxtend.preprocessing import TransactionEncoder"
   ]
  },
  {
   "cell_type": "code",
   "execution_count": 3,
   "id": "8e9a6390",
   "metadata": {
    "ExecuteTime": {
     "end_time": "2024-05-15T10:58:18.284746Z",
     "start_time": "2024-05-15T10:58:18.227004Z"
    },
    "deletable": false,
    "editable": false
   },
   "outputs": [],
   "source": [
    "from networks.RulesGraphManager import RulesGraphManager as RGM\n",
    "from networks.ProductNetwork import ProductNetwork\n",
    "from networks.CrossSellingProducts import CrossSellingProducts\n",
    "\n",
    "from grouper.NxGrouper import NxGrouper\n",
    "from charts.HeatmapXTab import HeatmapCrosstab\n",
    "\n",
    "from echarts.EgraphForce import EgraphForce\n",
    "from echarts.EgraphStandard import EgraphStandard\n",
    "from echarts.JupyterEcharts import JupyterEcharts"
   ]
  },
  {
   "cell_type": "code",
   "execution_count": 4,
   "id": "3cafa265",
   "metadata": {
    "ExecuteTime": {
     "end_time": "2024-05-15T10:58:19.288000Z",
     "start_time": "2024-05-15T10:58:19.276989Z"
    },
    "deletable": false,
    "editable": false
   },
   "outputs": [],
   "source": [
    "pd.set_option('display.max_rows', 100)\n",
    "pd.set_option('display.max_colwidth', None)"
   ]
  },
  {
   "cell_type": "markdown",
   "id": "a0b11721",
   "metadata": {
    "ExecuteTime": {
     "end_time": "2024-05-14T09:36:09.727344Z",
     "start_time": "2024-05-14T09:36:09.718369Z"
    },
    "deletable": false,
    "editable": false,
    "run_control": {
     "frozen": true
    }
   },
   "source": [
    "### Data Preparation"
   ]
  },
  {
   "cell_type": "markdown",
   "id": "4525c24f",
   "metadata": {
    "ExecuteTime": {
     "end_time": "2024-05-14T09:43:32.197739Z",
     "start_time": "2024-05-14T09:43:32.188763Z"
    },
    "deletable": false,
    "editable": false,
    "run_control": {
     "frozen": true
    }
   },
   "source": [
    "#### Data Cleaning"
   ]
  },
  {
   "cell_type": "code",
   "execution_count": 5,
   "id": "3043044c",
   "metadata": {
    "ExecuteTime": {
     "end_time": "2024-05-15T10:58:21.828144Z",
     "start_time": "2024-05-15T10:58:21.815565Z"
    },
    "code_folding": [
     0
    ],
    "deletable": false,
    "editable": false
   },
   "outputs": [],
   "source": [
    "def get_cleaned_df():\n",
    "    global COL_CUSTOMER_ID, COL_ORDER_DATE, COL_ORDER_ID, COL_VALUE, COL_QUANTITY\n",
    "    COL_CUSTOMER_ID = 'Customer ID'\n",
    "    COL_ORDER_DATE = 'InvoiceDate'\n",
    "    COL_ORDER_ID = 'Invoice'\n",
    "    COL_VALUE = 'Sales'\n",
    "    COL_QUANTITY = 'Quantity'\n",
    "    \n",
    "    pathname = os.path.join(\"F:\\\\Data\\\\datas\", \"online_retail_II.csv\")\n",
    "    df = pd.read_csv(\n",
    "        pathname, \n",
    "        dtype = {'Customer ID': str, 'Invoice': str},\n",
    "        parse_dates = ['InvoiceDate']\n",
    "    )\n",
    "    \n",
    "    df = df.dropna()\n",
    "    df['Sales'] = df['Price'] * df['Quantity']\n",
    "    \n",
    "    price_0 = df[df['Price'] == 0].index\n",
    "    df = df.drop(index=price_0)\n",
    "    \n",
    "    # From this data below, we know that the canceled invoice (the initialize invoice) already dropped out in our dataset\n",
    "    # Our action is to get rid of the canceled Invoice. The canceled invoice code starts with \"C\"\n",
    "#     display(df[(df[COL_CUSTOMER_ID] == '16321.0') & (df['StockCode'] == '22087')])\n",
    "    df = df[~df['Invoice'].str.startswith('C')]\n",
    "    df['Description'] = df['Description'].map(lambda x: x.strip())\n",
    "    df['Description'] = df['Description'].map(lambda x: re.sub(r'\\s{2,}', ' ', x))\n",
    "    \n",
    "    return df[['Invoice', 'Description']]"
   ]
  },
  {
   "cell_type": "code",
   "execution_count": 6,
   "id": "4547cca6",
   "metadata": {
    "ExecuteTime": {
     "end_time": "2024-05-15T10:58:28.290565Z",
     "start_time": "2024-05-15T10:58:22.416691Z"
    },
    "deletable": false,
    "editable": false
   },
   "outputs": [],
   "source": [
    "df = get_cleaned_df()"
   ]
  },
  {
   "cell_type": "markdown",
   "id": "e0d2b703",
   "metadata": {
    "ExecuteTime": {
     "end_time": "2024-05-14T09:39:53.800328Z",
     "start_time": "2024-05-14T09:39:53.734564Z"
    },
    "deletable": false,
    "editable": false,
    "run_control": {
     "frozen": true
    }
   },
   "source": [
    "#### Data Encoding"
   ]
  },
  {
   "cell_type": "code",
   "execution_count": 7,
   "id": "eb51675b",
   "metadata": {
    "ExecuteTime": {
     "end_time": "2024-05-15T11:03:24.453122Z",
     "start_time": "2024-05-15T11:03:24.434903Z"
    },
    "code_folding": [
     0
    ],
    "deletable": false,
    "editable": false
   },
   "outputs": [],
   "source": [
    "def encoding_data(df, COL_ITEM_ID, COL_ORDER_ID):\n",
    "    df = df.copy()\n",
    "    df[COL_ITEM_ID] = df[COL_ITEM_ID].transform(lambda x: [x])\n",
    "    df = df.groupby(COL_ORDER_ID, as_index=False).sum()[COL_ITEM_ID]\n",
    "    df = df.map(lambda x: list(set(x)))\n",
    "                          \n",
    "    encoder = TransactionEncoder()\n",
    "    one_hot_transactions = pd.DataFrame(\n",
    "        encoder.fit(df).transform(df), columns=encoder.columns_\n",
    "    )\n",
    "    \n",
    "    return one_hot_transactions"
   ]
  },
  {
   "cell_type": "code",
   "execution_count": 8,
   "id": "071f799d",
   "metadata": {
    "ExecuteTime": {
     "end_time": "2024-05-15T11:03:26.300746Z",
     "start_time": "2024-05-15T11:03:24.992660Z"
    },
    "deletable": false,
    "editable": false
   },
   "outputs": [],
   "source": [
    "df_transactions = encoding_data(df, 'Description', 'Invoice')"
   ]
  },
  {
   "cell_type": "markdown",
   "id": "8ca6f29a",
   "metadata": {
    "ExecuteTime": {
     "end_time": "2024-05-14T09:39:39.738482Z",
     "start_time": "2024-05-14T09:39:39.721606Z"
    },
    "deletable": false,
    "editable": false,
    "run_control": {
     "frozen": true
    }
   },
   "source": [
    "### Data Mining (Rules Extraction)"
   ]
  },
  {
   "cell_type": "code",
   "execution_count": 9,
   "id": "06a0eae5",
   "metadata": {
    "ExecuteTime": {
     "end_time": "2024-05-15T11:03:29.629047Z",
     "start_time": "2024-05-15T11:03:27.592697Z"
    },
    "deletable": false,
    "editable": false
   },
   "outputs": [],
   "source": [
    "frequent_itemsets = apriori(df_transactions, min_support= 0.01, use_colnames=True, max_len = 3, low_memory=True)\n",
    "rules = association_rules(frequent_itemsets, metric=\"support\", min_threshold = 0.01)"
   ]
  },
  {
   "cell_type": "code",
   "execution_count": 10,
   "id": "fbaca930",
   "metadata": {
    "ExecuteTime": {
     "end_time": "2024-05-15T11:03:29.777740Z",
     "start_time": "2024-05-15T11:03:29.752807Z"
    },
    "deletable": false,
    "editable": false
   },
   "outputs": [],
   "source": [
    "rules['antecedents'] = rules['antecedents'].map(lambda x: ''.join(list(x)))\n",
    "rules['consequents'] = rules['consequents'].map(lambda x: ''.join(list(x)))"
   ]
  },
  {
   "cell_type": "code",
   "execution_count": 11,
   "id": "f6b29023",
   "metadata": {
    "ExecuteTime": {
     "end_time": "2024-05-15T11:03:30.801127Z",
     "start_time": "2024-05-15T11:03:30.775591Z"
    },
    "deletable": false,
    "editable": false
   },
   "outputs": [
    {
     "data": {
      "text/plain": [
       "(438, 10)"
      ]
     },
     "execution_count": 11,
     "metadata": {},
     "output_type": "execute_result"
    }
   ],
   "source": [
    "rules.shape"
   ]
  },
  {
   "cell_type": "markdown",
   "id": "6b68fac6",
   "metadata": {
    "ExecuteTime": {
     "end_time": "2024-05-15T04:07:51.530300Z",
     "start_time": "2024-05-15T04:07:51.520326Z"
    },
    "deletable": false,
    "editable": false,
    "run_control": {
     "frozen": true
    }
   },
   "source": [
    "### Network Visualization with Echarts"
   ]
  },
  {
   "cell_type": "markdown",
   "id": "2e99a5a8",
   "metadata": {
    "ExecuteTime": {
     "end_time": "2024-05-15T07:50:31.003683Z",
     "start_time": "2024-05-15T07:50:30.994002Z"
    },
    "deletable": false,
    "editable": false,
    "run_control": {
     "frozen": true
    }
   },
   "source": [
    "#### Profile Network"
   ]
  },
  {
   "cell_type": "code",
   "execution_count": 12,
   "id": "dc78cf44",
   "metadata": {
    "ExecuteTime": {
     "end_time": "2024-05-15T11:03:33.519150Z",
     "start_time": "2024-05-15T11:03:33.471036Z"
    },
    "deletable": false,
    "editable": false
   },
   "outputs": [],
   "source": [
    "myRGM = RGM(rules, 'antecedents', 'consequents')\n",
    "df_nodes, df_edges = myRGM.get_graph_features()"
   ]
  },
  {
   "cell_type": "code",
   "execution_count": 13,
   "id": "d17f1ed7",
   "metadata": {
    "ExecuteTime": {
     "end_time": "2024-05-15T11:03:34.256266Z",
     "start_time": "2024-05-15T11:03:34.210043Z"
    },
    "deletable": false,
    "editable": false
   },
   "outputs": [],
   "source": [
    "df_nodes_profile = NxGrouper.greedy_modularity_communities(df_nodes, df_edges, 4)"
   ]
  },
  {
   "cell_type": "code",
   "execution_count": null,
   "id": "7f7d0a83",
   "metadata": {
    "ExecuteTime": {
     "end_time": "2024-05-15T10:43:28.309663Z",
     "start_time": "2024-05-15T10:43:28.286726Z"
    },
    "deletable": false,
    "editable": false
   },
   "outputs": [],
   "source": [
    "force = EgraphForce(\n",
    "    df_edges, \n",
    "    df_nodes_profile, \n",
    "    col_source='antecedents', \n",
    "    col_target='consequents', \n",
    "    col_name='nodes',\n",
    ")\n",
    "profile_force_option = force.get_option()"
   ]
  },
  {
   "cell_type": "code",
   "execution_count": null,
   "id": "7095e430",
   "metadata": {
    "ExecuteTime": {
     "end_time": "2024-05-15T10:51:14.742329Z",
     "start_time": "2024-05-15T10:51:14.729452Z"
    },
    "deletable": false,
    "editable": false
   },
   "outputs": [],
   "source": [
    "# JupyterEcharts.show(profile_force_option)"
   ]
  },
  {
   "cell_type": "markdown",
   "id": "d57dea99",
   "metadata": {
    "deletable": false,
    "editable": false,
    "run_control": {
     "frozen": true
    }
   },
   "source": [
    "![Description](images/profile_network.png)"
   ]
  },
  {
   "cell_type": "markdown",
   "id": "527835bc",
   "metadata": {
    "ExecuteTime": {
     "end_time": "2024-05-15T10:07:48.681479Z",
     "start_time": "2024-05-15T10:07:48.672822Z"
    },
    "deletable": false,
    "editable": false,
    "run_control": {
     "frozen": true
    }
   },
   "source": [
    "#### Product Network"
   ]
  },
  {
   "cell_type": "code",
   "execution_count": null,
   "id": "8a46680a",
   "metadata": {
    "ExecuteTime": {
     "end_time": "2024-05-15T10:40:01.383683Z",
     "start_time": "2024-05-15T10:40:01.262343Z"
    },
    "deletable": false,
    "editable": false
   },
   "outputs": [],
   "source": [
    "MyPN = ProductNetwork(rules)\n",
    "df_bfs, rules_bfs = MyPN.get_bfs_rules(['RED HANGING HEART T-LIGHT HOLDER'], 'support', 0, 3, 5)\n",
    "df_nodes, df_edges = MyPN.get_graph_features(df_bfs, rules_bfs, strict_rules=True)"
   ]
  },
  {
   "cell_type": "code",
   "execution_count": null,
   "id": "093e4ae7",
   "metadata": {
    "ExecuteTime": {
     "end_time": "2024-05-15T10:40:02.345292Z",
     "start_time": "2024-05-15T10:40:02.328438Z"
    },
    "deletable": false,
    "editable": false
   },
   "outputs": [],
   "source": [
    "df_nodes['label'] = df_nodes['rank'].map(lambda x : {\"show\": True, \"position\": \"right\", \"formatter\": f\"{x}\"})"
   ]
  },
  {
   "cell_type": "code",
   "execution_count": null,
   "id": "cfce7f40",
   "metadata": {
    "ExecuteTime": {
     "end_time": "2024-05-15T10:40:04.951859Z",
     "start_time": "2024-05-15T10:40:04.932912Z"
    },
    "deletable": false,
    "editable": false
   },
   "outputs": [],
   "source": [
    "product_force = EgraphForce(\n",
    "    df_edges, \n",
    "    df_nodes,\n",
    "    col_category='depth',\n",
    "    col_source='antecedents', \n",
    "    col_target='consequents',\n",
    "    col_name='nodes',\n",
    ")\n",
    "product_force_option = product_force.get_option(show_legend=True)"
   ]
  },
  {
   "cell_type": "code",
   "execution_count": null,
   "id": "ea0f1d70",
   "metadata": {
    "ExecuteTime": {
     "end_time": "2024-05-15T10:51:18.832514Z",
     "start_time": "2024-05-15T10:51:18.826470Z"
    },
    "deletable": false,
    "editable": false
   },
   "outputs": [],
   "source": [
    "# JupyterEcharts.show(product_force_option)"
   ]
  },
  {
   "cell_type": "markdown",
   "id": "9553c1ed",
   "metadata": {
    "deletable": false,
    "editable": false
   },
   "source": [
    "![Description](images/product_network.png)"
   ]
  },
  {
   "cell_type": "markdown",
   "id": "aa3203cf",
   "metadata": {
    "ExecuteTime": {
     "end_time": "2024-05-15T10:21:30.130283Z",
     "start_time": "2024-05-15T10:21:30.120313Z"
    },
    "deletable": false,
    "editable": false,
    "run_control": {
     "frozen": true
    }
   },
   "source": [
    "#### Cross Selling Products"
   ]
  },
  {
   "cell_type": "code",
   "execution_count": null,
   "id": "d048a6b7",
   "metadata": {
    "ExecuteTime": {
     "end_time": "2024-05-15T10:43:58.366614Z",
     "start_time": "2024-05-15T10:43:58.163798Z"
    },
    "deletable": false,
    "editable": false
   },
   "outputs": [],
   "source": [
    "MyCSP = CrossSellingProducts(rules)\n",
    "cross_selling_rules = MyCSP.get_cross_selling_products(max_support_ratio_diff=2.0, min_confidence=0.35)"
   ]
  },
  {
   "cell_type": "code",
   "execution_count": null,
   "id": "570bac0e",
   "metadata": {
    "ExecuteTime": {
     "end_time": "2024-05-15T10:43:59.219783Z",
     "start_time": "2024-05-15T10:43:59.160319Z"
    },
    "deletable": false,
    "editable": false
   },
   "outputs": [],
   "source": [
    "df_nodes, df_edges = MyCSP.get_graph_features(cross_selling_rules)\n",
    "df_nodes = NxGrouper.greedy_modularity_communities(df_nodes, df_edges)"
   ]
  },
  {
   "cell_type": "code",
   "execution_count": null,
   "id": "89addca1",
   "metadata": {
    "ExecuteTime": {
     "end_time": "2024-05-15T10:44:14.291335Z",
     "start_time": "2024-05-15T10:44:14.273322Z"
    },
    "deletable": false,
    "editable": false
   },
   "outputs": [],
   "source": [
    "csp_force = EgraphForce(\n",
    "    df_edges, df_nodes,\n",
    "    col_source='antecedents',\n",
    "    col_target='consequents',\n",
    "    col_name='nodes',\n",
    ")\n",
    "csp_force_option = csp_force.get_option()"
   ]
  },
  {
   "cell_type": "code",
   "execution_count": null,
   "id": "71aaa927",
   "metadata": {
    "ExecuteTime": {
     "end_time": "2024-05-15T10:51:21.563626Z",
     "start_time": "2024-05-15T10:51:21.556644Z"
    },
    "deletable": false,
    "editable": false
   },
   "outputs": [],
   "source": [
    "# JupyterEcharts.show(csp_force_option)"
   ]
  },
  {
   "cell_type": "markdown",
   "id": "9618b261",
   "metadata": {
    "deletable": false,
    "editable": false
   },
   "source": [
    "![Description](images/cross_selling_products.png)"
   ]
  },
  {
   "cell_type": "markdown",
   "id": "bc1f2c1b",
   "metadata": {
    "ExecuteTime": {
     "end_time": "2024-05-15T08:12:20.124616Z",
     "start_time": "2024-05-15T08:12:20.108451Z"
    },
    "deletable": false,
    "editable": false,
    "run_control": {
     "frozen": true
    }
   },
   "source": [
    "###  Product Placement with Plotly Heatmap"
   ]
  },
  {
   "cell_type": "code",
   "execution_count": 14,
   "id": "c90de8f5",
   "metadata": {
    "ExecuteTime": {
     "end_time": "2024-05-15T11:03:40.493169Z",
     "start_time": "2024-05-15T11:03:40.479870Z"
    },
    "deletable": false,
    "editable": false
   },
   "outputs": [],
   "source": [
    "MyHM = HeatmapCrosstab(rules)"
   ]
  },
  {
   "cell_type": "code",
   "execution_count": 15,
   "id": "f5cdcc91",
   "metadata": {
    "ExecuteTime": {
     "end_time": "2024-05-15T11:03:41.089338Z",
     "start_time": "2024-05-15T11:03:41.057802Z"
    },
    "deletable": false,
    "editable": false
   },
   "outputs": [],
   "source": [
    "tabular = MyHM.get_tabular_data(\n",
    "    ['WHITE HANGING HEART T-LIGHT HOLDER', 'RED HANGING HEART T-LIGHT HOLDER'], \n",
    "    'support',\n",
    "    max_col=10\n",
    ")"
   ]
  },
  {
   "cell_type": "code",
   "execution_count": 16,
   "id": "4368b4f8",
   "metadata": {
    "ExecuteTime": {
     "end_time": "2024-05-15T11:03:43.698382Z",
     "start_time": "2024-05-15T11:03:42.640077Z"
    },
    "deletable": false,
    "editable": false
   },
   "outputs": [],
   "source": [
    "fig = MyHM.plot_heatmap(tabular)"
   ]
  },
  {
   "cell_type": "code",
   "execution_count": null,
   "id": "cfe291a9",
   "metadata": {
    "ExecuteTime": {
     "end_time": "2024-05-15T10:52:03.730548Z",
     "start_time": "2024-05-15T10:52:03.716663Z"
    },
    "deletable": false,
    "editable": false
   },
   "outputs": [],
   "source": [
    "fig.show()"
   ]
  },
  {
   "cell_type": "code",
   "execution_count": 19,
   "id": "c0d8bcec",
   "metadata": {
    "ExecuteTime": {
     "end_time": "2024-05-15T11:05:47.407417Z",
     "start_time": "2024-05-15T11:05:47.256784Z"
    },
    "deletable": false,
    "editable": false
   },
   "outputs": [],
   "source": [
    "fig.write_image(\"images/heatmap_xtab.png\")"
   ]
  },
  {
   "cell_type": "markdown",
   "id": "014cfa94",
   "metadata": {
    "deletable": false,
    "editable": false,
    "run_control": {
     "frozen": true
    }
   },
   "source": [
    "![Description](images/heatmap_xtab.png)"
   ]
  }
 ],
 "metadata": {
  "kernelspec": {
   "display_name": "Python 3 (ipykernel)",
   "language": "python",
   "name": "python3"
  },
  "language_info": {
   "codemirror_mode": {
    "name": "ipython",
    "version": 3
   },
   "file_extension": ".py",
   "mimetype": "text/x-python",
   "name": "python",
   "nbconvert_exporter": "python",
   "pygments_lexer": "ipython3",
   "version": "3.9.12"
  },
  "toc": {
   "base_numbering": 1,
   "nav_menu": {},
   "number_sections": true,
   "sideBar": true,
   "skip_h1_title": false,
   "title_cell": "Table of Contents",
   "title_sidebar": "Contents",
   "toc_cell": false,
   "toc_position": {},
   "toc_section_display": true,
   "toc_window_display": false
  },
  "varInspector": {
   "cols": {
    "lenName": 16,
    "lenType": 16,
    "lenVar": 40
   },
   "kernels_config": {
    "python": {
     "delete_cmd_postfix": "",
     "delete_cmd_prefix": "del ",
     "library": "var_list.py",
     "varRefreshCmd": "print(var_dic_list())"
    },
    "r": {
     "delete_cmd_postfix": ") ",
     "delete_cmd_prefix": "rm(",
     "library": "var_list.r",
     "varRefreshCmd": "cat(var_dic_list()) "
    }
   },
   "types_to_exclude": [
    "module",
    "function",
    "builtin_function_or_method",
    "instance",
    "_Feature"
   ],
   "window_display": false
  }
 },
 "nbformat": 4,
 "nbformat_minor": 5
}
