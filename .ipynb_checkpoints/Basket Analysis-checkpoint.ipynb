{
 "cells": [
  {
   "cell_type": "markdown",
   "id": "9242d52d",
   "metadata": {
    "ExecuteTime": {
     "end_time": "2024-05-18T05:35:27.442327Z",
     "start_time": "2024-05-18T05:35:27.427407Z"
    },
    "deletable": false,
    "editable": false,
    "heading_collapsed": true,
    "run_control": {
     "frozen": true
    }
   },
   "source": [
    "## Data: Online Retail II"
   ]
  },
  {
   "cell_type": "markdown",
   "id": "85e4ffa9",
   "metadata": {
    "deletable": false,
    "editable": false,
    "hidden": true,
    "run_control": {
     "frozen": true
    }
   },
   "source": [
    "This Online Retail II data set contains all the transactions occurring for a UK-based and registered, non-store online retail between 01/12/2009 and 09/12/2011.The company mainly sells unique all-occasion gift-ware. Many customers of the company are wholesalers.\n",
    "\n",
    "The dataset can be accessed at the following link: https://www.kaggle.com/datasets/mashlyn/online-retail-ii-uci/"
   ]
  },
  {
   "cell_type": "markdown",
   "id": "41f27dc7",
   "metadata": {
    "deletable": false,
    "editable": false,
    "hidden": true,
    "run_control": {
     "frozen": true
    }
   },
   "source": [
    "Attribute Information:\n",
    "\n",
    "- InvoiceNo: Invoice number. Nominal. A 6-digit integral number uniquely assigned to each transaction. If this code starts with the letter 'c', it indicates a cancellation.\n",
    "- StockCode: Product (item) code. Nominal. A 5-digit integral number uniquely assigned to each distinct product.\n",
    "- Description: Product (item) name. Nominal.\n",
    "- Quantity: The quantities of each product (item) per transaction. Numeric.\n",
    "- InvoiceDate: Invice date and time. Numeric. The day and time when a transaction was generated.\n",
    "- UnitPrice: Unit price. Numeric. Product price per unit in sterling (Â£).\n",
    "- CustomerID: Customer number. Nominal. A 5-digit integral number uniquely assigned to each customer.\n",
    "- Country: Country name. Nominal. The name of the country where a customer resides."
   ]
  },
  {
   "cell_type": "markdown",
   "id": "cb352459",
   "metadata": {
    "ExecuteTime": {
     "end_time": "2024-05-18T05:29:05.477621Z",
     "start_time": "2024-05-18T05:29:05.467606Z"
    },
    "deletable": false,
    "editable": false,
    "heading_collapsed": true,
    "run_control": {
     "frozen": true
    }
   },
   "source": [
    "## Business Understanding"
   ]
  },
  {
   "cell_type": "markdown",
   "id": "09ebf44f",
   "metadata": {
    "deletable": false,
    "editable": false,
    "hidden": true,
    "run_control": {
     "frozen": true
    }
   },
   "source": [
    "Market Basket Analysis is a data mining technique employed to discover relationships and patterns within large datasets, particularly in the context of market analysis. By identifying frequently co-occurring items in transactions, businesses can gain valuable insights into customer behavior, optimize product placement, and enhance overall marketing strategies."
   ]
  },
  {
   "cell_type": "markdown",
   "id": "c1667e72",
   "metadata": {
    "ExecuteTime": {
     "end_time": "2024-05-18T05:46:24.223558Z",
     "start_time": "2024-05-18T05:46:24.204608Z"
    },
    "deletable": false,
    "editable": false,
    "run_control": {
     "frozen": true
    }
   },
   "source": [
    "## Objectives"
   ]
  },
  {
   "cell_type": "markdown",
   "id": "d9090340",
   "metadata": {
    "deletable": false,
    "editable": false,
    "run_control": {
     "frozen": true
    }
   },
   "source": [
    "1. **Association Rule Discovery**:\n",
    "    Identify associations and correlations among products or items in a dataset. Discover rules that indicate the likelihood of certain items being bought together.\n",
    "2. **Cross-Selling Opportunities**:\n",
    "    Uncover opportunities for cross-selling by understanding which products are frequently purchased together.\n",
    "3. **Promotion Planning**:\n",
    "    Optimize promotional campaigns by identifying items that are frequently bought together. Design effective promotions and discounts to incentivize the purchase of complementary products.\n",
    "4. **Optimizing Product Layout**:\n",
    "    Arrange products in-store or online in a way that encourages the purchase of related items, creating a more convenient and satisfying shopping experience."
   ]
  },
  {
   "cell_type": "markdown",
   "id": "5d96a073",
   "metadata": {
    "ExecuteTime": {
     "end_time": "2024-05-18T09:36:01.700162Z",
     "start_time": "2024-05-18T09:36:01.691185Z"
    },
    "deletable": false,
    "editable": false,
    "heading_collapsed": true,
    "run_control": {
     "frozen": true
    }
   },
   "source": [
    "## Key Metrics"
   ]
  },
  {
   "cell_type": "markdown",
   "id": "bf1c8565",
   "metadata": {
    "deletable": false,
    "editable": false,
    "hidden": true,
    "run_control": {
     "frozen": true
    }
   },
   "source": [
    "- **Support** \n",
    "    - Support measures how frequently an association rule happens in a dataset.\n",
    "- **Confidence** \n",
    "    - Confidence measures how strong an association rule is. \n",
    "    - That is to say, in market basket analysis terms, how likely is a second product to be present in the basket if the first is.\n",
    "    - Confidence(A→B) = Support(A∪B)/Support(A)×100%\n",
    "    - Confidence(B→A) = Support(A∪B)/Support(B)×100%\n",
    "- **Lift**\n",
    "    - Lift measures how much more likely two items are to be bought together compared to being bought individually at random.\n",
    "    - Lift(A→B)= Support(A∪B)/Support(A)×Support(B)\n",
    "    - If Lift = 1, it means there is no association between A and B.\n",
    "    - If Lift > 1, it indicates that A and B are more likely to be bought together than randomly.\n",
    "    - If Lift < 1, it suggests that A and B are less likely to be bought together than randomly.\n",
    "- **Leverage**\n",
    "    - Leverage measures the difference between the observed frequency of A and B occurring together and the frequency that would be expected if A and B were statistically independent.\n",
    "    - Leverage(A→B)=Support(A∪B)−(Support(A)×Support(B))\n",
    "    - Positive leverage indicates that the items appear together more frequently than expected by chance.\n",
    "    - Zero leverage means the items occur together exactly as expected based on their individual supports.\n",
    "    - Negative leverage implies the items co-occur less frequently than expected.\n",
    "    \n",
    "- **Conviction**\n",
    "    - Conviction measures the ratio of the expected frequency that A occurs without B to the frequency that A occurs when B is present.\n",
    "    - Conviction(A→B)= 1−Support(B)/1−Confidence(A→B)\n",
    "    - Conviction(B→A)= 1−Support(A)/1−Confidence(B→A)\n",
    "    - If Conviction = 1, it means that A and B are independent of each other.\n",
    "    - If Conviction > 1, it suggests that the presence of B has increased the likelihood of A, indicating a strong association.\n",
    "    - If Conviction < 1, it indicates a negative association between A and B.\n",
    "- **Zhang’s metric**\n",
    "    - Measure that looks not only at positive associations, but also negative. It can says, for instances, if buying A makes someone NOT buy B.\n",
    "    - Value: < 0 if there’s a negative association (dissociation), > 0 if there’s a positive association where -1 and 1 are the extreme values."
   ]
  },
  {
   "cell_type": "markdown",
   "id": "e1db74d1",
   "metadata": {
    "ExecuteTime": {
     "end_time": "2024-05-18T09:53:22.297550Z",
     "start_time": "2024-05-18T09:53:22.277469Z"
    },
    "deletable": false,
    "editable": false,
    "run_control": {
     "frozen": true
    }
   },
   "source": [
    "## Import Modules"
   ]
  },
  {
   "cell_type": "code",
   "execution_count": 1,
   "id": "ec605fa7",
   "metadata": {
    "ExecuteTime": {
     "end_time": "2024-05-19T03:39:42.288841Z",
     "start_time": "2024-05-19T03:39:40.897502Z"
    },
    "deletable": false,
    "editable": false
   },
   "outputs": [],
   "source": [
    "import os\n",
    "import re\n",
    "\n",
    "import pandas as pd\n",
    "import numpy as np\n",
    "\n",
    "import plotly.express as px\n",
    "import networkx as nx\n",
    "\n",
    "import json\n",
    "import copy"
   ]
  },
  {
   "cell_type": "code",
   "execution_count": 2,
   "id": "b404a743",
   "metadata": {
    "ExecuteTime": {
     "end_time": "2024-05-19T03:39:44.451401Z",
     "start_time": "2024-05-19T03:39:43.539040Z"
    },
    "deletable": false,
    "editable": false
   },
   "outputs": [],
   "source": [
    "from mlxtend.frequent_patterns import apriori\n",
    "from mlxtend.frequent_patterns import association_rules\n",
    "from mlxtend.preprocessing import TransactionEncoder"
   ]
  },
  {
   "cell_type": "code",
   "execution_count": 3,
   "id": "8e9a6390",
   "metadata": {
    "ExecuteTime": {
     "end_time": "2024-05-19T03:39:45.555099Z",
     "start_time": "2024-05-19T03:39:45.501795Z"
    },
    "deletable": false,
    "editable": false
   },
   "outputs": [],
   "source": [
    "from networks.RulesGraphManager import RulesGraphManager as RGM\n",
    "from networks.ProductNetwork import ProductNetwork\n",
    "from networks.CrossSellingProducts import CrossSellingProducts\n",
    "\n",
    "from grouper.NxGrouper import NxGrouper\n",
    "from charts.HeatmapXTab import HeatmapCrosstab\n",
    "\n",
    "from echarts.EgraphForce import EgraphForce\n",
    "from echarts.EgraphStandard import EgraphStandard\n",
    "from echarts.JupyterEcharts import JupyterEcharts"
   ]
  },
  {
   "cell_type": "code",
   "execution_count": 4,
   "id": "3cafa265",
   "metadata": {
    "ExecuteTime": {
     "end_time": "2024-05-19T03:39:47.354310Z",
     "start_time": "2024-05-19T03:39:47.335186Z"
    },
    "deletable": false,
    "editable": false
   },
   "outputs": [],
   "source": [
    "pd.set_option('display.max_rows', 100)\n",
    "pd.set_option('display.max_colwidth', None)"
   ]
  },
  {
   "cell_type": "markdown",
   "id": "a0b11721",
   "metadata": {
    "ExecuteTime": {
     "end_time": "2024-05-14T09:36:09.727344Z",
     "start_time": "2024-05-14T09:36:09.718369Z"
    },
    "deletable": false,
    "editable": false,
    "run_control": {
     "frozen": true
    }
   },
   "source": [
    "## Data Preparation"
   ]
  },
  {
   "cell_type": "markdown",
   "id": "068c10ad",
   "metadata": {
    "ExecuteTime": {
     "end_time": "2024-05-18T09:54:11.356484Z",
     "start_time": "2024-05-18T09:54:11.346511Z"
    },
    "deletable": false,
    "editable": false,
    "run_control": {
     "frozen": true
    }
   },
   "source": [
    "### Load Dataset"
   ]
  },
  {
   "cell_type": "code",
   "execution_count": 5,
   "id": "1e40b0c7",
   "metadata": {
    "ExecuteTime": {
     "end_time": "2024-05-19T03:39:50.494532Z",
     "start_time": "2024-05-19T03:39:49.618447Z"
    },
    "deletable": false,
    "editable": false
   },
   "outputs": [],
   "source": [
    "pathname = os.path.join(\"F:\\\\Data\\\\datas\", \"online_retail_II.csv\")\n",
    "df = pd.read_csv(pathname, usecols=['Invoice', 'Description'])"
   ]
  },
  {
   "cell_type": "code",
   "execution_count": 6,
   "id": "8806a745",
   "metadata": {
    "ExecuteTime": {
     "end_time": "2024-05-19T03:39:52.613560Z",
     "start_time": "2024-05-19T03:39:52.590580Z"
    },
    "deletable": false,
    "editable": false
   },
   "outputs": [
    {
     "data": {
      "text/plain": [
       "(1067371, 2)"
      ]
     },
     "execution_count": 6,
     "metadata": {},
     "output_type": "execute_result"
    }
   ],
   "source": [
    "df.shape"
   ]
  },
  {
   "cell_type": "markdown",
   "id": "dee3cedd",
   "metadata": {
    "ExecuteTime": {
     "end_time": "2024-05-18T10:00:31.403552Z",
     "start_time": "2024-05-18T10:00:31.384111Z"
    },
    "deletable": false,
    "editable": false,
    "run_control": {
     "frozen": true
    }
   },
   "source": [
    "### Data Cleaning"
   ]
  },
  {
   "cell_type": "markdown",
   "id": "7dc966a8",
   "metadata": {
    "ExecuteTime": {
     "end_time": "2024-05-18T10:00:58.152476Z",
     "start_time": "2024-05-18T10:00:58.144499Z"
    },
    "deletable": false,
    "editable": false,
    "run_control": {
     "frozen": true
    }
   },
   "source": [
    "#### Drop missing values"
   ]
  },
  {
   "cell_type": "code",
   "execution_count": 7,
   "id": "56497b6d",
   "metadata": {
    "ExecuteTime": {
     "end_time": "2024-05-19T03:39:55.262133Z",
     "start_time": "2024-05-19T03:39:55.170889Z"
    },
    "deletable": false,
    "editable": false
   },
   "outputs": [
    {
     "data": {
      "text/plain": [
       "Invoice           0\n",
       "Description    4382\n",
       "dtype: int64"
      ]
     },
     "execution_count": 7,
     "metadata": {},
     "output_type": "execute_result"
    }
   ],
   "source": [
    "df.isna().sum()"
   ]
  },
  {
   "cell_type": "code",
   "execution_count": 8,
   "id": "2c28fc06",
   "metadata": {
    "ExecuteTime": {
     "end_time": "2024-05-19T03:39:57.330267Z",
     "start_time": "2024-05-19T03:39:57.206024Z"
    },
    "deletable": false,
    "editable": false
   },
   "outputs": [],
   "source": [
    "df = df.dropna()"
   ]
  },
  {
   "cell_type": "markdown",
   "id": "bfc26627",
   "metadata": {
    "ExecuteTime": {
     "end_time": "2024-05-18T11:07:29.930066Z",
     "start_time": "2024-05-18T11:07:29.915106Z"
    },
    "deletable": false,
    "editable": false,
    "run_control": {
     "frozen": true
    }
   },
   "source": [
    "#### Trim space in description column"
   ]
  },
  {
   "cell_type": "code",
   "execution_count": 9,
   "id": "8ae47296",
   "metadata": {
    "ExecuteTime": {
     "end_time": "2024-05-19T03:40:02.388055Z",
     "start_time": "2024-05-19T03:40:00.541390Z"
    },
    "deletable": false,
    "editable": false
   },
   "outputs": [],
   "source": [
    "df['Description'] = df['Description'].str.strip()\n",
    "df['Description'] = df['Description'].replace(r'\\s{2,}', ' ', regex=True)"
   ]
  },
  {
   "cell_type": "markdown",
   "id": "04bccece",
   "metadata": {
    "ExecuteTime": {
     "end_time": "2024-05-18T10:03:36.441044Z",
     "start_time": "2024-05-18T10:03:36.431030Z"
    },
    "deletable": false,
    "editable": false,
    "run_control": {
     "frozen": true
    }
   },
   "source": [
    "#### Drop duplicate rows"
   ]
  },
  {
   "cell_type": "markdown",
   "id": "f0fad340",
   "metadata": {
    "deletable": false,
    "editable": false,
    "run_control": {
     "frozen": true
    }
   },
   "source": [
    "There are two possible reasons for duplicate rows. \n",
    "1. The cashier might have scanned each product individually instead of scanning once and entering the quantity, resulting in multiple entries for each product on the invoice. \n",
    "2. The cashier might have accidentally scanned the same product twice. \n",
    "\n",
    "- **Decision process**: \n",
    "    - The first scenario is more common, so we assume that the duplicate rows are not mistakes.\n",
    "    - But, since Apriori algorithm assumes that each item in each transaction is a binary occurrence, meaning it considers whether an item is present or not, but not the quantity of the item, so we decide to drop duplicate rows.\n",
    "<br>\n",
    "- **Action**: We drop duplicate rows"
   ]
  },
  {
   "cell_type": "code",
   "execution_count": 10,
   "id": "d26a8f34",
   "metadata": {
    "ExecuteTime": {
     "end_time": "2024-05-19T03:40:05.135874Z",
     "start_time": "2024-05-19T03:40:04.802758Z"
    },
    "deletable": false,
    "editable": false
   },
   "outputs": [
    {
     "data": {
      "text/plain": [
       "(46678, 2)"
      ]
     },
     "execution_count": 10,
     "metadata": {},
     "output_type": "execute_result"
    }
   ],
   "source": [
    "df.loc[df.duplicated()].shape"
   ]
  },
  {
   "cell_type": "code",
   "execution_count": 11,
   "id": "8470990c",
   "metadata": {
    "ExecuteTime": {
     "end_time": "2024-05-19T03:40:07.248210Z",
     "start_time": "2024-05-19T03:40:06.895913Z"
    },
    "deletable": false,
    "editable": false
   },
   "outputs": [],
   "source": [
    "df = df.loc[~df.duplicated()]"
   ]
  },
  {
   "cell_type": "code",
   "execution_count": 12,
   "id": "0453ff78",
   "metadata": {
    "ExecuteTime": {
     "end_time": "2024-05-19T03:40:07.993784Z",
     "start_time": "2024-05-19T03:40:07.981815Z"
    },
    "deletable": false,
    "editable": false
   },
   "outputs": [
    {
     "data": {
      "text/plain": [
       "(1016311, 2)"
      ]
     },
     "execution_count": 12,
     "metadata": {},
     "output_type": "execute_result"
    }
   ],
   "source": [
    "df.shape"
   ]
  },
  {
   "cell_type": "markdown",
   "id": "4525c24f",
   "metadata": {
    "ExecuteTime": {
     "end_time": "2024-05-14T09:43:32.197739Z",
     "start_time": "2024-05-14T09:43:32.188763Z"
    },
    "deletable": false,
    "editable": false,
    "run_control": {
     "frozen": true
    }
   },
   "source": [
    "#### Drop cancelation invoice rows"
   ]
  },
  {
   "cell_type": "code",
   "execution_count": 13,
   "id": "ac8c3796",
   "metadata": {
    "ExecuteTime": {
     "end_time": "2024-05-19T03:40:10.982945Z",
     "start_time": "2024-05-19T03:40:10.670445Z"
    },
    "deletable": false,
    "editable": false
   },
   "outputs": [
    {
     "data": {
      "text/plain": [
       "(18901, 2)"
      ]
     },
     "execution_count": 13,
     "metadata": {},
     "output_type": "execute_result"
    }
   ],
   "source": [
    "df[df['Invoice'].str.startswith('C')].shape"
   ]
  },
  {
   "cell_type": "code",
   "execution_count": 14,
   "id": "d9da9dfa",
   "metadata": {
    "ExecuteTime": {
     "end_time": "2024-05-19T03:40:12.736642Z",
     "start_time": "2024-05-19T03:40:12.345158Z"
    },
    "deletable": false,
    "editable": false
   },
   "outputs": [],
   "source": [
    "df = df[~df['Invoice'].str.startswith('C')]"
   ]
  },
  {
   "cell_type": "code",
   "execution_count": 15,
   "id": "26831374",
   "metadata": {
    "ExecuteTime": {
     "end_time": "2024-05-19T03:40:13.347697Z",
     "start_time": "2024-05-19T03:40:13.327750Z"
    },
    "deletable": false,
    "editable": false
   },
   "outputs": [
    {
     "data": {
      "text/plain": [
       "(997410, 2)"
      ]
     },
     "execution_count": 15,
     "metadata": {},
     "output_type": "execute_result"
    }
   ],
   "source": [
    "df.shape"
   ]
  },
  {
   "cell_type": "markdown",
   "id": "e0d2b703",
   "metadata": {
    "ExecuteTime": {
     "end_time": "2024-05-14T09:39:53.800328Z",
     "start_time": "2024-05-14T09:39:53.734564Z"
    },
    "deletable": false,
    "editable": false,
    "run_control": {
     "frozen": true
    }
   },
   "source": [
    "### Data Encoding"
   ]
  },
  {
   "cell_type": "code",
   "execution_count": 67,
   "id": "a2785ea9",
   "metadata": {
    "ExecuteTime": {
     "end_time": "2024-05-19T04:27:22.567443Z",
     "start_time": "2024-05-19T04:27:21.845682Z"
    },
    "deletable": false,
    "editable": false
   },
   "outputs": [],
   "source": [
    "dfs = df.copy()\n",
    "dfs['Description'] = dfs['Description'].transform(lambda x: [x])"
   ]
  },
  {
   "cell_type": "code",
   "execution_count": 68,
   "id": "a6c620ad",
   "metadata": {
    "ExecuteTime": {
     "end_time": "2024-05-19T04:27:24.586584Z",
     "start_time": "2024-05-19T04:27:24.155028Z"
    },
    "deletable": false,
    "editable": false
   },
   "outputs": [],
   "source": [
    "dfs = dfs.groupby('Invoice')['Description'].sum() # use this, because we already dropped duplicate rows\n",
    "# dfs = dfs.groupby('Invoice')['Description'].sum().map(lambda x: list(set(x)))\n",
    "# df.groupby('Invoice')['Description'].unique() # this code is slow"
   ]
  },
  {
   "cell_type": "code",
   "execution_count": 69,
   "id": "05d98c66",
   "metadata": {
    "ExecuteTime": {
     "end_time": "2024-05-19T04:27:26.611442Z",
     "start_time": "2024-05-19T04:27:26.167002Z"
    },
    "deletable": false,
    "editable": false
   },
   "outputs": [],
   "source": [
    "encoder = TransactionEncoder()\n",
    "df_encoder = encoder.fit(dfs).transform(dfs)"
   ]
  },
  {
   "cell_type": "code",
   "execution_count": 103,
   "id": "ad097a03",
   "metadata": {
    "ExecuteTime": {
     "end_time": "2024-05-19T04:57:16.683639Z",
     "start_time": "2024-05-19T04:57:16.674662Z"
    },
    "deletable": false,
    "editable": false
   },
   "outputs": [
    {
     "data": {
      "text/plain": [
       "array([[False, False, False, ..., False, False, False],\n",
       "       [False, False, False, ..., False, False, False],\n",
       "       [False, False, False, ..., False, False, False],\n",
       "       [False, False, False, ..., False, False, False],\n",
       "       [False, False, False, ..., False, False, False]])"
      ]
     },
     "execution_count": 103,
     "metadata": {},
     "output_type": "execute_result"
    }
   ],
   "source": [
    "df_encoder[:5]"
   ]
  },
  {
   "cell_type": "code",
   "execution_count": 71,
   "id": "d553deb4",
   "metadata": {
    "ExecuteTime": {
     "end_time": "2024-05-19T04:27:29.822456Z",
     "start_time": "2024-05-19T04:27:29.804464Z"
    },
    "deletable": false,
    "editable": false
   },
   "outputs": [],
   "source": [
    "one_hot_transactions = pd.DataFrame(df_encoder, columns=encoder.columns_)"
   ]
  },
  {
   "cell_type": "code",
   "execution_count": 72,
   "id": "0af24919",
   "metadata": {
    "ExecuteTime": {
     "end_time": "2024-05-19T04:27:32.873198Z",
     "start_time": "2024-05-19T04:27:32.838938Z"
    },
    "deletable": false,
    "editable": false
   },
   "outputs": [
    {
     "data": {
      "text/html": [
       "<div>\n",
       "<style scoped>\n",
       "    .dataframe tbody tr th:only-of-type {\n",
       "        vertical-align: middle;\n",
       "    }\n",
       "\n",
       "    .dataframe tbody tr th {\n",
       "        vertical-align: top;\n",
       "    }\n",
       "\n",
       "    .dataframe thead th {\n",
       "        text-align: right;\n",
       "    }\n",
       "</style>\n",
       "<table border=\"1\" class=\"dataframe\">\n",
       "  <thead>\n",
       "    <tr style=\"text-align: right;\">\n",
       "      <th></th>\n",
       "      <th>*Boombox Ipod Classic</th>\n",
       "      <th>*USB Office Glitter Lamp</th>\n",
       "      <th>*USB Office Mirror Ball</th>\n",
       "      <th>10 COLOUR SPACEBOY PEN</th>\n",
       "      <th>11 PC CERAMIC TEA SET POLKADOT</th>\n",
       "      <th>12 ASS ZINC CHRISTMAS DECORATIONS</th>\n",
       "      <th>12 COLOURED PARTY BALLOONS</th>\n",
       "      <th>12 DAISY PEGS IN WOOD BOX</th>\n",
       "      <th>12 EGG HOUSE PAINTED WOOD</th>\n",
       "      <th>12 HANGING EGGS HAND PAINTED</th>\n",
       "      <th>...</th>\n",
       "      <th>wrongly coded 20713</th>\n",
       "      <th>wrongly coded 23343</th>\n",
       "      <th>wrongly coded-23343</th>\n",
       "      <th>wrongly marked</th>\n",
       "      <th>wrongly marked 23343</th>\n",
       "      <th>wrongly marked carton 22804</th>\n",
       "      <th>wrongly marked. 23343 in box</th>\n",
       "      <th>wrongly sold (22719) barcode</th>\n",
       "      <th>wrongly sold as sets</th>\n",
       "      <th>wrongly sold sets</th>\n",
       "    </tr>\n",
       "  </thead>\n",
       "  <tbody>\n",
       "    <tr>\n",
       "      <th>0</th>\n",
       "      <td>False</td>\n",
       "      <td>False</td>\n",
       "      <td>False</td>\n",
       "      <td>False</td>\n",
       "      <td>False</td>\n",
       "      <td>False</td>\n",
       "      <td>False</td>\n",
       "      <td>False</td>\n",
       "      <td>False</td>\n",
       "      <td>False</td>\n",
       "      <td>...</td>\n",
       "      <td>False</td>\n",
       "      <td>False</td>\n",
       "      <td>False</td>\n",
       "      <td>False</td>\n",
       "      <td>False</td>\n",
       "      <td>False</td>\n",
       "      <td>False</td>\n",
       "      <td>False</td>\n",
       "      <td>False</td>\n",
       "      <td>False</td>\n",
       "    </tr>\n",
       "    <tr>\n",
       "      <th>1</th>\n",
       "      <td>False</td>\n",
       "      <td>False</td>\n",
       "      <td>False</td>\n",
       "      <td>False</td>\n",
       "      <td>False</td>\n",
       "      <td>False</td>\n",
       "      <td>False</td>\n",
       "      <td>False</td>\n",
       "      <td>False</td>\n",
       "      <td>False</td>\n",
       "      <td>...</td>\n",
       "      <td>False</td>\n",
       "      <td>False</td>\n",
       "      <td>False</td>\n",
       "      <td>False</td>\n",
       "      <td>False</td>\n",
       "      <td>False</td>\n",
       "      <td>False</td>\n",
       "      <td>False</td>\n",
       "      <td>False</td>\n",
       "      <td>False</td>\n",
       "    </tr>\n",
       "    <tr>\n",
       "      <th>2</th>\n",
       "      <td>False</td>\n",
       "      <td>False</td>\n",
       "      <td>False</td>\n",
       "      <td>False</td>\n",
       "      <td>False</td>\n",
       "      <td>False</td>\n",
       "      <td>False</td>\n",
       "      <td>False</td>\n",
       "      <td>False</td>\n",
       "      <td>False</td>\n",
       "      <td>...</td>\n",
       "      <td>False</td>\n",
       "      <td>False</td>\n",
       "      <td>False</td>\n",
       "      <td>False</td>\n",
       "      <td>False</td>\n",
       "      <td>False</td>\n",
       "      <td>False</td>\n",
       "      <td>False</td>\n",
       "      <td>False</td>\n",
       "      <td>False</td>\n",
       "    </tr>\n",
       "    <tr>\n",
       "      <th>3</th>\n",
       "      <td>False</td>\n",
       "      <td>False</td>\n",
       "      <td>False</td>\n",
       "      <td>False</td>\n",
       "      <td>False</td>\n",
       "      <td>False</td>\n",
       "      <td>False</td>\n",
       "      <td>False</td>\n",
       "      <td>False</td>\n",
       "      <td>False</td>\n",
       "      <td>...</td>\n",
       "      <td>False</td>\n",
       "      <td>False</td>\n",
       "      <td>False</td>\n",
       "      <td>False</td>\n",
       "      <td>False</td>\n",
       "      <td>False</td>\n",
       "      <td>False</td>\n",
       "      <td>False</td>\n",
       "      <td>False</td>\n",
       "      <td>False</td>\n",
       "    </tr>\n",
       "    <tr>\n",
       "      <th>4</th>\n",
       "      <td>False</td>\n",
       "      <td>False</td>\n",
       "      <td>False</td>\n",
       "      <td>False</td>\n",
       "      <td>False</td>\n",
       "      <td>False</td>\n",
       "      <td>False</td>\n",
       "      <td>False</td>\n",
       "      <td>False</td>\n",
       "      <td>False</td>\n",
       "      <td>...</td>\n",
       "      <td>False</td>\n",
       "      <td>False</td>\n",
       "      <td>False</td>\n",
       "      <td>False</td>\n",
       "      <td>False</td>\n",
       "      <td>False</td>\n",
       "      <td>False</td>\n",
       "      <td>False</td>\n",
       "      <td>False</td>\n",
       "      <td>False</td>\n",
       "    </tr>\n",
       "  </tbody>\n",
       "</table>\n",
       "<p>5 rows × 5628 columns</p>\n",
       "</div>"
      ],
      "text/plain": [
       "   *Boombox Ipod Classic  *USB Office Glitter Lamp  *USB Office Mirror Ball  \\\n",
       "0                  False                     False                    False   \n",
       "1                  False                     False                    False   \n",
       "2                  False                     False                    False   \n",
       "3                  False                     False                    False   \n",
       "4                  False                     False                    False   \n",
       "\n",
       "   10 COLOUR SPACEBOY PEN  11 PC CERAMIC TEA SET POLKADOT  \\\n",
       "0                   False                           False   \n",
       "1                   False                           False   \n",
       "2                   False                           False   \n",
       "3                   False                           False   \n",
       "4                   False                           False   \n",
       "\n",
       "   12 ASS ZINC CHRISTMAS DECORATIONS  12 COLOURED PARTY BALLOONS  \\\n",
       "0                              False                       False   \n",
       "1                              False                       False   \n",
       "2                              False                       False   \n",
       "3                              False                       False   \n",
       "4                              False                       False   \n",
       "\n",
       "   12 DAISY PEGS IN WOOD BOX  12 EGG HOUSE PAINTED WOOD  \\\n",
       "0                      False                      False   \n",
       "1                      False                      False   \n",
       "2                      False                      False   \n",
       "3                      False                      False   \n",
       "4                      False                      False   \n",
       "\n",
       "   12 HANGING EGGS HAND PAINTED  ...  wrongly coded 20713  \\\n",
       "0                         False  ...                False   \n",
       "1                         False  ...                False   \n",
       "2                         False  ...                False   \n",
       "3                         False  ...                False   \n",
       "4                         False  ...                False   \n",
       "\n",
       "   wrongly coded 23343  wrongly coded-23343  wrongly marked  \\\n",
       "0                False                False           False   \n",
       "1                False                False           False   \n",
       "2                False                False           False   \n",
       "3                False                False           False   \n",
       "4                False                False           False   \n",
       "\n",
       "   wrongly marked 23343  wrongly marked carton 22804  \\\n",
       "0                 False                        False   \n",
       "1                 False                        False   \n",
       "2                 False                        False   \n",
       "3                 False                        False   \n",
       "4                 False                        False   \n",
       "\n",
       "   wrongly marked. 23343 in box  wrongly sold (22719) barcode  \\\n",
       "0                         False                         False   \n",
       "1                         False                         False   \n",
       "2                         False                         False   \n",
       "3                         False                         False   \n",
       "4                         False                         False   \n",
       "\n",
       "   wrongly sold as sets  wrongly sold sets  \n",
       "0                 False              False  \n",
       "1                 False              False  \n",
       "2                 False              False  \n",
       "3                 False              False  \n",
       "4                 False              False  \n",
       "\n",
       "[5 rows x 5628 columns]"
      ]
     },
     "execution_count": 72,
     "metadata": {},
     "output_type": "execute_result"
    }
   ],
   "source": [
    "one_hot_transactions.head()"
   ]
  },
  {
   "cell_type": "markdown",
   "id": "8ca6f29a",
   "metadata": {
    "ExecuteTime": {
     "end_time": "2024-05-14T09:39:39.738482Z",
     "start_time": "2024-05-14T09:39:39.721606Z"
    },
    "deletable": false,
    "editable": false,
    "run_control": {
     "frozen": true
    }
   },
   "source": [
    "## Data Mining (Rules Extraction)"
   ]
  },
  {
   "cell_type": "markdown",
   "id": "a962aea9",
   "metadata": {
    "deletable": false,
    "editable": false,
    "run_control": {
     "frozen": true
    }
   },
   "source": [
    "The following parameters are configured for the algorithm:\n",
    "\n",
    "- Maximum Combination Length\n",
    "    - We set the maximum combination length to 2 items.\n",
    "    - This choice is made to focus on pairs of items, allowing for a more targeted analysis of co-occurrences.\n",
    "\n",
    "- Minimum Co-Occurrence Support Threshold\n",
    "    - A minimum co-occurrence support threshold of 1% is established to filter out infrequent itemsets. \n",
    "    - This ensures that only associations with a significant presence in the dataset are considered."
   ]
  },
  {
   "cell_type": "code",
   "execution_count": 74,
   "id": "06a0eae5",
   "metadata": {
    "ExecuteTime": {
     "end_time": "2024-05-19T04:28:16.730911Z",
     "start_time": "2024-05-19T04:28:14.086753Z"
    },
    "deletable": false,
    "editable": false
   },
   "outputs": [],
   "source": [
    "frequent_itemsets = apriori(one_hot_transactions, min_support= 0.01, use_colnames=True, max_len = 2, low_memory=True)\n",
    "rules = association_rules(frequent_itemsets, metric=\"support\", min_threshold = 0.01)"
   ]
  },
  {
   "cell_type": "code",
   "execution_count": 75,
   "id": "fbaca930",
   "metadata": {
    "ExecuteTime": {
     "end_time": "2024-05-19T04:28:25.091866Z",
     "start_time": "2024-05-19T04:28:25.078902Z"
    },
    "deletable": false,
    "editable": false
   },
   "outputs": [],
   "source": [
    "rules['antecedents'] = rules['antecedents'].map(lambda x: ''.join(list(x)))\n",
    "rules['consequents'] = rules['consequents'].map(lambda x: ''.join(list(x)))"
   ]
  },
  {
   "cell_type": "code",
   "execution_count": 76,
   "id": "f6b29023",
   "metadata": {
    "ExecuteTime": {
     "end_time": "2024-05-19T04:28:26.008204Z",
     "start_time": "2024-05-19T04:28:25.996237Z"
    },
    "deletable": false,
    "editable": false
   },
   "outputs": [
    {
     "data": {
      "text/plain": [
       "(642, 10)"
      ]
     },
     "execution_count": 76,
     "metadata": {},
     "output_type": "execute_result"
    }
   ],
   "source": [
    "rules.shape"
   ]
  },
  {
   "cell_type": "code",
   "execution_count": 77,
   "id": "b8c775e8",
   "metadata": {
    "ExecuteTime": {
     "end_time": "2024-05-19T04:28:27.908608Z",
     "start_time": "2024-05-19T04:28:27.615666Z"
    },
    "deletable": false,
    "editable": false
   },
   "outputs": [
    {
     "data": {
      "text/html": [
       "<div>\n",
       "<style scoped>\n",
       "    .dataframe tbody tr th:only-of-type {\n",
       "        vertical-align: middle;\n",
       "    }\n",
       "\n",
       "    .dataframe tbody tr th {\n",
       "        vertical-align: top;\n",
       "    }\n",
       "\n",
       "    .dataframe thead th {\n",
       "        text-align: right;\n",
       "    }\n",
       "</style>\n",
       "<table border=\"1\" class=\"dataframe\">\n",
       "  <thead>\n",
       "    <tr style=\"text-align: right;\">\n",
       "      <th></th>\n",
       "      <th>antecedents</th>\n",
       "      <th>consequents</th>\n",
       "      <th>antecedent support</th>\n",
       "      <th>consequent support</th>\n",
       "      <th>support</th>\n",
       "      <th>confidence</th>\n",
       "      <th>lift</th>\n",
       "      <th>leverage</th>\n",
       "      <th>conviction</th>\n",
       "      <th>zhangs_metric</th>\n",
       "    </tr>\n",
       "  </thead>\n",
       "  <tbody>\n",
       "    <tr>\n",
       "      <th>566</th>\n",
       "      <td>RED HANGING HEART T-LIGHT HOLDER</td>\n",
       "      <td>WHITE HANGING HEART T-LIGHT HOLDER</td>\n",
       "      <td>0.042863</td>\n",
       "      <td>0.132973</td>\n",
       "      <td>0.030199</td>\n",
       "      <td>0.704545</td>\n",
       "      <td>5.298414</td>\n",
       "      <td>0.024499</td>\n",
       "      <td>2.934553</td>\n",
       "      <td>0.847595</td>\n",
       "    </tr>\n",
       "    <tr>\n",
       "      <th>567</th>\n",
       "      <td>WHITE HANGING HEART T-LIGHT HOLDER</td>\n",
       "      <td>RED HANGING HEART T-LIGHT HOLDER</td>\n",
       "      <td>0.132973</td>\n",
       "      <td>0.042863</td>\n",
       "      <td>0.030199</td>\n",
       "      <td>0.227106</td>\n",
       "      <td>5.298414</td>\n",
       "      <td>0.024499</td>\n",
       "      <td>1.238381</td>\n",
       "      <td>0.935685</td>\n",
       "    </tr>\n",
       "    <tr>\n",
       "      <th>637</th>\n",
       "      <td>WOODEN PICTURE FRAME WHITE FINISH</td>\n",
       "      <td>WOODEN FRAME ANTIQUE WHITE</td>\n",
       "      <td>0.048854</td>\n",
       "      <td>0.050145</td>\n",
       "      <td>0.027130</td>\n",
       "      <td>0.555334</td>\n",
       "      <td>11.074584</td>\n",
       "      <td>0.024681</td>\n",
       "      <td>2.136109</td>\n",
       "      <td>0.956429</td>\n",
       "    </tr>\n",
       "    <tr>\n",
       "      <th>636</th>\n",
       "      <td>WOODEN FRAME ANTIQUE WHITE</td>\n",
       "      <td>WOODEN PICTURE FRAME WHITE FINISH</td>\n",
       "      <td>0.050145</td>\n",
       "      <td>0.048854</td>\n",
       "      <td>0.027130</td>\n",
       "      <td>0.541039</td>\n",
       "      <td>11.074584</td>\n",
       "      <td>0.024681</td>\n",
       "      <td>2.072391</td>\n",
       "      <td>0.957728</td>\n",
       "    </tr>\n",
       "    <tr>\n",
       "      <th>297</th>\n",
       "      <td>JUMBO BAG RED RETROSPOT</td>\n",
       "      <td>JUMBO STORAGE BAG SUKI</td>\n",
       "      <td>0.079711</td>\n",
       "      <td>0.056745</td>\n",
       "      <td>0.026692</td>\n",
       "      <td>0.334861</td>\n",
       "      <td>5.901170</td>\n",
       "      <td>0.022169</td>\n",
       "      <td>1.418132</td>\n",
       "      <td>0.902479</td>\n",
       "    </tr>\n",
       "  </tbody>\n",
       "</table>\n",
       "</div>"
      ],
      "text/plain": [
       "                            antecedents                         consequents  \\\n",
       "566    RED HANGING HEART T-LIGHT HOLDER  WHITE HANGING HEART T-LIGHT HOLDER   \n",
       "567  WHITE HANGING HEART T-LIGHT HOLDER    RED HANGING HEART T-LIGHT HOLDER   \n",
       "637   WOODEN PICTURE FRAME WHITE FINISH          WOODEN FRAME ANTIQUE WHITE   \n",
       "636          WOODEN FRAME ANTIQUE WHITE   WOODEN PICTURE FRAME WHITE FINISH   \n",
       "297             JUMBO BAG RED RETROSPOT              JUMBO STORAGE BAG SUKI   \n",
       "\n",
       "     antecedent support  consequent support   support  confidence       lift  \\\n",
       "566            0.042863            0.132973  0.030199    0.704545   5.298414   \n",
       "567            0.132973            0.042863  0.030199    0.227106   5.298414   \n",
       "637            0.048854            0.050145  0.027130    0.555334  11.074584   \n",
       "636            0.050145            0.048854  0.027130    0.541039  11.074584   \n",
       "297            0.079711            0.056745  0.026692    0.334861   5.901170   \n",
       "\n",
       "     leverage  conviction  zhangs_metric  \n",
       "566  0.024499    2.934553       0.847595  \n",
       "567  0.024499    1.238381       0.935685  \n",
       "637  0.024681    2.136109       0.956429  \n",
       "636  0.024681    2.072391       0.957728  \n",
       "297  0.022169    1.418132       0.902479  "
      ]
     },
     "execution_count": 77,
     "metadata": {},
     "output_type": "execute_result"
    }
   ],
   "source": [
    "rules.sort_values('support', ascending=False).head(5)"
   ]
  },
  {
   "cell_type": "markdown",
   "id": "6b68fac6",
   "metadata": {
    "ExecuteTime": {
     "end_time": "2024-05-15T04:07:51.530300Z",
     "start_time": "2024-05-15T04:07:51.520326Z"
    },
    "deletable": false,
    "editable": false,
    "run_control": {
     "frozen": true
    }
   },
   "source": [
    "## Network Visualization with Echarts"
   ]
  },
  {
   "cell_type": "markdown",
   "id": "2e99a5a8",
   "metadata": {
    "ExecuteTime": {
     "end_time": "2024-05-15T07:50:31.003683Z",
     "start_time": "2024-05-15T07:50:30.994002Z"
    },
    "deletable": false,
    "editable": false,
    "run_control": {
     "frozen": true
    }
   },
   "source": [
    "### Network Profile"
   ]
  },
  {
   "cell_type": "markdown",
   "id": "a7a9ca5b",
   "metadata": {
    "deletable": false,
    "editable": false,
    "run_control": {
     "frozen": true
    }
   },
   "source": [
    "We profile the network to get a quick summary of our products network "
   ]
  },
  {
   "cell_type": "code",
   "execution_count": 78,
   "id": "dc78cf44",
   "metadata": {
    "ExecuteTime": {
     "end_time": "2024-05-19T04:28:55.516710Z",
     "start_time": "2024-05-19T04:28:55.139009Z"
    },
    "deletable": false,
    "editable": false
   },
   "outputs": [],
   "source": [
    "myRGM = RGM(rules, 'antecedents', 'consequents')\n",
    "df_nodes_profile, df_edges_profile = myRGM.get_graph_features()"
   ]
  },
  {
   "cell_type": "code",
   "execution_count": 79,
   "id": "d17f1ed7",
   "metadata": {
    "ExecuteTime": {
     "end_time": "2024-05-19T04:28:57.118940Z",
     "start_time": "2024-05-19T04:28:57.005825Z"
    },
    "deletable": false,
    "editable": false
   },
   "outputs": [],
   "source": [
    "df_nodes_profile = NxGrouper.greedy_modularity_communities(df_nodes_profile, df_edges_profile, min_member=4)"
   ]
  },
  {
   "cell_type": "code",
   "execution_count": 80,
   "id": "7f7d0a83",
   "metadata": {
    "ExecuteTime": {
     "end_time": "2024-05-19T04:28:57.918126Z",
     "start_time": "2024-05-19T04:28:57.783025Z"
    },
    "deletable": false,
    "editable": false
   },
   "outputs": [],
   "source": [
    "force_profile = EgraphForce(\n",
    "    df_edges_profile, \n",
    "    df_nodes_profile, \n",
    "    col_source='antecedents', \n",
    "    col_target='consequents', \n",
    "    col_name='nodes',\n",
    ")\n",
    "force_profile_option = force_profile.get_option()"
   ]
  },
  {
   "cell_type": "code",
   "execution_count": 82,
   "id": "7095e430",
   "metadata": {
    "ExecuteTime": {
     "end_time": "2024-05-19T04:29:32.052660Z",
     "start_time": "2024-05-19T04:29:32.046673Z"
    }
   },
   "outputs": [],
   "source": [
    "# JupyterEcharts.show(force_profile_option)"
   ]
  },
  {
   "cell_type": "markdown",
   "id": "d16308a0",
   "metadata": {
    "deletable": false,
    "editable": false,
    "run_control": {
     "frozen": true
    }
   },
   "source": [
    "![Description](images/profile_network.png)"
   ]
  },
  {
   "cell_type": "markdown",
   "id": "1a81ae96",
   "metadata": {
    "ExecuteTime": {
     "end_time": "2024-05-15T10:07:48.681479Z",
     "start_time": "2024-05-15T10:07:48.672822Z"
    },
    "deletable": false,
    "editable": false,
    "run_control": {
     "frozen": true
    }
   },
   "source": [
    "### Product Network"
   ]
  },
  {
   "cell_type": "markdown",
   "id": "ff960703",
   "metadata": {
    "deletable": false,
    "editable": false,
    "run_control": {
     "frozen": true
    }
   },
   "source": [
    "After we know our network profile, we can select and assess individual product networks."
   ]
  },
  {
   "cell_type": "code",
   "execution_count": 83,
   "id": "ecdc262c",
   "metadata": {
    "ExecuteTime": {
     "end_time": "2024-05-19T04:29:36.569254Z",
     "start_time": "2024-05-19T04:29:36.124888Z"
    },
    "deletable": false,
    "editable": false
   },
   "outputs": [],
   "source": [
    "MyPN = ProductNetwork(rules)\n",
    "df_bfs, rules_bfs = MyPN.get_bfs_rules(['RED HANGING HEART T-LIGHT HOLDER'], 'support', 0, 3, 5)\n",
    "df_nodes_pn, df_edges_pn = MyPN.get_graph_features(df_bfs, rules_bfs, strict_rules=True)"
   ]
  },
  {
   "cell_type": "code",
   "execution_count": 84,
   "id": "6d99850b",
   "metadata": {
    "ExecuteTime": {
     "end_time": "2024-05-19T04:29:37.190969Z",
     "start_time": "2024-05-19T04:29:37.180997Z"
    },
    "deletable": false,
    "editable": false
   },
   "outputs": [],
   "source": [
    "df_nodes_pn['label'] = df_nodes_pn['rank'].map(lambda x : {\"show\": True, \"position\": \"right\", \"formatter\": f\"{x}\"})"
   ]
  },
  {
   "cell_type": "code",
   "execution_count": 85,
   "id": "5b844ba7",
   "metadata": {
    "ExecuteTime": {
     "end_time": "2024-05-19T04:29:39.550652Z",
     "start_time": "2024-05-19T04:29:39.538686Z"
    },
    "deletable": false,
    "editable": false
   },
   "outputs": [],
   "source": [
    "force_pn = EgraphForce(\n",
    "    df_edges_pn, \n",
    "    df_nodes_pn,\n",
    "    col_category='depth',\n",
    "    col_source='antecedents', \n",
    "    col_target='consequents',\n",
    "    col_name='nodes',\n",
    ")\n",
    "force_pn_option = force_pn.get_option(show_legend=True)"
   ]
  },
  {
   "cell_type": "code",
   "execution_count": null,
   "id": "8faf0909",
   "metadata": {
    "ExecuteTime": {
     "end_time": "2024-05-15T10:51:18.832514Z",
     "start_time": "2024-05-15T10:51:18.826470Z"
    },
    "deletable": false,
    "editable": false
   },
   "outputs": [],
   "source": [
    "# JupyterEcharts.show(force_pn_option)"
   ]
  },
  {
   "cell_type": "markdown",
   "id": "601a61ce",
   "metadata": {
    "deletable": false,
    "editable": false
   },
   "source": [
    "![Description](images/product_network.png)"
   ]
  },
  {
   "cell_type": "markdown",
   "id": "01611486",
   "metadata": {
    "ExecuteTime": {
     "end_time": "2024-05-15T10:21:30.130283Z",
     "start_time": "2024-05-15T10:21:30.120313Z"
    }
   },
   "source": [
    "### Cross Selling Products"
   ]
  },
  {
   "cell_type": "markdown",
   "id": "cdc4ff3e",
   "metadata": {
    "deletable": false,
    "editable": false,
    "run_control": {
     "frozen": true
    }
   },
   "source": [
    "Using this technique, we can bundle our products that are frequently purchased together."
   ]
  },
  {
   "cell_type": "code",
   "execution_count": 86,
   "id": "627dadcf",
   "metadata": {
    "ExecuteTime": {
     "end_time": "2024-05-19T04:29:43.248342Z",
     "start_time": "2024-05-19T04:29:42.522911Z"
    },
    "deletable": false,
    "editable": false
   },
   "outputs": [],
   "source": [
    "MyCSP = CrossSellingProducts(rules)\n",
    "cross_selling_rules = MyCSP.get_cross_selling_products(max_support_ratio_diff=2.0, min_confidence=0.35)"
   ]
  },
  {
   "cell_type": "code",
   "execution_count": 87,
   "id": "db13904f",
   "metadata": {
    "ExecuteTime": {
     "end_time": "2024-05-19T04:29:44.004844Z",
     "start_time": "2024-05-19T04:29:43.936358Z"
    },
    "deletable": false,
    "editable": false
   },
   "outputs": [],
   "source": [
    "df_nodes_csp, df_edges_csp = MyCSP.get_graph_features(cross_selling_rules)\n",
    "df_nodes_csp = NxGrouper.greedy_modularity_communities(df_nodes_csp, df_edges_csp)\n",
    "\n",
    "df_bundle_products = df_nodes_csp[~df_nodes_csp['category'].str.contains('Others')]"
   ]
  },
  {
   "cell_type": "code",
   "execution_count": 88,
   "id": "bff834bc",
   "metadata": {
    "ExecuteTime": {
     "end_time": "2024-05-19T04:29:44.723957Z",
     "start_time": "2024-05-19T04:29:44.705968Z"
    },
    "deletable": false,
    "editable": false
   },
   "outputs": [],
   "source": [
    "force_csp = EgraphForce(\n",
    "    df_edges_csp, df_nodes_csp,\n",
    "    col_source='antecedents',\n",
    "    col_target='consequents',\n",
    "    col_name='nodes',\n",
    ")\n",
    "force_csp_option = force_csp.get_option()"
   ]
  },
  {
   "cell_type": "code",
   "execution_count": null,
   "id": "654c95f2",
   "metadata": {
    "ExecuteTime": {
     "end_time": "2024-05-15T10:51:21.563626Z",
     "start_time": "2024-05-15T10:51:21.556644Z"
    },
    "deletable": false,
    "editable": false
   },
   "outputs": [],
   "source": [
    "# JupyterEcharts.show(force_csp_option)"
   ]
  },
  {
   "cell_type": "markdown",
   "id": "8ee29921",
   "metadata": {
    "deletable": false,
    "editable": false,
    "run_control": {
     "frozen": true
    }
   },
   "source": [
    "![Description](images/cross_selling_products.png)"
   ]
  },
  {
   "cell_type": "markdown",
   "id": "bc1f2c1b",
   "metadata": {
    "ExecuteTime": {
     "end_time": "2024-05-15T08:12:20.124616Z",
     "start_time": "2024-05-15T08:12:20.108451Z"
    },
    "deletable": false,
    "editable": false,
    "run_control": {
     "frozen": true
    }
   },
   "source": [
    "##  Product Placement with Plotly Heatmap"
   ]
  },
  {
   "cell_type": "markdown",
   "id": "ecb657d3",
   "metadata": {
    "deletable": false,
    "editable": false,
    "run_control": {
     "frozen": true
    }
   },
   "source": [
    "We can display our products side by side using Plotly heatmap"
   ]
  },
  {
   "cell_type": "code",
   "execution_count": 89,
   "id": "c90de8f5",
   "metadata": {
    "ExecuteTime": {
     "end_time": "2024-05-19T04:29:48.551621Z",
     "start_time": "2024-05-19T04:29:48.540367Z"
    },
    "deletable": false,
    "editable": false
   },
   "outputs": [],
   "source": [
    "MyHM = HeatmapCrosstab(rules)"
   ]
  },
  {
   "cell_type": "code",
   "execution_count": 90,
   "id": "f5cdcc91",
   "metadata": {
    "ExecuteTime": {
     "end_time": "2024-05-19T04:29:49.651156Z",
     "start_time": "2024-05-19T04:29:49.323053Z"
    },
    "deletable": false,
    "editable": false
   },
   "outputs": [],
   "source": [
    "tabular = MyHM.get_tabular_data(\n",
    "    ['WHITE HANGING HEART T-LIGHT HOLDER', 'RED HANGING HEART T-LIGHT HOLDER'], \n",
    "    'support',\n",
    "    max_col=10\n",
    ")"
   ]
  },
  {
   "cell_type": "code",
   "execution_count": 91,
   "id": "4368b4f8",
   "metadata": {
    "ExecuteTime": {
     "end_time": "2024-05-19T04:30:10.107958Z",
     "start_time": "2024-05-19T04:29:50.447764Z"
    },
    "deletable": false,
    "editable": false
   },
   "outputs": [],
   "source": [
    "fig_heatmap = MyHM.plot_heatmap(tabular)"
   ]
  },
  {
   "cell_type": "code",
   "execution_count": null,
   "id": "6c6031b3",
   "metadata": {
    "ExecuteTime": {
     "end_time": "2024-05-18T15:10:10.325493Z",
     "start_time": "2024-05-18T15:10:10.309536Z"
    },
    "deletable": false,
    "editable": false
   },
   "outputs": [],
   "source": [
    "# fig_heatmap.show()"
   ]
  },
  {
   "cell_type": "code",
   "execution_count": null,
   "id": "8e16a28c",
   "metadata": {
    "ExecuteTime": {
     "end_time": "2024-05-15T11:05:47.407417Z",
     "start_time": "2024-05-15T11:05:47.256784Z"
    },
    "deletable": false,
    "editable": false
   },
   "outputs": [],
   "source": [
    "# fig_heatmap.write_image(\"images/heatmap_xtab.png\")"
   ]
  },
  {
   "cell_type": "markdown",
   "id": "81cd19fe",
   "metadata": {
    "deletable": false,
    "editable": false,
    "run_control": {
     "frozen": true
    }
   },
   "source": [
    "![Description](images/heatmap_xtab.png)"
   ]
  },
  {
   "cell_type": "markdown",
   "id": "bcf521b1",
   "metadata": {
    "ExecuteTime": {
     "end_time": "2024-05-18T15:45:50.450047Z",
     "start_time": "2024-05-18T15:45:50.433265Z"
    },
    "deletable": false,
    "editable": false,
    "run_control": {
     "frozen": true
    }
   },
   "source": [
    "## Summary Report"
   ]
  },
  {
   "cell_type": "markdown",
   "id": "91eb333c",
   "metadata": {
    "ExecuteTime": {
     "end_time": "2024-05-18T15:45:59.851717Z",
     "start_time": "2024-05-18T15:45:59.838564Z"
    },
    "deletable": false,
    "editable": false,
    "run_control": {
     "frozen": true
    }
   },
   "source": [
    "### Top 5 Support"
   ]
  },
  {
   "cell_type": "code",
   "execution_count": 93,
   "id": "29f401e5",
   "metadata": {
    "ExecuteTime": {
     "end_time": "2024-05-19T04:30:42.935490Z",
     "start_time": "2024-05-19T04:30:42.908563Z"
    },
    "deletable": false,
    "editable": false
   },
   "outputs": [
    {
     "data": {
      "text/html": [
       "<div>\n",
       "<style scoped>\n",
       "    .dataframe tbody tr th:only-of-type {\n",
       "        vertical-align: middle;\n",
       "    }\n",
       "\n",
       "    .dataframe tbody tr th {\n",
       "        vertical-align: top;\n",
       "    }\n",
       "\n",
       "    .dataframe thead th {\n",
       "        text-align: right;\n",
       "    }\n",
       "</style>\n",
       "<table border=\"1\" class=\"dataframe\">\n",
       "  <thead>\n",
       "    <tr style=\"text-align: right;\">\n",
       "      <th></th>\n",
       "      <th>antecedents</th>\n",
       "      <th>consequents</th>\n",
       "      <th>antecedent support</th>\n",
       "      <th>consequent support</th>\n",
       "      <th>support</th>\n",
       "      <th>confidence</th>\n",
       "      <th>lift</th>\n",
       "      <th>leverage</th>\n",
       "      <th>conviction</th>\n",
       "      <th>zhangs_metric</th>\n",
       "    </tr>\n",
       "  </thead>\n",
       "  <tbody>\n",
       "    <tr>\n",
       "      <th>0</th>\n",
       "      <td>POPPY'S PLAYHOUSE LIVINGROOM</td>\n",
       "      <td>POPPY'S PLAYHOUSE BEDROOM</td>\n",
       "      <td>0.013736</td>\n",
       "      <td>0.017121</td>\n",
       "      <td>0.011227</td>\n",
       "      <td>0.817376</td>\n",
       "      <td>47.741495</td>\n",
       "      <td>0.010992</td>\n",
       "      <td>5.381979</td>\n",
       "      <td>0.992689</td>\n",
       "    </tr>\n",
       "    <tr>\n",
       "      <th>1</th>\n",
       "      <td>POPPY'S PLAYHOUSE LIVINGROOM</td>\n",
       "      <td>POPPY'S PLAYHOUSE KITCHEN</td>\n",
       "      <td>0.013736</td>\n",
       "      <td>0.018071</td>\n",
       "      <td>0.011544</td>\n",
       "      <td>0.840426</td>\n",
       "      <td>46.507699</td>\n",
       "      <td>0.011296</td>\n",
       "      <td>6.153424</td>\n",
       "      <td>0.992126</td>\n",
       "    </tr>\n",
       "    <tr>\n",
       "      <th>2</th>\n",
       "      <td>POPPY'S PLAYHOUSE BEDROOM</td>\n",
       "      <td>POPPY'S PLAYHOUSE KITCHEN</td>\n",
       "      <td>0.017121</td>\n",
       "      <td>0.018071</td>\n",
       "      <td>0.013565</td>\n",
       "      <td>0.792319</td>\n",
       "      <td>43.845546</td>\n",
       "      <td>0.013256</td>\n",
       "      <td>4.728057</td>\n",
       "      <td>0.994214</td>\n",
       "    </tr>\n",
       "    <tr>\n",
       "      <th>3</th>\n",
       "      <td>WOODEN TREE CHRISTMAS SCANDINAVIAN</td>\n",
       "      <td>WOODEN STAR CHRISTMAS SCANDINAVIAN</td>\n",
       "      <td>0.013395</td>\n",
       "      <td>0.018655</td>\n",
       "      <td>0.010594</td>\n",
       "      <td>0.790909</td>\n",
       "      <td>42.396238</td>\n",
       "      <td>0.010344</td>\n",
       "      <td>4.693388</td>\n",
       "      <td>0.989669</td>\n",
       "    </tr>\n",
       "    <tr>\n",
       "      <th>4</th>\n",
       "      <td>SMALL MARSHMALLOWS PINK BOWL</td>\n",
       "      <td>SMALL DOLLY MIX DESIGN ORANGE BOWL</td>\n",
       "      <td>0.014953</td>\n",
       "      <td>0.017851</td>\n",
       "      <td>0.011130</td>\n",
       "      <td>0.744300</td>\n",
       "      <td>41.693982</td>\n",
       "      <td>0.010863</td>\n",
       "      <td>3.841014</td>\n",
       "      <td>0.990832</td>\n",
       "    </tr>\n",
       "  </tbody>\n",
       "</table>\n",
       "</div>"
      ],
      "text/plain": [
       "                          antecedents                         consequents  \\\n",
       "0        POPPY'S PLAYHOUSE LIVINGROOM           POPPY'S PLAYHOUSE BEDROOM   \n",
       "1        POPPY'S PLAYHOUSE LIVINGROOM           POPPY'S PLAYHOUSE KITCHEN   \n",
       "2           POPPY'S PLAYHOUSE BEDROOM           POPPY'S PLAYHOUSE KITCHEN   \n",
       "3  WOODEN TREE CHRISTMAS SCANDINAVIAN  WOODEN STAR CHRISTMAS SCANDINAVIAN   \n",
       "4        SMALL MARSHMALLOWS PINK BOWL  SMALL DOLLY MIX DESIGN ORANGE BOWL   \n",
       "\n",
       "   antecedent support  consequent support   support  confidence       lift  \\\n",
       "0            0.013736            0.017121  0.011227    0.817376  47.741495   \n",
       "1            0.013736            0.018071  0.011544    0.840426  46.507699   \n",
       "2            0.017121            0.018071  0.013565    0.792319  43.845546   \n",
       "3            0.013395            0.018655  0.010594    0.790909  42.396238   \n",
       "4            0.014953            0.017851  0.011130    0.744300  41.693982   \n",
       "\n",
       "   leverage  conviction  zhangs_metric  \n",
       "0  0.010992    5.381979       0.992689  \n",
       "1  0.011296    6.153424       0.992126  \n",
       "2  0.013256    4.728057       0.994214  \n",
       "3  0.010344    4.693388       0.989669  \n",
       "4  0.010863    3.841014       0.990832  "
      ]
     },
     "execution_count": 93,
     "metadata": {},
     "output_type": "execute_result"
    }
   ],
   "source": [
    "rules.sort_values('lift', ascending=False).iloc[::2].head(5).reset_index(drop=True)"
   ]
  },
  {
   "cell_type": "markdown",
   "id": "1bf98e18",
   "metadata": {
    "ExecuteTime": {
     "end_time": "2024-05-18T17:36:58.411202Z",
     "start_time": "2024-05-18T17:36:58.395245Z"
    },
    "deletable": false,
    "editable": false,
    "run_control": {
     "frozen": true
    }
   },
   "source": [
    "### Bunde Products"
   ]
  },
  {
   "cell_type": "code",
   "execution_count": 95,
   "id": "6dfd0e07",
   "metadata": {
    "ExecuteTime": {
     "end_time": "2024-05-19T04:30:55.008168Z",
     "start_time": "2024-05-19T04:30:54.984528Z"
    },
    "deletable": false,
    "editable": false
   },
   "outputs": [
    {
     "data": {
      "text/html": [
       "<div>\n",
       "<style scoped>\n",
       "    .dataframe tbody tr th:only-of-type {\n",
       "        vertical-align: middle;\n",
       "    }\n",
       "\n",
       "    .dataframe tbody tr th {\n",
       "        vertical-align: top;\n",
       "    }\n",
       "\n",
       "    .dataframe thead th {\n",
       "        text-align: right;\n",
       "    }\n",
       "</style>\n",
       "<table border=\"1\" class=\"dataframe\">\n",
       "  <thead>\n",
       "    <tr style=\"text-align: right;\">\n",
       "      <th></th>\n",
       "      <th>antecedents</th>\n",
       "      <th>consequents</th>\n",
       "      <th>antecedent support</th>\n",
       "      <th>consequent support</th>\n",
       "      <th>antecedent confidence</th>\n",
       "      <th>consequent confidence</th>\n",
       "      <th>support</th>\n",
       "      <th>support_ratio_diff</th>\n",
       "      <th>confidence_mean</th>\n",
       "    </tr>\n",
       "  </thead>\n",
       "  <tbody>\n",
       "    <tr>\n",
       "      <th>0</th>\n",
       "      <td>POPPY'S PLAYHOUSE BEDROOM</td>\n",
       "      <td>POPPY'S PLAYHOUSE KITCHEN</td>\n",
       "      <td>0.017121</td>\n",
       "      <td>0.018071</td>\n",
       "      <td>0.792319</td>\n",
       "      <td>0.750674</td>\n",
       "      <td>0.013565</td>\n",
       "      <td>1.055477</td>\n",
       "      <td>0.77</td>\n",
       "    </tr>\n",
       "    <tr>\n",
       "      <th>1</th>\n",
       "      <td>POPPY'S PLAYHOUSE KITCHEN</td>\n",
       "      <td>POPPY'S PLAYHOUSE BEDROOM</td>\n",
       "      <td>0.018071</td>\n",
       "      <td>0.017121</td>\n",
       "      <td>0.750674</td>\n",
       "      <td>0.792319</td>\n",
       "      <td>0.013565</td>\n",
       "      <td>1.055477</td>\n",
       "      <td>0.77</td>\n",
       "    </tr>\n",
       "    <tr>\n",
       "      <th>2</th>\n",
       "      <td>GREEN REGENCY TEACUP AND SAUCER</td>\n",
       "      <td>ROSES REGENCY TEACUP AND SAUCER</td>\n",
       "      <td>0.032707</td>\n",
       "      <td>0.034364</td>\n",
       "      <td>0.762472</td>\n",
       "      <td>0.725726</td>\n",
       "      <td>0.024939</td>\n",
       "      <td>1.050633</td>\n",
       "      <td>0.74</td>\n",
       "    </tr>\n",
       "    <tr>\n",
       "      <th>4</th>\n",
       "      <td>PINK REGENCY TEACUP AND SAUCER</td>\n",
       "      <td>GREEN REGENCY TEACUP AND SAUCER</td>\n",
       "      <td>0.024963</td>\n",
       "      <td>0.032707</td>\n",
       "      <td>0.834146</td>\n",
       "      <td>0.636634</td>\n",
       "      <td>0.020823</td>\n",
       "      <td>1.310244</td>\n",
       "      <td>0.74</td>\n",
       "    </tr>\n",
       "    <tr>\n",
       "      <th>5</th>\n",
       "      <td>GREEN REGENCY TEACUP AND SAUCER</td>\n",
       "      <td>PINK REGENCY TEACUP AND SAUCER</td>\n",
       "      <td>0.032707</td>\n",
       "      <td>0.024963</td>\n",
       "      <td>0.636634</td>\n",
       "      <td>0.834146</td>\n",
       "      <td>0.020823</td>\n",
       "      <td>1.310244</td>\n",
       "      <td>0.74</td>\n",
       "    </tr>\n",
       "  </tbody>\n",
       "</table>\n",
       "</div>"
      ],
      "text/plain": [
       "                       antecedents                      consequents  \\\n",
       "0        POPPY'S PLAYHOUSE BEDROOM        POPPY'S PLAYHOUSE KITCHEN   \n",
       "1        POPPY'S PLAYHOUSE KITCHEN        POPPY'S PLAYHOUSE BEDROOM   \n",
       "2  GREEN REGENCY TEACUP AND SAUCER  ROSES REGENCY TEACUP AND SAUCER   \n",
       "4   PINK REGENCY TEACUP AND SAUCER  GREEN REGENCY TEACUP AND SAUCER   \n",
       "5  GREEN REGENCY TEACUP AND SAUCER   PINK REGENCY TEACUP AND SAUCER   \n",
       "\n",
       "   antecedent support  consequent support  antecedent confidence  \\\n",
       "0            0.017121            0.018071               0.792319   \n",
       "1            0.018071            0.017121               0.750674   \n",
       "2            0.032707            0.034364               0.762472   \n",
       "4            0.024963            0.032707               0.834146   \n",
       "5            0.032707            0.024963               0.636634   \n",
       "\n",
       "   consequent confidence   support  support_ratio_diff  confidence_mean  \n",
       "0               0.750674  0.013565            1.055477             0.77  \n",
       "1               0.792319  0.013565            1.055477             0.77  \n",
       "2               0.725726  0.024939            1.050633             0.74  \n",
       "4               0.636634  0.020823            1.310244             0.74  \n",
       "5               0.834146  0.020823            1.310244             0.74  "
      ]
     },
     "execution_count": 95,
     "metadata": {},
     "output_type": "execute_result"
    }
   ],
   "source": [
    "cross_selling_rules.sort_values('confidence_mean', ascending=False).head()"
   ]
  },
  {
   "cell_type": "code",
   "execution_count": 104,
   "id": "809436ce",
   "metadata": {
    "ExecuteTime": {
     "end_time": "2024-05-19T05:10:59.723923Z",
     "start_time": "2024-05-19T05:10:59.483271Z"
    },
    "deletable": false,
    "editable": false,
    "scrolled": false
   },
   "outputs": [
    {
     "data": {
      "text/html": [
       "<div>\n",
       "<style scoped>\n",
       "    .dataframe tbody tr th:only-of-type {\n",
       "        vertical-align: middle;\n",
       "    }\n",
       "\n",
       "    .dataframe tbody tr th {\n",
       "        vertical-align: top;\n",
       "    }\n",
       "\n",
       "    .dataframe thead th {\n",
       "        text-align: right;\n",
       "    }\n",
       "</style>\n",
       "<table border=\"1\" class=\"dataframe\">\n",
       "  <thead>\n",
       "    <tr style=\"text-align: right;\">\n",
       "      <th></th>\n",
       "      <th>products</th>\n",
       "      <th>support_mean</th>\n",
       "      <th>n</th>\n",
       "    </tr>\n",
       "    <tr>\n",
       "      <th>category</th>\n",
       "      <th></th>\n",
       "      <th></th>\n",
       "      <th></th>\n",
       "    </tr>\n",
       "  </thead>\n",
       "  <tbody>\n",
       "    <tr>\n",
       "      <th>LUNCH BAG BLACK SKULL.</th>\n",
       "      <td>[LUNCH BAG BLACK SKULL., LUNCH BAG SUKI DESIGN, LUNCH BAG CARS BLUE, LUNCH BAG SPACEBOY DESIGN, LUNCH BAG WOODLAND, LUNCH BAG RED RETROSPOT, LUNCH BAG PINK POLKADOT, LUNCH BAG APPLE DESIGN]</td>\n",
       "      <td>0.045582</td>\n",
       "      <td>8</td>\n",
       "    </tr>\n",
       "    <tr>\n",
       "      <th>JUMBO STORAGE BAG SUKI</th>\n",
       "      <td>[JUMBO STORAGE BAG SUKI, JUMBO BAG RED RETROSPOT, JUMBO SHOPPER VINTAGE RED PAISLEY, JUMBO BAG STRAWBERRY, JUMBO BAG BAROQUE BLACK WHITE, JUMBO BAG PINK VINTAGE PAISLEY, JUMBO BAG WOODLAND ANIMALS, JUMBO BAG OWLS, JUMBO BAG SPACEBOY DESIGN, JUMBO STORAGE BAG SKULLS, JUMBO BAG SCANDINAVIAN PAISLEY, JUMBO BAG TOYS]</td>\n",
       "      <td>0.041373</td>\n",
       "      <td>12</td>\n",
       "    </tr>\n",
       "    <tr>\n",
       "      <th>COOK WITH WINE METAL SIGN</th>\n",
       "      <td>[COOK WITH WINE METAL SIGN, GIN + TONIC DIET METAL SIGN, HAND OVER THE CHOCOLATE SIGN, PLEASE ONE PERSON METAL SIGN]</td>\n",
       "      <td>0.038382</td>\n",
       "      <td>4</td>\n",
       "    </tr>\n",
       "    <tr>\n",
       "      <th>60 TEATIME FAIRY CAKE CASES</th>\n",
       "      <td>[60 TEATIME FAIRY CAKE CASES, PACK OF 60 DINOSAUR CAKE CASES, 72 SWEETHEART FAIRY CAKE CASES, PACK OF 60 PINK PAISLEY CAKE CASES, PACK OF 72 SKULL CAKE CASES, PACK OF 60 SPACEBOY CAKE CASES, PACK OF 72 RETRO SPOT CAKE CASES]</td>\n",
       "      <td>0.037843</td>\n",
       "      <td>7</td>\n",
       "    </tr>\n",
       "    <tr>\n",
       "      <th>CHOCOLATE HOT WATER BOTTLE</th>\n",
       "      <td>[CHOCOLATE HOT WATER BOTTLE, HOT WATER BOTTLE I AM SO POORLY, HOT WATER BOTTLE TEA AND SYMPATHY, SCOTTIE DOG HOT WATER BOTTLE]</td>\n",
       "      <td>0.036555</td>\n",
       "      <td>4</td>\n",
       "    </tr>\n",
       "    <tr>\n",
       "      <th>PAPER CHAIN KIT VINTAGE CHRISTMAS</th>\n",
       "      <td>[PAPER CHAIN KIT VINTAGE CHRISTMAS, SET OF 20 VINTAGE CHRISTMAS NAPKINS, 60 CAKE CASES VINTAGE CHRISTMAS, PAPER CHAIN KIT 50'S CHRISTMAS]</td>\n",
       "      <td>0.033913</td>\n",
       "      <td>4</td>\n",
       "    </tr>\n",
       "    <tr>\n",
       "      <th>RED RETROSPOT CHARLOTTE BAG</th>\n",
       "      <td>[RED RETROSPOT CHARLOTTE BAG, CHARLOTTE BAG SUKI DESIGN, STRAWBERRY CHARLOTTE BAG, WOODLAND CHARLOTTE BAG, CHARLOTTE BAG PINK POLKADOT]</td>\n",
       "      <td>0.031787</td>\n",
       "      <td>5</td>\n",
       "    </tr>\n",
       "    <tr>\n",
       "      <th>PLASTERS IN TIN SPACEBOY</th>\n",
       "      <td>[PLASTERS IN TIN SPACEBOY, PLASTERS IN TIN WOODLAND ANIMALS, PLASTERS IN TIN CIRCUS PARADE, PLASTERS IN TIN VINTAGE PAISLEY, PLASTERS IN TIN STRONGMAN, PLASTERS IN TIN SKULLS]</td>\n",
       "      <td>0.028182</td>\n",
       "      <td>6</td>\n",
       "    </tr>\n",
       "    <tr>\n",
       "      <th>DOTCOM POSTAGE</th>\n",
       "      <td>[DOTCOM POSTAGE, SMALL HEART MEASURING SPOONS, LARGE HEART MEASURING SPOONS, SUKI SHOULDER BAG, RECYCLING BAG RETROSPOT]</td>\n",
       "      <td>0.027749</td>\n",
       "      <td>5</td>\n",
       "    </tr>\n",
       "    <tr>\n",
       "      <th>ALARM CLOCK BAKELIKE GREEN</th>\n",
       "      <td>[ALARM CLOCK BAKELIKE GREEN, ALARM CLOCK BAKELIKE RED, ALARM CLOCK BAKELIKE PINK, ALARM CLOCK BAKELIKE IVORY]</td>\n",
       "      <td>0.026491</td>\n",
       "      <td>4</td>\n",
       "    </tr>\n",
       "    <tr>\n",
       "      <th>HAND WARMER OWL DESIGN</th>\n",
       "      <td>[HAND WARMER OWL DESIGN, HAND WARMER SCOTTY DOG DESIGN, HAND WARMER BIRD DESIGN, HAND WARMER UNION JACK]</td>\n",
       "      <td>0.025614</td>\n",
       "      <td>4</td>\n",
       "    </tr>\n",
       "    <tr>\n",
       "      <th>RED STRIPE CERAMIC DRAWER KNOB</th>\n",
       "      <td>[RED STRIPE CERAMIC DRAWER KNOB, BLUE SPOT CERAMIC DRAWER KNOB, BLUE STRIPE CERAMIC DRAWER KNOB, WHITE SPOT RED CERAMIC DRAWER KNOB, RED SPOT CERAMIC DRAWER KNOB, WHITE SPOT BLUE CERAMIC DRAWER KNOB]</td>\n",
       "      <td>0.019089</td>\n",
       "      <td>6</td>\n",
       "    </tr>\n",
       "  </tbody>\n",
       "</table>\n",
       "</div>"
      ],
      "text/plain": [
       "                                                                                                                                                                                                                                                                                                                                                     products  \\\n",
       "category                                                                                                                                                                                                                                                                                                                                                        \n",
       "LUNCH BAG BLACK SKULL.                                                                                                                                          [LUNCH BAG BLACK SKULL., LUNCH BAG SUKI DESIGN, LUNCH BAG CARS BLUE, LUNCH BAG SPACEBOY DESIGN, LUNCH BAG WOODLAND, LUNCH BAG RED RETROSPOT, LUNCH BAG PINK POLKADOT, LUNCH BAG APPLE DESIGN]   \n",
       "JUMBO STORAGE BAG SUKI             [JUMBO STORAGE BAG SUKI, JUMBO BAG RED RETROSPOT, JUMBO SHOPPER VINTAGE RED PAISLEY, JUMBO BAG STRAWBERRY, JUMBO BAG BAROQUE BLACK WHITE, JUMBO BAG PINK VINTAGE PAISLEY, JUMBO BAG WOODLAND ANIMALS, JUMBO BAG OWLS, JUMBO BAG SPACEBOY DESIGN, JUMBO STORAGE BAG SKULLS, JUMBO BAG SCANDINAVIAN PAISLEY, JUMBO BAG TOYS]   \n",
       "COOK WITH WINE METAL SIGN                                                                                                                                                                                                                [COOK WITH WINE METAL SIGN, GIN + TONIC DIET METAL SIGN, HAND OVER THE CHOCOLATE SIGN, PLEASE ONE PERSON METAL SIGN]   \n",
       "60 TEATIME FAIRY CAKE CASES                                                                                                  [60 TEATIME FAIRY CAKE CASES, PACK OF 60 DINOSAUR CAKE CASES, 72 SWEETHEART FAIRY CAKE CASES, PACK OF 60 PINK PAISLEY CAKE CASES, PACK OF 72 SKULL CAKE CASES, PACK OF 60 SPACEBOY CAKE CASES, PACK OF 72 RETRO SPOT CAKE CASES]   \n",
       "CHOCOLATE HOT WATER BOTTLE                                                                                                                                                                                                     [CHOCOLATE HOT WATER BOTTLE, HOT WATER BOTTLE I AM SO POORLY, HOT WATER BOTTLE TEA AND SYMPATHY, SCOTTIE DOG HOT WATER BOTTLE]   \n",
       "PAPER CHAIN KIT VINTAGE CHRISTMAS                                                                                                                                                                                   [PAPER CHAIN KIT VINTAGE CHRISTMAS, SET OF 20 VINTAGE CHRISTMAS NAPKINS, 60 CAKE CASES VINTAGE CHRISTMAS, PAPER CHAIN KIT 50'S CHRISTMAS]   \n",
       "RED RETROSPOT CHARLOTTE BAG                                                                                                                                                                                           [RED RETROSPOT CHARLOTTE BAG, CHARLOTTE BAG SUKI DESIGN, STRAWBERRY CHARLOTTE BAG, WOODLAND CHARLOTTE BAG, CHARLOTTE BAG PINK POLKADOT]   \n",
       "PLASTERS IN TIN SPACEBOY                                                                                                                                                      [PLASTERS IN TIN SPACEBOY, PLASTERS IN TIN WOODLAND ANIMALS, PLASTERS IN TIN CIRCUS PARADE, PLASTERS IN TIN VINTAGE PAISLEY, PLASTERS IN TIN STRONGMAN, PLASTERS IN TIN SKULLS]   \n",
       "DOTCOM POSTAGE                                                                                                                                                                                                                       [DOTCOM POSTAGE, SMALL HEART MEASURING SPOONS, LARGE HEART MEASURING SPOONS, SUKI SHOULDER BAG, RECYCLING BAG RETROSPOT]   \n",
       "ALARM CLOCK BAKELIKE GREEN                                                                                                                                                                                                                      [ALARM CLOCK BAKELIKE GREEN, ALARM CLOCK BAKELIKE RED, ALARM CLOCK BAKELIKE PINK, ALARM CLOCK BAKELIKE IVORY]   \n",
       "HAND WARMER OWL DESIGN                                                                                                                                                                                                                               [HAND WARMER OWL DESIGN, HAND WARMER SCOTTY DOG DESIGN, HAND WARMER BIRD DESIGN, HAND WARMER UNION JACK]   \n",
       "RED STRIPE CERAMIC DRAWER KNOB                                                                                                                        [RED STRIPE CERAMIC DRAWER KNOB, BLUE SPOT CERAMIC DRAWER KNOB, BLUE STRIPE CERAMIC DRAWER KNOB, WHITE SPOT RED CERAMIC DRAWER KNOB, RED SPOT CERAMIC DRAWER KNOB, WHITE SPOT BLUE CERAMIC DRAWER KNOB]   \n",
       "\n",
       "                                   support_mean   n  \n",
       "category                                             \n",
       "LUNCH BAG BLACK SKULL.                 0.045582   8  \n",
       "JUMBO STORAGE BAG SUKI                 0.041373  12  \n",
       "COOK WITH WINE METAL SIGN              0.038382   4  \n",
       "60 TEATIME FAIRY CAKE CASES            0.037843   7  \n",
       "CHOCOLATE HOT WATER BOTTLE             0.036555   4  \n",
       "PAPER CHAIN KIT VINTAGE CHRISTMAS      0.033913   4  \n",
       "RED RETROSPOT CHARLOTTE BAG            0.031787   5  \n",
       "PLASTERS IN TIN SPACEBOY               0.028182   6  \n",
       "DOTCOM POSTAGE                         0.027749   5  \n",
       "ALARM CLOCK BAKELIKE GREEN             0.026491   4  \n",
       "HAND WARMER OWL DESIGN                 0.025614   4  \n",
       "RED STRIPE CERAMIC DRAWER KNOB         0.019089   6  "
      ]
     },
     "execution_count": 104,
     "metadata": {},
     "output_type": "execute_result"
    }
   ],
   "source": [
    "df_bundle_products.groupby('category').agg(\n",
    "    products=('nodes', 'unique'), \n",
    "    support_mean=('support', 'mean'), \n",
    "    n=('nodes', 'size')\n",
    ").sort_values('support_mean', ascending=False)"
   ]
  },
  {
   "cell_type": "markdown",
   "id": "752e72c2",
   "metadata": {
    "ExecuteTime": {
     "end_time": "2024-05-18T17:40:13.722270Z",
     "start_time": "2024-05-18T17:40:13.715286Z"
    },
    "deletable": false,
    "editable": false,
    "run_control": {
     "frozen": true
    }
   },
   "source": [
    "### Product Layout"
   ]
  },
  {
   "cell_type": "code",
   "execution_count": 97,
   "id": "0a25d82e",
   "metadata": {
    "ExecuteTime": {
     "end_time": "2024-05-19T04:31:29.389545Z",
     "start_time": "2024-05-19T04:31:29.377575Z"
    },
    "deletable": false,
    "editable": false
   },
   "outputs": [],
   "source": [
    "lunch_bag_bundles = df_bundle_products[df_bundle_products['category'].str.contains('LUNCH BAG BLACK SKULL.')]['nodes'].values"
   ]
  },
  {
   "cell_type": "code",
   "execution_count": 98,
   "id": "04203c10",
   "metadata": {
    "ExecuteTime": {
     "end_time": "2024-05-19T04:31:31.041064Z",
     "start_time": "2024-05-19T04:31:31.011627Z"
    },
    "deletable": false,
    "editable": false
   },
   "outputs": [],
   "source": [
    "tabular = MyHM.get_tabular_data(\n",
    "    lunch_bag_bundles, \n",
    "    'support',\n",
    "    max_col=10,\n",
    "    personal_placement=False\n",
    ")"
   ]
  },
  {
   "cell_type": "code",
   "execution_count": 100,
   "id": "da8009f2",
   "metadata": {
    "ExecuteTime": {
     "end_time": "2024-05-19T04:32:01.713199Z",
     "start_time": "2024-05-19T04:32:01.701232Z"
    },
    "deletable": false,
    "editable": false
   },
   "outputs": [],
   "source": [
    "# MyHM.plot_heatmap(tabular)"
   ]
  }
 ],
 "metadata": {
  "kernelspec": {
   "display_name": "Python 3 (ipykernel)",
   "language": "python",
   "name": "python3"
  },
  "language_info": {
   "codemirror_mode": {
    "name": "ipython",
    "version": 3
   },
   "file_extension": ".py",
   "mimetype": "text/x-python",
   "name": "python",
   "nbconvert_exporter": "python",
   "pygments_lexer": "ipython3",
   "version": "3.9.12"
  },
  "toc": {
   "base_numbering": 1,
   "nav_menu": {},
   "number_sections": true,
   "sideBar": true,
   "skip_h1_title": false,
   "title_cell": "Table of Contents",
   "title_sidebar": "Contents",
   "toc_cell": false,
   "toc_position": {},
   "toc_section_display": true,
   "toc_window_display": false
  },
  "varInspector": {
   "cols": {
    "lenName": 16,
    "lenType": 16,
    "lenVar": 40
   },
   "kernels_config": {
    "python": {
     "delete_cmd_postfix": "",
     "delete_cmd_prefix": "del ",
     "library": "var_list.py",
     "varRefreshCmd": "print(var_dic_list())"
    },
    "r": {
     "delete_cmd_postfix": ") ",
     "delete_cmd_prefix": "rm(",
     "library": "var_list.r",
     "varRefreshCmd": "cat(var_dic_list()) "
    }
   },
   "types_to_exclude": [
    "module",
    "function",
    "builtin_function_or_method",
    "instance",
    "_Feature"
   ],
   "window_display": false
  }
 },
 "nbformat": 4,
 "nbformat_minor": 5
}
