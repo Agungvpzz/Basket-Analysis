{
 "cells": [
  {
   "cell_type": "markdown",
   "id": "9242d52d",
   "metadata": {
    "ExecuteTime": {
     "end_time": "2024-05-18T05:35:27.442327Z",
     "start_time": "2024-05-18T05:35:27.427407Z"
    },
    "deletable": false,
    "editable": false,
    "run_control": {
     "frozen": true
    }
   },
   "source": [
    "## Data: Online Retail II"
   ]
  },
  {
   "cell_type": "markdown",
   "id": "85e4ffa9",
   "metadata": {
    "deletable": false,
    "editable": false,
    "run_control": {
     "frozen": true
    }
   },
   "source": [
    "This Online Retail II data set contains all the transactions occurring for a UK-based and registered, non-store online retail between 01/12/2009 and 09/12/2011.The company mainly sells unique all-occasion gift-ware. Many customers of the company are wholesalers.\n",
    "\n",
    "The dataset can be accessed at the following link: https://www.kaggle.com/datasets/mashlyn/online-retail-ii-uci/"
   ]
  },
  {
   "cell_type": "markdown",
   "id": "41f27dc7",
   "metadata": {
    "deletable": false,
    "editable": false,
    "run_control": {
     "frozen": true
    }
   },
   "source": [
    "Attribute Information:\n",
    "\n",
    "- InvoiceNo: Invoice number. Nominal. A 6-digit integral number uniquely assigned to each transaction. If this code starts with the letter 'c', it indicates a cancellation.\n",
    "- StockCode: Product (item) code. Nominal. A 5-digit integral number uniquely assigned to each distinct product.\n",
    "- Description: Product (item) name. Nominal.\n",
    "- Quantity: The quantities of each product (item) per transaction. Numeric.\n",
    "- InvoiceDate: Invice date and time. Numeric. The day and time when a transaction was generated.\n",
    "- UnitPrice: Unit price. Numeric. Product price per unit in sterling (Â£).\n",
    "- CustomerID: Customer number. Nominal. A 5-digit integral number uniquely assigned to each customer.\n",
    "- Country: Country name. Nominal. The name of the country where a customer resides."
   ]
  },
  {
   "cell_type": "markdown",
   "id": "cb352459",
   "metadata": {
    "ExecuteTime": {
     "end_time": "2024-05-18T05:29:05.477621Z",
     "start_time": "2024-05-18T05:29:05.467606Z"
    },
    "deletable": false,
    "editable": false,
    "run_control": {
     "frozen": true
    }
   },
   "source": [
    "## Business Goals"
   ]
  },
  {
   "cell_type": "markdown",
   "id": "09ebf44f",
   "metadata": {
    "deletable": false,
    "editable": false,
    "run_control": {
     "frozen": true
    }
   },
   "source": [
    "Market Basket Analysis is a data mining technique employed to discover relationships and patterns within large datasets, particularly in the context of market analysis. By identifying frequently co-occurring items in transactions, businesses can gain valuable insights into customer behavior, optimize product placement, and enhance overall marketing strategies."
   ]
  },
  {
   "cell_type": "markdown",
   "id": "c1667e72",
   "metadata": {
    "ExecuteTime": {
     "end_time": "2024-05-18T05:46:24.223558Z",
     "start_time": "2024-05-18T05:46:24.204608Z"
    },
    "deletable": false,
    "editable": false,
    "run_control": {
     "frozen": true
    }
   },
   "source": [
    "## Objectives"
   ]
  },
  {
   "cell_type": "markdown",
   "id": "d9090340",
   "metadata": {
    "deletable": false,
    "editable": false,
    "run_control": {
     "frozen": true
    }
   },
   "source": [
    "1. **Association Rule Discovery**:\n",
    "    Identify associations and correlations among products or items in a dataset. Discover rules that indicate the likelihood of certain items being bought together.\n",
    "2. **Cross-Selling Opportunities**:\n",
    "    Uncover opportunities for cross-selling by understanding which products are frequently purchased together.\n",
    "4. **Optimizing Product Layout**:\n",
    "    Arrange products in-store or online in a way that encourages the purchase of related items, creating a more convenient and satisfying shopping experience."
   ]
  },
  {
   "cell_type": "markdown",
   "id": "67806919",
   "metadata": {
    "ExecuteTime": {
     "end_time": "2024-05-19T07:04:19.628630Z",
     "start_time": "2024-05-19T07:04:19.611673Z"
    },
    "deletable": false,
    "editable": false,
    "run_control": {
     "frozen": true
    }
   },
   "source": [
    "## Methods"
   ]
  },
  {
   "cell_type": "markdown",
   "id": "9082d456",
   "metadata": {
    "deletable": false,
    "editable": false,
    "run_control": {
     "frozen": true
    }
   },
   "source": [
    "### Apriori algorithm "
   ]
  },
  {
   "cell_type": "markdown",
   "id": "ad9d61ac",
   "metadata": {
    "deletable": false,
    "editable": false,
    "run_control": {
     "frozen": true
    }
   },
   "source": [
    "- We utilize the Apriori algorithm for conducting market basket analysis.\n",
    "- This algorithm proves highly effective in discerning frequent itemsets and deriving association rules, relying on predefined metrics like support and confidence.\n",
    "- To execute the Apriori algorithm, we utilize the mlxtend library, a reliable Python library for machine learning extensions."
   ]
  },
  {
   "cell_type": "markdown",
   "id": "5d96a073",
   "metadata": {
    "ExecuteTime": {
     "end_time": "2024-05-18T09:36:01.700162Z",
     "start_time": "2024-05-18T09:36:01.691185Z"
    },
    "deletable": false,
    "editable": false,
    "run_control": {
     "frozen": true
    }
   },
   "source": [
    "### Key Metrics"
   ]
  },
  {
   "cell_type": "markdown",
   "id": "bf1c8565",
   "metadata": {
    "deletable": false,
    "editable": false,
    "run_control": {
     "frozen": true
    }
   },
   "source": [
    "- **Support** \n",
    "    - Support measures how frequently an association rule happens in a dataset.\n",
    "- **Confidence** \n",
    "    - Confidence measures how strong an association rule is. \n",
    "    - That is to say, in market basket analysis terms, how likely is a second product to be present in the basket if the first is.\n",
    "    - Confidence(A→B) = Support(A∪B)/Support(A)×100%\n",
    "    - Confidence(B→A) = Support(A∪B)/Support(B)×100%\n",
    "- **Lift**\n",
    "    - Lift measures how much more likely two items are to be bought together compared to being bought individually at random.\n",
    "    - Lift(A→B)= Support(A∪B)/Support(A)×Support(B)\n",
    "    - If Lift = 1, it means there is no association between A and B.\n",
    "    - If Lift > 1, it indicates that A and B are more likely to be bought together than randomly.\n",
    "    - If Lift < 1, it suggests that A and B are less likely to be bought together than randomly.\n",
    "- **Leverage**\n",
    "    - Leverage measures the difference between the observed frequency of A and B occurring together and the frequency that would be expected if A and B were statistically independent.\n",
    "    - Leverage(A→B)=Support(A∪B)−(Support(A)×Support(B))\n",
    "    - Positive leverage indicates that the items appear together more frequently than expected by chance.\n",
    "    - Zero leverage means the items occur together exactly as expected based on their individual supports.\n",
    "    - Negative leverage implies the items co-occur less frequently than expected.\n",
    "    \n",
    "- **Conviction**\n",
    "    - Conviction measures the ratio of the expected frequency that A occurs without B to the frequency that A occurs when B is present.\n",
    "    - Conviction(A→B)= 1−Support(B)/1−Confidence(A→B)\n",
    "    - Conviction(B→A)= 1−Support(A)/1−Confidence(B→A)\n",
    "    - If Conviction = 1, it means that A and B are independent of each other.\n",
    "    - If Conviction > 1, it suggests that the presence of B has increased the likelihood of A, indicating a strong association.\n",
    "    - If Conviction < 1, it indicates a negative association between A and B.\n",
    "- **Zhang’s metric**\n",
    "    - Measure that looks not only at positive associations, but also negative. It can says, for instances, if buying A makes someone NOT buy B.\n",
    "    - Value: < 0 if there’s a negative association (dissociation), > 0 if there’s a positive association where -1 and 1 are the extreme values."
   ]
  },
  {
   "cell_type": "markdown",
   "id": "e1db74d1",
   "metadata": {
    "ExecuteTime": {
     "end_time": "2024-05-18T09:53:22.297550Z",
     "start_time": "2024-05-18T09:53:22.277469Z"
    },
    "deletable": false,
    "editable": false,
    "run_control": {
     "frozen": true
    }
   },
   "source": [
    "## Environment Setup"
   ]
  },
  {
   "cell_type": "code",
   "execution_count": 1,
   "id": "ec605fa7",
   "metadata": {
    "ExecuteTime": {
     "end_time": "2024-05-20T01:22:46.475446Z",
     "start_time": "2024-05-20T01:22:07.265336Z"
    },
    "deletable": false,
    "editable": false
   },
   "outputs": [],
   "source": [
    "import os\n",
    "import re\n",
    "\n",
    "import pandas as pd\n",
    "import numpy as np\n",
    "\n",
    "import plotly.express as px\n",
    "import networkx as nx\n",
    "\n",
    "import json\n",
    "import copy"
   ]
  },
  {
   "cell_type": "code",
   "execution_count": 2,
   "id": "b404a743",
   "metadata": {
    "ExecuteTime": {
     "end_time": "2024-05-20T01:25:00.506900Z",
     "start_time": "2024-05-20T01:24:42.554688Z"
    },
    "deletable": false,
    "editable": false
   },
   "outputs": [],
   "source": [
    "from mlxtend.frequent_patterns import apriori\n",
    "from mlxtend.frequent_patterns import association_rules\n",
    "from mlxtend.preprocessing import TransactionEncoder"
   ]
  },
  {
   "cell_type": "code",
   "execution_count": 3,
   "id": "8e9a6390",
   "metadata": {
    "ExecuteTime": {
     "end_time": "2024-05-20T01:25:01.826612Z",
     "start_time": "2024-05-20T01:25:01.229319Z"
    },
    "deletable": false,
    "editable": false
   },
   "outputs": [],
   "source": [
    "from networks.RulesGraphManager import RulesGraphManager as RGM\n",
    "from networks.ProductNetwork import ProductNetwork\n",
    "from networks.CrossSellingProducts import CrossSellingProducts\n",
    "\n",
    "from grouper.NxGrouper import NxGrouper\n",
    "from charts.HeatmapXTab import HeatmapCrosstab\n",
    "\n",
    "from echarts.EgraphForce import EgraphForce\n",
    "from echarts.EgraphStandard import EgraphStandard\n",
    "from echarts.JupyterEcharts import JupyterEcharts"
   ]
  },
  {
   "cell_type": "code",
   "execution_count": 4,
   "id": "3cafa265",
   "metadata": {
    "ExecuteTime": {
     "end_time": "2024-05-20T01:25:57.203506Z",
     "start_time": "2024-05-20T01:25:57.193531Z"
    },
    "deletable": false,
    "editable": false
   },
   "outputs": [],
   "source": [
    "pd.set_option('display.max_rows', 100)\n",
    "pd.set_option('display.max_colwidth', None)"
   ]
  },
  {
   "cell_type": "markdown",
   "id": "a0b11721",
   "metadata": {
    "ExecuteTime": {
     "end_time": "2024-05-14T09:36:09.727344Z",
     "start_time": "2024-05-14T09:36:09.718369Z"
    },
    "deletable": false,
    "editable": false,
    "run_control": {
     "frozen": true
    }
   },
   "source": [
    "## Data Preparation"
   ]
  },
  {
   "cell_type": "markdown",
   "id": "068c10ad",
   "metadata": {
    "ExecuteTime": {
     "end_time": "2024-05-18T09:54:11.356484Z",
     "start_time": "2024-05-18T09:54:11.346511Z"
    },
    "deletable": false,
    "editable": false,
    "run_control": {
     "frozen": true
    }
   },
   "source": [
    "### Load Dataset"
   ]
  },
  {
   "cell_type": "code",
   "execution_count": 5,
   "id": "1e40b0c7",
   "metadata": {
    "ExecuteTime": {
     "end_time": "2024-05-20T01:26:50.856577Z",
     "start_time": "2024-05-20T01:26:49.270649Z"
    },
    "deletable": false,
    "editable": false
   },
   "outputs": [],
   "source": [
    "pathname = os.path.join(\"F:\\\\Data\\\\datas\", \"online_retail_II.csv\")\n",
    "df = pd.read_csv(pathname, usecols=['Invoice', 'Description'])"
   ]
  },
  {
   "cell_type": "code",
   "execution_count": 6,
   "id": "8806a745",
   "metadata": {
    "ExecuteTime": {
     "end_time": "2024-05-20T01:26:53.730654Z",
     "start_time": "2024-05-20T01:26:53.712911Z"
    },
    "deletable": false,
    "editable": false
   },
   "outputs": [
    {
     "data": {
      "text/plain": [
       "(1067371, 2)"
      ]
     },
     "execution_count": 6,
     "metadata": {},
     "output_type": "execute_result"
    }
   ],
   "source": [
    "df.shape"
   ]
  },
  {
   "cell_type": "markdown",
   "id": "dee3cedd",
   "metadata": {
    "ExecuteTime": {
     "end_time": "2024-05-18T10:00:31.403552Z",
     "start_time": "2024-05-18T10:00:31.384111Z"
    },
    "deletable": false,
    "editable": false,
    "run_control": {
     "frozen": true
    }
   },
   "source": [
    "### Data Cleaning"
   ]
  },
  {
   "cell_type": "markdown",
   "id": "7dc966a8",
   "metadata": {
    "ExecuteTime": {
     "end_time": "2024-05-18T10:00:58.152476Z",
     "start_time": "2024-05-18T10:00:58.144499Z"
    },
    "deletable": false,
    "editable": false,
    "run_control": {
     "frozen": true
    }
   },
   "source": [
    "#### Drop missing values"
   ]
  },
  {
   "cell_type": "code",
   "execution_count": 7,
   "id": "56497b6d",
   "metadata": {
    "ExecuteTime": {
     "end_time": "2024-05-20T01:26:56.614775Z",
     "start_time": "2024-05-20T01:26:56.390669Z"
    },
    "deletable": false,
    "editable": false
   },
   "outputs": [
    {
     "data": {
      "text/plain": [
       "Invoice           0\n",
       "Description    4382\n",
       "dtype: int64"
      ]
     },
     "execution_count": 7,
     "metadata": {},
     "output_type": "execute_result"
    }
   ],
   "source": [
    "df.isna().sum()"
   ]
  },
  {
   "cell_type": "code",
   "execution_count": 8,
   "id": "2c28fc06",
   "metadata": {
    "ExecuteTime": {
     "end_time": "2024-05-20T01:26:57.498422Z",
     "start_time": "2024-05-20T01:26:57.166339Z"
    },
    "deletable": false,
    "editable": false
   },
   "outputs": [],
   "source": [
    "df = df.dropna()"
   ]
  },
  {
   "cell_type": "markdown",
   "id": "bfc26627",
   "metadata": {
    "ExecuteTime": {
     "end_time": "2024-05-18T11:07:29.930066Z",
     "start_time": "2024-05-18T11:07:29.915106Z"
    },
    "deletable": false,
    "editable": false,
    "run_control": {
     "frozen": true
    }
   },
   "source": [
    "#### Trim space in description column"
   ]
  },
  {
   "cell_type": "code",
   "execution_count": 9,
   "id": "8ae47296",
   "metadata": {
    "ExecuteTime": {
     "end_time": "2024-05-20T01:27:01.043509Z",
     "start_time": "2024-05-20T01:26:59.250079Z"
    },
    "deletable": false,
    "editable": false
   },
   "outputs": [],
   "source": [
    "df['Description'] = df['Description'].str.strip()\n",
    "df['Description'] = df['Description'].replace(r'\\s{2,}', ' ', regex=True)"
   ]
  },
  {
   "cell_type": "markdown",
   "id": "04bccece",
   "metadata": {
    "ExecuteTime": {
     "end_time": "2024-05-18T10:03:36.441044Z",
     "start_time": "2024-05-18T10:03:36.431030Z"
    },
    "deletable": false,
    "editable": false,
    "run_control": {
     "frozen": true
    }
   },
   "source": [
    "#### Drop duplicate rows"
   ]
  },
  {
   "cell_type": "markdown",
   "id": "f0fad340",
   "metadata": {
    "deletable": false,
    "editable": false,
    "run_control": {
     "frozen": true
    }
   },
   "source": [
    "There are two possible reasons for duplicate rows. \n",
    "1. The cashier might have scanned each product individually instead of scanning once and entering the quantity, resulting in multiple entries for each product on the invoice. \n",
    "2. The cashier might have accidentally scanned the same product twice. \n",
    "\n",
    "- **Decision process**: \n",
    "    - The first scenario is more common, so we assume that the duplicate rows are not mistakes.\n",
    "    - But, since Apriori algorithm assumes that each item in each transaction is a binary occurrence, meaning it considers whether an item is present or not, but not the quantity of the item, so we decide to drop duplicate rows.\n",
    "<br>\n",
    "- **Action**: We drop duplicate rows"
   ]
  },
  {
   "cell_type": "code",
   "execution_count": 10,
   "id": "d26a8f34",
   "metadata": {
    "ExecuteTime": {
     "end_time": "2024-05-20T01:27:10.548361Z",
     "start_time": "2024-05-20T01:27:10.099972Z"
    },
    "deletable": false,
    "editable": false
   },
   "outputs": [
    {
     "data": {
      "text/plain": [
       "(46678, 2)"
      ]
     },
     "execution_count": 10,
     "metadata": {},
     "output_type": "execute_result"
    }
   ],
   "source": [
    "df.loc[df.duplicated()].shape"
   ]
  },
  {
   "cell_type": "code",
   "execution_count": 11,
   "id": "8470990c",
   "metadata": {
    "ExecuteTime": {
     "end_time": "2024-05-20T01:27:11.669573Z",
     "start_time": "2024-05-20T01:27:11.276032Z"
    },
    "deletable": false,
    "editable": false
   },
   "outputs": [],
   "source": [
    "df = df.loc[~df.duplicated()]"
   ]
  },
  {
   "cell_type": "code",
   "execution_count": 12,
   "id": "0453ff78",
   "metadata": {
    "ExecuteTime": {
     "end_time": "2024-05-20T01:27:12.304952Z",
     "start_time": "2024-05-20T01:27:12.288955Z"
    },
    "deletable": false,
    "editable": false
   },
   "outputs": [
    {
     "data": {
      "text/plain": [
       "(1016311, 2)"
      ]
     },
     "execution_count": 12,
     "metadata": {},
     "output_type": "execute_result"
    }
   ],
   "source": [
    "df.shape"
   ]
  },
  {
   "cell_type": "markdown",
   "id": "4525c24f",
   "metadata": {
    "ExecuteTime": {
     "end_time": "2024-05-14T09:43:32.197739Z",
     "start_time": "2024-05-14T09:43:32.188763Z"
    },
    "deletable": false,
    "editable": false,
    "run_control": {
     "frozen": true
    }
   },
   "source": [
    "#### Drop cancelation invoice rows"
   ]
  },
  {
   "cell_type": "code",
   "execution_count": 13,
   "id": "ac8c3796",
   "metadata": {
    "ExecuteTime": {
     "end_time": "2024-05-20T01:27:15.341945Z",
     "start_time": "2024-05-20T01:27:15.008135Z"
    },
    "deletable": false,
    "editable": false
   },
   "outputs": [
    {
     "data": {
      "text/plain": [
       "(18901, 2)"
      ]
     },
     "execution_count": 13,
     "metadata": {},
     "output_type": "execute_result"
    }
   ],
   "source": [
    "df[df['Invoice'].str.startswith('C')].shape"
   ]
  },
  {
   "cell_type": "code",
   "execution_count": 14,
   "id": "d9da9dfa",
   "metadata": {
    "ExecuteTime": {
     "end_time": "2024-05-20T01:27:16.396469Z",
     "start_time": "2024-05-20T01:27:16.051322Z"
    },
    "deletable": false,
    "editable": false
   },
   "outputs": [],
   "source": [
    "df = df[~df['Invoice'].str.startswith('C')]"
   ]
  },
  {
   "cell_type": "code",
   "execution_count": 15,
   "id": "26831374",
   "metadata": {
    "ExecuteTime": {
     "end_time": "2024-05-20T01:27:16.966693Z",
     "start_time": "2024-05-20T01:27:16.956720Z"
    },
    "deletable": false,
    "editable": false
   },
   "outputs": [
    {
     "data": {
      "text/plain": [
       "(997410, 2)"
      ]
     },
     "execution_count": 15,
     "metadata": {},
     "output_type": "execute_result"
    }
   ],
   "source": [
    "df.shape"
   ]
  },
  {
   "cell_type": "markdown",
   "id": "e0d2b703",
   "metadata": {
    "ExecuteTime": {
     "end_time": "2024-05-14T09:39:53.800328Z",
     "start_time": "2024-05-14T09:39:53.734564Z"
    },
    "deletable": false,
    "editable": false,
    "run_control": {
     "frozen": true
    }
   },
   "source": [
    "### Data Encoding"
   ]
  },
  {
   "cell_type": "code",
   "execution_count": 16,
   "id": "a2785ea9",
   "metadata": {
    "ExecuteTime": {
     "end_time": "2024-05-20T01:27:27.502127Z",
     "start_time": "2024-05-20T01:27:26.595956Z"
    },
    "deletable": false,
    "editable": false
   },
   "outputs": [],
   "source": [
    "dfs = df.copy()\n",
    "dfs['Description'] = dfs['Description'].transform(lambda x: [x])"
   ]
  },
  {
   "cell_type": "code",
   "execution_count": 17,
   "id": "a6c620ad",
   "metadata": {
    "ExecuteTime": {
     "end_time": "2024-05-20T01:27:29.407275Z",
     "start_time": "2024-05-20T01:27:28.852080Z"
    },
    "deletable": false,
    "editable": false
   },
   "outputs": [],
   "source": [
    "dfs = dfs.groupby('Invoice')['Description'].sum() # use this, because we already dropped duplicate rows\n",
    "# dfs = dfs.groupby('Invoice')['Description'].sum().map(lambda x: list(set(x)))\n",
    "# df.groupby('Invoice')['Description'].unique() # this code is slow"
   ]
  },
  {
   "cell_type": "code",
   "execution_count": 18,
   "id": "05d98c66",
   "metadata": {
    "ExecuteTime": {
     "end_time": "2024-05-20T01:27:30.967671Z",
     "start_time": "2024-05-20T01:27:30.310346Z"
    },
    "deletable": false,
    "editable": false
   },
   "outputs": [],
   "source": [
    "encoder = TransactionEncoder()\n",
    "df_encoder = encoder.fit(dfs).transform(dfs)"
   ]
  },
  {
   "cell_type": "code",
   "execution_count": 19,
   "id": "ad097a03",
   "metadata": {
    "ExecuteTime": {
     "end_time": "2024-05-20T01:27:31.649591Z",
     "start_time": "2024-05-20T01:27:31.637277Z"
    },
    "deletable": false,
    "editable": false
   },
   "outputs": [
    {
     "data": {
      "text/plain": [
       "array([[False, False, False, ..., False, False, False],\n",
       "       [False, False, False, ..., False, False, False],\n",
       "       [False, False, False, ..., False, False, False],\n",
       "       [False, False, False, ..., False, False, False],\n",
       "       [False, False, False, ..., False, False, False]])"
      ]
     },
     "execution_count": 19,
     "metadata": {},
     "output_type": "execute_result"
    }
   ],
   "source": [
    "df_encoder[:5]"
   ]
  },
  {
   "cell_type": "code",
   "execution_count": 20,
   "id": "d553deb4",
   "metadata": {
    "ExecuteTime": {
     "end_time": "2024-05-20T01:27:34.037937Z",
     "start_time": "2024-05-20T01:27:34.025381Z"
    },
    "deletable": false,
    "editable": false
   },
   "outputs": [],
   "source": [
    "one_hot_transactions = pd.DataFrame(df_encoder, columns=encoder.columns_)"
   ]
  },
  {
   "cell_type": "code",
   "execution_count": 21,
   "id": "0af24919",
   "metadata": {
    "ExecuteTime": {
     "end_time": "2024-05-20T01:27:35.017942Z",
     "start_time": "2024-05-20T01:27:34.749180Z"
    },
    "collapsed": true,
    "deletable": false,
    "editable": false
   },
   "outputs": [
    {
     "data": {
      "text/html": [
       "<div>\n",
       "<style scoped>\n",
       "    .dataframe tbody tr th:only-of-type {\n",
       "        vertical-align: middle;\n",
       "    }\n",
       "\n",
       "    .dataframe tbody tr th {\n",
       "        vertical-align: top;\n",
       "    }\n",
       "\n",
       "    .dataframe thead th {\n",
       "        text-align: right;\n",
       "    }\n",
       "</style>\n",
       "<table border=\"1\" class=\"dataframe\">\n",
       "  <thead>\n",
       "    <tr style=\"text-align: right;\">\n",
       "      <th></th>\n",
       "      <th>*Boombox Ipod Classic</th>\n",
       "      <th>*USB Office Glitter Lamp</th>\n",
       "      <th>*USB Office Mirror Ball</th>\n",
       "      <th>10 COLOUR SPACEBOY PEN</th>\n",
       "      <th>11 PC CERAMIC TEA SET POLKADOT</th>\n",
       "      <th>12 ASS ZINC CHRISTMAS DECORATIONS</th>\n",
       "      <th>12 COLOURED PARTY BALLOONS</th>\n",
       "      <th>12 DAISY PEGS IN WOOD BOX</th>\n",
       "      <th>12 EGG HOUSE PAINTED WOOD</th>\n",
       "      <th>12 HANGING EGGS HAND PAINTED</th>\n",
       "      <th>...</th>\n",
       "      <th>wrongly coded 20713</th>\n",
       "      <th>wrongly coded 23343</th>\n",
       "      <th>wrongly coded-23343</th>\n",
       "      <th>wrongly marked</th>\n",
       "      <th>wrongly marked 23343</th>\n",
       "      <th>wrongly marked carton 22804</th>\n",
       "      <th>wrongly marked. 23343 in box</th>\n",
       "      <th>wrongly sold (22719) barcode</th>\n",
       "      <th>wrongly sold as sets</th>\n",
       "      <th>wrongly sold sets</th>\n",
       "    </tr>\n",
       "  </thead>\n",
       "  <tbody>\n",
       "    <tr>\n",
       "      <th>0</th>\n",
       "      <td>False</td>\n",
       "      <td>False</td>\n",
       "      <td>False</td>\n",
       "      <td>False</td>\n",
       "      <td>False</td>\n",
       "      <td>False</td>\n",
       "      <td>False</td>\n",
       "      <td>False</td>\n",
       "      <td>False</td>\n",
       "      <td>False</td>\n",
       "      <td>...</td>\n",
       "      <td>False</td>\n",
       "      <td>False</td>\n",
       "      <td>False</td>\n",
       "      <td>False</td>\n",
       "      <td>False</td>\n",
       "      <td>False</td>\n",
       "      <td>False</td>\n",
       "      <td>False</td>\n",
       "      <td>False</td>\n",
       "      <td>False</td>\n",
       "    </tr>\n",
       "    <tr>\n",
       "      <th>1</th>\n",
       "      <td>False</td>\n",
       "      <td>False</td>\n",
       "      <td>False</td>\n",
       "      <td>False</td>\n",
       "      <td>False</td>\n",
       "      <td>False</td>\n",
       "      <td>False</td>\n",
       "      <td>False</td>\n",
       "      <td>False</td>\n",
       "      <td>False</td>\n",
       "      <td>...</td>\n",
       "      <td>False</td>\n",
       "      <td>False</td>\n",
       "      <td>False</td>\n",
       "      <td>False</td>\n",
       "      <td>False</td>\n",
       "      <td>False</td>\n",
       "      <td>False</td>\n",
       "      <td>False</td>\n",
       "      <td>False</td>\n",
       "      <td>False</td>\n",
       "    </tr>\n",
       "    <tr>\n",
       "      <th>2</th>\n",
       "      <td>False</td>\n",
       "      <td>False</td>\n",
       "      <td>False</td>\n",
       "      <td>False</td>\n",
       "      <td>False</td>\n",
       "      <td>False</td>\n",
       "      <td>False</td>\n",
       "      <td>False</td>\n",
       "      <td>False</td>\n",
       "      <td>False</td>\n",
       "      <td>...</td>\n",
       "      <td>False</td>\n",
       "      <td>False</td>\n",
       "      <td>False</td>\n",
       "      <td>False</td>\n",
       "      <td>False</td>\n",
       "      <td>False</td>\n",
       "      <td>False</td>\n",
       "      <td>False</td>\n",
       "      <td>False</td>\n",
       "      <td>False</td>\n",
       "    </tr>\n",
       "    <tr>\n",
       "      <th>3</th>\n",
       "      <td>False</td>\n",
       "      <td>False</td>\n",
       "      <td>False</td>\n",
       "      <td>False</td>\n",
       "      <td>False</td>\n",
       "      <td>False</td>\n",
       "      <td>False</td>\n",
       "      <td>False</td>\n",
       "      <td>False</td>\n",
       "      <td>False</td>\n",
       "      <td>...</td>\n",
       "      <td>False</td>\n",
       "      <td>False</td>\n",
       "      <td>False</td>\n",
       "      <td>False</td>\n",
       "      <td>False</td>\n",
       "      <td>False</td>\n",
       "      <td>False</td>\n",
       "      <td>False</td>\n",
       "      <td>False</td>\n",
       "      <td>False</td>\n",
       "    </tr>\n",
       "    <tr>\n",
       "      <th>4</th>\n",
       "      <td>False</td>\n",
       "      <td>False</td>\n",
       "      <td>False</td>\n",
       "      <td>False</td>\n",
       "      <td>False</td>\n",
       "      <td>False</td>\n",
       "      <td>False</td>\n",
       "      <td>False</td>\n",
       "      <td>False</td>\n",
       "      <td>False</td>\n",
       "      <td>...</td>\n",
       "      <td>False</td>\n",
       "      <td>False</td>\n",
       "      <td>False</td>\n",
       "      <td>False</td>\n",
       "      <td>False</td>\n",
       "      <td>False</td>\n",
       "      <td>False</td>\n",
       "      <td>False</td>\n",
       "      <td>False</td>\n",
       "      <td>False</td>\n",
       "    </tr>\n",
       "  </tbody>\n",
       "</table>\n",
       "<p>5 rows × 5628 columns</p>\n",
       "</div>"
      ],
      "text/plain": [
       "   *Boombox Ipod Classic  *USB Office Glitter Lamp  *USB Office Mirror Ball  \\\n",
       "0                  False                     False                    False   \n",
       "1                  False                     False                    False   \n",
       "2                  False                     False                    False   \n",
       "3                  False                     False                    False   \n",
       "4                  False                     False                    False   \n",
       "\n",
       "   10 COLOUR SPACEBOY PEN  11 PC CERAMIC TEA SET POLKADOT  \\\n",
       "0                   False                           False   \n",
       "1                   False                           False   \n",
       "2                   False                           False   \n",
       "3                   False                           False   \n",
       "4                   False                           False   \n",
       "\n",
       "   12 ASS ZINC CHRISTMAS DECORATIONS  12 COLOURED PARTY BALLOONS  \\\n",
       "0                              False                       False   \n",
       "1                              False                       False   \n",
       "2                              False                       False   \n",
       "3                              False                       False   \n",
       "4                              False                       False   \n",
       "\n",
       "   12 DAISY PEGS IN WOOD BOX  12 EGG HOUSE PAINTED WOOD  \\\n",
       "0                      False                      False   \n",
       "1                      False                      False   \n",
       "2                      False                      False   \n",
       "3                      False                      False   \n",
       "4                      False                      False   \n",
       "\n",
       "   12 HANGING EGGS HAND PAINTED  ...  wrongly coded 20713  \\\n",
       "0                         False  ...                False   \n",
       "1                         False  ...                False   \n",
       "2                         False  ...                False   \n",
       "3                         False  ...                False   \n",
       "4                         False  ...                False   \n",
       "\n",
       "   wrongly coded 23343  wrongly coded-23343  wrongly marked  \\\n",
       "0                False                False           False   \n",
       "1                False                False           False   \n",
       "2                False                False           False   \n",
       "3                False                False           False   \n",
       "4                False                False           False   \n",
       "\n",
       "   wrongly marked 23343  wrongly marked carton 22804  \\\n",
       "0                 False                        False   \n",
       "1                 False                        False   \n",
       "2                 False                        False   \n",
       "3                 False                        False   \n",
       "4                 False                        False   \n",
       "\n",
       "   wrongly marked. 23343 in box  wrongly sold (22719) barcode  \\\n",
       "0                         False                         False   \n",
       "1                         False                         False   \n",
       "2                         False                         False   \n",
       "3                         False                         False   \n",
       "4                         False                         False   \n",
       "\n",
       "   wrongly sold as sets  wrongly sold sets  \n",
       "0                 False              False  \n",
       "1                 False              False  \n",
       "2                 False              False  \n",
       "3                 False              False  \n",
       "4                 False              False  \n",
       "\n",
       "[5 rows x 5628 columns]"
      ]
     },
     "execution_count": 21,
     "metadata": {},
     "output_type": "execute_result"
    }
   ],
   "source": [
    "one_hot_transactions.head()"
   ]
  },
  {
   "cell_type": "markdown",
   "id": "8ca6f29a",
   "metadata": {
    "ExecuteTime": {
     "end_time": "2024-05-14T09:39:39.738482Z",
     "start_time": "2024-05-14T09:39:39.721606Z"
    },
    "deletable": false,
    "editable": false,
    "run_control": {
     "frozen": true
    }
   },
   "source": [
    "## Data Mining (Rules Extraction)"
   ]
  },
  {
   "cell_type": "markdown",
   "id": "a962aea9",
   "metadata": {
    "deletable": false,
    "editable": false,
    "run_control": {
     "frozen": true
    }
   },
   "source": [
    "- The following parameters are configured for the algorithm:\n",
    "    - Maximum Combination Length\n",
    "        - We set the maximum combination length to 2 items.\n",
    "        - This choice is made to focus on pairs of items, allowing for a more targeted analysis of co-occurrences.\n",
    "    - Minimum Occurance Product\n",
    "        - We set the minimum support threshold at 1% to focus on the most commonly purchased products\n",
    "    - Minimum Co-Occurrence Support Threshold        \n",
    "        - A minimum co-occurrence support threshold of 1% is established to filter out infrequent itemsets. \n",
    "        - This ensures that only associations with a significant presence in the dataset are considered."
   ]
  },
  {
   "cell_type": "code",
   "execution_count": 22,
   "id": "06a0eae5",
   "metadata": {
    "ExecuteTime": {
     "end_time": "2024-05-20T01:27:41.976644Z",
     "start_time": "2024-05-20T01:27:39.191025Z"
    },
    "deletable": false,
    "editable": false
   },
   "outputs": [],
   "source": [
    "frequent_itemsets = apriori(one_hot_transactions, min_support= 0.01, use_colnames=True, max_len = 2, low_memory=True)\n",
    "rules = association_rules(frequent_itemsets, metric=\"support\", min_threshold = 0.01)"
   ]
  },
  {
   "cell_type": "code",
   "execution_count": 23,
   "id": "fbaca930",
   "metadata": {
    "ExecuteTime": {
     "end_time": "2024-05-20T01:27:49.451855Z",
     "start_time": "2024-05-20T01:27:49.438201Z"
    },
    "deletable": false,
    "editable": false
   },
   "outputs": [],
   "source": [
    "rules['antecedents'] = rules['antecedents'].map(lambda x: ''.join(list(x)))\n",
    "rules['consequents'] = rules['consequents'].map(lambda x: ''.join(list(x)))"
   ]
  },
  {
   "cell_type": "code",
   "execution_count": 24,
   "id": "f6b29023",
   "metadata": {
    "ExecuteTime": {
     "end_time": "2024-05-20T01:27:50.811763Z",
     "start_time": "2024-05-20T01:27:50.797165Z"
    },
    "deletable": false,
    "editable": false
   },
   "outputs": [
    {
     "data": {
      "text/plain": [
       "(642, 10)"
      ]
     },
     "execution_count": 24,
     "metadata": {},
     "output_type": "execute_result"
    }
   ],
   "source": [
    "rules.shape"
   ]
  },
  {
   "cell_type": "code",
   "execution_count": 25,
   "id": "b8c775e8",
   "metadata": {
    "ExecuteTime": {
     "end_time": "2024-05-20T01:27:51.552742Z",
     "start_time": "2024-05-20T01:27:51.478603Z"
    },
    "collapsed": true,
    "deletable": false,
    "editable": false
   },
   "outputs": [
    {
     "data": {
      "text/html": [
       "<div>\n",
       "<style scoped>\n",
       "    .dataframe tbody tr th:only-of-type {\n",
       "        vertical-align: middle;\n",
       "    }\n",
       "\n",
       "    .dataframe tbody tr th {\n",
       "        vertical-align: top;\n",
       "    }\n",
       "\n",
       "    .dataframe thead th {\n",
       "        text-align: right;\n",
       "    }\n",
       "</style>\n",
       "<table border=\"1\" class=\"dataframe\">\n",
       "  <thead>\n",
       "    <tr style=\"text-align: right;\">\n",
       "      <th></th>\n",
       "      <th>antecedents</th>\n",
       "      <th>consequents</th>\n",
       "      <th>antecedent support</th>\n",
       "      <th>consequent support</th>\n",
       "      <th>support</th>\n",
       "      <th>confidence</th>\n",
       "      <th>lift</th>\n",
       "      <th>leverage</th>\n",
       "      <th>conviction</th>\n",
       "      <th>zhangs_metric</th>\n",
       "    </tr>\n",
       "  </thead>\n",
       "  <tbody>\n",
       "    <tr>\n",
       "      <th>566</th>\n",
       "      <td>WHITE HANGING HEART T-LIGHT HOLDER</td>\n",
       "      <td>RED HANGING HEART T-LIGHT HOLDER</td>\n",
       "      <td>0.132973</td>\n",
       "      <td>0.042863</td>\n",
       "      <td>0.030199</td>\n",
       "      <td>0.227106</td>\n",
       "      <td>5.298414</td>\n",
       "      <td>0.024499</td>\n",
       "      <td>1.238381</td>\n",
       "      <td>0.935685</td>\n",
       "    </tr>\n",
       "    <tr>\n",
       "      <th>567</th>\n",
       "      <td>RED HANGING HEART T-LIGHT HOLDER</td>\n",
       "      <td>WHITE HANGING HEART T-LIGHT HOLDER</td>\n",
       "      <td>0.042863</td>\n",
       "      <td>0.132973</td>\n",
       "      <td>0.030199</td>\n",
       "      <td>0.704545</td>\n",
       "      <td>5.298414</td>\n",
       "      <td>0.024499</td>\n",
       "      <td>2.934553</td>\n",
       "      <td>0.847595</td>\n",
       "    </tr>\n",
       "    <tr>\n",
       "      <th>637</th>\n",
       "      <td>WOODEN PICTURE FRAME WHITE FINISH</td>\n",
       "      <td>WOODEN FRAME ANTIQUE WHITE</td>\n",
       "      <td>0.048854</td>\n",
       "      <td>0.050145</td>\n",
       "      <td>0.027130</td>\n",
       "      <td>0.555334</td>\n",
       "      <td>11.074584</td>\n",
       "      <td>0.024681</td>\n",
       "      <td>2.136109</td>\n",
       "      <td>0.956429</td>\n",
       "    </tr>\n",
       "    <tr>\n",
       "      <th>636</th>\n",
       "      <td>WOODEN FRAME ANTIQUE WHITE</td>\n",
       "      <td>WOODEN PICTURE FRAME WHITE FINISH</td>\n",
       "      <td>0.050145</td>\n",
       "      <td>0.048854</td>\n",
       "      <td>0.027130</td>\n",
       "      <td>0.541039</td>\n",
       "      <td>11.074584</td>\n",
       "      <td>0.024681</td>\n",
       "      <td>2.072391</td>\n",
       "      <td>0.957728</td>\n",
       "    </tr>\n",
       "    <tr>\n",
       "      <th>297</th>\n",
       "      <td>JUMBO BAG RED RETROSPOT</td>\n",
       "      <td>JUMBO STORAGE BAG SUKI</td>\n",
       "      <td>0.079711</td>\n",
       "      <td>0.056745</td>\n",
       "      <td>0.026692</td>\n",
       "      <td>0.334861</td>\n",
       "      <td>5.901170</td>\n",
       "      <td>0.022169</td>\n",
       "      <td>1.418132</td>\n",
       "      <td>0.902479</td>\n",
       "    </tr>\n",
       "  </tbody>\n",
       "</table>\n",
       "</div>"
      ],
      "text/plain": [
       "                            antecedents                         consequents  \\\n",
       "566  WHITE HANGING HEART T-LIGHT HOLDER    RED HANGING HEART T-LIGHT HOLDER   \n",
       "567    RED HANGING HEART T-LIGHT HOLDER  WHITE HANGING HEART T-LIGHT HOLDER   \n",
       "637   WOODEN PICTURE FRAME WHITE FINISH          WOODEN FRAME ANTIQUE WHITE   \n",
       "636          WOODEN FRAME ANTIQUE WHITE   WOODEN PICTURE FRAME WHITE FINISH   \n",
       "297             JUMBO BAG RED RETROSPOT              JUMBO STORAGE BAG SUKI   \n",
       "\n",
       "     antecedent support  consequent support   support  confidence       lift  \\\n",
       "566            0.132973            0.042863  0.030199    0.227106   5.298414   \n",
       "567            0.042863            0.132973  0.030199    0.704545   5.298414   \n",
       "637            0.048854            0.050145  0.027130    0.555334  11.074584   \n",
       "636            0.050145            0.048854  0.027130    0.541039  11.074584   \n",
       "297            0.079711            0.056745  0.026692    0.334861   5.901170   \n",
       "\n",
       "     leverage  conviction  zhangs_metric  \n",
       "566  0.024499    1.238381       0.935685  \n",
       "567  0.024499    2.934553       0.847595  \n",
       "637  0.024681    2.136109       0.956429  \n",
       "636  0.024681    2.072391       0.957728  \n",
       "297  0.022169    1.418132       0.902479  "
      ]
     },
     "execution_count": 25,
     "metadata": {},
     "output_type": "execute_result"
    }
   ],
   "source": [
    "rules.sort_values('support', ascending=False).head(5)"
   ]
  },
  {
   "cell_type": "code",
   "execution_count": 38,
   "id": "6d53b135",
   "metadata": {
    "ExecuteTime": {
     "end_time": "2024-05-20T04:09:31.339776Z",
     "start_time": "2024-05-20T04:09:31.294774Z"
    },
    "collapsed": true,
    "deletable": false,
    "editable": false
   },
   "outputs": [
    {
     "data": {
      "text/html": [
       "<div>\n",
       "<style scoped>\n",
       "    .dataframe tbody tr th:only-of-type {\n",
       "        vertical-align: middle;\n",
       "    }\n",
       "\n",
       "    .dataframe tbody tr th {\n",
       "        vertical-align: top;\n",
       "    }\n",
       "\n",
       "    .dataframe thead th {\n",
       "        text-align: right;\n",
       "    }\n",
       "</style>\n",
       "<table border=\"1\" class=\"dataframe\">\n",
       "  <thead>\n",
       "    <tr style=\"text-align: right;\">\n",
       "      <th></th>\n",
       "      <th>antecedents</th>\n",
       "      <th>consequents</th>\n",
       "      <th>antecedent support</th>\n",
       "      <th>consequent support</th>\n",
       "      <th>support</th>\n",
       "      <th>confidence</th>\n",
       "      <th>lift</th>\n",
       "      <th>leverage</th>\n",
       "      <th>conviction</th>\n",
       "      <th>zhangs_metric</th>\n",
       "    </tr>\n",
       "  </thead>\n",
       "  <tbody>\n",
       "    <tr>\n",
       "      <th>558</th>\n",
       "      <td>POPPY'S PLAYHOUSE LIVINGROOM</td>\n",
       "      <td>POPPY'S PLAYHOUSE KITCHEN</td>\n",
       "      <td>0.013736</td>\n",
       "      <td>0.018071</td>\n",
       "      <td>0.011544</td>\n",
       "      <td>0.840426</td>\n",
       "      <td>46.507699</td>\n",
       "      <td>0.011296</td>\n",
       "      <td>6.153424</td>\n",
       "      <td>0.992126</td>\n",
       "    </tr>\n",
       "    <tr>\n",
       "      <th>177</th>\n",
       "      <td>PINK REGENCY TEACUP AND SAUCER</td>\n",
       "      <td>GREEN REGENCY TEACUP AND SAUCER</td>\n",
       "      <td>0.024963</td>\n",
       "      <td>0.032707</td>\n",
       "      <td>0.020823</td>\n",
       "      <td>0.834146</td>\n",
       "      <td>25.503264</td>\n",
       "      <td>0.020006</td>\n",
       "      <td>5.832205</td>\n",
       "      <td>0.985387</td>\n",
       "    </tr>\n",
       "    <tr>\n",
       "      <th>556</th>\n",
       "      <td>POPPY'S PLAYHOUSE LIVINGROOM</td>\n",
       "      <td>POPPY'S PLAYHOUSE BEDROOM</td>\n",
       "      <td>0.013736</td>\n",
       "      <td>0.017121</td>\n",
       "      <td>0.011227</td>\n",
       "      <td>0.817376</td>\n",
       "      <td>47.741495</td>\n",
       "      <td>0.010992</td>\n",
       "      <td>5.381979</td>\n",
       "      <td>0.992689</td>\n",
       "    </tr>\n",
       "    <tr>\n",
       "      <th>555</th>\n",
       "      <td>POPPY'S PLAYHOUSE BEDROOM</td>\n",
       "      <td>POPPY'S PLAYHOUSE KITCHEN</td>\n",
       "      <td>0.017121</td>\n",
       "      <td>0.018071</td>\n",
       "      <td>0.013565</td>\n",
       "      <td>0.792319</td>\n",
       "      <td>43.845546</td>\n",
       "      <td>0.013256</td>\n",
       "      <td>4.728057</td>\n",
       "      <td>0.994214</td>\n",
       "    </tr>\n",
       "    <tr>\n",
       "      <th>640</th>\n",
       "      <td>WOODEN TREE CHRISTMAS SCANDINAVIAN</td>\n",
       "      <td>WOODEN STAR CHRISTMAS SCANDINAVIAN</td>\n",
       "      <td>0.013395</td>\n",
       "      <td>0.018655</td>\n",
       "      <td>0.010594</td>\n",
       "      <td>0.790909</td>\n",
       "      <td>42.396238</td>\n",
       "      <td>0.010344</td>\n",
       "      <td>4.693388</td>\n",
       "      <td>0.989669</td>\n",
       "    </tr>\n",
       "  </tbody>\n",
       "</table>\n",
       "</div>"
      ],
      "text/plain": [
       "                            antecedents                         consequents  \\\n",
       "558        POPPY'S PLAYHOUSE LIVINGROOM           POPPY'S PLAYHOUSE KITCHEN   \n",
       "177      PINK REGENCY TEACUP AND SAUCER     GREEN REGENCY TEACUP AND SAUCER   \n",
       "556        POPPY'S PLAYHOUSE LIVINGROOM           POPPY'S PLAYHOUSE BEDROOM   \n",
       "555           POPPY'S PLAYHOUSE BEDROOM           POPPY'S PLAYHOUSE KITCHEN   \n",
       "640  WOODEN TREE CHRISTMAS SCANDINAVIAN  WOODEN STAR CHRISTMAS SCANDINAVIAN   \n",
       "\n",
       "     antecedent support  consequent support   support  confidence       lift  \\\n",
       "558            0.013736            0.018071  0.011544    0.840426  46.507699   \n",
       "177            0.024963            0.032707  0.020823    0.834146  25.503264   \n",
       "556            0.013736            0.017121  0.011227    0.817376  47.741495   \n",
       "555            0.017121            0.018071  0.013565    0.792319  43.845546   \n",
       "640            0.013395            0.018655  0.010594    0.790909  42.396238   \n",
       "\n",
       "     leverage  conviction  zhangs_metric  \n",
       "558  0.011296    6.153424       0.992126  \n",
       "177  0.020006    5.832205       0.985387  \n",
       "556  0.010992    5.381979       0.992689  \n",
       "555  0.013256    4.728057       0.994214  \n",
       "640  0.010344    4.693388       0.989669  "
      ]
     },
     "execution_count": 38,
     "metadata": {},
     "output_type": "execute_result"
    }
   ],
   "source": [
    "rules.sort_values('confidence', ascending=False).head(5)"
   ]
  },
  {
   "cell_type": "markdown",
   "id": "6b68fac6",
   "metadata": {
    "ExecuteTime": {
     "end_time": "2024-05-15T04:07:51.530300Z",
     "start_time": "2024-05-15T04:07:51.520326Z"
    },
    "deletable": false,
    "editable": false,
    "run_control": {
     "frozen": true
    }
   },
   "source": [
    "## Network Visualization with Echarts"
   ]
  },
  {
   "cell_type": "markdown",
   "id": "2e99a5a8",
   "metadata": {
    "ExecuteTime": {
     "end_time": "2024-05-15T07:50:31.003683Z",
     "start_time": "2024-05-15T07:50:30.994002Z"
    },
    "deletable": false,
    "editable": false,
    "run_control": {
     "frozen": true
    }
   },
   "source": [
    "### Network Profile"
   ]
  },
  {
   "cell_type": "markdown",
   "id": "a7a9ca5b",
   "metadata": {
    "deletable": false,
    "editable": false,
    "run_control": {
     "frozen": true
    }
   },
   "source": [
    "We profile the network to get a quick summary of our products network "
   ]
  },
  {
   "cell_type": "code",
   "execution_count": 26,
   "id": "dc78cf44",
   "metadata": {
    "ExecuteTime": {
     "end_time": "2024-05-20T01:36:02.410801Z",
     "start_time": "2024-05-20T01:36:01.812024Z"
    },
    "deletable": false,
    "editable": false
   },
   "outputs": [],
   "source": [
    "myRGM = RGM(rules, 'antecedents', 'consequents')\n",
    "df_nodes_profile, df_edges_profile = myRGM.get_graph_features()"
   ]
  },
  {
   "cell_type": "code",
   "execution_count": 35,
   "id": "d17f1ed7",
   "metadata": {
    "ExecuteTime": {
     "end_time": "2024-05-20T01:48:17.330266Z",
     "start_time": "2024-05-20T01:48:17.232605Z"
    },
    "deletable": false,
    "editable": false
   },
   "outputs": [],
   "source": [
    "# For the grouping method, we use nx.community.greedy_modularity_communities. \n",
    "# We set a minimum member of group as requirement for forming a group\n",
    "df_nodes_profile = NxGrouper.greedy_modularity_communities(\n",
    "    df_nodes_profile, \n",
    "    df_edges_profile, \n",
    "    min_member=4,\n",
    "    resolution=3\n",
    ")"
   ]
  },
  {
   "cell_type": "code",
   "execution_count": 36,
   "id": "7f7d0a83",
   "metadata": {
    "ExecuteTime": {
     "end_time": "2024-05-20T01:48:18.228368Z",
     "start_time": "2024-05-20T01:48:18.213771Z"
    },
    "deletable": false,
    "editable": false
   },
   "outputs": [],
   "source": [
    "force_profile = EgraphForce(\n",
    "    df_edges_profile, \n",
    "    df_nodes_profile, \n",
    "    col_source='antecedents', \n",
    "    col_target='consequents', \n",
    "    col_name='nodes',\n",
    ")\n",
    "force_profile_option = force_profile.get_option()"
   ]
  },
  {
   "cell_type": "code",
   "execution_count": null,
   "id": "7095e430",
   "metadata": {
    "ExecuteTime": {
     "end_time": "2024-05-19T04:29:32.052660Z",
     "start_time": "2024-05-19T04:29:32.046673Z"
    }
   },
   "outputs": [],
   "source": [
    "# JupyterEcharts.show(force_profile_option)"
   ]
  },
  {
   "cell_type": "markdown",
   "id": "d16308a0",
   "metadata": {},
   "source": [
    "Using the Echarts network, we perform profiling to identify which groups of products are frequently purchased together.\n",
    "![Description](images/profile_network.png)\n",
    "The Echarts network reveals 13 distinct groups of products that are frequently purchased together."
   ]
  },
  {
   "cell_type": "markdown",
   "id": "1a81ae96",
   "metadata": {
    "ExecuteTime": {
     "end_time": "2024-05-15T10:07:48.681479Z",
     "start_time": "2024-05-15T10:07:48.672822Z"
    },
    "deletable": false,
    "editable": false,
    "run_control": {
     "frozen": true
    }
   },
   "source": [
    "### Product Network"
   ]
  },
  {
   "cell_type": "markdown",
   "id": "ff960703",
   "metadata": {
    "deletable": false,
    "editable": false,
    "run_control": {
     "frozen": true
    }
   },
   "source": [
    "After we know our network profile, we can select and assess individual product networks."
   ]
  },
  {
   "cell_type": "code",
   "execution_count": 39,
   "id": "ecdc262c",
   "metadata": {
    "ExecuteTime": {
     "end_time": "2024-05-20T04:09:58.356418Z",
     "start_time": "2024-05-20T04:09:58.105249Z"
    },
    "deletable": false,
    "editable": false
   },
   "outputs": [],
   "source": [
    "MyPN = ProductNetwork(rules)\n",
    "df_bfs, rules_bfs = MyPN.get_bfs_rules(\n",
    "    products= ['RED HANGING HEART T-LIGHT HOLDER'], \n",
    "    metric= 'support', \n",
    "    threshold=0, \n",
    "    max_depth=3, \n",
    "    top_n=5\n",
    ")\n",
    "df_nodes_pn, df_edges_pn = MyPN.get_graph_features(df_bfs, rules_bfs, strict_rules=True)"
   ]
  },
  {
   "cell_type": "code",
   "execution_count": 40,
   "id": "6d99850b",
   "metadata": {
    "ExecuteTime": {
     "end_time": "2024-05-20T04:09:58.855710Z",
     "start_time": "2024-05-20T04:09:58.844695Z"
    },
    "deletable": false,
    "editable": false
   },
   "outputs": [],
   "source": [
    "df_nodes_pn['label'] = df_nodes_pn['rank'].map(lambda x : {\"show\": True, \"position\": \"right\", \"formatter\": f\"{x}\"})"
   ]
  },
  {
   "cell_type": "code",
   "execution_count": 41,
   "id": "5b844ba7",
   "metadata": {
    "ExecuteTime": {
     "end_time": "2024-05-20T04:09:59.432627Z",
     "start_time": "2024-05-20T04:09:59.408269Z"
    },
    "deletable": false,
    "editable": false
   },
   "outputs": [],
   "source": [
    "force_pn = EgraphForce(\n",
    "    df_edges_pn, \n",
    "    df_nodes_pn,\n",
    "    col_category='depth',\n",
    "    col_source='antecedents', \n",
    "    col_target='consequents',\n",
    "    col_name='nodes',\n",
    ")\n",
    "force_pn_option = force_pn.get_option(show_legend=True)"
   ]
  },
  {
   "cell_type": "code",
   "execution_count": null,
   "id": "8faf0909",
   "metadata": {
    "ExecuteTime": {
     "end_time": "2024-05-15T10:51:18.832514Z",
     "start_time": "2024-05-15T10:51:18.826470Z"
    },
    "deletable": false,
    "editable": false
   },
   "outputs": [],
   "source": [
    "# JupyterEcharts.show(force_pn_option)"
   ]
  },
  {
   "cell_type": "markdown",
   "id": "601a61ce",
   "metadata": {
    "deletable": false,
    "editable": false
   },
   "source": [
    "![Description](images/product_network.png)"
   ]
  },
  {
   "cell_type": "markdown",
   "id": "01611486",
   "metadata": {
    "ExecuteTime": {
     "end_time": "2024-05-15T10:21:30.130283Z",
     "start_time": "2024-05-15T10:21:30.120313Z"
    }
   },
   "source": [
    "### Cross Selling Products"
   ]
  },
  {
   "cell_type": "markdown",
   "id": "cdc4ff3e",
   "metadata": {},
   "source": [
    "Using this technique, we can bundle our products that are frequently purchased together.\n",
    "\n",
    "In this case we set minimum confidence to 0.5 or 50% and max support ratio difference between product is 2.0"
   ]
  },
  {
   "cell_type": "code",
   "execution_count": 42,
   "id": "627dadcf",
   "metadata": {
    "ExecuteTime": {
     "end_time": "2024-05-20T04:10:04.329962Z",
     "start_time": "2024-05-20T04:10:03.965573Z"
    },
    "deletable": false,
    "editable": false
   },
   "outputs": [],
   "source": [
    "MyCSP = CrossSellingProducts(rules)\n",
    "cross_selling_rules = MyCSP.get_cross_selling_products(\n",
    "    max_support_ratio_diff=2.0, \n",
    "    min_confidence=0.5\n",
    ")"
   ]
  },
  {
   "cell_type": "code",
   "execution_count": 43,
   "id": "db13904f",
   "metadata": {
    "ExecuteTime": {
     "end_time": "2024-05-20T04:10:04.963694Z",
     "start_time": "2024-05-20T04:10:04.875632Z"
    },
    "deletable": false,
    "editable": false
   },
   "outputs": [],
   "source": [
    "df_nodes_csp, df_edges_csp = MyCSP.get_graph_features(cross_selling_rules)\n",
    "df_nodes_csp = NxGrouper.greedy_modularity_communities(\n",
    "    df_nodes_csp, \n",
    "    df_edges_csp,\n",
    "    min_member=3, # minimum connected products to form a group\n",
    "    resolution=1 # we want a larger group\n",
    ")\n",
    "\n",
    "df_bundle_products = df_nodes_csp[~df_nodes_csp['category'].str.contains('Others')]"
   ]
  },
  {
   "cell_type": "code",
   "execution_count": 44,
   "id": "bff834bc",
   "metadata": {
    "ExecuteTime": {
     "end_time": "2024-05-20T04:10:06.628168Z",
     "start_time": "2024-05-20T04:10:06.614166Z"
    },
    "deletable": false,
    "editable": false
   },
   "outputs": [],
   "source": [
    "force_csp = EgraphForce(\n",
    "    df_edges_csp, df_nodes_csp,\n",
    "    col_source='antecedents',\n",
    "    col_target='consequents',\n",
    "    col_name='nodes',\n",
    ")\n",
    "force_csp_option = force_csp.get_option()"
   ]
  },
  {
   "cell_type": "code",
   "execution_count": null,
   "id": "654c95f2",
   "metadata": {
    "ExecuteTime": {
     "end_time": "2024-05-15T10:51:21.563626Z",
     "start_time": "2024-05-15T10:51:21.556644Z"
    },
    "deletable": false,
    "editable": false
   },
   "outputs": [],
   "source": [
    "# JupyterEcharts.show(force_csp_option)"
   ]
  },
  {
   "attachments": {
    "image-2.png": {
     "image/png": "[encoded data removed]"
    }
   },
   "cell_type": "markdown",
   "id": "8ee29921",
   "metadata": {},
   "source": [
    "In this setting, with the mean confidence threshold at 50%, products like 'WHITE HANGING HEART T-LIGHT HOLDER' and 'RED HANGING HEART T-LIGHT HOLDER' did not appear as a result of the cross-selling products algorithm. This is because we aim to identify pairs or groups of products that are commonly purchased together, rather than individual popular items.\n",
    "\n",
    "![image-2.png](attachment:image-2.png)"
   ]
  },
  {
   "cell_type": "markdown",
   "id": "bc1f2c1b",
   "metadata": {
    "ExecuteTime": {
     "end_time": "2024-05-15T08:12:20.124616Z",
     "start_time": "2024-05-15T08:12:20.108451Z"
    },
    "deletable": false,
    "editable": false,
    "run_control": {
     "frozen": true
    }
   },
   "source": [
    "##  Product Placement with Plotly Heatmap"
   ]
  },
  {
   "cell_type": "markdown",
   "id": "ecb657d3",
   "metadata": {
    "deletable": false,
    "editable": false,
    "run_control": {
     "frozen": true
    }
   },
   "source": [
    "We can display our products side by side using Plotly heatmap"
   ]
  },
  {
   "cell_type": "code",
   "execution_count": null,
   "id": "c90de8f5",
   "metadata": {
    "ExecuteTime": {
     "end_time": "2024-05-19T08:02:25.438546Z",
     "start_time": "2024-05-19T08:02:25.428531Z"
    },
    "deletable": false,
    "editable": false
   },
   "outputs": [],
   "source": [
    "MyHM = HeatmapCrosstab(rules)"
   ]
  },
  {
   "cell_type": "code",
   "execution_count": null,
   "id": "f5cdcc91",
   "metadata": {
    "ExecuteTime": {
     "end_time": "2024-05-19T08:02:26.059859Z",
     "start_time": "2024-05-19T08:02:26.038394Z"
    },
    "deletable": false,
    "editable": false
   },
   "outputs": [],
   "source": [
    "tabular = MyHM.get_tabular_data(\n",
    "    ['WHITE HANGING HEART T-LIGHT HOLDER', 'RED HANGING HEART T-LIGHT HOLDER'], \n",
    "    'support',\n",
    "    max_col=10\n",
    ")"
   ]
  },
  {
   "cell_type": "code",
   "execution_count": null,
   "id": "4368b4f8",
   "metadata": {
    "ExecuteTime": {
     "end_time": "2024-05-19T08:02:27.979056Z",
     "start_time": "2024-05-19T08:02:26.916633Z"
    },
    "deletable": false,
    "editable": false
   },
   "outputs": [],
   "source": [
    "fig_heatmap = MyHM.plot_heatmap(tabular)"
   ]
  },
  {
   "cell_type": "code",
   "execution_count": null,
   "id": "6c6031b3",
   "metadata": {
    "ExecuteTime": {
     "end_time": "2024-05-18T15:10:10.325493Z",
     "start_time": "2024-05-18T15:10:10.309536Z"
    },
    "deletable": false,
    "editable": false
   },
   "outputs": [],
   "source": [
    "# fig_heatmap.show()"
   ]
  },
  {
   "cell_type": "code",
   "execution_count": null,
   "id": "8e16a28c",
   "metadata": {
    "ExecuteTime": {
     "end_time": "2024-05-15T11:05:47.407417Z",
     "start_time": "2024-05-15T11:05:47.256784Z"
    },
    "deletable": false,
    "editable": false
   },
   "outputs": [],
   "source": [
    "# fig_heatmap.write_image(\"images/heatmap_xtab.png\")"
   ]
  },
  {
   "cell_type": "markdown",
   "id": "81cd19fe",
   "metadata": {
    "deletable": false,
    "editable": false,
    "run_control": {
     "frozen": true
    }
   },
   "source": [
    "![Description](images/heatmap_xtab.png)"
   ]
  },
  {
   "cell_type": "markdown",
   "id": "bcf521b1",
   "metadata": {
    "ExecuteTime": {
     "end_time": "2024-05-18T15:45:50.450047Z",
     "start_time": "2024-05-18T15:45:50.433265Z"
    },
    "deletable": false,
    "editable": false,
    "run_control": {
     "frozen": true
    }
   },
   "source": [
    "## Summary Report"
   ]
  },
  {
   "cell_type": "markdown",
   "id": "91eb333c",
   "metadata": {
    "ExecuteTime": {
     "end_time": "2024-05-18T15:45:59.851717Z",
     "start_time": "2024-05-18T15:45:59.838564Z"
    },
    "deletable": false,
    "editable": false,
    "run_control": {
     "frozen": true
    }
   },
   "source": [
    "### Top 5 Support"
   ]
  },
  {
   "cell_type": "code",
   "execution_count": null,
   "id": "29f401e5",
   "metadata": {
    "ExecuteTime": {
     "end_time": "2024-05-19T08:02:34.745599Z",
     "start_time": "2024-05-19T08:02:34.722699Z"
    },
    "deletable": false,
    "editable": false
   },
   "outputs": [],
   "source": [
    "rules.sort_values('support', ascending=False).iloc[::2].head(5).reset_index(drop=True)"
   ]
  },
  {
   "cell_type": "markdown",
   "id": "1bf98e18",
   "metadata": {
    "ExecuteTime": {
     "end_time": "2024-05-18T17:36:58.411202Z",
     "start_time": "2024-05-18T17:36:58.395245Z"
    },
    "deletable": false,
    "editable": false,
    "run_control": {
     "frozen": true
    }
   },
   "source": [
    "### Bunde Products"
   ]
  },
  {
   "cell_type": "code",
   "execution_count": null,
   "id": "809436ce",
   "metadata": {
    "ExecuteTime": {
     "end_time": "2024-05-19T08:02:38.176062Z",
     "start_time": "2024-05-19T08:02:38.149624Z"
    },
    "deletable": false,
    "editable": false,
    "scrolled": false
   },
   "outputs": [],
   "source": [
    "df_bundle_products.groupby('category').agg(\n",
    "    products=('nodes', 'unique'), \n",
    "    support_mean=('support', 'mean'), \n",
    "    n=('nodes', 'size')\n",
    ").sort_values('support_mean', ascending=False)"
   ]
  },
  {
   "cell_type": "markdown",
   "id": "752e72c2",
   "metadata": {
    "ExecuteTime": {
     "end_time": "2024-05-18T17:40:13.722270Z",
     "start_time": "2024-05-18T17:40:13.715286Z"
    },
    "deletable": false,
    "editable": false,
    "run_control": {
     "frozen": true
    }
   },
   "source": [
    "### Product Layout"
   ]
  },
  {
   "cell_type": "code",
   "execution_count": null,
   "id": "0a25d82e",
   "metadata": {
    "ExecuteTime": {
     "end_time": "2024-05-19T08:02:41.558804Z",
     "start_time": "2024-05-19T08:02:41.548830Z"
    },
    "deletable": false,
    "editable": false
   },
   "outputs": [],
   "source": [
    "PRODUCTS_CATEGORY = \"RED STRIPE CERAMIC DRAWER KNOB\"\n",
    "products_bundles = df_bundle_products[df_bundle_products['category'].str.contains(PRODUCTS_CATEGORY)]['nodes'].values"
   ]
  },
  {
   "cell_type": "code",
   "execution_count": null,
   "id": "04203c10",
   "metadata": {
    "ExecuteTime": {
     "end_time": "2024-05-19T08:03:30.822864Z",
     "start_time": "2024-05-19T08:03:30.799163Z"
    },
    "deletable": false,
    "editable": false
   },
   "outputs": [],
   "source": [
    "tabular = MyHM.get_tabular_data(\n",
    "    products_bundles, \n",
    "    'support',\n",
    "    max_col=10,\n",
    "    personal_placement=False\n",
    ")"
   ]
  },
  {
   "cell_type": "code",
   "execution_count": null,
   "id": "da8009f2",
   "metadata": {
    "ExecuteTime": {
     "end_time": "2024-05-19T08:03:33.412874Z",
     "start_time": "2024-05-19T08:03:33.335435Z"
    },
    "deletable": false,
    "editable": false
   },
   "outputs": [],
   "source": [
    "MyHM.plot_heatmap(tabular)"
   ]
  }
 ],
 "metadata": {
  "kernelspec": {
   "display_name": "Python 3 (ipykernel)",
   "language": "python",
   "name": "python3"
  },
  "language_info": {
   "codemirror_mode": {
    "name": "ipython",
    "version": 3
   },
   "file_extension": ".py",
   "mimetype": "text/x-python",
   "name": "python",
   "nbconvert_exporter": "python",
   "pygments_lexer": "ipython3",
   "version": "3.9.12"
  },
  "toc": {
   "base_numbering": 1,
   "nav_menu": {},
   "number_sections": true,
   "sideBar": true,
   "skip_h1_title": false,
   "title_cell": "Table of Contents",
   "title_sidebar": "Contents",
   "toc_cell": false,
   "toc_position": {},
   "toc_section_display": true,
   "toc_window_display": false
  },
  "varInspector": {
   "cols": {
    "lenName": 16,
    "lenType": 16,
    "lenVar": 40
   },
   "kernels_config": {
    "python": {
     "delete_cmd_postfix": "",
     "delete_cmd_prefix": "del ",
     "library": "var_list.py",
     "varRefreshCmd": "print(var_dic_list())"
    },
    "r": {
     "delete_cmd_postfix": ") ",
     "delete_cmd_prefix": "rm(",
     "library": "var_list.r",
     "varRefreshCmd": "cat(var_dic_list()) "
    }
   },
   "types_to_exclude": [
    "module",
    "function",
    "builtin_function_or_method",
    "instance",
    "_Feature"
   ],
   "window_display": false
  }
 },
 "nbformat": 4,
 "nbformat_minor": 5
}
