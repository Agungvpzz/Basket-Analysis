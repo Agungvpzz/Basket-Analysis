{
 "cells": [
  {
   "cell_type": "markdown",
   "id": "9242d52d",
   "metadata": {
    "ExecuteTime": {
     "end_time": "2024-05-18T05:35:27.442327Z",
     "start_time": "2024-05-18T05:35:27.427407Z"
    },
    "deletable": false,
    "editable": false,
    "heading_collapsed": true,
    "run_control": {
     "frozen": true
    }
   },
   "source": [
    "## Data: Online Retail II"
   ]
  },
  {
   "cell_type": "markdown",
   "id": "85e4ffa9",
   "metadata": {
    "deletable": false,
    "editable": false,
    "hidden": true,
    "run_control": {
     "frozen": true
    }
   },
   "source": [
    "This Online Retail II data set contains all the transactions occurring for a UK-based and registered, non-store online retail between 01/12/2009 and 09/12/2011.The company mainly sells unique all-occasion gift-ware. Many customers of the company are wholesalers.\n",
    "\n",
    "The dataset can be accessed at the following link: https://www.kaggle.com/datasets/mashlyn/online-retail-ii-uci/"
   ]
  },
  {
   "cell_type": "markdown",
   "id": "41f27dc7",
   "metadata": {
    "deletable": false,
    "editable": false,
    "hidden": true,
    "run_control": {
     "frozen": true
    }
   },
   "source": [
    "Attribute Information:\n",
    "\n",
    "- InvoiceNo: Invoice number. Nominal. A 6-digit integral number uniquely assigned to each transaction. If this code starts with the letter 'c', it indicates a cancellation.\n",
    "- StockCode: Product (item) code. Nominal. A 5-digit integral number uniquely assigned to each distinct product.\n",
    "- Description: Product (item) name. Nominal.\n",
    "- Quantity: The quantities of each product (item) per transaction. Numeric.\n",
    "- InvoiceDate: Invice date and time. Numeric. The day and time when a transaction was generated.\n",
    "- UnitPrice: Unit price. Numeric. Product price per unit in sterling (Â£).\n",
    "- CustomerID: Customer number. Nominal. A 5-digit integral number uniquely assigned to each customer.\n",
    "- Country: Country name. Nominal. The name of the country where a customer resides."
   ]
  },
  {
   "cell_type": "markdown",
   "id": "cb352459",
   "metadata": {
    "ExecuteTime": {
     "end_time": "2024-05-18T05:29:05.477621Z",
     "start_time": "2024-05-18T05:29:05.467606Z"
    },
    "deletable": false,
    "editable": false,
    "heading_collapsed": true,
    "run_control": {
     "frozen": true
    }
   },
   "source": [
    "## Business Understanding"
   ]
  },
  {
   "cell_type": "markdown",
   "id": "09ebf44f",
   "metadata": {
    "deletable": false,
    "editable": false,
    "hidden": true,
    "run_control": {
     "frozen": true
    }
   },
   "source": [
    "Market Basket Analysis is a data mining technique employed to discover relationships and patterns within large datasets, particularly in the context of market analysis. By identifying frequently co-occurring items in transactions, businesses can gain valuable insights into customer behavior, optimize product placement, and enhance overall marketing strategies."
   ]
  },
  {
   "cell_type": "markdown",
   "id": "c1667e72",
   "metadata": {
    "ExecuteTime": {
     "end_time": "2024-05-18T05:46:24.223558Z",
     "start_time": "2024-05-18T05:46:24.204608Z"
    },
    "deletable": false,
    "editable": false,
    "heading_collapsed": true,
    "run_control": {
     "frozen": true
    }
   },
   "source": [
    "## Objectives"
   ]
  },
  {
   "cell_type": "markdown",
   "id": "d9090340",
   "metadata": {
    "deletable": false,
    "editable": false,
    "hidden": true,
    "run_control": {
     "frozen": true
    }
   },
   "source": [
    "1. **Association Rule Discovery**:\n",
    "    Identify associations and correlations among products or items in a dataset. Discover rules that indicate the likelihood of certain items being bought together.\n",
    "2. **Cross-Selling Opportunities**:\n",
    "    Uncover opportunities for cross-selling by understanding which products are frequently purchased together.\n",
    "3. **Promotion Planning**:\n",
    "    Optimize promotional campaigns by identifying items that are frequently bought together. Design effective promotions and discounts to incentivize the purchase of complementary products.\n",
    "4. **Optimizing Product Layout**:\n",
    "    Arrange products in-store or online in a way that encourages the purchase of related items, creating a more convenient and satisfying shopping experience."
   ]
  },
  {
   "cell_type": "markdown",
   "id": "5d96a073",
   "metadata": {
    "ExecuteTime": {
     "end_time": "2024-05-18T09:36:01.700162Z",
     "start_time": "2024-05-18T09:36:01.691185Z"
    },
    "deletable": false,
    "editable": false,
    "heading_collapsed": true,
    "run_control": {
     "frozen": true
    }
   },
   "source": [
    "## Key Metrics"
   ]
  },
  {
   "cell_type": "markdown",
   "id": "bf1c8565",
   "metadata": {
    "deletable": false,
    "editable": false,
    "hidden": true,
    "run_control": {
     "frozen": true
    }
   },
   "source": [
    "- **Support** \n",
    "    - Support measures how frequently an association rule happens in a dataset.\n",
    "- **Confidence** \n",
    "    - Confidence measures how strong an association rule is. \n",
    "    - That is to say, in market basket analysis terms, how likely is a second product to be present in the basket if the first is.\n",
    "    - Confidence(A→B) = Support(A∪B)/Support(A)×100%\n",
    "    - Confidence(B→A) = Support(A∪B)/Support(B)×100%\n",
    "- **Lift**\n",
    "    - Lift measures how much more likely two items are to be bought together compared to being bought individually at random.\n",
    "    - Lift(A→B)= Support(A∪B)/Support(A)×Support(B)\n",
    "    - If Lift = 1, it means there is no association between A and B.\n",
    "    - If Lift > 1, it indicates that A and B are more likely to be bought together than randomly.\n",
    "    - If Lift < 1, it suggests that A and B are less likely to be bought together than randomly.\n",
    "- **Leverage**\n",
    "    - Leverage measures the difference between the observed frequency of A and B occurring together and the frequency that would be expected if A and B were statistically independent.\n",
    "    - Leverage(A→B)=Support(A∪B)−(Support(A)×Support(B))\n",
    "    - Positive leverage indicates that the items appear together more frequently than expected by chance.\n",
    "    - Zero leverage means the items occur together exactly as expected based on their individual supports.\n",
    "    - Negative leverage implies the items co-occur less frequently than expected.\n",
    "    \n",
    "- **Conviction**\n",
    "    - Conviction measures the ratio of the expected frequency that A occurs without B to the frequency that A occurs when B is present.\n",
    "    - Conviction(A→B)= 1−Support(B)/1−Confidence(A→B)\n",
    "    - Conviction(B→A)= 1−Support(A)/1−Confidence(B→A)\n",
    "    - If Conviction = 1, it means that A and B are independent of each other.\n",
    "    - If Conviction > 1, it suggests that the presence of B has increased the likelihood of A, indicating a strong association.\n",
    "    - If Conviction < 1, it indicates a negative association between A and B.\n",
    "- **Zhang’s metric**\n",
    "    - Measure that looks not only at positive associations, but also negative. It can says, for instances, if buying A makes someone NOT buy B.\n",
    "    - Value: < 0 if there’s a negative association (dissociation), > 0 if there’s a positive association where -1 and 1 are the extreme values."
   ]
  },
  {
   "cell_type": "markdown",
   "id": "e1db74d1",
   "metadata": {
    "ExecuteTime": {
     "end_time": "2024-05-18T09:53:22.297550Z",
     "start_time": "2024-05-18T09:53:22.277469Z"
    },
    "deletable": false,
    "editable": false,
    "run_control": {
     "frozen": true
    }
   },
   "source": [
    "## Import Modules"
   ]
  },
  {
   "cell_type": "code",
   "execution_count": 1,
   "id": "ec605fa7",
   "metadata": {
    "ExecuteTime": {
     "end_time": "2024-05-18T15:27:21.084025Z",
     "start_time": "2024-05-18T15:27:19.740132Z"
    },
    "deletable": false,
    "editable": false
   },
   "outputs": [],
   "source": [
    "import os\n",
    "import re\n",
    "\n",
    "import pandas as pd\n",
    "import numpy as np\n",
    "\n",
    "import plotly.express as px\n",
    "import networkx as nx\n",
    "\n",
    "import json\n",
    "import copy"
   ]
  },
  {
   "cell_type": "code",
   "execution_count": 2,
   "id": "b404a743",
   "metadata": {
    "ExecuteTime": {
     "end_time": "2024-05-18T15:27:22.597037Z",
     "start_time": "2024-05-18T15:27:21.721349Z"
    },
    "deletable": false,
    "editable": false
   },
   "outputs": [],
   "source": [
    "from mlxtend.frequent_patterns import apriori\n",
    "from mlxtend.frequent_patterns import association_rules\n",
    "from mlxtend.preprocessing import TransactionEncoder"
   ]
  },
  {
   "cell_type": "code",
   "execution_count": 3,
   "id": "8e9a6390",
   "metadata": {
    "ExecuteTime": {
     "end_time": "2024-05-18T15:27:26.270896Z",
     "start_time": "2024-05-18T15:27:26.190642Z"
    },
    "deletable": false,
    "editable": false
   },
   "outputs": [],
   "source": [
    "from networks.RulesGraphManager import RulesGraphManager as RGM\n",
    "from networks.ProductNetwork import ProductNetwork\n",
    "from networks.CrossSellingProducts import CrossSellingProducts\n",
    "\n",
    "from grouper.NxGrouper import NxGrouper\n",
    "from charts.HeatmapXTab import HeatmapCrosstab\n",
    "\n",
    "from echarts.EgraphForce import EgraphForce\n",
    "from echarts.EgraphStandard import EgraphStandard\n",
    "from echarts.JupyterEcharts import JupyterEcharts"
   ]
  },
  {
   "cell_type": "code",
   "execution_count": 4,
   "id": "3cafa265",
   "metadata": {
    "ExecuteTime": {
     "end_time": "2024-05-18T15:27:26.951411Z",
     "start_time": "2024-05-18T15:27:26.935454Z"
    },
    "deletable": false,
    "editable": false
   },
   "outputs": [],
   "source": [
    "pd.set_option('display.max_rows', 100)\n",
    "pd.set_option('display.max_colwidth', None)"
   ]
  },
  {
   "cell_type": "markdown",
   "id": "a0b11721",
   "metadata": {
    "ExecuteTime": {
     "end_time": "2024-05-14T09:36:09.727344Z",
     "start_time": "2024-05-14T09:36:09.718369Z"
    },
    "deletable": false,
    "editable": false,
    "run_control": {
     "frozen": true
    }
   },
   "source": [
    "## Data Preparation"
   ]
  },
  {
   "cell_type": "markdown",
   "id": "068c10ad",
   "metadata": {
    "ExecuteTime": {
     "end_time": "2024-05-18T09:54:11.356484Z",
     "start_time": "2024-05-18T09:54:11.346511Z"
    },
    "deletable": false,
    "editable": false,
    "run_control": {
     "frozen": true
    }
   },
   "source": [
    "### Load Dataset"
   ]
  },
  {
   "cell_type": "code",
   "execution_count": 5,
   "id": "1e40b0c7",
   "metadata": {
    "ExecuteTime": {
     "end_time": "2024-05-18T15:27:33.237436Z",
     "start_time": "2024-05-18T15:27:29.044366Z"
    },
    "deletable": false,
    "editable": false
   },
   "outputs": [],
   "source": [
    "pathname = os.path.join(\"F:\\\\Data\\\\datas\", \"online_retail_II.csv\")\n",
    "df = pd.read_csv(\n",
    "    pathname, \n",
    "    dtype = {'Customer ID': str, 'Invoice': str},\n",
    "    parse_dates = ['InvoiceDate']\n",
    ")"
   ]
  },
  {
   "cell_type": "code",
   "execution_count": 6,
   "id": "8806a745",
   "metadata": {
    "ExecuteTime": {
     "end_time": "2024-05-18T15:27:36.329486Z",
     "start_time": "2024-05-18T15:27:36.318474Z"
    },
    "deletable": false,
    "editable": false
   },
   "outputs": [
    {
     "data": {
      "text/plain": [
       "(1067371, 8)"
      ]
     },
     "execution_count": 6,
     "metadata": {},
     "output_type": "execute_result"
    }
   ],
   "source": [
    "df.shape"
   ]
  },
  {
   "cell_type": "markdown",
   "id": "dee3cedd",
   "metadata": {
    "ExecuteTime": {
     "end_time": "2024-05-18T10:00:31.403552Z",
     "start_time": "2024-05-18T10:00:31.384111Z"
    },
    "deletable": false,
    "editable": false,
    "run_control": {
     "frozen": true
    }
   },
   "source": [
    "### Data Cleaning"
   ]
  },
  {
   "cell_type": "markdown",
   "id": "7dc966a8",
   "metadata": {
    "ExecuteTime": {
     "end_time": "2024-05-18T10:00:58.152476Z",
     "start_time": "2024-05-18T10:00:58.144499Z"
    },
    "deletable": false,
    "editable": false,
    "run_control": {
     "frozen": true
    }
   },
   "source": [
    "#### Drop missing values"
   ]
  },
  {
   "cell_type": "code",
   "execution_count": 7,
   "id": "56497b6d",
   "metadata": {
    "ExecuteTime": {
     "end_time": "2024-05-18T15:27:40.620345Z",
     "start_time": "2024-05-18T15:27:40.407208Z"
    },
    "deletable": false,
    "editable": false
   },
   "outputs": [
    {
     "data": {
      "text/plain": [
       "Invoice             0\n",
       "StockCode           0\n",
       "Description      4382\n",
       "Quantity            0\n",
       "InvoiceDate         0\n",
       "Price               0\n",
       "Customer ID    243007\n",
       "Country             0\n",
       "dtype: int64"
      ]
     },
     "execution_count": 7,
     "metadata": {},
     "output_type": "execute_result"
    }
   ],
   "source": [
    "df.isna().sum()"
   ]
  },
  {
   "cell_type": "code",
   "execution_count": 8,
   "id": "2c28fc06",
   "metadata": {
    "ExecuteTime": {
     "end_time": "2024-05-18T15:27:42.664099Z",
     "start_time": "2024-05-18T15:27:42.403871Z"
    },
    "deletable": false,
    "editable": false
   },
   "outputs": [],
   "source": [
    "df = df.dropna()"
   ]
  },
  {
   "cell_type": "markdown",
   "id": "04bccece",
   "metadata": {
    "ExecuteTime": {
     "end_time": "2024-05-18T10:03:36.441044Z",
     "start_time": "2024-05-18T10:03:36.431030Z"
    },
    "deletable": false,
    "editable": false,
    "heading_collapsed": true,
    "run_control": {
     "frozen": true
    }
   },
   "source": [
    "#### Ignore duplicate rows"
   ]
  },
  {
   "cell_type": "markdown",
   "id": "f0fad340",
   "metadata": {
    "deletable": false,
    "editable": false,
    "hidden": true,
    "run_control": {
     "frozen": true
    }
   },
   "source": [
    "There are two possible reasons for duplicate rows. \n",
    "1. The cashier might have scanned each product individually instead of scanning once and entering the quantity, resulting in multiple entries for each product on the invoice. \n",
    "2. The cashier might have accidentally scanned the same product twice. \n",
    "\n",
    "**Decision process**: The first scenario is more common, so we assume that the duplicate rows are not mistakes. <br>\n",
    "**Action**: We don't address duplicates because we lack clarification on the matter. "
   ]
  },
  {
   "cell_type": "code",
   "execution_count": null,
   "id": "8470990c",
   "metadata": {
    "ExecuteTime": {
     "end_time": "2024-05-18T10:15:03.722564Z",
     "start_time": "2024-05-18T10:15:03.189415Z"
    },
    "deletable": false,
    "editable": false,
    "hidden": true
   },
   "outputs": [],
   "source": [
    "df.loc[df.duplicated()].shape"
   ]
  },
  {
   "cell_type": "markdown",
   "id": "32f80005",
   "metadata": {
    "ExecuteTime": {
     "end_time": "2024-05-18T10:53:32.563342Z",
     "start_time": "2024-05-18T10:53:32.544354Z"
    },
    "deletable": false,
    "editable": false,
    "run_control": {
     "frozen": true
    }
   },
   "source": [
    "#### Drop rows with StockCode column has \"TEST\" value"
   ]
  },
  {
   "cell_type": "code",
   "execution_count": 9,
   "id": "8938bb84",
   "metadata": {
    "ExecuteTime": {
     "end_time": "2024-05-18T15:27:46.752661Z",
     "start_time": "2024-05-18T15:27:46.409339Z"
    },
    "deletable": false,
    "editable": false
   },
   "outputs": [],
   "source": [
    "df = df[~df['StockCode'].str.contains('TEST')]"
   ]
  },
  {
   "cell_type": "markdown",
   "id": "df3d5beb",
   "metadata": {
    "ExecuteTime": {
     "end_time": "2024-05-18T10:02:11.351057Z",
     "start_time": "2024-05-18T10:02:11.339090Z"
    },
    "deletable": false,
    "editable": false,
    "run_control": {
     "frozen": true
    }
   },
   "source": [
    "#### Drop rows with price less or equal to zero"
   ]
  },
  {
   "cell_type": "code",
   "execution_count": 10,
   "id": "4b7f0668",
   "metadata": {
    "ExecuteTime": {
     "end_time": "2024-05-18T15:27:48.549826Z",
     "start_time": "2024-05-18T15:27:48.433372Z"
    },
    "deletable": false,
    "editable": false
   },
   "outputs": [],
   "source": [
    "idx_price_less0 = df.loc[df['Price'] <= 0].index\n",
    "df = df.drop(index=idx_price_less0)"
   ]
  },
  {
   "cell_type": "markdown",
   "id": "4525c24f",
   "metadata": {
    "ExecuteTime": {
     "end_time": "2024-05-14T09:43:32.197739Z",
     "start_time": "2024-05-14T09:43:32.188763Z"
    },
    "deletable": false,
    "editable": false,
    "run_control": {
     "frozen": true
    }
   },
   "source": [
    "#### Drop cancelation invoice rows"
   ]
  },
  {
   "cell_type": "code",
   "execution_count": 11,
   "id": "d9da9dfa",
   "metadata": {
    "ExecuteTime": {
     "end_time": "2024-05-18T15:27:50.130337Z",
     "start_time": "2024-05-18T15:27:49.860032Z"
    },
    "deletable": false,
    "editable": false
   },
   "outputs": [],
   "source": [
    "df = df[~df['Invoice'].str.startswith('C')]"
   ]
  },
  {
   "cell_type": "markdown",
   "id": "bfc26627",
   "metadata": {
    "ExecuteTime": {
     "end_time": "2024-05-18T11:07:29.930066Z",
     "start_time": "2024-05-18T11:07:29.915106Z"
    },
    "deletable": false,
    "editable": false,
    "run_control": {
     "frozen": true
    }
   },
   "source": [
    "#### Trim space in description column"
   ]
  },
  {
   "cell_type": "code",
   "execution_count": 12,
   "id": "8ae47296",
   "metadata": {
    "ExecuteTime": {
     "end_time": "2024-05-18T15:27:52.472943Z",
     "start_time": "2024-05-18T15:27:51.302555Z"
    },
    "deletable": false,
    "editable": false
   },
   "outputs": [],
   "source": [
    "df['Description'] = df['Description'].str.strip()\n",
    "df['Description'] = df['Description'].replace(r'\\s{2,}', ' ', regex=True)"
   ]
  },
  {
   "cell_type": "markdown",
   "id": "f302946d",
   "metadata": {
    "ExecuteTime": {
     "end_time": "2024-05-18T11:11:32.083085Z",
     "start_time": "2024-05-18T11:11:32.074110Z"
    },
    "deletable": false,
    "editable": false,
    "run_control": {
     "frozen": true
    }
   },
   "source": [
    "### Data Selection"
   ]
  },
  {
   "cell_type": "code",
   "execution_count": 13,
   "id": "7b18d4db",
   "metadata": {
    "ExecuteTime": {
     "end_time": "2024-05-18T15:27:54.591591Z",
     "start_time": "2024-05-18T15:27:54.548240Z"
    },
    "deletable": false,
    "editable": false
   },
   "outputs": [],
   "source": [
    "df_basket = df[['Description', 'Invoice']]"
   ]
  },
  {
   "cell_type": "markdown",
   "id": "e0d2b703",
   "metadata": {
    "ExecuteTime": {
     "end_time": "2024-05-14T09:39:53.800328Z",
     "start_time": "2024-05-14T09:39:53.734564Z"
    },
    "deletable": false,
    "editable": false,
    "run_control": {
     "frozen": true
    }
   },
   "source": [
    "### Data Encoding"
   ]
  },
  {
   "cell_type": "code",
   "execution_count": 14,
   "id": "eb51675b",
   "metadata": {
    "ExecuteTime": {
     "end_time": "2024-05-18T15:27:56.634190Z",
     "start_time": "2024-05-18T15:27:56.617199Z"
    },
    "code_folding": [],
    "deletable": false,
    "editable": false
   },
   "outputs": [],
   "source": [
    "def encoding_data(df, col_item_id, col_order_id):\n",
    "    df = df.copy()\n",
    "    df[col_item_id] = df[col_item_id].transform(lambda x: [x])\n",
    "    df = df.groupby(col_order_id, as_index=False).sum()[col_item_id]\n",
    "    df = df.map(lambda x: list(set(x)))\n",
    "                          \n",
    "    encoder = TransactionEncoder()\n",
    "    one_hot_transactions = pd.DataFrame(\n",
    "        encoder.fit(df).transform(df), columns=encoder.columns_\n",
    "    )\n",
    "    \n",
    "    return one_hot_transactions"
   ]
  },
  {
   "cell_type": "code",
   "execution_count": 15,
   "id": "071f799d",
   "metadata": {
    "ExecuteTime": {
     "end_time": "2024-05-18T15:27:58.548353Z",
     "start_time": "2024-05-18T15:27:57.352693Z"
    },
    "deletable": false,
    "editable": false
   },
   "outputs": [],
   "source": [
    "df_transactions = encoding_data(df_basket, 'Description', 'Invoice')"
   ]
  },
  {
   "cell_type": "markdown",
   "id": "8ca6f29a",
   "metadata": {
    "ExecuteTime": {
     "end_time": "2024-05-14T09:39:39.738482Z",
     "start_time": "2024-05-14T09:39:39.721606Z"
    },
    "deletable": false,
    "editable": false,
    "run_control": {
     "frozen": true
    }
   },
   "source": [
    "## Data Mining (Rules Extraction)"
   ]
  },
  {
   "cell_type": "markdown",
   "id": "a962aea9",
   "metadata": {
    "deletable": false,
    "editable": false,
    "run_control": {
     "frozen": true
    }
   },
   "source": [
    "The following parameters are configured for the algorithm:\n",
    "\n",
    "- Maximum Combination Length\n",
    "    - We set the maximum combination length to 2 items.\n",
    "    - This choice is made to focus on pairs of items, allowing for a more targeted analysis of co-occurrences.\n",
    "\n",
    "- Minimum Co-Occurrence Support Threshold\n",
    "    - A minimum co-occurrence support threshold of 1% is established to filter out infrequent itemsets. \n",
    "    - This ensures that only associations with a significant presence in the dataset are considered."
   ]
  },
  {
   "cell_type": "code",
   "execution_count": 17,
   "id": "06a0eae5",
   "metadata": {
    "ExecuteTime": {
     "end_time": "2024-05-18T15:28:18.899403Z",
     "start_time": "2024-05-18T15:28:17.103523Z"
    },
    "deletable": false,
    "editable": false
   },
   "outputs": [],
   "source": [
    "frequent_itemsets = apriori(df_transactions, min_support= 0.01, use_colnames=True, max_len = 2, low_memory=True)\n",
    "rules = association_rules(frequent_itemsets, metric=\"support\", min_threshold = 0.01)"
   ]
  },
  {
   "cell_type": "code",
   "execution_count": 18,
   "id": "fbaca930",
   "metadata": {
    "ExecuteTime": {
     "end_time": "2024-05-18T15:28:20.042926Z",
     "start_time": "2024-05-18T15:28:20.031956Z"
    },
    "deletable": false,
    "editable": false
   },
   "outputs": [],
   "source": [
    "rules['antecedents'] = rules['antecedents'].map(lambda x: ''.join(list(x)))\n",
    "rules['consequents'] = rules['consequents'].map(lambda x: ''.join(list(x)))"
   ]
  },
  {
   "cell_type": "code",
   "execution_count": 19,
   "id": "f6b29023",
   "metadata": {
    "ExecuteTime": {
     "end_time": "2024-05-18T15:28:20.912809Z",
     "start_time": "2024-05-18T15:28:20.893546Z"
    },
    "deletable": false,
    "editable": false
   },
   "outputs": [
    {
     "data": {
      "text/plain": [
       "(354, 10)"
      ]
     },
     "execution_count": 19,
     "metadata": {},
     "output_type": "execute_result"
    }
   ],
   "source": [
    "rules.shape"
   ]
  },
  {
   "cell_type": "code",
   "execution_count": 20,
   "id": "426c3527",
   "metadata": {
    "ExecuteTime": {
     "end_time": "2024-05-18T15:28:21.664490Z",
     "start_time": "2024-05-18T15:28:21.638315Z"
    },
    "deletable": false,
    "editable": false
   },
   "outputs": [
    {
     "data": {
      "text/html": [
       "<div>\n",
       "<style scoped>\n",
       "    .dataframe tbody tr th:only-of-type {\n",
       "        vertical-align: middle;\n",
       "    }\n",
       "\n",
       "    .dataframe tbody tr th {\n",
       "        vertical-align: top;\n",
       "    }\n",
       "\n",
       "    .dataframe thead th {\n",
       "        text-align: right;\n",
       "    }\n",
       "</style>\n",
       "<table border=\"1\" class=\"dataframe\">\n",
       "  <thead>\n",
       "    <tr style=\"text-align: right;\">\n",
       "      <th></th>\n",
       "      <th>antecedents</th>\n",
       "      <th>consequents</th>\n",
       "      <th>antecedent support</th>\n",
       "      <th>consequent support</th>\n",
       "      <th>support</th>\n",
       "      <th>confidence</th>\n",
       "      <th>lift</th>\n",
       "      <th>leverage</th>\n",
       "      <th>conviction</th>\n",
       "      <th>zhangs_metric</th>\n",
       "    </tr>\n",
       "  </thead>\n",
       "  <tbody>\n",
       "    <tr>\n",
       "      <th>308</th>\n",
       "      <td>WHITE HANGING HEART T-LIGHT HOLDER</td>\n",
       "      <td>RED HANGING HEART T-LIGHT HOLDER</td>\n",
       "      <td>0.132255</td>\n",
       "      <td>0.044130</td>\n",
       "      <td>0.031197</td>\n",
       "      <td>0.235884</td>\n",
       "      <td>5.345205</td>\n",
       "      <td>0.025360</td>\n",
       "      <td>1.250949</td>\n",
       "      <td>0.936815</td>\n",
       "    </tr>\n",
       "    <tr>\n",
       "      <th>309</th>\n",
       "      <td>RED HANGING HEART T-LIGHT HOLDER</td>\n",
       "      <td>WHITE HANGING HEART T-LIGHT HOLDER</td>\n",
       "      <td>0.044130</td>\n",
       "      <td>0.132255</td>\n",
       "      <td>0.031197</td>\n",
       "      <td>0.706928</td>\n",
       "      <td>5.345205</td>\n",
       "      <td>0.025360</td>\n",
       "      <td>2.960863</td>\n",
       "      <td>0.850447</td>\n",
       "    </tr>\n",
       "    <tr>\n",
       "      <th>351</th>\n",
       "      <td>WOODEN PICTURE FRAME WHITE FINISH</td>\n",
       "      <td>WOODEN FRAME ANTIQUE WHITE</td>\n",
       "      <td>0.044861</td>\n",
       "      <td>0.047972</td>\n",
       "      <td>0.026868</td>\n",
       "      <td>0.598914</td>\n",
       "      <td>12.484645</td>\n",
       "      <td>0.024716</td>\n",
       "      <td>2.373628</td>\n",
       "      <td>0.963107</td>\n",
       "    </tr>\n",
       "    <tr>\n",
       "      <th>350</th>\n",
       "      <td>WOODEN FRAME ANTIQUE WHITE</td>\n",
       "      <td>WOODEN PICTURE FRAME WHITE FINISH</td>\n",
       "      <td>0.047972</td>\n",
       "      <td>0.044861</td>\n",
       "      <td>0.026868</td>\n",
       "      <td>0.560068</td>\n",
       "      <td>12.484645</td>\n",
       "      <td>0.024716</td>\n",
       "      <td>2.171106</td>\n",
       "      <td>0.966255</td>\n",
       "    </tr>\n",
       "    <tr>\n",
       "      <th>247</th>\n",
       "      <td>LUNCH BAG SPACEBOY DESIGN</td>\n",
       "      <td>LUNCH BAG SUKI DESIGN</td>\n",
       "      <td>0.050705</td>\n",
       "      <td>0.053356</td>\n",
       "      <td>0.024027</td>\n",
       "      <td>0.473853</td>\n",
       "      <td>8.880894</td>\n",
       "      <td>0.021321</td>\n",
       "      <td>1.799199</td>\n",
       "      <td>0.934797</td>\n",
       "    </tr>\n",
       "    <tr>\n",
       "      <th>...</th>\n",
       "      <td>...</td>\n",
       "      <td>...</td>\n",
       "      <td>...</td>\n",
       "      <td>...</td>\n",
       "      <td>...</td>\n",
       "      <td>...</td>\n",
       "      <td>...</td>\n",
       "      <td>...</td>\n",
       "      <td>...</td>\n",
       "      <td>...</td>\n",
       "    </tr>\n",
       "    <tr>\n",
       "      <th>88</th>\n",
       "      <td>GIN + TONIC DIET METAL SIGN</td>\n",
       "      <td>NO SINGING METAL SIGN</td>\n",
       "      <td>0.037474</td>\n",
       "      <td>0.026245</td>\n",
       "      <td>0.010065</td>\n",
       "      <td>0.268592</td>\n",
       "      <td>10.233911</td>\n",
       "      <td>0.009082</td>\n",
       "      <td>1.331343</td>\n",
       "      <td>0.937414</td>\n",
       "    </tr>\n",
       "    <tr>\n",
       "      <th>136</th>\n",
       "      <td>JUMBO BAG OWLS</td>\n",
       "      <td>JUMBO BAG RED RETROSPOT</td>\n",
       "      <td>0.024892</td>\n",
       "      <td>0.070673</td>\n",
       "      <td>0.010065</td>\n",
       "      <td>0.404348</td>\n",
       "      <td>5.721398</td>\n",
       "      <td>0.008306</td>\n",
       "      <td>1.560184</td>\n",
       "      <td>0.846284</td>\n",
       "    </tr>\n",
       "    <tr>\n",
       "      <th>137</th>\n",
       "      <td>JUMBO BAG RED RETROSPOT</td>\n",
       "      <td>JUMBO BAG OWLS</td>\n",
       "      <td>0.070673</td>\n",
       "      <td>0.024892</td>\n",
       "      <td>0.010065</td>\n",
       "      <td>0.142420</td>\n",
       "      <td>5.721398</td>\n",
       "      <td>0.008306</td>\n",
       "      <td>1.137045</td>\n",
       "      <td>0.887973</td>\n",
       "    </tr>\n",
       "    <tr>\n",
       "      <th>287</th>\n",
       "      <td>PLASTERS IN TIN SPACEBOY</td>\n",
       "      <td>PLASTERS IN TIN SKULLS</td>\n",
       "      <td>0.031278</td>\n",
       "      <td>0.024487</td>\n",
       "      <td>0.010038</td>\n",
       "      <td>0.320934</td>\n",
       "      <td>13.106529</td>\n",
       "      <td>0.009272</td>\n",
       "      <td>1.436552</td>\n",
       "      <td>0.953526</td>\n",
       "    </tr>\n",
       "    <tr>\n",
       "      <th>286</th>\n",
       "      <td>PLASTERS IN TIN SKULLS</td>\n",
       "      <td>PLASTERS IN TIN SPACEBOY</td>\n",
       "      <td>0.024487</td>\n",
       "      <td>0.031278</td>\n",
       "      <td>0.010038</td>\n",
       "      <td>0.409945</td>\n",
       "      <td>13.106529</td>\n",
       "      <td>0.009272</td>\n",
       "      <td>1.641748</td>\n",
       "      <td>0.946888</td>\n",
       "    </tr>\n",
       "  </tbody>\n",
       "</table>\n",
       "<p>354 rows × 10 columns</p>\n",
       "</div>"
      ],
      "text/plain": [
       "                            antecedents                         consequents  \\\n",
       "308  WHITE HANGING HEART T-LIGHT HOLDER    RED HANGING HEART T-LIGHT HOLDER   \n",
       "309    RED HANGING HEART T-LIGHT HOLDER  WHITE HANGING HEART T-LIGHT HOLDER   \n",
       "351   WOODEN PICTURE FRAME WHITE FINISH          WOODEN FRAME ANTIQUE WHITE   \n",
       "350          WOODEN FRAME ANTIQUE WHITE   WOODEN PICTURE FRAME WHITE FINISH   \n",
       "247           LUNCH BAG SPACEBOY DESIGN               LUNCH BAG SUKI DESIGN   \n",
       "..                                  ...                                 ...   \n",
       "88          GIN + TONIC DIET METAL SIGN               NO SINGING METAL SIGN   \n",
       "136                      JUMBO BAG OWLS             JUMBO BAG RED RETROSPOT   \n",
       "137             JUMBO BAG RED RETROSPOT                      JUMBO BAG OWLS   \n",
       "287            PLASTERS IN TIN SPACEBOY              PLASTERS IN TIN SKULLS   \n",
       "286              PLASTERS IN TIN SKULLS            PLASTERS IN TIN SPACEBOY   \n",
       "\n",
       "     antecedent support  consequent support   support  confidence       lift  \\\n",
       "308            0.132255            0.044130  0.031197    0.235884   5.345205   \n",
       "309            0.044130            0.132255  0.031197    0.706928   5.345205   \n",
       "351            0.044861            0.047972  0.026868    0.598914  12.484645   \n",
       "350            0.047972            0.044861  0.026868    0.560068  12.484645   \n",
       "247            0.050705            0.053356  0.024027    0.473853   8.880894   \n",
       "..                  ...                 ...       ...         ...        ...   \n",
       "88             0.037474            0.026245  0.010065    0.268592  10.233911   \n",
       "136            0.024892            0.070673  0.010065    0.404348   5.721398   \n",
       "137            0.070673            0.024892  0.010065    0.142420   5.721398   \n",
       "287            0.031278            0.024487  0.010038    0.320934  13.106529   \n",
       "286            0.024487            0.031278  0.010038    0.409945  13.106529   \n",
       "\n",
       "     leverage  conviction  zhangs_metric  \n",
       "308  0.025360    1.250949       0.936815  \n",
       "309  0.025360    2.960863       0.850447  \n",
       "351  0.024716    2.373628       0.963107  \n",
       "350  0.024716    2.171106       0.966255  \n",
       "247  0.021321    1.799199       0.934797  \n",
       "..        ...         ...            ...  \n",
       "88   0.009082    1.331343       0.937414  \n",
       "136  0.008306    1.560184       0.846284  \n",
       "137  0.008306    1.137045       0.887973  \n",
       "287  0.009272    1.436552       0.953526  \n",
       "286  0.009272    1.641748       0.946888  \n",
       "\n",
       "[354 rows x 10 columns]"
      ]
     },
     "execution_count": 20,
     "metadata": {},
     "output_type": "execute_result"
    }
   ],
   "source": [
    "rules.sort_values('support', ascending=False)"
   ]
  },
  {
   "cell_type": "markdown",
   "id": "6b68fac6",
   "metadata": {
    "ExecuteTime": {
     "end_time": "2024-05-15T04:07:51.530300Z",
     "start_time": "2024-05-15T04:07:51.520326Z"
    },
    "deletable": false,
    "editable": false,
    "run_control": {
     "frozen": true
    }
   },
   "source": [
    "## Network Visualization with Echarts"
   ]
  },
  {
   "cell_type": "markdown",
   "id": "2e99a5a8",
   "metadata": {
    "ExecuteTime": {
     "end_time": "2024-05-15T07:50:31.003683Z",
     "start_time": "2024-05-15T07:50:30.994002Z"
    },
    "deletable": false,
    "editable": false,
    "run_control": {
     "frozen": true
    }
   },
   "source": [
    "### Network Profile"
   ]
  },
  {
   "cell_type": "markdown",
   "id": "a7a9ca5b",
   "metadata": {
    "deletable": false,
    "editable": false,
    "run_control": {
     "frozen": true
    }
   },
   "source": [
    "We profile the network to get a quick summary of our products network "
   ]
  },
  {
   "cell_type": "code",
   "execution_count": 21,
   "id": "dc78cf44",
   "metadata": {
    "ExecuteTime": {
     "end_time": "2024-05-18T15:28:29.572655Z",
     "start_time": "2024-05-18T15:28:29.514542Z"
    },
    "deletable": false,
    "editable": false
   },
   "outputs": [],
   "source": [
    "myRGM = RGM(rules, 'antecedents', 'consequents')\n",
    "df_nodes, df_edges = myRGM.get_graph_features()"
   ]
  },
  {
   "cell_type": "code",
   "execution_count": 22,
   "id": "d17f1ed7",
   "metadata": {
    "ExecuteTime": {
     "end_time": "2024-05-18T15:28:30.231091Z",
     "start_time": "2024-05-18T15:28:30.182716Z"
    },
    "deletable": false,
    "editable": false
   },
   "outputs": [],
   "source": [
    "df_nodes_profile = NxGrouper.greedy_modularity_communities(df_nodes, df_edges, 4)"
   ]
  },
  {
   "cell_type": "code",
   "execution_count": 23,
   "id": "7f7d0a83",
   "metadata": {
    "ExecuteTime": {
     "end_time": "2024-05-18T15:28:31.042974Z",
     "start_time": "2024-05-18T15:28:31.008973Z"
    },
    "deletable": false,
    "editable": false
   },
   "outputs": [],
   "source": [
    "force = EgraphForce(\n",
    "    df_edges, \n",
    "    df_nodes_profile, \n",
    "    col_source='antecedents', \n",
    "    col_target='consequents', \n",
    "    col_name='nodes',\n",
    ")\n",
    "profile_force_option = force.get_option()"
   ]
  },
  {
   "cell_type": "code",
   "execution_count": null,
   "id": "7095e430",
   "metadata": {
    "ExecuteTime": {
     "end_time": "2024-05-18T14:38:02.212626Z",
     "start_time": "2024-05-18T14:38:02.196666Z"
    },
    "deletable": false,
    "editable": false
   },
   "outputs": [],
   "source": [
    "# JupyterEcharts.show(profile_force_option)"
   ]
  },
  {
   "cell_type": "markdown",
   "id": "d16308a0",
   "metadata": {
    "deletable": false,
    "editable": false,
    "run_control": {
     "frozen": true
    }
   },
   "source": [
    "![Description](images/profile_network.png)"
   ]
  },
  {
   "cell_type": "markdown",
   "id": "1a81ae96",
   "metadata": {
    "ExecuteTime": {
     "end_time": "2024-05-15T10:07:48.681479Z",
     "start_time": "2024-05-15T10:07:48.672822Z"
    },
    "deletable": false,
    "editable": false,
    "run_control": {
     "frozen": true
    }
   },
   "source": [
    "### Product Network"
   ]
  },
  {
   "cell_type": "markdown",
   "id": "ff960703",
   "metadata": {
    "deletable": false,
    "editable": false,
    "run_control": {
     "frozen": true
    }
   },
   "source": [
    "After we know our network profile, we can select and assess individual product networks."
   ]
  },
  {
   "cell_type": "code",
   "execution_count": 24,
   "id": "ecdc262c",
   "metadata": {
    "ExecuteTime": {
     "end_time": "2024-05-18T15:28:34.415028Z",
     "start_time": "2024-05-18T15:28:34.330804Z"
    },
    "deletable": false,
    "editable": false
   },
   "outputs": [],
   "source": [
    "MyPN = ProductNetwork(rules)\n",
    "df_bfs, rules_bfs = MyPN.get_bfs_rules(['RED HANGING HEART T-LIGHT HOLDER'], 'support', 0, 3, 5)\n",
    "df_nodes, df_edges = MyPN.get_graph_features(df_bfs, rules_bfs, strict_rules=True)"
   ]
  },
  {
   "cell_type": "code",
   "execution_count": 25,
   "id": "6d99850b",
   "metadata": {
    "ExecuteTime": {
     "end_time": "2024-05-18T15:28:35.349234Z",
     "start_time": "2024-05-18T15:28:35.337302Z"
    },
    "deletable": false,
    "editable": false
   },
   "outputs": [],
   "source": [
    "df_nodes['label'] = df_nodes['rank'].map(lambda x : {\"show\": True, \"position\": \"right\", \"formatter\": f\"{x}\"})"
   ]
  },
  {
   "cell_type": "code",
   "execution_count": 26,
   "id": "5b844ba7",
   "metadata": {
    "ExecuteTime": {
     "end_time": "2024-05-18T15:28:36.358058Z",
     "start_time": "2024-05-18T15:28:36.330018Z"
    },
    "deletable": false,
    "editable": false
   },
   "outputs": [],
   "source": [
    "product_force = EgraphForce(\n",
    "    df_edges, \n",
    "    df_nodes,\n",
    "    col_category='depth',\n",
    "    col_source='antecedents', \n",
    "    col_target='consequents',\n",
    "    col_name='nodes',\n",
    ")\n",
    "product_force_option = product_force.get_option(show_legend=True)"
   ]
  },
  {
   "cell_type": "code",
   "execution_count": null,
   "id": "8faf0909",
   "metadata": {
    "ExecuteTime": {
     "end_time": "2024-05-15T10:51:18.832514Z",
     "start_time": "2024-05-15T10:51:18.826470Z"
    },
    "deletable": false,
    "editable": false
   },
   "outputs": [],
   "source": [
    "# JupyterEcharts.show(product_force_option)"
   ]
  },
  {
   "cell_type": "markdown",
   "id": "601a61ce",
   "metadata": {
    "deletable": false,
    "editable": false
   },
   "source": [
    "![Description](images/product_network.png)"
   ]
  },
  {
   "cell_type": "markdown",
   "id": "01611486",
   "metadata": {
    "ExecuteTime": {
     "end_time": "2024-05-15T10:21:30.130283Z",
     "start_time": "2024-05-15T10:21:30.120313Z"
    }
   },
   "source": [
    "### Cross Selling Products"
   ]
  },
  {
   "cell_type": "markdown",
   "id": "51b15cd1",
   "metadata": {
    "deletable": false,
    "editable": false,
    "run_control": {
     "frozen": true
    }
   },
   "source": [
    "Using this technique, we can bundle our products that are frequently purchased together."
   ]
  },
  {
   "cell_type": "code",
   "execution_count": 27,
   "id": "627dadcf",
   "metadata": {
    "ExecuteTime": {
     "end_time": "2024-05-18T15:28:39.248083Z",
     "start_time": "2024-05-18T15:28:39.057975Z"
    },
    "deletable": false,
    "editable": false
   },
   "outputs": [],
   "source": [
    "MyCSP = CrossSellingProducts(rules)\n",
    "cross_selling_rules = MyCSP.get_cross_selling_products(max_support_ratio_diff=2.0, min_confidence=0.35)"
   ]
  },
  {
   "cell_type": "code",
   "execution_count": 28,
   "id": "db13904f",
   "metadata": {
    "ExecuteTime": {
     "end_time": "2024-05-18T15:28:40.142097Z",
     "start_time": "2024-05-18T15:28:40.079047Z"
    },
    "deletable": false,
    "editable": false
   },
   "outputs": [],
   "source": [
    "df_nodes, df_edges = MyCSP.get_graph_features(cross_selling_rules)\n",
    "df_nodes = NxGrouper.greedy_modularity_communities(df_nodes, df_edges)"
   ]
  },
  {
   "cell_type": "code",
   "execution_count": 29,
   "id": "bff834bc",
   "metadata": {
    "ExecuteTime": {
     "end_time": "2024-05-18T15:28:40.811058Z",
     "start_time": "2024-05-18T15:28:40.788061Z"
    },
    "deletable": false,
    "editable": false
   },
   "outputs": [],
   "source": [
    "csp_force = EgraphForce(\n",
    "    df_edges, df_nodes,\n",
    "    col_source='antecedents',\n",
    "    col_target='consequents',\n",
    "    col_name='nodes',\n",
    ")\n",
    "csp_force_option = csp_force.get_option()"
   ]
  },
  {
   "cell_type": "code",
   "execution_count": null,
   "id": "654c95f2",
   "metadata": {
    "ExecuteTime": {
     "end_time": "2024-05-15T10:51:21.563626Z",
     "start_time": "2024-05-15T10:51:21.556644Z"
    },
    "deletable": false,
    "editable": false
   },
   "outputs": [],
   "source": [
    "# JupyterEcharts.show(csp_force_option)"
   ]
  },
  {
   "cell_type": "markdown",
   "id": "8ee29921",
   "metadata": {
    "deletable": false,
    "editable": false
   },
   "source": [
    "![Description](images/cross_selling_products.png)"
   ]
  },
  {
   "cell_type": "markdown",
   "id": "bc1f2c1b",
   "metadata": {
    "ExecuteTime": {
     "end_time": "2024-05-15T08:12:20.124616Z",
     "start_time": "2024-05-15T08:12:20.108451Z"
    },
    "deletable": false,
    "editable": false,
    "run_control": {
     "frozen": true
    }
   },
   "source": [
    "##  Product Placement with Plotly Heatmap"
   ]
  },
  {
   "cell_type": "markdown",
   "id": "e7f9a844",
   "metadata": {
    "deletable": false,
    "editable": false,
    "run_control": {
     "frozen": true
    }
   },
   "source": [
    "We can display our products side by side using Plotly heatmap"
   ]
  },
  {
   "cell_type": "code",
   "execution_count": 30,
   "id": "c90de8f5",
   "metadata": {
    "ExecuteTime": {
     "end_time": "2024-05-18T15:28:44.096855Z",
     "start_time": "2024-05-18T15:28:44.077906Z"
    },
    "deletable": false,
    "editable": false
   },
   "outputs": [],
   "source": [
    "MyHM = HeatmapCrosstab(rules)"
   ]
  },
  {
   "cell_type": "code",
   "execution_count": 31,
   "id": "f5cdcc91",
   "metadata": {
    "ExecuteTime": {
     "end_time": "2024-05-18T15:28:44.916245Z",
     "start_time": "2024-05-18T15:28:44.884545Z"
    },
    "deletable": false,
    "editable": false
   },
   "outputs": [],
   "source": [
    "tabular = MyHM.get_tabular_data(\n",
    "    ['WHITE HANGING HEART T-LIGHT HOLDER', 'RED HANGING HEART T-LIGHT HOLDER'], \n",
    "    'support',\n",
    "    max_col=10\n",
    ")"
   ]
  },
  {
   "cell_type": "code",
   "execution_count": 32,
   "id": "4368b4f8",
   "metadata": {
    "ExecuteTime": {
     "end_time": "2024-05-18T15:28:47.838415Z",
     "start_time": "2024-05-18T15:28:46.815694Z"
    },
    "deletable": false,
    "editable": false
   },
   "outputs": [],
   "source": [
    "fig = MyHM.plot_heatmap(tabular)"
   ]
  },
  {
   "cell_type": "code",
   "execution_count": null,
   "id": "6c6031b3",
   "metadata": {
    "ExecuteTime": {
     "end_time": "2024-05-18T15:10:10.325493Z",
     "start_time": "2024-05-18T15:10:10.309536Z"
    },
    "deletable": false,
    "editable": false
   },
   "outputs": [],
   "source": [
    "# fig.show()"
   ]
  },
  {
   "cell_type": "code",
   "execution_count": null,
   "id": "8e16a28c",
   "metadata": {
    "ExecuteTime": {
     "end_time": "2024-05-15T11:05:47.407417Z",
     "start_time": "2024-05-15T11:05:47.256784Z"
    },
    "deletable": false,
    "editable": false
   },
   "outputs": [],
   "source": [
    "# fig.write_image(\"images/heatmap_xtab.png\")"
   ]
  },
  {
   "cell_type": "markdown",
   "id": "81cd19fe",
   "metadata": {
    "deletable": false,
    "editable": false,
    "run_control": {
     "frozen": true
    }
   },
   "source": [
    "![Description](images/heatmap_xtab.png)"
   ]
  }
 ],
 "metadata": {
  "kernelspec": {
   "display_name": "Python 3 (ipykernel)",
   "language": "python",
   "name": "python3"
  },
  "language_info": {
   "codemirror_mode": {
    "name": "ipython",
    "version": 3
   },
   "file_extension": ".py",
   "mimetype": "text/x-python",
   "name": "python",
   "nbconvert_exporter": "python",
   "pygments_lexer": "ipython3",
   "version": "3.9.12"
  },
  "toc": {
   "base_numbering": 1,
   "nav_menu": {},
   "number_sections": true,
   "sideBar": true,
   "skip_h1_title": false,
   "title_cell": "Table of Contents",
   "title_sidebar": "Contents",
   "toc_cell": false,
   "toc_position": {},
   "toc_section_display": true,
   "toc_window_display": false
  },
  "varInspector": {
   "cols": {
    "lenName": 16,
    "lenType": 16,
    "lenVar": 40
   },
   "kernels_config": {
    "python": {
     "delete_cmd_postfix": "",
     "delete_cmd_prefix": "del ",
     "library": "var_list.py",
     "varRefreshCmd": "print(var_dic_list())"
    },
    "r": {
     "delete_cmd_postfix": ") ",
     "delete_cmd_prefix": "rm(",
     "library": "var_list.r",
     "varRefreshCmd": "cat(var_dic_list()) "
    }
   },
   "types_to_exclude": [
    "module",
    "function",
    "builtin_function_or_method",
    "instance",
    "_Feature"
   ],
   "window_display": false
  }
 },
 "nbformat": 4,
 "nbformat_minor": 5
}
