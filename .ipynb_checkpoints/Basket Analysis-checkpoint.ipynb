{
 "cells": [
  {
   "cell_type": "markdown",
   "id": "9242d52d",
   "metadata": {
    "ExecuteTime": {
     "end_time": "2024-05-18T05:35:27.442327Z",
     "start_time": "2024-05-18T05:35:27.427407Z"
    },
    "deletable": false,
    "editable": false,
    "heading_collapsed": true,
    "run_control": {
     "frozen": true
    }
   },
   "source": [
    "## Data: Online Retail II"
   ]
  },
  {
   "cell_type": "markdown",
   "id": "85e4ffa9",
   "metadata": {
    "deletable": false,
    "editable": false,
    "hidden": true,
    "run_control": {
     "frozen": true
    }
   },
   "source": [
    "This Online Retail II data set contains all the transactions occurring for a UK-based and registered, non-store online retail between 01/12/2009 and 09/12/2011.The company mainly sells unique all-occasion gift-ware. Many customers of the company are wholesalers.\n",
    "\n",
    "The dataset can be accessed at the following link: https://www.kaggle.com/datasets/mashlyn/online-retail-ii-uci/"
   ]
  },
  {
   "cell_type": "markdown",
   "id": "41f27dc7",
   "metadata": {
    "deletable": false,
    "editable": false,
    "hidden": true,
    "run_control": {
     "frozen": true
    }
   },
   "source": [
    "Attribute Information:\n",
    "\n",
    "- InvoiceNo: Invoice number. Nominal. A 6-digit integral number uniquely assigned to each transaction. If this code starts with the letter 'c', it indicates a cancellation.\n",
    "- StockCode: Product (item) code. Nominal. A 5-digit integral number uniquely assigned to each distinct product.\n",
    "- Description: Product (item) name. Nominal.\n",
    "- Quantity: The quantities of each product (item) per transaction. Numeric.\n",
    "- InvoiceDate: Invice date and time. Numeric. The day and time when a transaction was generated.\n",
    "- UnitPrice: Unit price. Numeric. Product price per unit in sterling (Â£).\n",
    "- CustomerID: Customer number. Nominal. A 5-digit integral number uniquely assigned to each customer.\n",
    "- Country: Country name. Nominal. The name of the country where a customer resides."
   ]
  },
  {
   "cell_type": "markdown",
   "id": "cb352459",
   "metadata": {
    "ExecuteTime": {
     "end_time": "2024-05-18T05:29:05.477621Z",
     "start_time": "2024-05-18T05:29:05.467606Z"
    },
    "deletable": false,
    "editable": false,
    "heading_collapsed": true,
    "run_control": {
     "frozen": true
    }
   },
   "source": [
    "## Business Understanding"
   ]
  },
  {
   "cell_type": "markdown",
   "id": "09ebf44f",
   "metadata": {
    "deletable": false,
    "editable": false,
    "hidden": true,
    "run_control": {
     "frozen": true
    }
   },
   "source": [
    "Market Basket Analysis is a data mining technique employed to discover relationships and patterns within large datasets, particularly in the context of market analysis. By identifying frequently co-occurring items in transactions, businesses can gain valuable insights into customer behavior, optimize product placement, and enhance overall marketing strategies."
   ]
  },
  {
   "cell_type": "markdown",
   "id": "c1667e72",
   "metadata": {
    "ExecuteTime": {
     "end_time": "2024-05-18T05:46:24.223558Z",
     "start_time": "2024-05-18T05:46:24.204608Z"
    },
    "deletable": false,
    "editable": false,
    "heading_collapsed": true,
    "run_control": {
     "frozen": true
    }
   },
   "source": [
    "## Objectives"
   ]
  },
  {
   "cell_type": "markdown",
   "id": "d9090340",
   "metadata": {
    "deletable": false,
    "editable": false,
    "hidden": true,
    "run_control": {
     "frozen": true
    }
   },
   "source": [
    "1. **Association Rule Discovery**:\n",
    "    Identify associations and correlations among products or items in a dataset. Discover rules that indicate the likelihood of certain items being bought together.\n",
    "2. **Cross-Selling Opportunities**:\n",
    "    Uncover opportunities for cross-selling by understanding which products are frequently purchased together.\n",
    "3. **Promotion Planning**:\n",
    "    Optimize promotional campaigns by identifying items that are frequently bought together. Design effective promotions and discounts to incentivize the purchase of complementary products.\n",
    "4. **Optimizing Product Layout**:\n",
    "    Arrange products in-store or online in a way that encourages the purchase of related items, creating a more convenient and satisfying shopping experience."
   ]
  },
  {
   "cell_type": "markdown",
   "id": "5d96a073",
   "metadata": {
    "ExecuteTime": {
     "end_time": "2024-05-18T09:36:01.700162Z",
     "start_time": "2024-05-18T09:36:01.691185Z"
    },
    "deletable": false,
    "editable": false,
    "heading_collapsed": true,
    "run_control": {
     "frozen": true
    }
   },
   "source": [
    "## Key Metrics"
   ]
  },
  {
   "cell_type": "markdown",
   "id": "bf1c8565",
   "metadata": {
    "deletable": false,
    "editable": false,
    "hidden": true,
    "run_control": {
     "frozen": true
    }
   },
   "source": [
    "- **Support** \n",
    "    - Support measures how frequently an association rule happens in a dataset.\n",
    "- **Confidence** \n",
    "    - Confidence measures how strong an association rule is. \n",
    "    - That is to say, in market basket analysis terms, how likely is a second product to be present in the basket if the first is.\n",
    "    - Confidence(A→B) = Support(A∪B)/Support(A)×100%\n",
    "    - Confidence(B→A) = Support(A∪B)/Support(B)×100%\n",
    "- **Lift**\n",
    "    - Lift measures how much more likely two items are to be bought together compared to being bought individually at random.\n",
    "    - Lift(A→B)= Support(A∪B)/Support(A)×Support(B)\n",
    "    - If Lift = 1, it means there is no association between A and B.\n",
    "    - If Lift > 1, it indicates that A and B are more likely to be bought together than randomly.\n",
    "    - If Lift < 1, it suggests that A and B are less likely to be bought together than randomly.\n",
    "- **Leverage**\n",
    "    - Leverage measures the difference between the observed frequency of A and B occurring together and the frequency that would be expected if A and B were statistically independent.\n",
    "    - Leverage(A→B)=Support(A∪B)−(Support(A)×Support(B))\n",
    "    - Positive leverage indicates that the items appear together more frequently than expected by chance.\n",
    "    - Zero leverage means the items occur together exactly as expected based on their individual supports.\n",
    "    - Negative leverage implies the items co-occur less frequently than expected.\n",
    "    \n",
    "- **Conviction**\n",
    "    - Conviction measures the ratio of the expected frequency that A occurs without B to the frequency that A occurs when B is present.\n",
    "    - Conviction(A→B)= 1−Support(B)/1−Confidence(A→B)\n",
    "    - Conviction(B→A)= 1−Support(A)/1−Confidence(B→A)\n",
    "    - If Conviction = 1, it means that A and B are independent of each other.\n",
    "    - If Conviction > 1, it suggests that the presence of B has increased the likelihood of A, indicating a strong association.\n",
    "    - If Conviction < 1, it indicates a negative association between A and B.\n",
    "- **Zhang’s metric**\n",
    "    - Measure that looks not only at positive associations, but also negative. It can says, for instances, if buying A makes someone NOT buy B.\n",
    "    - Value: < 0 if there’s a negative association (dissociation), > 0 if there’s a positive association where -1 and 1 are the extreme values."
   ]
  },
  {
   "cell_type": "markdown",
   "id": "e1db74d1",
   "metadata": {
    "ExecuteTime": {
     "end_time": "2024-05-18T09:53:22.297550Z",
     "start_time": "2024-05-18T09:53:22.277469Z"
    },
    "deletable": false,
    "editable": false,
    "heading_collapsed": true,
    "run_control": {
     "frozen": true
    }
   },
   "source": [
    "## Import Modules"
   ]
  },
  {
   "cell_type": "code",
   "execution_count": 5,
   "id": "ec605fa7",
   "metadata": {
    "ExecuteTime": {
     "end_time": "2024-05-18T09:55:51.416136Z",
     "start_time": "2024-05-18T09:55:40.633135Z"
    },
    "deletable": false,
    "editable": false,
    "hidden": true
   },
   "outputs": [],
   "source": [
    "import os\n",
    "import re\n",
    "\n",
    "import pandas as pd\n",
    "import numpy as np\n",
    "\n",
    "import plotly.express as px\n",
    "import networkx as nx\n",
    "\n",
    "import json\n",
    "import copy"
   ]
  },
  {
   "cell_type": "code",
   "execution_count": 6,
   "id": "b404a743",
   "metadata": {
    "ExecuteTime": {
     "end_time": "2024-05-18T09:56:00.807220Z",
     "start_time": "2024-05-18T09:55:51.467150Z"
    },
    "deletable": false,
    "editable": false,
    "hidden": true
   },
   "outputs": [],
   "source": [
    "from mlxtend.frequent_patterns import apriori\n",
    "from mlxtend.frequent_patterns import association_rules\n",
    "from mlxtend.preprocessing import TransactionEncoder"
   ]
  },
  {
   "cell_type": "code",
   "execution_count": 7,
   "id": "8e9a6390",
   "metadata": {
    "ExecuteTime": {
     "end_time": "2024-05-18T09:56:01.245546Z",
     "start_time": "2024-05-18T09:56:00.858442Z"
    },
    "deletable": false,
    "editable": false,
    "hidden": true
   },
   "outputs": [],
   "source": [
    "from networks.RulesGraphManager import RulesGraphManager as RGM\n",
    "from networks.ProductNetwork import ProductNetwork\n",
    "from networks.CrossSellingProducts import CrossSellingProducts\n",
    "\n",
    "from grouper.NxGrouper import NxGrouper\n",
    "from charts.HeatmapXTab import HeatmapCrosstab\n",
    "\n",
    "from echarts.EgraphForce import EgraphForce\n",
    "from echarts.EgraphStandard import EgraphStandard\n",
    "from echarts.JupyterEcharts import JupyterEcharts"
   ]
  },
  {
   "cell_type": "code",
   "execution_count": 8,
   "id": "3cafa265",
   "metadata": {
    "ExecuteTime": {
     "end_time": "2024-05-18T09:59:50.470805Z",
     "start_time": "2024-05-18T09:59:50.462859Z"
    },
    "deletable": false,
    "editable": false,
    "hidden": true
   },
   "outputs": [],
   "source": [
    "pd.set_option('display.max_rows', 100)\n",
    "pd.set_option('display.max_colwidth', None)"
   ]
  },
  {
   "cell_type": "markdown",
   "id": "a0b11721",
   "metadata": {
    "ExecuteTime": {
     "end_time": "2024-05-14T09:36:09.727344Z",
     "start_time": "2024-05-14T09:36:09.718369Z"
    },
    "deletable": false,
    "editable": false,
    "heading_collapsed": true,
    "run_control": {
     "frozen": true
    }
   },
   "source": [
    "## Data Preparation"
   ]
  },
  {
   "cell_type": "markdown",
   "id": "068c10ad",
   "metadata": {
    "ExecuteTime": {
     "end_time": "2024-05-18T09:54:11.356484Z",
     "start_time": "2024-05-18T09:54:11.346511Z"
    },
    "deletable": false,
    "editable": false,
    "heading_collapsed": true,
    "hidden": true,
    "run_control": {
     "frozen": true
    }
   },
   "source": [
    "### Load Dataset"
   ]
  },
  {
   "cell_type": "code",
   "execution_count": 9,
   "id": "1e40b0c7",
   "metadata": {
    "ExecuteTime": {
     "end_time": "2024-05-18T09:59:57.883361Z",
     "start_time": "2024-05-18T09:59:52.435411Z"
    },
    "deletable": false,
    "editable": false,
    "hidden": true
   },
   "outputs": [],
   "source": [
    "pathname = os.path.join(\"F:\\\\Data\\\\datas\", \"online_retail_II.csv\")\n",
    "df = pd.read_csv(\n",
    "    pathname, \n",
    "    dtype = {'Customer ID': str, 'Invoice': str},\n",
    "    parse_dates = ['InvoiceDate']\n",
    ")"
   ]
  },
  {
   "cell_type": "code",
   "execution_count": 10,
   "id": "92c18eaf",
   "metadata": {
    "ExecuteTime": {
     "end_time": "2024-05-18T10:00:00.770277Z",
     "start_time": "2024-05-18T10:00:00.763297Z"
    },
    "deletable": false,
    "editable": false,
    "hidden": true
   },
   "outputs": [],
   "source": [
    "COL_CUSTOMER_ID = 'Customer ID'\n",
    "COL_ORDER_DATE = 'InvoiceDate'\n",
    "COL_ORDER_ID = 'Invoice'\n",
    "COL_VALUE = 'Sales'\n",
    "COL_QUANTITY = 'Quantity'"
   ]
  },
  {
   "cell_type": "code",
   "execution_count": 16,
   "id": "8806a745",
   "metadata": {
    "ExecuteTime": {
     "end_time": "2024-05-18T10:01:13.883221Z",
     "start_time": "2024-05-18T10:01:13.873209Z"
    },
    "deletable": false,
    "editable": false,
    "hidden": true
   },
   "outputs": [
    {
     "data": {
      "text/plain": [
       "(1067371, 8)"
      ]
     },
     "execution_count": 16,
     "metadata": {},
     "output_type": "execute_result"
    }
   ],
   "source": [
    "df.shape"
   ]
  },
  {
   "cell_type": "markdown",
   "id": "dee3cedd",
   "metadata": {
    "ExecuteTime": {
     "end_time": "2024-05-18T10:00:31.403552Z",
     "start_time": "2024-05-18T10:00:31.384111Z"
    },
    "deletable": false,
    "editable": false,
    "heading_collapsed": true,
    "hidden": true,
    "run_control": {
     "frozen": true
    }
   },
   "source": [
    "### Data Cleaning"
   ]
  },
  {
   "cell_type": "markdown",
   "id": "7dc966a8",
   "metadata": {
    "ExecuteTime": {
     "end_time": "2024-05-18T10:00:58.152476Z",
     "start_time": "2024-05-18T10:00:58.144499Z"
    },
    "deletable": false,
    "editable": false,
    "hidden": true,
    "run_control": {
     "frozen": true
    }
   },
   "source": [
    "#### Drop missing values"
   ]
  },
  {
   "cell_type": "code",
   "execution_count": 15,
   "id": "56497b6d",
   "metadata": {
    "ExecuteTime": {
     "end_time": "2024-05-18T10:01:06.090511Z",
     "start_time": "2024-05-18T10:01:05.722313Z"
    },
    "collapsed": true,
    "deletable": false,
    "editable": false,
    "hidden": true
   },
   "outputs": [
    {
     "data": {
      "text/plain": [
       "Invoice             0\n",
       "StockCode           0\n",
       "Description      4382\n",
       "Quantity            0\n",
       "InvoiceDate         0\n",
       "Price               0\n",
       "Customer ID    243007\n",
       "Country             0\n",
       "dtype: int64"
      ]
     },
     "execution_count": 15,
     "metadata": {},
     "output_type": "execute_result"
    }
   ],
   "source": [
    "df.isna().sum()"
   ]
  },
  {
   "cell_type": "code",
   "execution_count": 21,
   "id": "2c28fc06",
   "metadata": {
    "ExecuteTime": {
     "end_time": "2024-05-18T10:15:01.966005Z",
     "start_time": "2024-05-18T10:15:01.697591Z"
    },
    "deletable": false,
    "editable": false,
    "hidden": true
   },
   "outputs": [],
   "source": [
    "df = df.dropna()"
   ]
  },
  {
   "cell_type": "markdown",
   "id": "04bccece",
   "metadata": {
    "ExecuteTime": {
     "end_time": "2024-05-18T10:03:36.441044Z",
     "start_time": "2024-05-18T10:03:36.431030Z"
    },
    "deletable": false,
    "editable": false,
    "heading_collapsed": true,
    "hidden": true,
    "run_control": {
     "frozen": true
    }
   },
   "source": [
    "#### Ignore duplicate rows"
   ]
  },
  {
   "cell_type": "markdown",
   "id": "f0fad340",
   "metadata": {
    "deletable": false,
    "editable": false,
    "hidden": true,
    "run_control": {
     "frozen": true
    }
   },
   "source": [
    "There are two possible reasons for duplicate rows. \n",
    "1. The cashier might have scanned each product individually instead of scanning once and entering the quantity, resulting in multiple entries for each product on the invoice. \n",
    "2. The cashier might have accidentally scanned the same product twice. \n",
    "\n",
    "**Decision process**: The first scenario is more common, so we assume that the duplicate rows are not mistakes. <br>\n",
    "**Action**: We don't address duplicates because we lack clarification on the matter. "
   ]
  },
  {
   "cell_type": "code",
   "execution_count": 22,
   "id": "8470990c",
   "metadata": {
    "ExecuteTime": {
     "end_time": "2024-05-18T10:15:03.722564Z",
     "start_time": "2024-05-18T10:15:03.189415Z"
    },
    "deletable": false,
    "editable": false,
    "hidden": true
   },
   "outputs": [
    {
     "data": {
      "text/plain": [
       "(26479, 8)"
      ]
     },
     "execution_count": 22,
     "metadata": {},
     "output_type": "execute_result"
    }
   ],
   "source": [
    "df.loc[df.duplicated()].shape"
   ]
  },
  {
   "cell_type": "markdown",
   "id": "32f80005",
   "metadata": {
    "ExecuteTime": {
     "end_time": "2024-05-18T10:53:32.563342Z",
     "start_time": "2024-05-18T10:53:32.544354Z"
    },
    "deletable": false,
    "editable": false,
    "heading_collapsed": true,
    "hidden": true,
    "run_control": {
     "frozen": true
    }
   },
   "source": [
    "#### Drop rows with StockCode column has \"TEST\" value"
   ]
  },
  {
   "cell_type": "code",
   "execution_count": 60,
   "id": "8938bb84",
   "metadata": {
    "ExecuteTime": {
     "end_time": "2024-05-18T11:00:28.512148Z",
     "start_time": "2024-05-18T11:00:28.223543Z"
    },
    "deletable": false,
    "editable": false,
    "hidden": true
   },
   "outputs": [
    {
     "data": {
      "text/html": [
       "<div>\n",
       "<style scoped>\n",
       "    .dataframe tbody tr th:only-of-type {\n",
       "        vertical-align: middle;\n",
       "    }\n",
       "\n",
       "    .dataframe tbody tr th {\n",
       "        vertical-align: top;\n",
       "    }\n",
       "\n",
       "    .dataframe thead th {\n",
       "        text-align: right;\n",
       "    }\n",
       "</style>\n",
       "<table border=\"1\" class=\"dataframe\">\n",
       "  <thead>\n",
       "    <tr style=\"text-align: right;\">\n",
       "      <th></th>\n",
       "      <th>Invoice</th>\n",
       "      <th>StockCode</th>\n",
       "      <th>Description</th>\n",
       "      <th>Quantity</th>\n",
       "      <th>InvoiceDate</th>\n",
       "      <th>Price</th>\n",
       "      <th>Customer ID</th>\n",
       "      <th>Country</th>\n",
       "    </tr>\n",
       "  </thead>\n",
       "  <tbody>\n",
       "  </tbody>\n",
       "</table>\n",
       "</div>"
      ],
      "text/plain": [
       "Empty DataFrame\n",
       "Columns: [Invoice, StockCode, Description, Quantity, InvoiceDate, Price, Customer ID, Country]\n",
       "Index: []"
      ]
     },
     "execution_count": 60,
     "metadata": {},
     "output_type": "execute_result"
    }
   ],
   "source": [
    "df = df[~df['StockCode'].str.contains('TEST')]"
   ]
  },
  {
   "cell_type": "markdown",
   "id": "df3d5beb",
   "metadata": {
    "ExecuteTime": {
     "end_time": "2024-05-18T10:02:11.351057Z",
     "start_time": "2024-05-18T10:02:11.339090Z"
    },
    "deletable": false,
    "editable": false,
    "heading_collapsed": true,
    "hidden": true,
    "run_control": {
     "frozen": true
    }
   },
   "source": [
    "#### Drop rows with price has less or equal to zero"
   ]
  },
  {
   "cell_type": "code",
   "execution_count": 51,
   "id": "8178ab22",
   "metadata": {
    "ExecuteTime": {
     "end_time": "2024-05-18T10:54:11.960138Z",
     "start_time": "2024-05-18T10:54:11.910254Z"
    },
    "collapsed": true,
    "deletable": false,
    "editable": false,
    "hidden": true
   },
   "outputs": [
    {
     "data": {
      "text/html": [
       "<div>\n",
       "<style scoped>\n",
       "    .dataframe tbody tr th:only-of-type {\n",
       "        vertical-align: middle;\n",
       "    }\n",
       "\n",
       "    .dataframe tbody tr th {\n",
       "        vertical-align: top;\n",
       "    }\n",
       "\n",
       "    .dataframe thead th {\n",
       "        text-align: right;\n",
       "    }\n",
       "</style>\n",
       "<table border=\"1\" class=\"dataframe\">\n",
       "  <thead>\n",
       "    <tr style=\"text-align: right;\">\n",
       "      <th></th>\n",
       "      <th>Invoice</th>\n",
       "      <th>StockCode</th>\n",
       "      <th>Description</th>\n",
       "      <th>Quantity</th>\n",
       "      <th>InvoiceDate</th>\n",
       "      <th>Price</th>\n",
       "      <th>Customer ID</th>\n",
       "      <th>Country</th>\n",
       "    </tr>\n",
       "  </thead>\n",
       "  <tbody>\n",
       "    <tr>\n",
       "      <th>4674</th>\n",
       "      <td>489825</td>\n",
       "      <td>22076</td>\n",
       "      <td>6 RIBBONS EMPIRE</td>\n",
       "      <td>12</td>\n",
       "      <td>2009-12-02 13:34:00</td>\n",
       "      <td>0.0</td>\n",
       "      <td>16126.0</td>\n",
       "      <td>United Kingdom</td>\n",
       "    </tr>\n",
       "    <tr>\n",
       "      <th>6781</th>\n",
       "      <td>489998</td>\n",
       "      <td>48185</td>\n",
       "      <td>DOOR MAT FAIRY CAKE</td>\n",
       "      <td>2</td>\n",
       "      <td>2009-12-03 11:19:00</td>\n",
       "      <td>0.0</td>\n",
       "      <td>15658.0</td>\n",
       "      <td>United Kingdom</td>\n",
       "    </tr>\n",
       "    <tr>\n",
       "      <th>16107</th>\n",
       "      <td>490727</td>\n",
       "      <td>M</td>\n",
       "      <td>Manual</td>\n",
       "      <td>1</td>\n",
       "      <td>2009-12-07 16:38:00</td>\n",
       "      <td>0.0</td>\n",
       "      <td>17231.0</td>\n",
       "      <td>United Kingdom</td>\n",
       "    </tr>\n",
       "    <tr>\n",
       "      <th>18738</th>\n",
       "      <td>490961</td>\n",
       "      <td>22065</td>\n",
       "      <td>CHRISTMAS PUDDING TRINKET POT</td>\n",
       "      <td>1</td>\n",
       "      <td>2009-12-08 15:25:00</td>\n",
       "      <td>0.0</td>\n",
       "      <td>14108.0</td>\n",
       "      <td>United Kingdom</td>\n",
       "    </tr>\n",
       "    <tr>\n",
       "      <th>18739</th>\n",
       "      <td>490961</td>\n",
       "      <td>22142</td>\n",
       "      <td>CHRISTMAS CRAFT WHITE FAIRY</td>\n",
       "      <td>12</td>\n",
       "      <td>2009-12-08 15:25:00</td>\n",
       "      <td>0.0</td>\n",
       "      <td>14108.0</td>\n",
       "      <td>United Kingdom</td>\n",
       "    </tr>\n",
       "    <tr>\n",
       "      <th>32916</th>\n",
       "      <td>492079</td>\n",
       "      <td>85042</td>\n",
       "      <td>ANTIQUE LILY FAIRY LIGHTS</td>\n",
       "      <td>8</td>\n",
       "      <td>2009-12-15 13:49:00</td>\n",
       "      <td>0.0</td>\n",
       "      <td>15070.0</td>\n",
       "      <td>United Kingdom</td>\n",
       "    </tr>\n",
       "    <tr>\n",
       "      <th>40101</th>\n",
       "      <td>492760</td>\n",
       "      <td>21143</td>\n",
       "      <td>ANTIQUE GLASS HEART DECORATION</td>\n",
       "      <td>12</td>\n",
       "      <td>2009-12-18 14:22:00</td>\n",
       "      <td>0.0</td>\n",
       "      <td>18071.0</td>\n",
       "      <td>United Kingdom</td>\n",
       "    </tr>\n",
       "    <tr>\n",
       "      <th>47126</th>\n",
       "      <td>493761</td>\n",
       "      <td>79320</td>\n",
       "      <td>FLAMINGO LIGHTS</td>\n",
       "      <td>24</td>\n",
       "      <td>2010-01-06 14:54:00</td>\n",
       "      <td>0.0</td>\n",
       "      <td>14258.0</td>\n",
       "      <td>United Kingdom</td>\n",
       "    </tr>\n",
       "    <tr>\n",
       "      <th>48342</th>\n",
       "      <td>493899</td>\n",
       "      <td>22355</td>\n",
       "      <td>CHARLOTTE BAG , SUKI DESIGN</td>\n",
       "      <td>10</td>\n",
       "      <td>2010-01-08 10:43:00</td>\n",
       "      <td>0.0</td>\n",
       "      <td>12417.0</td>\n",
       "      <td>Belgium</td>\n",
       "    </tr>\n",
       "    <tr>\n",
       "      <th>57619</th>\n",
       "      <td>494607</td>\n",
       "      <td>21533</td>\n",
       "      <td>RETRO SPOT LARGE MILK JUG</td>\n",
       "      <td>12</td>\n",
       "      <td>2010-01-15 12:43:00</td>\n",
       "      <td>0.0</td>\n",
       "      <td>16858.0</td>\n",
       "      <td>United Kingdom</td>\n",
       "    </tr>\n",
       "    <tr>\n",
       "      <th>111348</th>\n",
       "      <td>500073</td>\n",
       "      <td>21662</td>\n",
       "      <td>VINTAGE GLASS COFFEE CADDY</td>\n",
       "      <td>1</td>\n",
       "      <td>2010-03-04 11:44:00</td>\n",
       "      <td>0.0</td>\n",
       "      <td>13047.0</td>\n",
       "      <td>United Kingdom</td>\n",
       "    </tr>\n",
       "    <tr>\n",
       "      <th>149201</th>\n",
       "      <td>503585</td>\n",
       "      <td>22459</td>\n",
       "      <td>CAST IRON HOOK GARDEN TROWEL</td>\n",
       "      <td>8</td>\n",
       "      <td>2010-04-01 17:13:00</td>\n",
       "      <td>0.0</td>\n",
       "      <td>13047.0</td>\n",
       "      <td>United Kingdom</td>\n",
       "    </tr>\n",
       "    <tr>\n",
       "      <th>149202</th>\n",
       "      <td>503585</td>\n",
       "      <td>22458</td>\n",
       "      <td>CAST IRON HOOK GARDEN FORK</td>\n",
       "      <td>8</td>\n",
       "      <td>2010-04-01 17:13:00</td>\n",
       "      <td>0.0</td>\n",
       "      <td>13047.0</td>\n",
       "      <td>United Kingdom</td>\n",
       "    </tr>\n",
       "    <tr>\n",
       "      <th>166143</th>\n",
       "      <td>505083</td>\n",
       "      <td>22376</td>\n",
       "      <td>AIRLINE BAG VINTAGE JET SET WHITE</td>\n",
       "      <td>1</td>\n",
       "      <td>2010-04-20 09:56:00</td>\n",
       "      <td>0.0</td>\n",
       "      <td>12623.0</td>\n",
       "      <td>Germany</td>\n",
       "    </tr>\n",
       "    <tr>\n",
       "      <th>232526</th>\n",
       "      <td>511902</td>\n",
       "      <td>21765</td>\n",
       "      <td>HANGING METAL BIRD BATH</td>\n",
       "      <td>1</td>\n",
       "      <td>2010-06-11 11:12:00</td>\n",
       "      <td>0.0</td>\n",
       "      <td>12748.0</td>\n",
       "      <td>United Kingdom</td>\n",
       "    </tr>\n",
       "    <tr>\n",
       "      <th>240455</th>\n",
       "      <td>512609</td>\n",
       "      <td>20914</td>\n",
       "      <td>SET/5 RED SPOTTY LID GLASS BOWLS</td>\n",
       "      <td>2</td>\n",
       "      <td>2010-06-17 10:12:00</td>\n",
       "      <td>0.0</td>\n",
       "      <td>14045.0</td>\n",
       "      <td>United Kingdom</td>\n",
       "    </tr>\n",
       "    <tr>\n",
       "      <th>248583</th>\n",
       "      <td>513416</td>\n",
       "      <td>22423</td>\n",
       "      <td>REGENCY CAKESTAND 3 TIER</td>\n",
       "      <td>5</td>\n",
       "      <td>2010-06-24 12:34:00</td>\n",
       "      <td>0.0</td>\n",
       "      <td>13089.0</td>\n",
       "      <td>United Kingdom</td>\n",
       "    </tr>\n",
       "    <tr>\n",
       "      <th>276858</th>\n",
       "      <td>516304</td>\n",
       "      <td>22690</td>\n",
       "      <td>DOORMAT HOME SWEET HOME BLUE</td>\n",
       "      <td>6</td>\n",
       "      <td>2010-07-19 13:13:00</td>\n",
       "      <td>0.0</td>\n",
       "      <td>14025.0</td>\n",
       "      <td>United Kingdom</td>\n",
       "    </tr>\n",
       "    <tr>\n",
       "      <th>296375</th>\n",
       "      <td>518231</td>\n",
       "      <td>22472</td>\n",
       "      <td>TV DINNER TRAY DOLLY GIRL</td>\n",
       "      <td>9</td>\n",
       "      <td>2010-08-05 15:28:00</td>\n",
       "      <td>0.0</td>\n",
       "      <td>12471.0</td>\n",
       "      <td>Germany</td>\n",
       "    </tr>\n",
       "    <tr>\n",
       "      <th>327801</th>\n",
       "      <td>521375</td>\n",
       "      <td>22202</td>\n",
       "      <td>MILK PAN PINK RETROSPOT</td>\n",
       "      <td>3</td>\n",
       "      <td>2010-09-05 11:58:00</td>\n",
       "      <td>0.0</td>\n",
       "      <td>12647.0</td>\n",
       "      <td>Germany</td>\n",
       "    </tr>\n",
       "    <tr>\n",
       "      <th>358820</th>\n",
       "      <td>524181</td>\n",
       "      <td>46000M</td>\n",
       "      <td>POLYESTER FILLER PAD 45x45cm</td>\n",
       "      <td>648</td>\n",
       "      <td>2010-09-27 16:59:00</td>\n",
       "      <td>0.0</td>\n",
       "      <td>17450.0</td>\n",
       "      <td>United Kingdom</td>\n",
       "    </tr>\n",
       "    <tr>\n",
       "      <th>364333</th>\n",
       "      <td>524701</td>\n",
       "      <td>22218</td>\n",
       "      <td>CAKE STAND LACE WHITE</td>\n",
       "      <td>2</td>\n",
       "      <td>2010-09-30 12:19:00</td>\n",
       "      <td>0.0</td>\n",
       "      <td>17667.0</td>\n",
       "      <td>United Kingdom</td>\n",
       "    </tr>\n",
       "    <tr>\n",
       "      <th>392008</th>\n",
       "      <td>527084</td>\n",
       "      <td>22630</td>\n",
       "      <td>DOLLY GIRL LUNCH BOX</td>\n",
       "      <td>64</td>\n",
       "      <td>2010-10-14 15:33:00</td>\n",
       "      <td>0.0</td>\n",
       "      <td>14646.0</td>\n",
       "      <td>Netherlands</td>\n",
       "    </tr>\n",
       "    <tr>\n",
       "      <th>400047</th>\n",
       "      <td>527696</td>\n",
       "      <td>22121</td>\n",
       "      <td>NOEL WOODEN BLOCK LETTERS</td>\n",
       "      <td>1</td>\n",
       "      <td>2010-10-18 15:13:00</td>\n",
       "      <td>0.0</td>\n",
       "      <td>13554.0</td>\n",
       "      <td>United Kingdom</td>\n",
       "    </tr>\n",
       "    <tr>\n",
       "      <th>439309</th>\n",
       "      <td>531361</td>\n",
       "      <td>21843</td>\n",
       "      <td>RED RETROSPOT CAKE STAND</td>\n",
       "      <td>2</td>\n",
       "      <td>2010-11-07 14:26:00</td>\n",
       "      <td>0.0</td>\n",
       "      <td>12820.0</td>\n",
       "      <td>United Kingdom</td>\n",
       "    </tr>\n",
       "    <tr>\n",
       "      <th>453705</th>\n",
       "      <td>532470</td>\n",
       "      <td>22624</td>\n",
       "      <td>IVORY KITCHEN SCALES</td>\n",
       "      <td>2</td>\n",
       "      <td>2010-11-12 11:41:00</td>\n",
       "      <td>0.0</td>\n",
       "      <td>12647.0</td>\n",
       "      <td>Germany</td>\n",
       "    </tr>\n",
       "    <tr>\n",
       "      <th>471775</th>\n",
       "      <td>533822</td>\n",
       "      <td>22846</td>\n",
       "      <td>BREAD BIN DINER STYLE RED</td>\n",
       "      <td>1</td>\n",
       "      <td>2010-11-19 09:40:00</td>\n",
       "      <td>0.0</td>\n",
       "      <td>12647.0</td>\n",
       "      <td>Germany</td>\n",
       "    </tr>\n",
       "    <tr>\n",
       "      <th>471776</th>\n",
       "      <td>533822</td>\n",
       "      <td>22845</td>\n",
       "      <td>VINTAGE CREAM CAT FOOD CONTAINER</td>\n",
       "      <td>1</td>\n",
       "      <td>2010-11-19 09:40:00</td>\n",
       "      <td>0.0</td>\n",
       "      <td>12647.0</td>\n",
       "      <td>Germany</td>\n",
       "    </tr>\n",
       "    <tr>\n",
       "      <th>512240</th>\n",
       "      <td>537197</td>\n",
       "      <td>22841</td>\n",
       "      <td>ROUND CAKE TIN VINTAGE GREEN</td>\n",
       "      <td>1</td>\n",
       "      <td>2010-12-05 14:02:00</td>\n",
       "      <td>0.0</td>\n",
       "      <td>12647.0</td>\n",
       "      <td>Germany</td>\n",
       "    </tr>\n",
       "    <tr>\n",
       "      <th>534763</th>\n",
       "      <td>537197</td>\n",
       "      <td>22841</td>\n",
       "      <td>ROUND CAKE TIN VINTAGE GREEN</td>\n",
       "      <td>1</td>\n",
       "      <td>2010-12-05 14:02:00</td>\n",
       "      <td>0.0</td>\n",
       "      <td>12647.0</td>\n",
       "      <td>Germany</td>\n",
       "    </tr>\n",
       "    <tr>\n",
       "      <th>559037</th>\n",
       "      <td>539263</td>\n",
       "      <td>22580</td>\n",
       "      <td>ADVENT CALENDAR GINGHAM SACK</td>\n",
       "      <td>4</td>\n",
       "      <td>2010-12-16 14:36:00</td>\n",
       "      <td>0.0</td>\n",
       "      <td>16560.0</td>\n",
       "      <td>United Kingdom</td>\n",
       "    </tr>\n",
       "    <tr>\n",
       "      <th>565550</th>\n",
       "      <td>539722</td>\n",
       "      <td>22423</td>\n",
       "      <td>REGENCY CAKESTAND 3 TIER</td>\n",
       "      <td>10</td>\n",
       "      <td>2010-12-21 13:45:00</td>\n",
       "      <td>0.0</td>\n",
       "      <td>14911.0</td>\n",
       "      <td>EIRE</td>\n",
       "    </tr>\n",
       "    <tr>\n",
       "      <th>572529</th>\n",
       "      <td>540372</td>\n",
       "      <td>22090</td>\n",
       "      <td>PAPER BUNTING RETROSPOT</td>\n",
       "      <td>24</td>\n",
       "      <td>2011-01-06 16:41:00</td>\n",
       "      <td>0.0</td>\n",
       "      <td>13081.0</td>\n",
       "      <td>United Kingdom</td>\n",
       "    </tr>\n",
       "    <tr>\n",
       "      <th>572531</th>\n",
       "      <td>540372</td>\n",
       "      <td>22553</td>\n",
       "      <td>PLASTERS IN TIN SKULLS</td>\n",
       "      <td>24</td>\n",
       "      <td>2011-01-06 16:41:00</td>\n",
       "      <td>0.0</td>\n",
       "      <td>13081.0</td>\n",
       "      <td>United Kingdom</td>\n",
       "    </tr>\n",
       "    <tr>\n",
       "      <th>582135</th>\n",
       "      <td>541109</td>\n",
       "      <td>22168</td>\n",
       "      <td>ORGANISER WOOD ANTIQUE WHITE</td>\n",
       "      <td>1</td>\n",
       "      <td>2011-01-13 15:10:00</td>\n",
       "      <td>0.0</td>\n",
       "      <td>15107.0</td>\n",
       "      <td>United Kingdom</td>\n",
       "    </tr>\n",
       "    <tr>\n",
       "      <th>612250</th>\n",
       "      <td>543599</td>\n",
       "      <td>84535B</td>\n",
       "      <td>FAIRY CAKES NOTEBOOK A6 SIZE</td>\n",
       "      <td>16</td>\n",
       "      <td>2011-02-10 13:08:00</td>\n",
       "      <td>0.0</td>\n",
       "      <td>17560.0</td>\n",
       "      <td>United Kingdom</td>\n",
       "    </tr>\n",
       "    <tr>\n",
       "      <th>655649</th>\n",
       "      <td>547417</td>\n",
       "      <td>22062</td>\n",
       "      <td>CERAMIC BOWL WITH LOVE HEART DESIGN</td>\n",
       "      <td>36</td>\n",
       "      <td>2011-03-23 10:25:00</td>\n",
       "      <td>0.0</td>\n",
       "      <td>13239.0</td>\n",
       "      <td>United Kingdom</td>\n",
       "    </tr>\n",
       "    <tr>\n",
       "      <th>664914</th>\n",
       "      <td>548318</td>\n",
       "      <td>22055</td>\n",
       "      <td>MINI CAKE STAND  HANGING STRAWBERY</td>\n",
       "      <td>5</td>\n",
       "      <td>2011-03-30 12:45:00</td>\n",
       "      <td>0.0</td>\n",
       "      <td>13113.0</td>\n",
       "      <td>United Kingdom</td>\n",
       "    </tr>\n",
       "    <tr>\n",
       "      <th>670669</th>\n",
       "      <td>548871</td>\n",
       "      <td>22162</td>\n",
       "      <td>HEART GARLAND RUSTIC PADDED</td>\n",
       "      <td>2</td>\n",
       "      <td>2011-04-04 14:42:00</td>\n",
       "      <td>0.0</td>\n",
       "      <td>14410.0</td>\n",
       "      <td>United Kingdom</td>\n",
       "    </tr>\n",
       "    <tr>\n",
       "      <th>682503</th>\n",
       "      <td>550188</td>\n",
       "      <td>22636</td>\n",
       "      <td>CHILDS BREAKFAST SET CIRCUS PARADE</td>\n",
       "      <td>1</td>\n",
       "      <td>2011-04-14 18:57:00</td>\n",
       "      <td>0.0</td>\n",
       "      <td>12457.0</td>\n",
       "      <td>Switzerland</td>\n",
       "    </tr>\n",
       "    <tr>\n",
       "      <th>713074</th>\n",
       "      <td>553000</td>\n",
       "      <td>47566</td>\n",
       "      <td>PARTY BUNTING</td>\n",
       "      <td>4</td>\n",
       "      <td>2011-05-12 15:21:00</td>\n",
       "      <td>0.0</td>\n",
       "      <td>17667.0</td>\n",
       "      <td>United Kingdom</td>\n",
       "    </tr>\n",
       "    <tr>\n",
       "      <th>723844</th>\n",
       "      <td>554037</td>\n",
       "      <td>22619</td>\n",
       "      <td>SET OF 6 SOLDIER SKITTLES</td>\n",
       "      <td>80</td>\n",
       "      <td>2011-05-20 14:13:00</td>\n",
       "      <td>0.0</td>\n",
       "      <td>12415.0</td>\n",
       "      <td>Australia</td>\n",
       "    </tr>\n",
       "    <tr>\n",
       "      <th>804784</th>\n",
       "      <td>561284</td>\n",
       "      <td>22167</td>\n",
       "      <td>OVAL WALL MIRROR DIAMANTE</td>\n",
       "      <td>1</td>\n",
       "      <td>2011-07-26 12:24:00</td>\n",
       "      <td>0.0</td>\n",
       "      <td>16818.0</td>\n",
       "      <td>United Kingdom</td>\n",
       "    </tr>\n",
       "    <tr>\n",
       "      <th>808373</th>\n",
       "      <td>561669</td>\n",
       "      <td>22960</td>\n",
       "      <td>JAM MAKING SET WITH JARS</td>\n",
       "      <td>11</td>\n",
       "      <td>2011-07-28 17:09:00</td>\n",
       "      <td>0.0</td>\n",
       "      <td>12507.0</td>\n",
       "      <td>Spain</td>\n",
       "    </tr>\n",
       "    <tr>\n",
       "      <th>811118</th>\n",
       "      <td>561916</td>\n",
       "      <td>M</td>\n",
       "      <td>Manual</td>\n",
       "      <td>1</td>\n",
       "      <td>2011-08-01 11:44:00</td>\n",
       "      <td>0.0</td>\n",
       "      <td>15581.0</td>\n",
       "      <td>United Kingdom</td>\n",
       "    </tr>\n",
       "    <tr>\n",
       "      <th>823515</th>\n",
       "      <td>562973</td>\n",
       "      <td>23157</td>\n",
       "      <td>SET OF 6 NATIVITY MAGNETS</td>\n",
       "      <td>240</td>\n",
       "      <td>2011-08-11 11:42:00</td>\n",
       "      <td>0.0</td>\n",
       "      <td>14911.0</td>\n",
       "      <td>EIRE</td>\n",
       "    </tr>\n",
       "    <tr>\n",
       "      <th>840206</th>\n",
       "      <td>564651</td>\n",
       "      <td>23270</td>\n",
       "      <td>SET OF 2 CERAMIC PAINTED HEARTS</td>\n",
       "      <td>96</td>\n",
       "      <td>2011-08-26 14:19:00</td>\n",
       "      <td>0.0</td>\n",
       "      <td>14646.0</td>\n",
       "      <td>Netherlands</td>\n",
       "    </tr>\n",
       "    <tr>\n",
       "      <th>840207</th>\n",
       "      <td>564651</td>\n",
       "      <td>23268</td>\n",
       "      <td>SET OF 2 CERAMIC CHRISTMAS REINDEER</td>\n",
       "      <td>192</td>\n",
       "      <td>2011-08-26 14:19:00</td>\n",
       "      <td>0.0</td>\n",
       "      <td>14646.0</td>\n",
       "      <td>Netherlands</td>\n",
       "    </tr>\n",
       "    <tr>\n",
       "      <th>840208</th>\n",
       "      <td>564651</td>\n",
       "      <td>22955</td>\n",
       "      <td>36 FOIL STAR CAKE CASES</td>\n",
       "      <td>144</td>\n",
       "      <td>2011-08-26 14:19:00</td>\n",
       "      <td>0.0</td>\n",
       "      <td>14646.0</td>\n",
       "      <td>Netherlands</td>\n",
       "    </tr>\n",
       "    <tr>\n",
       "      <th>840209</th>\n",
       "      <td>564651</td>\n",
       "      <td>21786</td>\n",
       "      <td>POLKADOT RAIN HAT</td>\n",
       "      <td>144</td>\n",
       "      <td>2011-08-26 14:19:00</td>\n",
       "      <td>0.0</td>\n",
       "      <td>14646.0</td>\n",
       "      <td>Netherlands</td>\n",
       "    </tr>\n",
       "    <tr>\n",
       "      <th>884131</th>\n",
       "      <td>568158</td>\n",
       "      <td>PADS</td>\n",
       "      <td>PADS TO MATCH ALL CUSHIONS</td>\n",
       "      <td>1</td>\n",
       "      <td>2011-09-25 12:22:00</td>\n",
       "      <td>0.0</td>\n",
       "      <td>16133.0</td>\n",
       "      <td>United Kingdom</td>\n",
       "    </tr>\n",
       "    <tr>\n",
       "      <th>887286</th>\n",
       "      <td>568384</td>\n",
       "      <td>M</td>\n",
       "      <td>Manual</td>\n",
       "      <td>1</td>\n",
       "      <td>2011-09-27 09:46:00</td>\n",
       "      <td>0.0</td>\n",
       "      <td>12748.0</td>\n",
       "      <td>United Kingdom</td>\n",
       "    </tr>\n",
       "    <tr>\n",
       "      <th>905374</th>\n",
       "      <td>569716</td>\n",
       "      <td>22778</td>\n",
       "      <td>GLASS CLOCHE SMALL</td>\n",
       "      <td>2</td>\n",
       "      <td>2011-10-06 08:17:00</td>\n",
       "      <td>0.0</td>\n",
       "      <td>15804.0</td>\n",
       "      <td>United Kingdom</td>\n",
       "    </tr>\n",
       "    <tr>\n",
       "      <th>920990</th>\n",
       "      <td>571035</td>\n",
       "      <td>M</td>\n",
       "      <td>Manual</td>\n",
       "      <td>1</td>\n",
       "      <td>2011-10-13 12:50:00</td>\n",
       "      <td>0.0</td>\n",
       "      <td>12446.0</td>\n",
       "      <td>RSA</td>\n",
       "    </tr>\n",
       "    <tr>\n",
       "      <th>945865</th>\n",
       "      <td>572893</td>\n",
       "      <td>21208</td>\n",
       "      <td>PASTEL COLOUR HONEYCOMB FAN</td>\n",
       "      <td>5</td>\n",
       "      <td>2011-10-26 14:36:00</td>\n",
       "      <td>0.0</td>\n",
       "      <td>18059.0</td>\n",
       "      <td>United Kingdom</td>\n",
       "    </tr>\n",
       "    <tr>\n",
       "      <th>961889</th>\n",
       "      <td>574138</td>\n",
       "      <td>23234</td>\n",
       "      <td>BISCUIT TIN VINTAGE CHRISTMAS</td>\n",
       "      <td>216</td>\n",
       "      <td>2011-11-03 11:26:00</td>\n",
       "      <td>0.0</td>\n",
       "      <td>12415.0</td>\n",
       "      <td>Australia</td>\n",
       "    </tr>\n",
       "    <tr>\n",
       "      <th>962058</th>\n",
       "      <td>574175</td>\n",
       "      <td>22065</td>\n",
       "      <td>CHRISTMAS PUDDING TRINKET POT</td>\n",
       "      <td>12</td>\n",
       "      <td>2011-11-03 11:47:00</td>\n",
       "      <td>0.0</td>\n",
       "      <td>14110.0</td>\n",
       "      <td>United Kingdom</td>\n",
       "    </tr>\n",
       "    <tr>\n",
       "      <th>962422</th>\n",
       "      <td>574252</td>\n",
       "      <td>M</td>\n",
       "      <td>Manual</td>\n",
       "      <td>1</td>\n",
       "      <td>2011-11-03 13:24:00</td>\n",
       "      <td>0.0</td>\n",
       "      <td>12437.0</td>\n",
       "      <td>France</td>\n",
       "    </tr>\n",
       "    <tr>\n",
       "      <th>964822</th>\n",
       "      <td>574469</td>\n",
       "      <td>22385</td>\n",
       "      <td>JUMBO BAG SPACEBOY DESIGN</td>\n",
       "      <td>12</td>\n",
       "      <td>2011-11-04 11:55:00</td>\n",
       "      <td>0.0</td>\n",
       "      <td>12431.0</td>\n",
       "      <td>Australia</td>\n",
       "    </tr>\n",
       "    <tr>\n",
       "      <th>971586</th>\n",
       "      <td>574879</td>\n",
       "      <td>22625</td>\n",
       "      <td>RED KITCHEN SCALES</td>\n",
       "      <td>2</td>\n",
       "      <td>2011-11-07 13:22:00</td>\n",
       "      <td>0.0</td>\n",
       "      <td>13014.0</td>\n",
       "      <td>United Kingdom</td>\n",
       "    </tr>\n",
       "    <tr>\n",
       "      <th>972254</th>\n",
       "      <td>574920</td>\n",
       "      <td>22899</td>\n",
       "      <td>CHILDREN'S APRON DOLLY GIRL</td>\n",
       "      <td>1</td>\n",
       "      <td>2011-11-07 16:34:00</td>\n",
       "      <td>0.0</td>\n",
       "      <td>13985.0</td>\n",
       "      <td>United Kingdom</td>\n",
       "    </tr>\n",
       "    <tr>\n",
       "      <th>972255</th>\n",
       "      <td>574920</td>\n",
       "      <td>23480</td>\n",
       "      <td>MINI LIGHTS WOODLAND MUSHROOMS</td>\n",
       "      <td>1</td>\n",
       "      <td>2011-11-07 16:34:00</td>\n",
       "      <td>0.0</td>\n",
       "      <td>13985.0</td>\n",
       "      <td>United Kingdom</td>\n",
       "    </tr>\n",
       "    <tr>\n",
       "      <th>979924</th>\n",
       "      <td>575579</td>\n",
       "      <td>22437</td>\n",
       "      <td>SET OF 9 BLACK SKULL BALLOONS</td>\n",
       "      <td>20</td>\n",
       "      <td>2011-11-10 11:49:00</td>\n",
       "      <td>0.0</td>\n",
       "      <td>13081.0</td>\n",
       "      <td>United Kingdom</td>\n",
       "    </tr>\n",
       "    <tr>\n",
       "      <th>979925</th>\n",
       "      <td>575579</td>\n",
       "      <td>22089</td>\n",
       "      <td>PAPER BUNTING VINTAGE PAISLEY</td>\n",
       "      <td>24</td>\n",
       "      <td>2011-11-10 11:49:00</td>\n",
       "      <td>0.0</td>\n",
       "      <td>13081.0</td>\n",
       "      <td>United Kingdom</td>\n",
       "    </tr>\n",
       "    <tr>\n",
       "      <th>1004540</th>\n",
       "      <td>577129</td>\n",
       "      <td>22464</td>\n",
       "      <td>HANGING METAL HEART LANTERN</td>\n",
       "      <td>4</td>\n",
       "      <td>2011-11-17 19:52:00</td>\n",
       "      <td>0.0</td>\n",
       "      <td>15602.0</td>\n",
       "      <td>United Kingdom</td>\n",
       "    </tr>\n",
       "    <tr>\n",
       "      <th>1005014</th>\n",
       "      <td>577168</td>\n",
       "      <td>M</td>\n",
       "      <td>Manual</td>\n",
       "      <td>1</td>\n",
       "      <td>2011-11-18 10:42:00</td>\n",
       "      <td>0.0</td>\n",
       "      <td>12603.0</td>\n",
       "      <td>Germany</td>\n",
       "    </tr>\n",
       "    <tr>\n",
       "      <th>1006110</th>\n",
       "      <td>577314</td>\n",
       "      <td>23407</td>\n",
       "      <td>SET OF 2 TRAYS HOME SWEET HOME</td>\n",
       "      <td>2</td>\n",
       "      <td>2011-11-18 13:23:00</td>\n",
       "      <td>0.0</td>\n",
       "      <td>12444.0</td>\n",
       "      <td>Norway</td>\n",
       "    </tr>\n",
       "    <tr>\n",
       "      <th>1011446</th>\n",
       "      <td>577696</td>\n",
       "      <td>M</td>\n",
       "      <td>Manual</td>\n",
       "      <td>1</td>\n",
       "      <td>2011-11-21 11:57:00</td>\n",
       "      <td>0.0</td>\n",
       "      <td>16406.0</td>\n",
       "      <td>United Kingdom</td>\n",
       "    </tr>\n",
       "    <tr>\n",
       "      <th>1027583</th>\n",
       "      <td>578841</td>\n",
       "      <td>84826</td>\n",
       "      <td>ASSTD DESIGN 3D PAPER STICKERS</td>\n",
       "      <td>12540</td>\n",
       "      <td>2011-11-25 15:57:00</td>\n",
       "      <td>0.0</td>\n",
       "      <td>13256.0</td>\n",
       "      <td>United Kingdom</td>\n",
       "    </tr>\n",
       "  </tbody>\n",
       "</table>\n",
       "</div>"
      ],
      "text/plain": [
       "        Invoice StockCode                          Description  Quantity  \\\n",
       "4674     489825     22076                   6 RIBBONS EMPIRE          12   \n",
       "6781     489998     48185                  DOOR MAT FAIRY CAKE         2   \n",
       "16107    490727         M                               Manual         1   \n",
       "18738    490961     22065       CHRISTMAS PUDDING TRINKET POT          1   \n",
       "18739    490961     22142         CHRISTMAS CRAFT WHITE FAIRY         12   \n",
       "32916    492079     85042            ANTIQUE LILY FAIRY LIGHTS         8   \n",
       "40101    492760     21143      ANTIQUE GLASS HEART DECORATION         12   \n",
       "47126    493761     79320                      FLAMINGO LIGHTS        24   \n",
       "48342    493899     22355          CHARLOTTE BAG , SUKI DESIGN        10   \n",
       "57619    494607     21533            RETRO SPOT LARGE MILK JUG        12   \n",
       "111348   500073     21662           VINTAGE GLASS COFFEE CADDY         1   \n",
       "149201   503585     22459         CAST IRON HOOK GARDEN TROWEL         8   \n",
       "149202   503585     22458           CAST IRON HOOK GARDEN FORK         8   \n",
       "166143   505083     22376    AIRLINE BAG VINTAGE JET SET WHITE         1   \n",
       "232526   511902     21765              HANGING METAL BIRD BATH         1   \n",
       "240455   512609     20914     SET/5 RED SPOTTY LID GLASS BOWLS         2   \n",
       "248583   513416     22423             REGENCY CAKESTAND 3 TIER         5   \n",
       "276858   516304     22690        DOORMAT HOME SWEET HOME BLUE          6   \n",
       "296375   518231     22472            TV DINNER TRAY DOLLY GIRL         9   \n",
       "327801   521375     22202              MILK PAN PINK RETROSPOT         3   \n",
       "358820   524181    46000M         POLYESTER FILLER PAD 45x45cm       648   \n",
       "364333   524701     22218                CAKE STAND LACE WHITE         2   \n",
       "392008   527084     22630                 DOLLY GIRL LUNCH BOX        64   \n",
       "400047   527696     22121           NOEL WOODEN BLOCK LETTERS          1   \n",
       "439309   531361     21843             RED RETROSPOT CAKE STAND         2   \n",
       "453705   532470     22624                 IVORY KITCHEN SCALES         2   \n",
       "471775   533822     22846           BREAD BIN DINER STYLE RED          1   \n",
       "471776   533822     22845     VINTAGE CREAM CAT FOOD CONTAINER         1   \n",
       "512240   537197     22841         ROUND CAKE TIN VINTAGE GREEN         1   \n",
       "534763   537197     22841         ROUND CAKE TIN VINTAGE GREEN         1   \n",
       "559037   539263     22580         ADVENT CALENDAR GINGHAM SACK         4   \n",
       "565550   539722     22423             REGENCY CAKESTAND 3 TIER        10   \n",
       "572529   540372     22090              PAPER BUNTING RETROSPOT        24   \n",
       "572531   540372     22553               PLASTERS IN TIN SKULLS        24   \n",
       "582135   541109     22168        ORGANISER WOOD ANTIQUE WHITE          1   \n",
       "612250   543599    84535B         FAIRY CAKES NOTEBOOK A6 SIZE        16   \n",
       "655649   547417     22062  CERAMIC BOWL WITH LOVE HEART DESIGN        36   \n",
       "664914   548318     22055   MINI CAKE STAND  HANGING STRAWBERY         5   \n",
       "670669   548871     22162          HEART GARLAND RUSTIC PADDED         2   \n",
       "682503   550188     22636   CHILDS BREAKFAST SET CIRCUS PARADE         1   \n",
       "713074   553000     47566                        PARTY BUNTING         4   \n",
       "723844   554037     22619            SET OF 6 SOLDIER SKITTLES        80   \n",
       "804784   561284     22167           OVAL WALL MIRROR DIAMANTE          1   \n",
       "808373   561669     22960             JAM MAKING SET WITH JARS        11   \n",
       "811118   561916         M                               Manual         1   \n",
       "823515   562973     23157           SET OF 6 NATIVITY MAGNETS        240   \n",
       "840206   564651     23270     SET OF 2 CERAMIC PAINTED HEARTS         96   \n",
       "840207   564651     23268  SET OF 2 CERAMIC CHRISTMAS REINDEER       192   \n",
       "840208   564651     22955             36 FOIL STAR CAKE CASES        144   \n",
       "840209   564651     21786                   POLKADOT RAIN HAT        144   \n",
       "884131   568158      PADS           PADS TO MATCH ALL CUSHIONS         1   \n",
       "887286   568384         M                               Manual         1   \n",
       "905374   569716     22778                   GLASS CLOCHE SMALL         2   \n",
       "920990   571035         M                               Manual         1   \n",
       "945865   572893     21208          PASTEL COLOUR HONEYCOMB FAN         5   \n",
       "961889   574138     23234        BISCUIT TIN VINTAGE CHRISTMAS       216   \n",
       "962058   574175     22065       CHRISTMAS PUDDING TRINKET POT         12   \n",
       "962422   574252         M                               Manual         1   \n",
       "964822   574469     22385            JUMBO BAG SPACEBOY DESIGN        12   \n",
       "971586   574879     22625                   RED KITCHEN SCALES         2   \n",
       "972254   574920     22899         CHILDREN'S APRON DOLLY GIRL          1   \n",
       "972255   574920     23480       MINI LIGHTS WOODLAND MUSHROOMS         1   \n",
       "979924   575579     22437        SET OF 9 BLACK SKULL BALLOONS        20   \n",
       "979925   575579     22089        PAPER BUNTING VINTAGE PAISLEY        24   \n",
       "1004540  577129     22464          HANGING METAL HEART LANTERN         4   \n",
       "1005014  577168         M                               Manual         1   \n",
       "1006110  577314     23407       SET OF 2 TRAYS HOME SWEET HOME         2   \n",
       "1011446  577696         M                               Manual         1   \n",
       "1027583  578841     84826       ASSTD DESIGN 3D PAPER STICKERS     12540   \n",
       "\n",
       "                InvoiceDate  Price Customer ID         Country  \n",
       "4674    2009-12-02 13:34:00    0.0     16126.0  United Kingdom  \n",
       "6781    2009-12-03 11:19:00    0.0     15658.0  United Kingdom  \n",
       "16107   2009-12-07 16:38:00    0.0     17231.0  United Kingdom  \n",
       "18738   2009-12-08 15:25:00    0.0     14108.0  United Kingdom  \n",
       "18739   2009-12-08 15:25:00    0.0     14108.0  United Kingdom  \n",
       "32916   2009-12-15 13:49:00    0.0     15070.0  United Kingdom  \n",
       "40101   2009-12-18 14:22:00    0.0     18071.0  United Kingdom  \n",
       "47126   2010-01-06 14:54:00    0.0     14258.0  United Kingdom  \n",
       "48342   2010-01-08 10:43:00    0.0     12417.0         Belgium  \n",
       "57619   2010-01-15 12:43:00    0.0     16858.0  United Kingdom  \n",
       "111348  2010-03-04 11:44:00    0.0     13047.0  United Kingdom  \n",
       "149201  2010-04-01 17:13:00    0.0     13047.0  United Kingdom  \n",
       "149202  2010-04-01 17:13:00    0.0     13047.0  United Kingdom  \n",
       "166143  2010-04-20 09:56:00    0.0     12623.0         Germany  \n",
       "232526  2010-06-11 11:12:00    0.0     12748.0  United Kingdom  \n",
       "240455  2010-06-17 10:12:00    0.0     14045.0  United Kingdom  \n",
       "248583  2010-06-24 12:34:00    0.0     13089.0  United Kingdom  \n",
       "276858  2010-07-19 13:13:00    0.0     14025.0  United Kingdom  \n",
       "296375  2010-08-05 15:28:00    0.0     12471.0         Germany  \n",
       "327801  2010-09-05 11:58:00    0.0     12647.0         Germany  \n",
       "358820  2010-09-27 16:59:00    0.0     17450.0  United Kingdom  \n",
       "364333  2010-09-30 12:19:00    0.0     17667.0  United Kingdom  \n",
       "392008  2010-10-14 15:33:00    0.0     14646.0     Netherlands  \n",
       "400047  2010-10-18 15:13:00    0.0     13554.0  United Kingdom  \n",
       "439309  2010-11-07 14:26:00    0.0     12820.0  United Kingdom  \n",
       "453705  2010-11-12 11:41:00    0.0     12647.0         Germany  \n",
       "471775  2010-11-19 09:40:00    0.0     12647.0         Germany  \n",
       "471776  2010-11-19 09:40:00    0.0     12647.0         Germany  \n",
       "512240  2010-12-05 14:02:00    0.0     12647.0         Germany  \n",
       "534763  2010-12-05 14:02:00    0.0     12647.0         Germany  \n",
       "559037  2010-12-16 14:36:00    0.0     16560.0  United Kingdom  \n",
       "565550  2010-12-21 13:45:00    0.0     14911.0            EIRE  \n",
       "572529  2011-01-06 16:41:00    0.0     13081.0  United Kingdom  \n",
       "572531  2011-01-06 16:41:00    0.0     13081.0  United Kingdom  \n",
       "582135  2011-01-13 15:10:00    0.0     15107.0  United Kingdom  \n",
       "612250  2011-02-10 13:08:00    0.0     17560.0  United Kingdom  \n",
       "655649  2011-03-23 10:25:00    0.0     13239.0  United Kingdom  \n",
       "664914  2011-03-30 12:45:00    0.0     13113.0  United Kingdom  \n",
       "670669  2011-04-04 14:42:00    0.0     14410.0  United Kingdom  \n",
       "682503  2011-04-14 18:57:00    0.0     12457.0     Switzerland  \n",
       "713074  2011-05-12 15:21:00    0.0     17667.0  United Kingdom  \n",
       "723844  2011-05-20 14:13:00    0.0     12415.0       Australia  \n",
       "804784  2011-07-26 12:24:00    0.0     16818.0  United Kingdom  \n",
       "808373  2011-07-28 17:09:00    0.0     12507.0           Spain  \n",
       "811118  2011-08-01 11:44:00    0.0     15581.0  United Kingdom  \n",
       "823515  2011-08-11 11:42:00    0.0     14911.0            EIRE  \n",
       "840206  2011-08-26 14:19:00    0.0     14646.0     Netherlands  \n",
       "840207  2011-08-26 14:19:00    0.0     14646.0     Netherlands  \n",
       "840208  2011-08-26 14:19:00    0.0     14646.0     Netherlands  \n",
       "840209  2011-08-26 14:19:00    0.0     14646.0     Netherlands  \n",
       "884131  2011-09-25 12:22:00    0.0     16133.0  United Kingdom  \n",
       "887286  2011-09-27 09:46:00    0.0     12748.0  United Kingdom  \n",
       "905374  2011-10-06 08:17:00    0.0     15804.0  United Kingdom  \n",
       "920990  2011-10-13 12:50:00    0.0     12446.0             RSA  \n",
       "945865  2011-10-26 14:36:00    0.0     18059.0  United Kingdom  \n",
       "961889  2011-11-03 11:26:00    0.0     12415.0       Australia  \n",
       "962058  2011-11-03 11:47:00    0.0     14110.0  United Kingdom  \n",
       "962422  2011-11-03 13:24:00    0.0     12437.0          France  \n",
       "964822  2011-11-04 11:55:00    0.0     12431.0       Australia  \n",
       "971586  2011-11-07 13:22:00    0.0     13014.0  United Kingdom  \n",
       "972254  2011-11-07 16:34:00    0.0     13985.0  United Kingdom  \n",
       "972255  2011-11-07 16:34:00    0.0     13985.0  United Kingdom  \n",
       "979924  2011-11-10 11:49:00    0.0     13081.0  United Kingdom  \n",
       "979925  2011-11-10 11:49:00    0.0     13081.0  United Kingdom  \n",
       "1004540 2011-11-17 19:52:00    0.0     15602.0  United Kingdom  \n",
       "1005014 2011-11-18 10:42:00    0.0     12603.0         Germany  \n",
       "1006110 2011-11-18 13:23:00    0.0     12444.0          Norway  \n",
       "1011446 2011-11-21 11:57:00    0.0     16406.0  United Kingdom  \n",
       "1027583 2011-11-25 15:57:00    0.0     13256.0  United Kingdom  "
      ]
     },
     "execution_count": 51,
     "metadata": {},
     "output_type": "execute_result"
    }
   ],
   "source": [
    "df = df[~df['Price'] <= 0]"
   ]
  },
  {
   "cell_type": "code",
   "execution_count": 43,
   "id": "969a0d77",
   "metadata": {
    "ExecuteTime": {
     "end_time": "2024-05-18T10:39:36.938036Z",
     "start_time": "2024-05-18T10:39:36.900728Z"
    },
    "collapsed": true,
    "deletable": false,
    "editable": false,
    "hidden": true
   },
   "outputs": [
    {
     "data": {
      "text/html": [
       "<div>\n",
       "<style scoped>\n",
       "    .dataframe tbody tr th:only-of-type {\n",
       "        vertical-align: middle;\n",
       "    }\n",
       "\n",
       "    .dataframe tbody tr th {\n",
       "        vertical-align: top;\n",
       "    }\n",
       "\n",
       "    .dataframe thead th {\n",
       "        text-align: right;\n",
       "    }\n",
       "</style>\n",
       "<table border=\"1\" class=\"dataframe\">\n",
       "  <thead>\n",
       "    <tr style=\"text-align: right;\">\n",
       "      <th></th>\n",
       "      <th>Invoice</th>\n",
       "      <th>StockCode</th>\n",
       "      <th>Description</th>\n",
       "      <th>Quantity</th>\n",
       "      <th>InvoiceDate</th>\n",
       "      <th>Price</th>\n",
       "      <th>Customer ID</th>\n",
       "      <th>Country</th>\n",
       "    </tr>\n",
       "  </thead>\n",
       "  <tbody>\n",
       "    <tr>\n",
       "      <th>178</th>\n",
       "      <td>C489449</td>\n",
       "      <td>22087</td>\n",
       "      <td>PAPER BUNTING WHITE LACE</td>\n",
       "      <td>-12</td>\n",
       "      <td>2009-12-01 10:33:00</td>\n",
       "      <td>2.95</td>\n",
       "      <td>16321.0</td>\n",
       "      <td>Australia</td>\n",
       "    </tr>\n",
       "    <tr>\n",
       "      <th>179</th>\n",
       "      <td>C489449</td>\n",
       "      <td>85206A</td>\n",
       "      <td>CREAM FELT EASTER EGG BASKET</td>\n",
       "      <td>-6</td>\n",
       "      <td>2009-12-01 10:33:00</td>\n",
       "      <td>1.65</td>\n",
       "      <td>16321.0</td>\n",
       "      <td>Australia</td>\n",
       "    </tr>\n",
       "    <tr>\n",
       "      <th>180</th>\n",
       "      <td>C489449</td>\n",
       "      <td>21895</td>\n",
       "      <td>POTTING SHED SOW 'N' GROW SET</td>\n",
       "      <td>-4</td>\n",
       "      <td>2009-12-01 10:33:00</td>\n",
       "      <td>4.25</td>\n",
       "      <td>16321.0</td>\n",
       "      <td>Australia</td>\n",
       "    </tr>\n",
       "    <tr>\n",
       "      <th>181</th>\n",
       "      <td>C489449</td>\n",
       "      <td>21896</td>\n",
       "      <td>POTTING SHED TWINE</td>\n",
       "      <td>-6</td>\n",
       "      <td>2009-12-01 10:33:00</td>\n",
       "      <td>2.10</td>\n",
       "      <td>16321.0</td>\n",
       "      <td>Australia</td>\n",
       "    </tr>\n",
       "    <tr>\n",
       "      <th>182</th>\n",
       "      <td>C489449</td>\n",
       "      <td>22083</td>\n",
       "      <td>PAPER CHAIN KIT RETRO SPOT</td>\n",
       "      <td>-12</td>\n",
       "      <td>2009-12-01 10:33:00</td>\n",
       "      <td>2.95</td>\n",
       "      <td>16321.0</td>\n",
       "      <td>Australia</td>\n",
       "    </tr>\n",
       "    <tr>\n",
       "      <th>...</th>\n",
       "      <td>...</td>\n",
       "      <td>...</td>\n",
       "      <td>...</td>\n",
       "      <td>...</td>\n",
       "      <td>...</td>\n",
       "      <td>...</td>\n",
       "      <td>...</td>\n",
       "      <td>...</td>\n",
       "    </tr>\n",
       "    <tr>\n",
       "      <th>1065910</th>\n",
       "      <td>C581490</td>\n",
       "      <td>23144</td>\n",
       "      <td>ZINC T-LIGHT HOLDER STARS SMALL</td>\n",
       "      <td>-11</td>\n",
       "      <td>2011-12-09 09:57:00</td>\n",
       "      <td>0.83</td>\n",
       "      <td>14397.0</td>\n",
       "      <td>United Kingdom</td>\n",
       "    </tr>\n",
       "    <tr>\n",
       "      <th>1067002</th>\n",
       "      <td>C581499</td>\n",
       "      <td>M</td>\n",
       "      <td>Manual</td>\n",
       "      <td>-1</td>\n",
       "      <td>2011-12-09 10:28:00</td>\n",
       "      <td>224.69</td>\n",
       "      <td>15498.0</td>\n",
       "      <td>United Kingdom</td>\n",
       "    </tr>\n",
       "    <tr>\n",
       "      <th>1067176</th>\n",
       "      <td>C581568</td>\n",
       "      <td>21258</td>\n",
       "      <td>VICTORIAN SEWING BOX LARGE</td>\n",
       "      <td>-5</td>\n",
       "      <td>2011-12-09 11:57:00</td>\n",
       "      <td>10.95</td>\n",
       "      <td>15311.0</td>\n",
       "      <td>United Kingdom</td>\n",
       "    </tr>\n",
       "    <tr>\n",
       "      <th>1067177</th>\n",
       "      <td>C581569</td>\n",
       "      <td>84978</td>\n",
       "      <td>HANGING HEART JAR T-LIGHT HOLDER</td>\n",
       "      <td>-1</td>\n",
       "      <td>2011-12-09 11:58:00</td>\n",
       "      <td>1.25</td>\n",
       "      <td>17315.0</td>\n",
       "      <td>United Kingdom</td>\n",
       "    </tr>\n",
       "    <tr>\n",
       "      <th>1067178</th>\n",
       "      <td>C581569</td>\n",
       "      <td>20979</td>\n",
       "      <td>36 PENCILS TUBE RED RETROSPOT</td>\n",
       "      <td>-5</td>\n",
       "      <td>2011-12-09 11:58:00</td>\n",
       "      <td>1.25</td>\n",
       "      <td>17315.0</td>\n",
       "      <td>United Kingdom</td>\n",
       "    </tr>\n",
       "  </tbody>\n",
       "</table>\n",
       "<p>18744 rows × 8 columns</p>\n",
       "</div>"
      ],
      "text/plain": [
       "         Invoice StockCode                       Description  Quantity  \\\n",
       "178      C489449     22087          PAPER BUNTING WHITE LACE       -12   \n",
       "179      C489449    85206A      CREAM FELT EASTER EGG BASKET        -6   \n",
       "180      C489449     21895     POTTING SHED SOW 'N' GROW SET        -4   \n",
       "181      C489449     21896                POTTING SHED TWINE        -6   \n",
       "182      C489449     22083        PAPER CHAIN KIT RETRO SPOT       -12   \n",
       "...          ...       ...                               ...       ...   \n",
       "1065910  C581490     23144   ZINC T-LIGHT HOLDER STARS SMALL       -11   \n",
       "1067002  C581499         M                            Manual        -1   \n",
       "1067176  C581568     21258        VICTORIAN SEWING BOX LARGE        -5   \n",
       "1067177  C581569     84978  HANGING HEART JAR T-LIGHT HOLDER        -1   \n",
       "1067178  C581569     20979     36 PENCILS TUBE RED RETROSPOT        -5   \n",
       "\n",
       "                InvoiceDate   Price Customer ID         Country  \n",
       "178     2009-12-01 10:33:00    2.95     16321.0       Australia  \n",
       "179     2009-12-01 10:33:00    1.65     16321.0       Australia  \n",
       "180     2009-12-01 10:33:00    4.25     16321.0       Australia  \n",
       "181     2009-12-01 10:33:00    2.10     16321.0       Australia  \n",
       "182     2009-12-01 10:33:00    2.95     16321.0       Australia  \n",
       "...                     ...     ...         ...             ...  \n",
       "1065910 2011-12-09 09:57:00    0.83     14397.0  United Kingdom  \n",
       "1067002 2011-12-09 10:28:00  224.69     15498.0  United Kingdom  \n",
       "1067176 2011-12-09 11:57:00   10.95     15311.0  United Kingdom  \n",
       "1067177 2011-12-09 11:58:00    1.25     17315.0  United Kingdom  \n",
       "1067178 2011-12-09 11:58:00    1.25     17315.0  United Kingdom  \n",
       "\n",
       "[18744 rows x 8 columns]"
      ]
     },
     "execution_count": 43,
     "metadata": {},
     "output_type": "execute_result"
    }
   ],
   "source": [
    "df[df['Quantity'] <= 0]"
   ]
  },
  {
   "cell_type": "code",
   "execution_count": 61,
   "id": "1bde52ae",
   "metadata": {
    "ExecuteTime": {
     "end_time": "2024-05-18T11:04:41.036794Z",
     "start_time": "2024-05-18T11:04:40.928900Z"
    },
    "collapsed": true,
    "deletable": false,
    "editable": false,
    "hidden": true
   },
   "outputs": [
    {
     "data": {
      "text/html": [
       "<div>\n",
       "<style scoped>\n",
       "    .dataframe tbody tr th:only-of-type {\n",
       "        vertical-align: middle;\n",
       "    }\n",
       "\n",
       "    .dataframe tbody tr th {\n",
       "        vertical-align: top;\n",
       "    }\n",
       "\n",
       "    .dataframe thead th {\n",
       "        text-align: right;\n",
       "    }\n",
       "</style>\n",
       "<table border=\"1\" class=\"dataframe\">\n",
       "  <thead>\n",
       "    <tr style=\"text-align: right;\">\n",
       "      <th></th>\n",
       "      <th>Invoice</th>\n",
       "      <th>StockCode</th>\n",
       "      <th>Description</th>\n",
       "      <th>Quantity</th>\n",
       "      <th>InvoiceDate</th>\n",
       "      <th>Price</th>\n",
       "      <th>Customer ID</th>\n",
       "      <th>Country</th>\n",
       "    </tr>\n",
       "  </thead>\n",
       "  <tbody>\n",
       "    <tr>\n",
       "      <th>89</th>\n",
       "      <td>489439</td>\n",
       "      <td>POST</td>\n",
       "      <td>POSTAGE</td>\n",
       "      <td>3</td>\n",
       "      <td>2009-12-01 09:28:00</td>\n",
       "      <td>18.00</td>\n",
       "      <td>12682.0</td>\n",
       "      <td>France</td>\n",
       "    </tr>\n",
       "    <tr>\n",
       "      <th>126</th>\n",
       "      <td>489444</td>\n",
       "      <td>POST</td>\n",
       "      <td>POSTAGE</td>\n",
       "      <td>1</td>\n",
       "      <td>2009-12-01 09:55:00</td>\n",
       "      <td>141.00</td>\n",
       "      <td>12636.0</td>\n",
       "      <td>USA</td>\n",
       "    </tr>\n",
       "    <tr>\n",
       "      <th>173</th>\n",
       "      <td>489447</td>\n",
       "      <td>POST</td>\n",
       "      <td>POSTAGE</td>\n",
       "      <td>1</td>\n",
       "      <td>2009-12-01 10:10:00</td>\n",
       "      <td>130.00</td>\n",
       "      <td>12362.0</td>\n",
       "      <td>Belgium</td>\n",
       "    </tr>\n",
       "    <tr>\n",
       "      <th>625</th>\n",
       "      <td>489526</td>\n",
       "      <td>POST</td>\n",
       "      <td>POSTAGE</td>\n",
       "      <td>6</td>\n",
       "      <td>2009-12-01 11:50:00</td>\n",
       "      <td>18.00</td>\n",
       "      <td>12533.0</td>\n",
       "      <td>Germany</td>\n",
       "    </tr>\n",
       "    <tr>\n",
       "      <th>735</th>\n",
       "      <td>C489535</td>\n",
       "      <td>D</td>\n",
       "      <td>Discount</td>\n",
       "      <td>-1</td>\n",
       "      <td>2009-12-01 12:11:00</td>\n",
       "      <td>9.00</td>\n",
       "      <td>15299.0</td>\n",
       "      <td>United Kingdom</td>\n",
       "    </tr>\n",
       "    <tr>\n",
       "      <th>...</th>\n",
       "      <td>...</td>\n",
       "      <td>...</td>\n",
       "      <td>...</td>\n",
       "      <td>...</td>\n",
       "      <td>...</td>\n",
       "      <td>...</td>\n",
       "      <td>...</td>\n",
       "      <td>...</td>\n",
       "    </tr>\n",
       "    <tr>\n",
       "      <th>1067002</th>\n",
       "      <td>C581499</td>\n",
       "      <td>M</td>\n",
       "      <td>Manual</td>\n",
       "      <td>-1</td>\n",
       "      <td>2011-12-09 10:28:00</td>\n",
       "      <td>224.69</td>\n",
       "      <td>15498.0</td>\n",
       "      <td>United Kingdom</td>\n",
       "    </tr>\n",
       "    <tr>\n",
       "      <th>1067191</th>\n",
       "      <td>581570</td>\n",
       "      <td>POST</td>\n",
       "      <td>POSTAGE</td>\n",
       "      <td>1</td>\n",
       "      <td>2011-12-09 11:59:00</td>\n",
       "      <td>18.00</td>\n",
       "      <td>12662.0</td>\n",
       "      <td>Germany</td>\n",
       "    </tr>\n",
       "    <tr>\n",
       "      <th>1067228</th>\n",
       "      <td>581574</td>\n",
       "      <td>POST</td>\n",
       "      <td>POSTAGE</td>\n",
       "      <td>2</td>\n",
       "      <td>2011-12-09 12:09:00</td>\n",
       "      <td>18.00</td>\n",
       "      <td>12526.0</td>\n",
       "      <td>Germany</td>\n",
       "    </tr>\n",
       "    <tr>\n",
       "      <th>1067229</th>\n",
       "      <td>581578</td>\n",
       "      <td>POST</td>\n",
       "      <td>POSTAGE</td>\n",
       "      <td>3</td>\n",
       "      <td>2011-12-09 12:16:00</td>\n",
       "      <td>18.00</td>\n",
       "      <td>12713.0</td>\n",
       "      <td>Germany</td>\n",
       "    </tr>\n",
       "    <tr>\n",
       "      <th>1067370</th>\n",
       "      <td>581587</td>\n",
       "      <td>POST</td>\n",
       "      <td>POSTAGE</td>\n",
       "      <td>1</td>\n",
       "      <td>2011-12-09 12:50:00</td>\n",
       "      <td>18.00</td>\n",
       "      <td>12680.0</td>\n",
       "      <td>France</td>\n",
       "    </tr>\n",
       "  </tbody>\n",
       "</table>\n",
       "<p>3420 rows × 8 columns</p>\n",
       "</div>"
      ],
      "text/plain": [
       "         Invoice StockCode Description  Quantity         InvoiceDate   Price  \\\n",
       "89        489439      POST     POSTAGE         3 2009-12-01 09:28:00   18.00   \n",
       "126       489444      POST     POSTAGE         1 2009-12-01 09:55:00  141.00   \n",
       "173       489447      POST     POSTAGE         1 2009-12-01 10:10:00  130.00   \n",
       "625       489526      POST     POSTAGE         6 2009-12-01 11:50:00   18.00   \n",
       "735      C489535         D    Discount        -1 2009-12-01 12:11:00    9.00   \n",
       "...          ...       ...         ...       ...                 ...     ...   \n",
       "1067002  C581499         M      Manual        -1 2011-12-09 10:28:00  224.69   \n",
       "1067191   581570      POST     POSTAGE         1 2011-12-09 11:59:00   18.00   \n",
       "1067228   581574      POST     POSTAGE         2 2011-12-09 12:09:00   18.00   \n",
       "1067229   581578      POST     POSTAGE         3 2011-12-09 12:16:00   18.00   \n",
       "1067370   581587      POST     POSTAGE         1 2011-12-09 12:50:00   18.00   \n",
       "\n",
       "        Customer ID         Country  \n",
       "89          12682.0          France  \n",
       "126         12636.0             USA  \n",
       "173         12362.0         Belgium  \n",
       "625         12533.0         Germany  \n",
       "735         15299.0  United Kingdom  \n",
       "...             ...             ...  \n",
       "1067002     15498.0  United Kingdom  \n",
       "1067191     12662.0         Germany  \n",
       "1067228     12526.0         Germany  \n",
       "1067229     12713.0         Germany  \n",
       "1067370     12680.0          France  \n",
       "\n",
       "[3420 rows x 8 columns]"
      ]
     },
     "execution_count": 61,
     "metadata": {},
     "output_type": "execute_result"
    }
   ],
   "source": [
    "df[df['StockCode'].str.isalpha()]"
   ]
  },
  {
   "cell_type": "code",
   "execution_count": 65,
   "id": "c5b75526",
   "metadata": {
    "ExecuteTime": {
     "end_time": "2024-05-18T11:05:16.637767Z",
     "start_time": "2024-05-18T11:05:16.530887Z"
    },
    "collapsed": true,
    "deletable": false,
    "editable": false,
    "hidden": true
   },
   "outputs": [
    {
     "data": {
      "text/plain": [
       "StockCode\n",
       "POST      2019\n",
       "M         1115\n",
       "D          174\n",
       "ADJUST      61\n",
       "PADS        19\n",
       "DOT         16\n",
       "CRUK        16\n",
       "Name: count, dtype: int64"
      ]
     },
     "execution_count": 65,
     "metadata": {},
     "output_type": "execute_result"
    }
   ],
   "source": [
    "df[df['StockCode'].str.isalpha()]['StockCode'].value_counts()"
   ]
  },
  {
   "cell_type": "markdown",
   "id": "4525c24f",
   "metadata": {
    "ExecuteTime": {
     "end_time": "2024-05-14T09:43:32.197739Z",
     "start_time": "2024-05-14T09:43:32.188763Z"
    },
    "deletable": false,
    "editable": false,
    "heading_collapsed": true,
    "hidden": true,
    "run_control": {
     "frozen": true
    }
   },
   "source": [
    "#### Drop cancelation invoice rows"
   ]
  },
  {
   "cell_type": "markdown",
   "id": "7235fd1c",
   "metadata": {
    "deletable": false,
    "editable": false,
    "hidden": true,
    "run_control": {
     "frozen": true
    }
   },
   "source": [
    "**Action**: drop rows"
   ]
  },
  {
   "cell_type": "code",
   "execution_count": 67,
   "id": "d9da9dfa",
   "metadata": {
    "ExecuteTime": {
     "end_time": "2024-05-18T11:05:44.729503Z",
     "start_time": "2024-05-18T11:05:44.472516Z"
    },
    "deletable": false,
    "editable": false,
    "hidden": true
   },
   "outputs": [],
   "source": [
    "df = df[~df['Invoice'].str.startswith('C')]"
   ]
  },
  {
   "cell_type": "markdown",
   "id": "bfc26627",
   "metadata": {
    "ExecuteTime": {
     "end_time": "2024-05-18T11:07:29.930066Z",
     "start_time": "2024-05-18T11:07:29.915106Z"
    },
    "deletable": false,
    "editable": false,
    "heading_collapsed": true,
    "hidden": true,
    "run_control": {
     "frozen": true
    }
   },
   "source": [
    "#### Trim space in description column"
   ]
  },
  {
   "cell_type": "code",
   "execution_count": 72,
   "id": "8ae47296",
   "metadata": {
    "ExecuteTime": {
     "end_time": "2024-05-18T11:09:16.865028Z",
     "start_time": "2024-05-18T11:09:15.720525Z"
    },
    "deletable": false,
    "editable": false,
    "hidden": true
   },
   "outputs": [],
   "source": [
    "df['Description'] = df['Description'].str.strip()\n",
    "df['Description'] = df['Description'].replace(r'\\s{2,}', ' ', regex=True)"
   ]
  },
  {
   "cell_type": "markdown",
   "id": "50631176",
   "metadata": {
    "ExecuteTime": {
     "end_time": "2024-05-18T10:01:40.624558Z",
     "start_time": "2024-05-18T10:01:40.605609Z"
    },
    "deletable": false,
    "editable": false,
    "heading_collapsed": true,
    "hidden": true,
    "run_control": {
     "frozen": true
    }
   },
   "source": [
    "### Get Sales Column"
   ]
  },
  {
   "cell_type": "code",
   "execution_count": 74,
   "id": "7f5c3de7",
   "metadata": {
    "ExecuteTime": {
     "end_time": "2024-05-18T11:10:10.003789Z",
     "start_time": "2024-05-18T11:10:09.989831Z"
    },
    "deletable": false,
    "editable": false,
    "hidden": true
   },
   "outputs": [],
   "source": [
    "df['Sales'] = df['Price'] * df['Quantity']"
   ]
  },
  {
   "cell_type": "markdown",
   "id": "f302946d",
   "metadata": {
    "ExecuteTime": {
     "end_time": "2024-05-18T11:11:32.083085Z",
     "start_time": "2024-05-18T11:11:32.074110Z"
    },
    "deletable": false,
    "editable": false,
    "heading_collapsed": true,
    "hidden": true,
    "run_control": {
     "frozen": true
    }
   },
   "source": [
    "### Data Selection"
   ]
  },
  {
   "cell_type": "code",
   "execution_count": 81,
   "id": "7b18d4db",
   "metadata": {
    "ExecuteTime": {
     "end_time": "2024-05-18T11:12:29.359807Z",
     "start_time": "2024-05-18T11:12:29.326936Z"
    },
    "deletable": false,
    "editable": false,
    "hidden": true
   },
   "outputs": [],
   "source": [
    "df_basket = df[['Description', 'Invoice']]"
   ]
  },
  {
   "cell_type": "markdown",
   "id": "e0d2b703",
   "metadata": {
    "ExecuteTime": {
     "end_time": "2024-05-14T09:39:53.800328Z",
     "start_time": "2024-05-14T09:39:53.734564Z"
    },
    "deletable": false,
    "editable": false,
    "heading_collapsed": true,
    "hidden": true,
    "run_control": {
     "frozen": true
    }
   },
   "source": [
    "### Data Encoding"
   ]
  },
  {
   "cell_type": "code",
   "execution_count": 75,
   "id": "eb51675b",
   "metadata": {
    "ExecuteTime": {
     "end_time": "2024-05-18T11:10:12.949768Z",
     "start_time": "2024-05-18T11:10:12.925259Z"
    },
    "code_folding": [],
    "deletable": false,
    "editable": false,
    "hidden": true
   },
   "outputs": [],
   "source": [
    "def encoding_data(df, COL_ITEM_ID, COL_ORDER_ID):\n",
    "    df = df.copy()\n",
    "    df[COL_ITEM_ID] = df[COL_ITEM_ID].transform(lambda x: [x])\n",
    "    df = df.groupby(COL_ORDER_ID, as_index=False).sum()[COL_ITEM_ID]\n",
    "    df = df.map(lambda x: list(set(x)))\n",
    "                          \n",
    "    encoder = TransactionEncoder()\n",
    "    one_hot_transactions = pd.DataFrame(\n",
    "        encoder.fit(df).transform(df), columns=encoder.columns_\n",
    "    )\n",
    "    \n",
    "    return one_hot_transactions"
   ]
  },
  {
   "cell_type": "code",
   "execution_count": 82,
   "id": "071f799d",
   "metadata": {
    "ExecuteTime": {
     "end_time": "2024-05-18T11:12:41.487347Z",
     "start_time": "2024-05-18T11:12:39.804276Z"
    },
    "deletable": false,
    "editable": false,
    "hidden": true
   },
   "outputs": [],
   "source": [
    "df_transactions = encoding_data(df_basket, 'Description', 'Invoice')"
   ]
  },
  {
   "cell_type": "markdown",
   "id": "8ca6f29a",
   "metadata": {
    "ExecuteTime": {
     "end_time": "2024-05-14T09:39:39.738482Z",
     "start_time": "2024-05-14T09:39:39.721606Z"
    },
    "deletable": false,
    "editable": false,
    "run_control": {
     "frozen": true
    }
   },
   "source": [
    "## Data Mining (Rules Extraction)"
   ]
  },
  {
   "cell_type": "markdown",
   "id": "a962aea9",
   "metadata": {
    "deletable": false,
    "editable": false,
    "run_control": {
     "frozen": true
    }
   },
   "source": [
    "The following parameters are configured for the algorithm:\n",
    "\n",
    "- Maximum Combination Length\n",
    "    - We set the maximum combination length to 2 items.\n",
    "    - This choice is made to focus on pairs of items, allowing for a more targeted analysis of co-occurrences.\n",
    "\n",
    "- Minimum Co-Occurrence Support Threshold\n",
    "    - A minimum co-occurrence support threshold of 1% is established to filter out infrequent itemsets. \n",
    "    - This ensures that only associations with a significant presence in the dataset are considered."
   ]
  },
  {
   "cell_type": "code",
   "execution_count": 100,
   "id": "06a0eae5",
   "metadata": {
    "ExecuteTime": {
     "end_time": "2024-05-18T14:34:54.822406Z",
     "start_time": "2024-05-18T14:34:53.163340Z"
    },
    "deletable": false,
    "editable": false
   },
   "outputs": [],
   "source": [
    "frequent_itemsets = apriori(df_transactions, min_support= 0.01, use_colnames=True, max_len = 2, low_memory=True)\n",
    "rules = association_rules(frequent_itemsets, metric=\"support\", min_threshold = 0.01)"
   ]
  },
  {
   "cell_type": "code",
   "execution_count": 103,
   "id": "fbaca930",
   "metadata": {
    "ExecuteTime": {
     "end_time": "2024-05-18T14:37:54.274494Z",
     "start_time": "2024-05-18T14:37:54.258573Z"
    },
    "deletable": false,
    "editable": false
   },
   "outputs": [],
   "source": [
    "rules['antecedents'] = rules['antecedents'].map(lambda x: ''.join(list(x)))\n",
    "rules['consequents'] = rules['consequents'].map(lambda x: ''.join(list(x)))"
   ]
  },
  {
   "cell_type": "code",
   "execution_count": 101,
   "id": "f6b29023",
   "metadata": {
    "ExecuteTime": {
     "end_time": "2024-05-18T14:34:55.341356Z",
     "start_time": "2024-05-18T14:34:55.328389Z"
    },
    "deletable": false,
    "editable": false
   },
   "outputs": [
    {
     "data": {
      "text/plain": [
       "(354, 10)"
      ]
     },
     "execution_count": 101,
     "metadata": {},
     "output_type": "execute_result"
    }
   ],
   "source": [
    "rules.shape"
   ]
  },
  {
   "cell_type": "code",
   "execution_count": 113,
   "id": "081661d8",
   "metadata": {
    "ExecuteTime": {
     "end_time": "2024-05-18T15:06:13.103899Z",
     "start_time": "2024-05-18T15:06:13.075955Z"
    },
    "collapsed": true,
    "deletable": false,
    "editable": false
   },
   "outputs": [
    {
     "data": {
      "text/html": [
       "<div>\n",
       "<style scoped>\n",
       "    .dataframe tbody tr th:only-of-type {\n",
       "        vertical-align: middle;\n",
       "    }\n",
       "\n",
       "    .dataframe tbody tr th {\n",
       "        vertical-align: top;\n",
       "    }\n",
       "\n",
       "    .dataframe thead th {\n",
       "        text-align: right;\n",
       "    }\n",
       "</style>\n",
       "<table border=\"1\" class=\"dataframe\">\n",
       "  <thead>\n",
       "    <tr style=\"text-align: right;\">\n",
       "      <th></th>\n",
       "      <th>antecedents</th>\n",
       "      <th>consequents</th>\n",
       "      <th>antecedent support</th>\n",
       "      <th>consequent support</th>\n",
       "      <th>support</th>\n",
       "      <th>confidence</th>\n",
       "      <th>lift</th>\n",
       "      <th>leverage</th>\n",
       "      <th>conviction</th>\n",
       "      <th>zhangs_metric</th>\n",
       "    </tr>\n",
       "  </thead>\n",
       "  <tbody>\n",
       "    <tr>\n",
       "      <th>308</th>\n",
       "      <td>RED HANGING HEART T-LIGHT HOLDER</td>\n",
       "      <td>WHITE HANGING HEART T-LIGHT HOLDER</td>\n",
       "      <td>0.044125</td>\n",
       "      <td>0.132240</td>\n",
       "      <td>0.031193</td>\n",
       "      <td>0.706928</td>\n",
       "      <td>5.345783</td>\n",
       "      <td>0.025358</td>\n",
       "      <td>2.960912</td>\n",
       "      <td>0.850464</td>\n",
       "    </tr>\n",
       "    <tr>\n",
       "      <th>309</th>\n",
       "      <td>WHITE HANGING HEART T-LIGHT HOLDER</td>\n",
       "      <td>RED HANGING HEART T-LIGHT HOLDER</td>\n",
       "      <td>0.132240</td>\n",
       "      <td>0.044125</td>\n",
       "      <td>0.031193</td>\n",
       "      <td>0.235884</td>\n",
       "      <td>5.345783</td>\n",
       "      <td>0.025358</td>\n",
       "      <td>1.250955</td>\n",
       "      <td>0.936822</td>\n",
       "    </tr>\n",
       "    <tr>\n",
       "      <th>351</th>\n",
       "      <td>WOODEN PICTURE FRAME WHITE FINISH</td>\n",
       "      <td>WOODEN FRAME ANTIQUE WHITE</td>\n",
       "      <td>0.044856</td>\n",
       "      <td>0.047967</td>\n",
       "      <td>0.026865</td>\n",
       "      <td>0.598914</td>\n",
       "      <td>12.485996</td>\n",
       "      <td>0.024713</td>\n",
       "      <td>2.373640</td>\n",
       "      <td>0.963111</td>\n",
       "    </tr>\n",
       "    <tr>\n",
       "      <th>350</th>\n",
       "      <td>WOODEN FRAME ANTIQUE WHITE</td>\n",
       "      <td>WOODEN PICTURE FRAME WHITE FINISH</td>\n",
       "      <td>0.047967</td>\n",
       "      <td>0.044856</td>\n",
       "      <td>0.026865</td>\n",
       "      <td>0.560068</td>\n",
       "      <td>12.485996</td>\n",
       "      <td>0.024713</td>\n",
       "      <td>2.171117</td>\n",
       "      <td>0.966259</td>\n",
       "    </tr>\n",
       "    <tr>\n",
       "      <th>247</th>\n",
       "      <td>LUNCH BAG SUKI DESIGN</td>\n",
       "      <td>LUNCH BAG SPACEBOY DESIGN</td>\n",
       "      <td>0.053351</td>\n",
       "      <td>0.050699</td>\n",
       "      <td>0.024024</td>\n",
       "      <td>0.450304</td>\n",
       "      <td>8.881855</td>\n",
       "      <td>0.021319</td>\n",
       "      <td>1.726957</td>\n",
       "      <td>0.937423</td>\n",
       "    </tr>\n",
       "    <tr>\n",
       "      <th>...</th>\n",
       "      <td>...</td>\n",
       "      <td>...</td>\n",
       "      <td>...</td>\n",
       "      <td>...</td>\n",
       "      <td>...</td>\n",
       "      <td>...</td>\n",
       "      <td>...</td>\n",
       "      <td>...</td>\n",
       "      <td>...</td>\n",
       "      <td>...</td>\n",
       "    </tr>\n",
       "    <tr>\n",
       "      <th>88</th>\n",
       "      <td>GIN + TONIC DIET METAL SIGN</td>\n",
       "      <td>NO SINGING METAL SIGN</td>\n",
       "      <td>0.037470</td>\n",
       "      <td>0.026242</td>\n",
       "      <td>0.010064</td>\n",
       "      <td>0.268592</td>\n",
       "      <td>10.235019</td>\n",
       "      <td>0.009081</td>\n",
       "      <td>1.331347</td>\n",
       "      <td>0.937421</td>\n",
       "    </tr>\n",
       "    <tr>\n",
       "      <th>136</th>\n",
       "      <td>JUMBO BAG OWLS</td>\n",
       "      <td>JUMBO BAG RED RETROSPOT</td>\n",
       "      <td>0.024890</td>\n",
       "      <td>0.070665</td>\n",
       "      <td>0.010064</td>\n",
       "      <td>0.404348</td>\n",
       "      <td>5.722017</td>\n",
       "      <td>0.008305</td>\n",
       "      <td>1.560197</td>\n",
       "      <td>0.846301</td>\n",
       "    </tr>\n",
       "    <tr>\n",
       "      <th>137</th>\n",
       "      <td>JUMBO BAG RED RETROSPOT</td>\n",
       "      <td>JUMBO BAG OWLS</td>\n",
       "      <td>0.070665</td>\n",
       "      <td>0.024890</td>\n",
       "      <td>0.010064</td>\n",
       "      <td>0.142420</td>\n",
       "      <td>5.722017</td>\n",
       "      <td>0.008305</td>\n",
       "      <td>1.137048</td>\n",
       "      <td>0.887986</td>\n",
       "    </tr>\n",
       "    <tr>\n",
       "      <th>287</th>\n",
       "      <td>PLASTERS IN TIN SPACEBOY</td>\n",
       "      <td>PLASTERS IN TIN SKULLS</td>\n",
       "      <td>0.031275</td>\n",
       "      <td>0.024511</td>\n",
       "      <td>0.010037</td>\n",
       "      <td>0.320934</td>\n",
       "      <td>13.093480</td>\n",
       "      <td>0.009270</td>\n",
       "      <td>1.436516</td>\n",
       "      <td>0.953445</td>\n",
       "    </tr>\n",
       "    <tr>\n",
       "      <th>286</th>\n",
       "      <td>PLASTERS IN TIN SKULLS</td>\n",
       "      <td>PLASTERS IN TIN SPACEBOY</td>\n",
       "      <td>0.024511</td>\n",
       "      <td>0.031275</td>\n",
       "      <td>0.010037</td>\n",
       "      <td>0.409492</td>\n",
       "      <td>13.093480</td>\n",
       "      <td>0.009270</td>\n",
       "      <td>1.640496</td>\n",
       "      <td>0.946834</td>\n",
       "    </tr>\n",
       "  </tbody>\n",
       "</table>\n",
       "<p>354 rows × 10 columns</p>\n",
       "</div>"
      ],
      "text/plain": [
       "                            antecedents                         consequents  \\\n",
       "308    RED HANGING HEART T-LIGHT HOLDER  WHITE HANGING HEART T-LIGHT HOLDER   \n",
       "309  WHITE HANGING HEART T-LIGHT HOLDER    RED HANGING HEART T-LIGHT HOLDER   \n",
       "351   WOODEN PICTURE FRAME WHITE FINISH          WOODEN FRAME ANTIQUE WHITE   \n",
       "350          WOODEN FRAME ANTIQUE WHITE   WOODEN PICTURE FRAME WHITE FINISH   \n",
       "247               LUNCH BAG SUKI DESIGN           LUNCH BAG SPACEBOY DESIGN   \n",
       "..                                  ...                                 ...   \n",
       "88          GIN + TONIC DIET METAL SIGN               NO SINGING METAL SIGN   \n",
       "136                      JUMBO BAG OWLS             JUMBO BAG RED RETROSPOT   \n",
       "137             JUMBO BAG RED RETROSPOT                      JUMBO BAG OWLS   \n",
       "287            PLASTERS IN TIN SPACEBOY              PLASTERS IN TIN SKULLS   \n",
       "286              PLASTERS IN TIN SKULLS            PLASTERS IN TIN SPACEBOY   \n",
       "\n",
       "     antecedent support  consequent support   support  confidence       lift  \\\n",
       "308            0.044125            0.132240  0.031193    0.706928   5.345783   \n",
       "309            0.132240            0.044125  0.031193    0.235884   5.345783   \n",
       "351            0.044856            0.047967  0.026865    0.598914  12.485996   \n",
       "350            0.047967            0.044856  0.026865    0.560068  12.485996   \n",
       "247            0.053351            0.050699  0.024024    0.450304   8.881855   \n",
       "..                  ...                 ...       ...         ...        ...   \n",
       "88             0.037470            0.026242  0.010064    0.268592  10.235019   \n",
       "136            0.024890            0.070665  0.010064    0.404348   5.722017   \n",
       "137            0.070665            0.024890  0.010064    0.142420   5.722017   \n",
       "287            0.031275            0.024511  0.010037    0.320934  13.093480   \n",
       "286            0.024511            0.031275  0.010037    0.409492  13.093480   \n",
       "\n",
       "     leverage  conviction  zhangs_metric  \n",
       "308  0.025358    2.960912       0.850464  \n",
       "309  0.025358    1.250955       0.936822  \n",
       "351  0.024713    2.373640       0.963111  \n",
       "350  0.024713    2.171117       0.966259  \n",
       "247  0.021319    1.726957       0.937423  \n",
       "..        ...         ...            ...  \n",
       "88   0.009081    1.331347       0.937421  \n",
       "136  0.008305    1.560197       0.846301  \n",
       "137  0.008305    1.137048       0.887986  \n",
       "287  0.009270    1.436516       0.953445  \n",
       "286  0.009270    1.640496       0.946834  \n",
       "\n",
       "[354 rows x 10 columns]"
      ]
     },
     "execution_count": 113,
     "metadata": {},
     "output_type": "execute_result"
    }
   ],
   "source": [
    "rules.sort_values('support', ascending=False)"
   ]
  },
  {
   "cell_type": "markdown",
   "id": "6b68fac6",
   "metadata": {
    "ExecuteTime": {
     "end_time": "2024-05-15T04:07:51.530300Z",
     "start_time": "2024-05-15T04:07:51.520326Z"
    },
    "deletable": false,
    "editable": false,
    "run_control": {
     "frozen": true
    }
   },
   "source": [
    "## Network Visualization with Echarts"
   ]
  },
  {
   "cell_type": "markdown",
   "id": "2e99a5a8",
   "metadata": {
    "ExecuteTime": {
     "end_time": "2024-05-15T07:50:31.003683Z",
     "start_time": "2024-05-15T07:50:30.994002Z"
    },
    "deletable": false,
    "editable": false,
    "run_control": {
     "frozen": true
    }
   },
   "source": [
    "### Network Profile"
   ]
  },
  {
   "cell_type": "markdown",
   "id": "a7a9ca5b",
   "metadata": {
    "deletable": false,
    "editable": false,
    "run_control": {
     "frozen": true
    }
   },
   "source": [
    "We profile the network to get a quick summary of our products network "
   ]
  },
  {
   "cell_type": "code",
   "execution_count": 104,
   "id": "dc78cf44",
   "metadata": {
    "ExecuteTime": {
     "end_time": "2024-05-18T14:37:56.276572Z",
     "start_time": "2024-05-18T14:37:56.217334Z"
    },
    "deletable": false,
    "editable": false
   },
   "outputs": [],
   "source": [
    "myRGM = RGM(rules, 'antecedents', 'consequents')\n",
    "df_nodes, df_edges = myRGM.get_graph_features()"
   ]
  },
  {
   "cell_type": "code",
   "execution_count": 105,
   "id": "d17f1ed7",
   "metadata": {
    "ExecuteTime": {
     "end_time": "2024-05-18T14:37:58.093325Z",
     "start_time": "2024-05-18T14:37:57.976429Z"
    },
    "deletable": false,
    "editable": false
   },
   "outputs": [],
   "source": [
    "df_nodes_profile = NxGrouper.greedy_modularity_communities(df_nodes, df_edges, 4)"
   ]
  },
  {
   "cell_type": "code",
   "execution_count": 106,
   "id": "7f7d0a83",
   "metadata": {
    "ExecuteTime": {
     "end_time": "2024-05-18T14:37:58.954060Z",
     "start_time": "2024-05-18T14:37:58.807796Z"
    },
    "deletable": false,
    "editable": false
   },
   "outputs": [],
   "source": [
    "force = EgraphForce(\n",
    "    df_edges, \n",
    "    df_nodes_profile, \n",
    "    col_source='antecedents', \n",
    "    col_target='consequents', \n",
    "    col_name='nodes',\n",
    ")\n",
    "profile_force_option = force.get_option()"
   ]
  },
  {
   "cell_type": "code",
   "execution_count": 107,
   "id": "7095e430",
   "metadata": {
    "ExecuteTime": {
     "end_time": "2024-05-18T14:38:02.212626Z",
     "start_time": "2024-05-18T14:38:02.196666Z"
    },
    "collapsed": true,
    "deletable": false,
    "editable": false
   },
   "outputs": [
    {
     "data": {
      "text/html": [
       "\n",
       "        <div id=\"chart\" style=\"width: 800px;height:800px;\"></div>\n",
       "        <script type=\"module\">\n",
       "        requirejs.config({paths: {echarts: 'https://cdn.jsdelivr.net/npm/echarts@5.3.2/dist/echarts.min',}});    \n",
       "        requirejs([\"echarts\"], (echarts) => {\n",
       "                        let myChart = echarts.init(document.getElementById('chart'));\n",
       "                        myChart.setOption({\"title\": {\"text\": \"Graph\", \"subtext\": \"Default layout\", \"top\": \"bottom\", \"left\": \"right\"}, \"tooltip\": {\"trigger\": \"item\", \"formatter\": \"{a} <br/>{b} - {c}\"}, \"legend\": [{\"data\": [\"WHITE HANGING HEART T-LIGHT HOLDER\", \"JUMBO BAG RED RETROSPOT\", \"LUNCH BAG BLACK SKULL.\", \"60 TEATIME FAIRY CAKE CASES\", \"REGENCY CAKESTAND 3 TIER\", \"PLEASE ONE PERSON METAL SIGN\", \"PLASTERS IN TIN SPACEBOY\", \"WOOD 2 DRAWER CABINET WHITE FINISH\", \"ALARM CLOCK BAKELIKE GREEN\", \"Others\", \"CHOCOLATE HOT WATER BOTTLE\", \"HAND WARMER OWL DESIGN\"]}], \"animationDuration\": 1500, \"animationEasingUpdate\": \"quinticInOut\", \"series\": [{\"name\": \"Series\", \"type\": \"graph\", \"layout\": \"force\", \"data\": [{\"category\": \"WHITE HANGING HEART T-LIGHT HOLDER\", \"name\": \"WHITE HANGING HEART T-LIGHT HOLDER\"}, {\"category\": \"JUMBO BAG RED RETROSPOT\", \"name\": \"JUMBO BAG RED RETROSPOT\"}, {\"category\": \"LUNCH BAG BLACK SKULL.\", \"name\": \"LUNCH BAG BLACK SKULL.\"}, {\"category\": \"JUMBO BAG RED RETROSPOT\", \"name\": \"JUMBO STORAGE BAG SUKI\"}, {\"category\": \"LUNCH BAG BLACK SKULL.\", \"name\": \"LUNCH BAG SUKI DESIGN\"}, {\"category\": \"LUNCH BAG BLACK SKULL.\", \"name\": \"LUNCH BAG CARS BLUE\"}, {\"category\": \"60 TEATIME FAIRY CAKE CASES\", \"name\": \"60 TEATIME FAIRY CAKE CASES\"}, {\"category\": \"LUNCH BAG BLACK SKULL.\", \"name\": \"LUNCH BAG RED RETROSPOT\"}, {\"category\": \"LUNCH BAG BLACK SKULL.\", \"name\": \"LUNCH BAG SPACEBOY DESIGN\"}, {\"category\": \"60 TEATIME FAIRY CAKE CASES\", \"name\": \"PACK OF 60 PINK PAISLEY CAKE CASES\"}, {\"category\": \"LUNCH BAG BLACK SKULL.\", \"name\": \"LUNCH BAG WOODLAND\"}, {\"category\": \"LUNCH BAG BLACK SKULL.\", \"name\": \"LUNCH BAG PINK POLKADOT\"}, {\"category\": \"REGENCY CAKESTAND 3 TIER\", \"name\": \"REGENCY CAKESTAND 3 TIER\"}, {\"category\": \"PLEASE ONE PERSON METAL SIGN\", \"name\": \"PLEASE ONE PERSON METAL SIGN\"}, {\"category\": \"JUMBO BAG RED RETROSPOT\", \"name\": \"JUMBO BAG STRAWBERRY\"}, {\"category\": \"JUMBO BAG RED RETROSPOT\", \"name\": \"JUMBO SHOPPER VINTAGE RED PAISLEY\"}, {\"category\": \"PLEASE ONE PERSON METAL SIGN\", \"name\": \"GIN + TONIC DIET METAL SIGN\"}, {\"category\": \"PLEASE ONE PERSON METAL SIGN\", \"name\": \"HAND OVER THE CHOCOLATE SIGN\"}, {\"category\": \"PLASTERS IN TIN SPACEBOY\", \"name\": \"PLASTERS IN TIN SPACEBOY\"}, {\"category\": \"60 TEATIME FAIRY CAKE CASES\", \"name\": \"PACK OF 60 DINOSAUR CAKE CASES\"}, {\"category\": \"WOOD 2 DRAWER CABINET WHITE FINISH\", \"name\": \"WOOD 2 DRAWER CABINET WHITE FINISH\"}, {\"category\": \"WOOD 2 DRAWER CABINET WHITE FINISH\", \"name\": \"WOODEN FRAME ANTIQUE WHITE\"}, {\"category\": \"WOOD 2 DRAWER CABINET WHITE FINISH\", \"name\": \"WOODEN PICTURE FRAME WHITE FINISH\"}, {\"category\": \"JUMBO BAG RED RETROSPOT\", \"name\": \"JUMBO BAG BAROQUE BLACK WHITE\"}, {\"category\": \"JUMBO BAG RED RETROSPOT\", \"name\": \"JUMBO BAG PINK VINTAGE PAISLEY\"}, {\"category\": \"WOOD 2 DRAWER CABINET WHITE FINISH\", \"name\": \"WOOD S/3 CABINET ANT WHITE FINISH\"}, {\"category\": \"PLASTERS IN TIN SPACEBOY\", \"name\": \"PLASTERS IN TIN WOODLAND ANIMALS\"}, {\"category\": \"ALARM CLOCK BAKELIKE GREEN\", \"name\": \"ALARM CLOCK BAKELIKE GREEN\"}, {\"category\": \"60 TEATIME FAIRY CAKE CASES\", \"name\": \"PACK OF 72 SKULL CAKE CASES\"}, {\"category\": \"Others\", \"name\": \"LUNCH BAG RED SPOTTY\"}, {\"category\": \"CHOCOLATE HOT WATER BOTTLE\", \"name\": \"CHOCOLATE HOT WATER BOTTLE\"}, {\"category\": \"PLEASE ONE PERSON METAL SIGN\", \"name\": \"COOK WITH WINE METAL SIGN\"}, {\"category\": \"ALARM CLOCK BAKELIKE GREEN\", \"name\": \"ALARM CLOCK BAKELIKE RED\"}, {\"category\": \"HAND WARMER OWL DESIGN\", \"name\": \"HAND WARMER OWL DESIGN\"}, {\"category\": \"REGENCY CAKESTAND 3 TIER\", \"name\": \"ASSORTED COLOUR BIRD ORNAMENT\"}, {\"category\": \"60 TEATIME FAIRY CAKE CASES\", \"name\": \"72 SWEETHEART FAIRY CAKE CASES\"}, {\"category\": \"REGENCY CAKESTAND 3 TIER\", \"name\": \"GREEN REGENCY TEACUP AND SAUCER\"}, {\"category\": \"REGENCY CAKESTAND 3 TIER\", \"name\": \"PINK REGENCY TEACUP AND SAUCER\"}, {\"category\": \"REGENCY CAKESTAND 3 TIER\", \"name\": \"ROSES REGENCY TEACUP AND SAUCER\"}, {\"category\": \"LUNCH BAG BLACK SKULL.\", \"name\": \"LUNCH BAG DOLLY GIRL DESIGN\"}, {\"category\": \"PLASTERS IN TIN SPACEBOY\", \"name\": \"PLASTERS IN TIN CIRCUS PARADE\"}, {\"category\": \"Others\", \"name\": \"POPPY'S PLAYHOUSE KITCHEN\"}, {\"category\": \"60 TEATIME FAIRY CAKE CASES\", \"name\": \"PACK OF 60 SPACEBOY CAKE CASES\"}, {\"category\": \"Others\", \"name\": \"EDWARDIAN PARASOL BLACK\"}, {\"category\": \"Others\", \"name\": \"FELTCRAFT CUSHION BUTTERFLY\"}, {\"category\": \"Others\", \"name\": \"STRAWBERRY CERAMIC TRINKET BOX\"}, {\"category\": \"Others\", \"name\": \"BATHROOM METAL SIGN\"}, {\"category\": \"ALARM CLOCK BAKELIKE GREEN\", \"name\": \"ALARM CLOCK BAKELIKE PINK\"}, {\"category\": \"ALARM CLOCK BAKELIKE GREEN\", \"name\": \"ALARM CLOCK BAKELIKE IVORY\"}, {\"category\": \"WHITE HANGING HEART T-LIGHT HOLDER\", \"name\": \"LOVE BUILDING BLOCK WORD\"}, {\"category\": \"PLASTERS IN TIN SPACEBOY\", \"name\": \"PLASTERS IN TIN VINTAGE PAISLEY\"}, {\"category\": \"Others\", \"name\": \"FELTCRAFT CUSHION OWL\"}, {\"category\": \"60 TEATIME FAIRY CAKE CASES\", \"name\": \"PACK OF 72 RETROSPOT CAKE CASES\"}, {\"category\": \"60 TEATIME FAIRY CAKE CASES\", \"name\": \"PACK OF 72 RETRO SPOT CAKE CASES\"}, {\"category\": \"JUMBO BAG RED RETROSPOT\", \"name\": \"JUMBO STORAGE BAG SKULLS\"}, {\"category\": \"Others\", \"name\": \"FELTCRAFT CUSHION RABBIT\"}, {\"category\": \"PLEASE ONE PERSON METAL SIGN\", \"name\": \"NO SINGING METAL SIGN\"}, {\"category\": \"Others\", \"name\": \"PARTY BUNTING\"}, {\"category\": \"Others\", \"name\": \"ROUND SNACK BOXES SET OF4 WOODLAND\"}, {\"category\": \"HAND WARMER OWL DESIGN\", \"name\": \"HAND WARMER BIRD DESIGN\"}, {\"category\": \"HAND WARMER OWL DESIGN\", \"name\": \"HAND WARMER SCOTTY DOG DESIGN\"}, {\"category\": \"Others\", \"name\": \"POPPY'S PLAYHOUSE LIVINGROOM\"}, {\"category\": \"WHITE HANGING HEART T-LIGHT HOLDER\", \"name\": \"HEART OF WICKER LARGE\"}, {\"category\": \"WHITE HANGING HEART T-LIGHT HOLDER\", \"name\": \"HEART OF WICKER SMALL\"}, {\"category\": \"WHITE HANGING HEART T-LIGHT HOLDER\", \"name\": \"HOME BUILDING BLOCK WORD\"}, {\"category\": \"Others\", \"name\": \"POPPY'S PLAYHOUSE BEDROOM\"}, {\"category\": \"Others\", \"name\": \"WOODLAND CHARLOTTE BAG\"}, {\"category\": \"JUMBO BAG RED RETROSPOT\", \"name\": \"JUMBO BAG OWLS\"}, {\"category\": \"PLASTERS IN TIN SPACEBOY\", \"name\": \"PLASTERS IN TIN STRONGMAN\"}, {\"category\": \"JUMBO BAG RED RETROSPOT\", \"name\": \"JUMBO BAG SPACEBOY DESIGN\"}, {\"category\": \"PLASTERS IN TIN SPACEBOY\", \"name\": \"PLASTERS IN TIN SKULLS\"}, {\"category\": \"Others\", \"name\": \"PAPER CHAIN KIT VINTAGE CHRISTMAS\"}, {\"category\": \"Others\", \"name\": \"FELTCRAFT 6 FLOWER FRIENDS\"}, {\"category\": \"Others\", \"name\": \"DOLLY GIRL LUNCH BOX\"}, {\"category\": \"Others\", \"name\": \"FELTCRAFT PRINCESS CHARLOTTE DOLL\"}, {\"category\": \"CHOCOLATE HOT WATER BOTTLE\", \"name\": \"HOT WATER BOTTLE TEA AND SYMPATHY\"}, {\"category\": \"CHOCOLATE HOT WATER BOTTLE\", \"name\": \"HOT WATER BOTTLE I AM SO POORLY\"}, {\"category\": \"Others\", \"name\": \"CHARLOTTE BAG SUKI DESIGN\"}, {\"category\": \"WHITE HANGING HEART T-LIGHT HOLDER\", \"name\": \"CREAM HEART CARD HOLDER\"}, {\"category\": \"Others\", \"name\": \"VINTAGE SNAP CARDS\"}, {\"category\": \"Others\", \"name\": \"GARDENERS KNEELING PAD CUP OF TEA\"}, {\"category\": \"HAND WARMER OWL DESIGN\", \"name\": \"HAND WARMER UNION JACK\"}, {\"category\": \"Others\", \"name\": \"SINGLE HEART ZINC T-LIGHT HOLDER\"}, {\"category\": \"Others\", \"name\": \"IVORY KITCHEN SCALES\"}, {\"category\": \"Others\", \"name\": \"SWEETHEART CERAMIC TRINKET BOX\"}, {\"category\": \"Others\", \"name\": \"SET/6 RED SPOTTY PAPER CUPS\"}, {\"category\": \"JUMBO BAG RED RETROSPOT\", \"name\": \"JUMBO BAG PINK POLKADOT\"}, {\"category\": \"Others\", \"name\": \"SET OF 3 HEART COOKIE CUTTERS\"}, {\"category\": \"Others\", \"name\": \"ROUND SNACK BOXES SET OF 4 FRUITS\"}, {\"category\": \"Others\", \"name\": \"POSTAGE\"}, {\"category\": \"Others\", \"name\": \"BLUE STRIPE CERAMIC DRAWER KNOB\"}, {\"category\": \"JUMBO BAG RED RETROSPOT\", \"name\": \"JUMBO BAG WOODLAND ANIMALS\"}, {\"category\": \"Others\", \"name\": \"KEY FOB , SHED\"}, {\"category\": \"Others\", \"name\": \"PINK CREAM FELT CRAFT TRINKET BOX\"}, {\"category\": \"PLEASE ONE PERSON METAL SIGN\", \"name\": \"LADIES & GENTLEMEN METAL SIGN\"}, {\"category\": \"Others\", \"name\": \"RED RETROSPOT CHARLOTTE BAG\"}, {\"category\": \"Others\", \"name\": \"PAPER CHAIN KIT 50'S CHRISTMAS\"}, {\"category\": \"Others\", \"name\": \"RED HARMONICA IN BOX\"}, {\"category\": \"Others\", \"name\": \"BLUE HAPPY BIRTHDAY BUNTING\"}, {\"category\": \"Others\", \"name\": \"HANGING HEART ZINC T-LIGHT HOLDER\"}, {\"category\": \"Others\", \"name\": \"GARDENERS KNEELING PAD KEEP CALM\"}, {\"category\": \"Others\", \"name\": \"FELTCRAFT PRINCESS LOLA DOLL\"}, {\"category\": \"Others\", \"name\": \"FELTCRAFT BUTTERFLY HEARTS\"}, {\"category\": \"Others\", \"name\": \"EDWARDIAN PARASOL RED\"}, {\"category\": \"Others\", \"name\": \"EDWARDIAN PARASOL NATURAL\"}, {\"category\": \"Others\", \"name\": \"SPACEBOY LUNCH BOX\"}, {\"category\": \"CHOCOLATE HOT WATER BOTTLE\", \"name\": \"SCOTTIE DOG HOT WATER BOTTLE\"}, {\"category\": \"Others\", \"name\": \"CHARLOTTE BAG PINK POLKADOT\"}, {\"category\": \"WHITE HANGING HEART T-LIGHT HOLDER\", \"name\": \"CANDLEHOLDER PINK HANGING HEART\"}, {\"category\": \"Others\", \"name\": \"RED STRIPE CERAMIC DRAWER KNOB\"}, {\"category\": \"Others\", \"name\": \"BLUE HARMONICA IN BOX\"}, {\"category\": \"Others\", \"name\": \"PINK HAPPY BIRTHDAY BUNTING\"}, {\"category\": \"Others\", \"name\": \"KITCHEN METAL SIGN\"}, {\"category\": \"Others\", \"name\": \"BAKING SET 9 PIECE RETROSPOT\"}, {\"category\": \"Others\", \"name\": \"RED KITCHEN SCALES\"}, {\"category\": \"Others\", \"name\": \"KEY FOB , BACK DOOR\"}, {\"category\": \"LUNCH BAG BLACK SKULL.\", \"name\": \"LUNCH BAG APPLE DESIGN\"}, {\"category\": \"Others\", \"name\": \"STRAWBERRY CHARLOTTE BAG\"}, {\"category\": \"Others\", \"name\": \"TOILET METAL SIGN\"}, {\"category\": \"Others\", \"name\": \"BAKING SET SPACEBOY DESIGN\"}, {\"category\": \"REGENCY CAKESTAND 3 TIER\", \"name\": \"PAINTED METAL PEARS ASSORTED\"}, {\"category\": \"Others\", \"name\": \"WOODEN HEART CHRISTMAS SCANDINAVIAN\"}, {\"category\": \"WHITE HANGING HEART T-LIGHT HOLDER\", \"name\": \"ZINC METAL HEART DECORATION\"}, {\"category\": \"Others\", \"name\": \"VINTAGE HEADS AND TAILS CARD GAME\"}, {\"category\": \"Others\", \"name\": \"SET/6 RED SPOTTY PAPER PLATES\"}, {\"category\": \"Others\", \"name\": \"LUNCH BAG PINK RETROSPOT\"}, {\"category\": \"Others\", \"name\": \"SET OF 3 BUTTERFLY COOKIE CUTTERS\"}, {\"category\": \"WHITE HANGING HEART T-LIGHT HOLDER\", \"name\": \"REX CASH+CARRY JUMBO SHOPPER\"}, {\"category\": \"WHITE HANGING HEART T-LIGHT HOLDER\", \"name\": \"RED HANGING HEART T-LIGHT HOLDER\"}, {\"category\": \"Others\", \"name\": \"PINK BLUE FELT CRAFT TRINKET BOX\"}, {\"category\": \"Others\", \"name\": \"SPOTTY BUNTING\"}, {\"category\": \"WHITE HANGING HEART T-LIGHT HOLDER\", \"name\": \"NATURAL SLATE HEART CHALKBOARD\"}, {\"category\": \"Others\", \"name\": \"WOODEN STAR CHRISTMAS SCANDINAVIAN\"}], \"links\": [{\"target\": \"72 SWEETHEART FAIRY CAKE CASES\", \"source\": \"60 TEATIME FAIRY CAKE CASES\"}, {\"target\": \"60 TEATIME FAIRY CAKE CASES\", \"source\": \"72 SWEETHEART FAIRY CAKE CASES\"}, {\"target\": \"PACK OF 60 DINOSAUR CAKE CASES\", \"source\": \"60 TEATIME FAIRY CAKE CASES\"}, {\"target\": \"60 TEATIME FAIRY CAKE CASES\", \"source\": \"PACK OF 60 DINOSAUR CAKE CASES\"}, {\"target\": \"PACK OF 60 PINK PAISLEY CAKE CASES\", \"source\": \"60 TEATIME FAIRY CAKE CASES\"}, {\"target\": \"60 TEATIME FAIRY CAKE CASES\", \"source\": \"PACK OF 60 PINK PAISLEY CAKE CASES\"}, {\"target\": \"60 TEATIME FAIRY CAKE CASES\", \"source\": \"PACK OF 60 SPACEBOY CAKE CASES\"}, {\"target\": \"PACK OF 60 SPACEBOY CAKE CASES\", \"source\": \"60 TEATIME FAIRY CAKE CASES\"}, {\"target\": \"60 TEATIME FAIRY CAKE CASES\", \"source\": \"PACK OF 72 RETRO SPOT CAKE CASES\"}, {\"target\": \"PACK OF 72 RETRO SPOT CAKE CASES\", \"source\": \"60 TEATIME FAIRY CAKE CASES\"}, {\"target\": \"PACK OF 72 RETROSPOT CAKE CASES\", \"source\": \"60 TEATIME FAIRY CAKE CASES\"}, {\"target\": \"60 TEATIME FAIRY CAKE CASES\", \"source\": \"PACK OF 72 RETROSPOT CAKE CASES\"}, {\"target\": \"PACK OF 72 SKULL CAKE CASES\", \"source\": \"60 TEATIME FAIRY CAKE CASES\"}, {\"target\": \"60 TEATIME FAIRY CAKE CASES\", \"source\": \"PACK OF 72 SKULL CAKE CASES\"}, {\"target\": \"WHITE HANGING HEART T-LIGHT HOLDER\", \"source\": \"60 TEATIME FAIRY CAKE CASES\"}, {\"target\": \"60 TEATIME FAIRY CAKE CASES\", \"source\": \"WHITE HANGING HEART T-LIGHT HOLDER\"}, {\"target\": \"PACK OF 60 DINOSAUR CAKE CASES\", \"source\": \"72 SWEETHEART FAIRY CAKE CASES\"}, {\"target\": \"72 SWEETHEART FAIRY CAKE CASES\", \"source\": \"PACK OF 60 DINOSAUR CAKE CASES\"}, {\"target\": \"PACK OF 60 PINK PAISLEY CAKE CASES\", \"source\": \"72 SWEETHEART FAIRY CAKE CASES\"}, {\"target\": \"72 SWEETHEART FAIRY CAKE CASES\", \"source\": \"PACK OF 60 PINK PAISLEY CAKE CASES\"}, {\"target\": \"ALARM CLOCK BAKELIKE GREEN\", \"source\": \"ALARM CLOCK BAKELIKE IVORY\"}, {\"target\": \"ALARM CLOCK BAKELIKE IVORY\", \"source\": \"ALARM CLOCK BAKELIKE GREEN\"}, {\"target\": \"ALARM CLOCK BAKELIKE GREEN\", \"source\": \"ALARM CLOCK BAKELIKE PINK\"}, {\"target\": \"ALARM CLOCK BAKELIKE PINK\", \"source\": \"ALARM CLOCK BAKELIKE GREEN\"}, {\"target\": \"ALARM CLOCK BAKELIKE RED\", \"source\": \"ALARM CLOCK BAKELIKE GREEN\"}, {\"target\": \"ALARM CLOCK BAKELIKE GREEN\", \"source\": \"ALARM CLOCK BAKELIKE RED\"}, {\"target\": \"ALARM CLOCK BAKELIKE RED\", \"source\": \"ALARM CLOCK BAKELIKE IVORY\"}, {\"target\": \"ALARM CLOCK BAKELIKE IVORY\", \"source\": \"ALARM CLOCK BAKELIKE RED\"}, {\"target\": \"ALARM CLOCK BAKELIKE RED\", \"source\": \"ALARM CLOCK BAKELIKE PINK\"}, {\"target\": \"ALARM CLOCK BAKELIKE PINK\", \"source\": \"ALARM CLOCK BAKELIKE RED\"}, {\"target\": \"PAINTED METAL PEARS ASSORTED\", \"source\": \"ASSORTED COLOUR BIRD ORNAMENT\"}, {\"target\": \"ASSORTED COLOUR BIRD ORNAMENT\", \"source\": \"PAINTED METAL PEARS ASSORTED\"}, {\"target\": \"REGENCY CAKESTAND 3 TIER\", \"source\": \"ASSORTED COLOUR BIRD ORNAMENT\"}, {\"target\": \"ASSORTED COLOUR BIRD ORNAMENT\", \"source\": \"REGENCY CAKESTAND 3 TIER\"}, {\"target\": \"WHITE HANGING HEART T-LIGHT HOLDER\", \"source\": \"ASSORTED COLOUR BIRD ORNAMENT\"}, {\"target\": \"ASSORTED COLOUR BIRD ORNAMENT\", \"source\": \"WHITE HANGING HEART T-LIGHT HOLDER\"}, {\"target\": \"BAKING SET SPACEBOY DESIGN\", \"source\": \"BAKING SET 9 PIECE RETROSPOT\"}, {\"target\": \"BAKING SET 9 PIECE RETROSPOT\", \"source\": \"BAKING SET SPACEBOY DESIGN\"}, {\"target\": \"BATHROOM METAL SIGN\", \"source\": \"KITCHEN METAL SIGN\"}, {\"target\": \"KITCHEN METAL SIGN\", \"source\": \"BATHROOM METAL SIGN\"}, {\"target\": \"TOILET METAL SIGN\", \"source\": \"BATHROOM METAL SIGN\"}, {\"target\": \"BATHROOM METAL SIGN\", \"source\": \"TOILET METAL SIGN\"}, {\"target\": \"BLUE HAPPY BIRTHDAY BUNTING\", \"source\": \"PINK HAPPY BIRTHDAY BUNTING\"}, {\"target\": \"PINK HAPPY BIRTHDAY BUNTING\", \"source\": \"BLUE HAPPY BIRTHDAY BUNTING\"}, {\"target\": \"RED HARMONICA IN BOX\", \"source\": \"BLUE HARMONICA IN BOX\"}, {\"target\": \"BLUE HARMONICA IN BOX\", \"source\": \"RED HARMONICA IN BOX\"}, {\"target\": \"BLUE STRIPE CERAMIC DRAWER KNOB\", \"source\": \"RED STRIPE CERAMIC DRAWER KNOB\"}, {\"target\": \"RED STRIPE CERAMIC DRAWER KNOB\", \"source\": \"BLUE STRIPE CERAMIC DRAWER KNOB\"}, {\"target\": \"WHITE HANGING HEART T-LIGHT HOLDER\", \"source\": \"CANDLEHOLDER PINK HANGING HEART\"}, {\"target\": \"CANDLEHOLDER PINK HANGING HEART\", \"source\": \"WHITE HANGING HEART T-LIGHT HOLDER\"}, {\"target\": \"RED RETROSPOT CHARLOTTE BAG\", \"source\": \"CHARLOTTE BAG PINK POLKADOT\"}, {\"target\": \"CHARLOTTE BAG PINK POLKADOT\", \"source\": \"RED RETROSPOT CHARLOTTE BAG\"}, {\"target\": \"CHARLOTTE BAG SUKI DESIGN\", \"source\": \"WOODLAND CHARLOTTE BAG\"}, {\"target\": \"WOODLAND CHARLOTTE BAG\", \"source\": \"CHARLOTTE BAG SUKI DESIGN\"}, {\"target\": \"HOT WATER BOTTLE I AM SO POORLY\", \"source\": \"CHOCOLATE HOT WATER BOTTLE\"}, {\"target\": \"CHOCOLATE HOT WATER BOTTLE\", \"source\": \"HOT WATER BOTTLE I AM SO POORLY\"}, {\"target\": \"HOT WATER BOTTLE TEA AND SYMPATHY\", \"source\": \"CHOCOLATE HOT WATER BOTTLE\"}, {\"target\": \"CHOCOLATE HOT WATER BOTTLE\", \"source\": \"HOT WATER BOTTLE TEA AND SYMPATHY\"}, {\"target\": \"CHOCOLATE HOT WATER BOTTLE\", \"source\": \"SCOTTIE DOG HOT WATER BOTTLE\"}, {\"target\": \"SCOTTIE DOG HOT WATER BOTTLE\", \"source\": \"CHOCOLATE HOT WATER BOTTLE\"}, {\"target\": \"GIN + TONIC DIET METAL SIGN\", \"source\": \"COOK WITH WINE METAL SIGN\"}, {\"target\": \"COOK WITH WINE METAL SIGN\", \"source\": \"GIN + TONIC DIET METAL SIGN\"}, {\"target\": \"HAND OVER THE CHOCOLATE SIGN\", \"source\": \"COOK WITH WINE METAL SIGN\"}, {\"target\": \"COOK WITH WINE METAL SIGN\", \"source\": \"HAND OVER THE CHOCOLATE SIGN\"}, {\"target\": \"COOK WITH WINE METAL SIGN\", \"source\": \"PLEASE ONE PERSON METAL SIGN\"}, {\"target\": \"PLEASE ONE PERSON METAL SIGN\", \"source\": \"COOK WITH WINE METAL SIGN\"}, {\"target\": \"CREAM HEART CARD HOLDER\", \"source\": \"WHITE HANGING HEART T-LIGHT HOLDER\"}, {\"target\": \"WHITE HANGING HEART T-LIGHT HOLDER\", \"source\": \"CREAM HEART CARD HOLDER\"}, {\"target\": \"DOLLY GIRL LUNCH BOX\", \"source\": \"SPACEBOY LUNCH BOX\"}, {\"target\": \"SPACEBOY LUNCH BOX\", \"source\": \"DOLLY GIRL LUNCH BOX\"}, {\"target\": \"EDWARDIAN PARASOL BLACK\", \"source\": \"EDWARDIAN PARASOL NATURAL\"}, {\"target\": \"EDWARDIAN PARASOL NATURAL\", \"source\": \"EDWARDIAN PARASOL BLACK\"}, {\"target\": \"EDWARDIAN PARASOL BLACK\", \"source\": \"EDWARDIAN PARASOL RED\"}, {\"target\": \"EDWARDIAN PARASOL RED\", \"source\": \"EDWARDIAN PARASOL BLACK\"}, {\"target\": \"FELTCRAFT 6 FLOWER FRIENDS\", \"source\": \"FELTCRAFT BUTTERFLY HEARTS\"}, {\"target\": \"FELTCRAFT BUTTERFLY HEARTS\", \"source\": \"FELTCRAFT 6 FLOWER FRIENDS\"}, {\"target\": \"FELTCRAFT CUSHION OWL\", \"source\": \"FELTCRAFT CUSHION BUTTERFLY\"}, {\"target\": \"FELTCRAFT CUSHION BUTTERFLY\", \"source\": \"FELTCRAFT CUSHION OWL\"}, {\"target\": \"FELTCRAFT CUSHION BUTTERFLY\", \"source\": \"FELTCRAFT CUSHION RABBIT\"}, {\"target\": \"FELTCRAFT CUSHION RABBIT\", \"source\": \"FELTCRAFT CUSHION BUTTERFLY\"}, {\"target\": \"FELTCRAFT CUSHION OWL\", \"source\": \"FELTCRAFT CUSHION RABBIT\"}, {\"target\": \"FELTCRAFT CUSHION RABBIT\", \"source\": \"FELTCRAFT CUSHION OWL\"}, {\"target\": \"FELTCRAFT PRINCESS CHARLOTTE DOLL\", \"source\": \"FELTCRAFT PRINCESS LOLA DOLL\"}, {\"target\": \"FELTCRAFT PRINCESS LOLA DOLL\", \"source\": \"FELTCRAFT PRINCESS CHARLOTTE DOLL\"}, {\"target\": \"GARDENERS KNEELING PAD CUP OF TEA\", \"source\": \"GARDENERS KNEELING PAD KEEP CALM\"}, {\"target\": \"GARDENERS KNEELING PAD KEEP CALM\", \"source\": \"GARDENERS KNEELING PAD CUP OF TEA\"}, {\"target\": \"GIN + TONIC DIET METAL SIGN\", \"source\": \"HAND OVER THE CHOCOLATE SIGN\"}, {\"target\": \"HAND OVER THE CHOCOLATE SIGN\", \"source\": \"GIN + TONIC DIET METAL SIGN\"}, {\"target\": \"NO SINGING METAL SIGN\", \"source\": \"GIN + TONIC DIET METAL SIGN\"}, {\"target\": \"GIN + TONIC DIET METAL SIGN\", \"source\": \"NO SINGING METAL SIGN\"}, {\"target\": \"GIN + TONIC DIET METAL SIGN\", \"source\": \"PLEASE ONE PERSON METAL SIGN\"}, {\"target\": \"PLEASE ONE PERSON METAL SIGN\", \"source\": \"GIN + TONIC DIET METAL SIGN\"}, {\"target\": \"GIN + TONIC DIET METAL SIGN\", \"source\": \"WHITE HANGING HEART T-LIGHT HOLDER\"}, {\"target\": \"WHITE HANGING HEART T-LIGHT HOLDER\", \"source\": \"GIN + TONIC DIET METAL SIGN\"}, {\"target\": \"GREEN REGENCY TEACUP AND SAUCER\", \"source\": \"PINK REGENCY TEACUP AND SAUCER\"}, {\"target\": \"PINK REGENCY TEACUP AND SAUCER\", \"source\": \"GREEN REGENCY TEACUP AND SAUCER\"}, {\"target\": \"GREEN REGENCY TEACUP AND SAUCER\", \"source\": \"REGENCY CAKESTAND 3 TIER\"}, {\"target\": \"REGENCY CAKESTAND 3 TIER\", \"source\": \"GREEN REGENCY TEACUP AND SAUCER\"}, {\"target\": \"ROSES REGENCY TEACUP AND SAUCER\", \"source\": \"GREEN REGENCY TEACUP AND SAUCER\"}, {\"target\": \"GREEN REGENCY TEACUP AND SAUCER\", \"source\": \"ROSES REGENCY TEACUP AND SAUCER\"}, {\"target\": \"NO SINGING METAL SIGN\", \"source\": \"HAND OVER THE CHOCOLATE SIGN\"}, {\"target\": \"HAND OVER THE CHOCOLATE SIGN\", \"source\": \"NO SINGING METAL SIGN\"}, {\"target\": \"HAND OVER THE CHOCOLATE SIGN\", \"source\": \"PLEASE ONE PERSON METAL SIGN\"}, {\"target\": \"PLEASE ONE PERSON METAL SIGN\", \"source\": \"HAND OVER THE CHOCOLATE SIGN\"}, {\"target\": \"HAND OVER THE CHOCOLATE SIGN\", \"source\": \"WHITE HANGING HEART T-LIGHT HOLDER\"}, {\"target\": \"WHITE HANGING HEART T-LIGHT HOLDER\", \"source\": \"HAND OVER THE CHOCOLATE SIGN\"}, {\"target\": \"HAND WARMER OWL DESIGN\", \"source\": \"HAND WARMER BIRD DESIGN\"}, {\"target\": \"HAND WARMER BIRD DESIGN\", \"source\": \"HAND WARMER OWL DESIGN\"}, {\"target\": \"HAND WARMER BIRD DESIGN\", \"source\": \"HAND WARMER SCOTTY DOG DESIGN\"}, {\"target\": \"HAND WARMER SCOTTY DOG DESIGN\", \"source\": \"HAND WARMER BIRD DESIGN\"}, {\"target\": \"HAND WARMER OWL DESIGN\", \"source\": \"HAND WARMER SCOTTY DOG DESIGN\"}, {\"target\": \"HAND WARMER SCOTTY DOG DESIGN\", \"source\": \"HAND WARMER OWL DESIGN\"}, {\"target\": \"HAND WARMER UNION JACK\", \"source\": \"HAND WARMER OWL DESIGN\"}, {\"target\": \"HAND WARMER OWL DESIGN\", \"source\": \"HAND WARMER UNION JACK\"}, {\"target\": \"SINGLE HEART ZINC T-LIGHT HOLDER\", \"source\": \"HANGING HEART ZINC T-LIGHT HOLDER\"}, {\"target\": \"HANGING HEART ZINC T-LIGHT HOLDER\", \"source\": \"SINGLE HEART ZINC T-LIGHT HOLDER\"}, {\"target\": \"HEART OF WICKER SMALL\", \"source\": \"HEART OF WICKER LARGE\"}, {\"target\": \"HEART OF WICKER LARGE\", \"source\": \"HEART OF WICKER SMALL\"}, {\"target\": \"WHITE HANGING HEART T-LIGHT HOLDER\", \"source\": \"HEART OF WICKER LARGE\"}, {\"target\": \"HEART OF WICKER LARGE\", \"source\": \"WHITE HANGING HEART T-LIGHT HOLDER\"}, {\"target\": \"WHITE HANGING HEART T-LIGHT HOLDER\", \"source\": \"HEART OF WICKER SMALL\"}, {\"target\": \"HEART OF WICKER SMALL\", \"source\": \"WHITE HANGING HEART T-LIGHT HOLDER\"}, {\"target\": \"LOVE BUILDING BLOCK WORD\", \"source\": \"HOME BUILDING BLOCK WORD\"}, {\"target\": \"HOME BUILDING BLOCK WORD\", \"source\": \"LOVE BUILDING BLOCK WORD\"}, {\"target\": \"WHITE HANGING HEART T-LIGHT HOLDER\", \"source\": \"HOME BUILDING BLOCK WORD\"}, {\"target\": \"HOME BUILDING BLOCK WORD\", \"source\": \"WHITE HANGING HEART T-LIGHT HOLDER\"}, {\"target\": \"IVORY KITCHEN SCALES\", \"source\": \"RED KITCHEN SCALES\"}, {\"target\": \"RED KITCHEN SCALES\", \"source\": \"IVORY KITCHEN SCALES\"}, {\"target\": \"JUMBO BAG BAROQUE BLACK WHITE\", \"source\": \"JUMBO BAG RED RETROSPOT\"}, {\"target\": \"JUMBO BAG RED RETROSPOT\", \"source\": \"JUMBO BAG BAROQUE BLACK WHITE\"}, {\"target\": \"JUMBO BAG BAROQUE BLACK WHITE\", \"source\": \"JUMBO BAG STRAWBERRY\"}, {\"target\": \"JUMBO BAG STRAWBERRY\", \"source\": \"JUMBO BAG BAROQUE BLACK WHITE\"}, {\"target\": \"JUMBO BAG BAROQUE BLACK WHITE\", \"source\": \"JUMBO SHOPPER VINTAGE RED PAISLEY\"}, {\"target\": \"JUMBO SHOPPER VINTAGE RED PAISLEY\", \"source\": \"JUMBO BAG BAROQUE BLACK WHITE\"}, {\"target\": \"JUMBO BAG BAROQUE BLACK WHITE\", \"source\": \"JUMBO STORAGE BAG SUKI\"}, {\"target\": \"JUMBO STORAGE BAG SUKI\", \"source\": \"JUMBO BAG BAROQUE BLACK WHITE\"}, {\"target\": \"JUMBO BAG RED RETROSPOT\", \"source\": \"JUMBO BAG OWLS\"}, {\"target\": \"JUMBO BAG OWLS\", \"source\": \"JUMBO BAG RED RETROSPOT\"}, {\"target\": \"JUMBO STORAGE BAG SUKI\", \"source\": \"JUMBO BAG OWLS\"}, {\"target\": \"JUMBO BAG OWLS\", \"source\": \"JUMBO STORAGE BAG SUKI\"}, {\"target\": \"JUMBO BAG PINK POLKADOT\", \"source\": \"JUMBO BAG RED RETROSPOT\"}, {\"target\": \"JUMBO BAG RED RETROSPOT\", \"source\": \"JUMBO BAG PINK POLKADOT\"}, {\"target\": \"JUMBO BAG RED RETROSPOT\", \"source\": \"JUMBO BAG PINK VINTAGE PAISLEY\"}, {\"target\": \"JUMBO BAG PINK VINTAGE PAISLEY\", \"source\": \"JUMBO BAG RED RETROSPOT\"}, {\"target\": \"JUMBO BAG STRAWBERRY\", \"source\": \"JUMBO BAG PINK VINTAGE PAISLEY\"}, {\"target\": \"JUMBO BAG PINK VINTAGE PAISLEY\", \"source\": \"JUMBO BAG STRAWBERRY\"}, {\"target\": \"JUMBO SHOPPER VINTAGE RED PAISLEY\", \"source\": \"JUMBO BAG PINK VINTAGE PAISLEY\"}, {\"target\": \"JUMBO BAG PINK VINTAGE PAISLEY\", \"source\": \"JUMBO SHOPPER VINTAGE RED PAISLEY\"}, {\"target\": \"JUMBO STORAGE BAG SUKI\", \"source\": \"JUMBO BAG PINK VINTAGE PAISLEY\"}, {\"target\": \"JUMBO BAG PINK VINTAGE PAISLEY\", \"source\": \"JUMBO STORAGE BAG SUKI\"}, {\"target\": \"JUMBO BAG RED RETROSPOT\", \"source\": \"JUMBO BAG SPACEBOY DESIGN\"}, {\"target\": \"JUMBO BAG SPACEBOY DESIGN\", \"source\": \"JUMBO BAG RED RETROSPOT\"}, {\"target\": \"JUMBO BAG RED RETROSPOT\", \"source\": \"JUMBO BAG STRAWBERRY\"}, {\"target\": \"JUMBO BAG STRAWBERRY\", \"source\": \"JUMBO BAG RED RETROSPOT\"}, {\"target\": \"JUMBO BAG WOODLAND ANIMALS\", \"source\": \"JUMBO BAG RED RETROSPOT\"}, {\"target\": \"JUMBO BAG RED RETROSPOT\", \"source\": \"JUMBO BAG WOODLAND ANIMALS\"}, {\"target\": \"JUMBO BAG RED RETROSPOT\", \"source\": \"JUMBO SHOPPER VINTAGE RED PAISLEY\"}, {\"target\": \"JUMBO SHOPPER VINTAGE RED PAISLEY\", \"source\": \"JUMBO BAG RED RETROSPOT\"}, {\"target\": \"JUMBO BAG RED RETROSPOT\", \"source\": \"JUMBO STORAGE BAG SKULLS\"}, {\"target\": \"JUMBO STORAGE BAG SKULLS\", \"source\": \"JUMBO BAG RED RETROSPOT\"}, {\"target\": \"JUMBO BAG RED RETROSPOT\", \"source\": \"JUMBO STORAGE BAG SUKI\"}, {\"target\": \"JUMBO STORAGE BAG SUKI\", \"source\": \"JUMBO BAG RED RETROSPOT\"}, {\"target\": \"JUMBO BAG RED RETROSPOT\", \"source\": \"LUNCH BAG BLACK SKULL.\"}, {\"target\": \"LUNCH BAG BLACK SKULL.\", \"source\": \"JUMBO BAG RED RETROSPOT\"}, {\"target\": \"JUMBO BAG RED RETROSPOT\", \"source\": \"LUNCH BAG CARS BLUE\"}, {\"target\": \"LUNCH BAG CARS BLUE\", \"source\": \"JUMBO BAG RED RETROSPOT\"}, {\"target\": \"JUMBO BAG RED RETROSPOT\", \"source\": \"LUNCH BAG RED RETROSPOT\"}, {\"target\": \"LUNCH BAG RED RETROSPOT\", \"source\": \"JUMBO BAG RED RETROSPOT\"}, {\"target\": \"LUNCH BAG SUKI DESIGN\", \"source\": \"JUMBO BAG RED RETROSPOT\"}, {\"target\": \"JUMBO BAG RED RETROSPOT\", \"source\": \"LUNCH BAG SUKI DESIGN\"}, {\"target\": \"JUMBO BAG RED RETROSPOT\", \"source\": \"WHITE HANGING HEART T-LIGHT HOLDER\"}, {\"target\": \"WHITE HANGING HEART T-LIGHT HOLDER\", \"source\": \"JUMBO BAG RED RETROSPOT\"}, {\"target\": \"JUMBO STORAGE BAG SUKI\", \"source\": \"JUMBO BAG SPACEBOY DESIGN\"}, {\"target\": \"JUMBO BAG SPACEBOY DESIGN\", \"source\": \"JUMBO STORAGE BAG SUKI\"}, {\"target\": \"JUMBO SHOPPER VINTAGE RED PAISLEY\", \"source\": \"JUMBO BAG STRAWBERRY\"}, {\"target\": \"JUMBO BAG STRAWBERRY\", \"source\": \"JUMBO SHOPPER VINTAGE RED PAISLEY\"}, {\"target\": \"JUMBO STORAGE BAG SUKI\", \"source\": \"JUMBO BAG STRAWBERRY\"}, {\"target\": \"JUMBO BAG STRAWBERRY\", \"source\": \"JUMBO STORAGE BAG SUKI\"}, {\"target\": \"JUMBO STORAGE BAG SUKI\", \"source\": \"JUMBO SHOPPER VINTAGE RED PAISLEY\"}, {\"target\": \"JUMBO SHOPPER VINTAGE RED PAISLEY\", \"source\": \"JUMBO STORAGE BAG SUKI\"}, {\"target\": \"JUMBO STORAGE BAG SUKI\", \"source\": \"JUMBO STORAGE BAG SKULLS\"}, {\"target\": \"JUMBO STORAGE BAG SKULLS\", \"source\": \"JUMBO STORAGE BAG SUKI\"}, {\"target\": \"JUMBO STORAGE BAG SUKI\", \"source\": \"LUNCH BAG BLACK SKULL.\"}, {\"target\": \"LUNCH BAG BLACK SKULL.\", \"source\": \"JUMBO STORAGE BAG SUKI\"}, {\"target\": \"LUNCH BAG SUKI DESIGN\", \"source\": \"JUMBO STORAGE BAG SUKI\"}, {\"target\": \"JUMBO STORAGE BAG SUKI\", \"source\": \"LUNCH BAG SUKI DESIGN\"}, {\"target\": \"KEY FOB , SHED\", \"source\": \"KEY FOB , BACK DOOR\"}, {\"target\": \"KEY FOB , BACK DOOR\", \"source\": \"KEY FOB , SHED\"}, {\"target\": \"LADIES & GENTLEMEN METAL SIGN\", \"source\": \"PLEASE ONE PERSON METAL SIGN\"}, {\"target\": \"PLEASE ONE PERSON METAL SIGN\", \"source\": \"LADIES & GENTLEMEN METAL SIGN\"}, {\"target\": \"WHITE HANGING HEART T-LIGHT HOLDER\", \"source\": \"LOVE BUILDING BLOCK WORD\"}, {\"target\": \"LOVE BUILDING BLOCK WORD\", \"source\": \"WHITE HANGING HEART T-LIGHT HOLDER\"}, {\"target\": \"LUNCH BAG RED RETROSPOT\", \"source\": \"LUNCH BAG APPLE DESIGN\"}, {\"target\": \"LUNCH BAG APPLE DESIGN\", \"source\": \"LUNCH BAG RED RETROSPOT\"}, {\"target\": \"LUNCH BAG CARS BLUE\", \"source\": \"LUNCH BAG BLACK SKULL.\"}, {\"target\": \"LUNCH BAG BLACK SKULL.\", \"source\": \"LUNCH BAG CARS BLUE\"}, {\"target\": \"LUNCH BAG DOLLY GIRL DESIGN\", \"source\": \"LUNCH BAG BLACK SKULL.\"}, {\"target\": \"LUNCH BAG BLACK SKULL.\", \"source\": \"LUNCH BAG DOLLY GIRL DESIGN\"}, {\"target\": \"LUNCH BAG BLACK SKULL.\", \"source\": \"LUNCH BAG PINK POLKADOT\"}, {\"target\": \"LUNCH BAG PINK POLKADOT\", \"source\": \"LUNCH BAG BLACK SKULL.\"}, {\"target\": \"LUNCH BAG RED RETROSPOT\", \"source\": \"LUNCH BAG BLACK SKULL.\"}, {\"target\": \"LUNCH BAG BLACK SKULL.\", \"source\": \"LUNCH BAG RED RETROSPOT\"}, {\"target\": \"LUNCH BAG BLACK SKULL.\", \"source\": \"LUNCH BAG RED SPOTTY\"}, {\"target\": \"LUNCH BAG RED SPOTTY\", \"source\": \"LUNCH BAG BLACK SKULL.\"}, {\"target\": \"LUNCH BAG SPACEBOY DESIGN\", \"source\": \"LUNCH BAG BLACK SKULL.\"}, {\"target\": \"LUNCH BAG BLACK SKULL.\", \"source\": \"LUNCH BAG SPACEBOY DESIGN\"}, {\"target\": \"LUNCH BAG SUKI DESIGN\", \"source\": \"LUNCH BAG BLACK SKULL.\"}, {\"target\": \"LUNCH BAG BLACK SKULL.\", \"source\": \"LUNCH BAG SUKI DESIGN\"}, {\"target\": \"LUNCH BAG WOODLAND\", \"source\": \"LUNCH BAG BLACK SKULL.\"}, {\"target\": \"LUNCH BAG BLACK SKULL.\", \"source\": \"LUNCH BAG WOODLAND\"}, {\"target\": \"WHITE HANGING HEART T-LIGHT HOLDER\", \"source\": \"LUNCH BAG BLACK SKULL.\"}, {\"target\": \"LUNCH BAG BLACK SKULL.\", \"source\": \"WHITE HANGING HEART T-LIGHT HOLDER\"}, {\"target\": \"LUNCH BAG CARS BLUE\", \"source\": \"LUNCH BAG PINK POLKADOT\"}, {\"target\": \"LUNCH BAG PINK POLKADOT\", \"source\": \"LUNCH BAG CARS BLUE\"}, {\"target\": \"LUNCH BAG RED RETROSPOT\", \"source\": \"LUNCH BAG CARS BLUE\"}, {\"target\": \"LUNCH BAG CARS BLUE\", \"source\": \"LUNCH BAG RED RETROSPOT\"}, {\"target\": \"LUNCH BAG CARS BLUE\", \"source\": \"LUNCH BAG RED SPOTTY\"}, {\"target\": \"LUNCH BAG RED SPOTTY\", \"source\": \"LUNCH BAG CARS BLUE\"}, {\"target\": \"LUNCH BAG SPACEBOY DESIGN\", \"source\": \"LUNCH BAG CARS BLUE\"}, {\"target\": \"LUNCH BAG CARS BLUE\", \"source\": \"LUNCH BAG SPACEBOY DESIGN\"}, {\"target\": \"LUNCH BAG SUKI DESIGN\", \"source\": \"LUNCH BAG CARS BLUE\"}, {\"target\": \"LUNCH BAG CARS BLUE\", \"source\": \"LUNCH BAG SUKI DESIGN\"}, {\"target\": \"LUNCH BAG WOODLAND\", \"source\": \"LUNCH BAG CARS BLUE\"}, {\"target\": \"LUNCH BAG CARS BLUE\", \"source\": \"LUNCH BAG WOODLAND\"}, {\"target\": \"WHITE HANGING HEART T-LIGHT HOLDER\", \"source\": \"LUNCH BAG CARS BLUE\"}, {\"target\": \"LUNCH BAG CARS BLUE\", \"source\": \"WHITE HANGING HEART T-LIGHT HOLDER\"}, {\"target\": \"LUNCH BAG DOLLY GIRL DESIGN\", \"source\": \"LUNCH BAG SPACEBOY DESIGN\"}, {\"target\": \"LUNCH BAG SPACEBOY DESIGN\", \"source\": \"LUNCH BAG DOLLY GIRL DESIGN\"}, {\"target\": \"LUNCH BAG DOLLY GIRL DESIGN\", \"source\": \"LUNCH BAG SUKI DESIGN\"}, {\"target\": \"LUNCH BAG SUKI DESIGN\", \"source\": \"LUNCH BAG DOLLY GIRL DESIGN\"}, {\"target\": \"LUNCH BAG RED RETROSPOT\", \"source\": \"LUNCH BAG PINK POLKADOT\"}, {\"target\": \"LUNCH BAG PINK POLKADOT\", \"source\": \"LUNCH BAG RED RETROSPOT\"}, {\"target\": \"LUNCH BAG SPACEBOY DESIGN\", \"source\": \"LUNCH BAG PINK POLKADOT\"}, {\"target\": \"LUNCH BAG PINK POLKADOT\", \"source\": \"LUNCH BAG SPACEBOY DESIGN\"}, {\"target\": \"LUNCH BAG SUKI DESIGN\", \"source\": \"LUNCH BAG PINK POLKADOT\"}, {\"target\": \"LUNCH BAG PINK POLKADOT\", \"source\": \"LUNCH BAG SUKI DESIGN\"}, {\"target\": \"LUNCH BAG WOODLAND\", \"source\": \"LUNCH BAG PINK POLKADOT\"}, {\"target\": \"LUNCH BAG PINK POLKADOT\", \"source\": \"LUNCH BAG WOODLAND\"}, {\"target\": \"LUNCH BAG RED SPOTTY\", \"source\": \"LUNCH BAG PINK RETROSPOT\"}, {\"target\": \"LUNCH BAG PINK RETROSPOT\", \"source\": \"LUNCH BAG RED SPOTTY\"}, {\"target\": \"LUNCH BAG SPACEBOY DESIGN\", \"source\": \"LUNCH BAG RED RETROSPOT\"}, {\"target\": \"LUNCH BAG RED RETROSPOT\", \"source\": \"LUNCH BAG SPACEBOY DESIGN\"}, {\"target\": \"LUNCH BAG SUKI DESIGN\", \"source\": \"LUNCH BAG RED RETROSPOT\"}, {\"target\": \"LUNCH BAG RED RETROSPOT\", \"source\": \"LUNCH BAG SUKI DESIGN\"}, {\"target\": \"LUNCH BAG WOODLAND\", \"source\": \"LUNCH BAG RED RETROSPOT\"}, {\"target\": \"LUNCH BAG RED RETROSPOT\", \"source\": \"LUNCH BAG WOODLAND\"}, {\"target\": \"LUNCH BAG SUKI DESIGN\", \"source\": \"LUNCH BAG SPACEBOY DESIGN\"}, {\"target\": \"LUNCH BAG SPACEBOY DESIGN\", \"source\": \"LUNCH BAG SUKI DESIGN\"}, {\"target\": \"LUNCH BAG SPACEBOY DESIGN\", \"source\": \"LUNCH BAG WOODLAND\"}, {\"target\": \"LUNCH BAG WOODLAND\", \"source\": \"LUNCH BAG SPACEBOY DESIGN\"}, {\"target\": \"LUNCH BAG SUKI DESIGN\", \"source\": \"LUNCH BAG WOODLAND\"}, {\"target\": \"LUNCH BAG WOODLAND\", \"source\": \"LUNCH BAG SUKI DESIGN\"}, {\"target\": \"LUNCH BAG SUKI DESIGN\", \"source\": \"WHITE HANGING HEART T-LIGHT HOLDER\"}, {\"target\": \"WHITE HANGING HEART T-LIGHT HOLDER\", \"source\": \"LUNCH BAG SUKI DESIGN\"}, {\"target\": \"WHITE HANGING HEART T-LIGHT HOLDER\", \"source\": \"NATURAL SLATE HEART CHALKBOARD\"}, {\"target\": \"NATURAL SLATE HEART CHALKBOARD\", \"source\": \"WHITE HANGING HEART T-LIGHT HOLDER\"}, {\"target\": \"PACK OF 60 DINOSAUR CAKE CASES\", \"source\": \"PACK OF 60 PINK PAISLEY CAKE CASES\"}, {\"target\": \"PACK OF 60 PINK PAISLEY CAKE CASES\", \"source\": \"PACK OF 60 DINOSAUR CAKE CASES\"}, {\"target\": \"PACK OF 60 DINOSAUR CAKE CASES\", \"source\": \"PACK OF 60 SPACEBOY CAKE CASES\"}, {\"target\": \"PACK OF 60 SPACEBOY CAKE CASES\", \"source\": \"PACK OF 60 DINOSAUR CAKE CASES\"}, {\"target\": \"PACK OF 60 DINOSAUR CAKE CASES\", \"source\": \"PACK OF 72 SKULL CAKE CASES\"}, {\"target\": \"PACK OF 72 SKULL CAKE CASES\", \"source\": \"PACK OF 60 DINOSAUR CAKE CASES\"}, {\"target\": \"PACK OF 60 PINK PAISLEY CAKE CASES\", \"source\": \"PACK OF 72 RETRO SPOT CAKE CASES\"}, {\"target\": \"PACK OF 72 RETRO SPOT CAKE CASES\", \"source\": \"PACK OF 60 PINK PAISLEY CAKE CASES\"}, {\"target\": \"PACK OF 72 RETROSPOT CAKE CASES\", \"source\": \"PACK OF 60 PINK PAISLEY CAKE CASES\"}, {\"target\": \"PACK OF 60 PINK PAISLEY CAKE CASES\", \"source\": \"PACK OF 72 RETROSPOT CAKE CASES\"}, {\"target\": \"PACK OF 60 PINK PAISLEY CAKE CASES\", \"source\": \"PACK OF 72 SKULL CAKE CASES\"}, {\"target\": \"PACK OF 72 SKULL CAKE CASES\", \"source\": \"PACK OF 60 PINK PAISLEY CAKE CASES\"}, {\"target\": \"PAPER CHAIN KIT VINTAGE CHRISTMAS\", \"source\": \"PAPER CHAIN KIT 50'S CHRISTMAS\"}, {\"target\": \"PAPER CHAIN KIT 50'S CHRISTMAS\", \"source\": \"PAPER CHAIN KIT VINTAGE CHRISTMAS\"}, {\"target\": \"PARTY BUNTING\", \"source\": \"SPOTTY BUNTING\"}, {\"target\": \"SPOTTY BUNTING\", \"source\": \"PARTY BUNTING\"}, {\"target\": \"PARTY BUNTING\", \"source\": \"WHITE HANGING HEART T-LIGHT HOLDER\"}, {\"target\": \"WHITE HANGING HEART T-LIGHT HOLDER\", \"source\": \"PARTY BUNTING\"}, {\"target\": \"PINK CREAM FELT CRAFT TRINKET BOX\", \"source\": \"PINK BLUE FELT CRAFT TRINKET BOX\"}, {\"target\": \"PINK BLUE FELT CRAFT TRINKET BOX\", \"source\": \"PINK CREAM FELT CRAFT TRINKET BOX\"}, {\"target\": \"REGENCY CAKESTAND 3 TIER\", \"source\": \"PINK REGENCY TEACUP AND SAUCER\"}, {\"target\": \"PINK REGENCY TEACUP AND SAUCER\", \"source\": \"REGENCY CAKESTAND 3 TIER\"}, {\"target\": \"ROSES REGENCY TEACUP AND SAUCER\", \"source\": \"PINK REGENCY TEACUP AND SAUCER\"}, {\"target\": \"PINK REGENCY TEACUP AND SAUCER\", \"source\": \"ROSES REGENCY TEACUP AND SAUCER\"}, {\"target\": \"PLASTERS IN TIN SPACEBOY\", \"source\": \"PLASTERS IN TIN CIRCUS PARADE\"}, {\"target\": \"PLASTERS IN TIN CIRCUS PARADE\", \"source\": \"PLASTERS IN TIN SPACEBOY\"}, {\"target\": \"PLASTERS IN TIN STRONGMAN\", \"source\": \"PLASTERS IN TIN CIRCUS PARADE\"}, {\"target\": \"PLASTERS IN TIN CIRCUS PARADE\", \"source\": \"PLASTERS IN TIN STRONGMAN\"}, {\"target\": \"PLASTERS IN TIN WOODLAND ANIMALS\", \"source\": \"PLASTERS IN TIN CIRCUS PARADE\"}, {\"target\": \"PLASTERS IN TIN CIRCUS PARADE\", \"source\": \"PLASTERS IN TIN WOODLAND ANIMALS\"}, {\"target\": \"PLASTERS IN TIN SPACEBOY\", \"source\": \"PLASTERS IN TIN SKULLS\"}, {\"target\": \"PLASTERS IN TIN SKULLS\", \"source\": \"PLASTERS IN TIN SPACEBOY\"}, {\"target\": \"PLASTERS IN TIN WOODLAND ANIMALS\", \"source\": \"PLASTERS IN TIN SKULLS\"}, {\"target\": \"PLASTERS IN TIN SKULLS\", \"source\": \"PLASTERS IN TIN WOODLAND ANIMALS\"}, {\"target\": \"PLASTERS IN TIN SPACEBOY\", \"source\": \"PLASTERS IN TIN STRONGMAN\"}, {\"target\": \"PLASTERS IN TIN STRONGMAN\", \"source\": \"PLASTERS IN TIN SPACEBOY\"}, {\"target\": \"PLASTERS IN TIN VINTAGE PAISLEY\", \"source\": \"PLASTERS IN TIN SPACEBOY\"}, {\"target\": \"PLASTERS IN TIN SPACEBOY\", \"source\": \"PLASTERS IN TIN VINTAGE PAISLEY\"}, {\"target\": \"PLASTERS IN TIN WOODLAND ANIMALS\", \"source\": \"PLASTERS IN TIN SPACEBOY\"}, {\"target\": \"PLASTERS IN TIN SPACEBOY\", \"source\": \"PLASTERS IN TIN WOODLAND ANIMALS\"}, {\"target\": \"PLASTERS IN TIN WOODLAND ANIMALS\", \"source\": \"PLASTERS IN TIN VINTAGE PAISLEY\"}, {\"target\": \"PLASTERS IN TIN VINTAGE PAISLEY\", \"source\": \"PLASTERS IN TIN WOODLAND ANIMALS\"}, {\"target\": \"WHITE HANGING HEART T-LIGHT HOLDER\", \"source\": \"PLEASE ONE PERSON METAL SIGN\"}, {\"target\": \"PLEASE ONE PERSON METAL SIGN\", \"source\": \"WHITE HANGING HEART T-LIGHT HOLDER\"}, {\"target\": \"POPPY'S PLAYHOUSE BEDROOM\", \"source\": \"POPPY'S PLAYHOUSE KITCHEN\"}, {\"target\": \"POPPY'S PLAYHOUSE KITCHEN\", \"source\": \"POPPY'S PLAYHOUSE BEDROOM\"}, {\"target\": \"POPPY'S PLAYHOUSE BEDROOM\", \"source\": \"POPPY'S PLAYHOUSE LIVINGROOM\"}, {\"target\": \"POPPY'S PLAYHOUSE LIVINGROOM\", \"source\": \"POPPY'S PLAYHOUSE BEDROOM\"}, {\"target\": \"POPPY'S PLAYHOUSE LIVINGROOM\", \"source\": \"POPPY'S PLAYHOUSE KITCHEN\"}, {\"target\": \"POPPY'S PLAYHOUSE KITCHEN\", \"source\": \"POPPY'S PLAYHOUSE LIVINGROOM\"}, {\"target\": \"POSTAGE\", \"source\": \"ROUND SNACK BOXES SET OF4 WOODLAND\"}, {\"target\": \"ROUND SNACK BOXES SET OF4 WOODLAND\", \"source\": \"POSTAGE\"}, {\"target\": \"WHITE HANGING HEART T-LIGHT HOLDER\", \"source\": \"RED HANGING HEART T-LIGHT HOLDER\"}, {\"target\": \"RED HANGING HEART T-LIGHT HOLDER\", \"source\": \"WHITE HANGING HEART T-LIGHT HOLDER\"}, {\"target\": \"ROSES REGENCY TEACUP AND SAUCER\", \"source\": \"REGENCY CAKESTAND 3 TIER\"}, {\"target\": \"REGENCY CAKESTAND 3 TIER\", \"source\": \"ROSES REGENCY TEACUP AND SAUCER\"}, {\"target\": \"WHITE HANGING HEART T-LIGHT HOLDER\", \"source\": \"REGENCY CAKESTAND 3 TIER\"}, {\"target\": \"REGENCY CAKESTAND 3 TIER\", \"source\": \"WHITE HANGING HEART T-LIGHT HOLDER\"}, {\"target\": \"WHITE HANGING HEART T-LIGHT HOLDER\", \"source\": \"REX CASH+CARRY JUMBO SHOPPER\"}, {\"target\": \"REX CASH+CARRY JUMBO SHOPPER\", \"source\": \"WHITE HANGING HEART T-LIGHT HOLDER\"}, {\"target\": \"ROUND SNACK BOXES SET OF 4 FRUITS\", \"source\": \"ROUND SNACK BOXES SET OF4 WOODLAND\"}, {\"target\": \"ROUND SNACK BOXES SET OF4 WOODLAND\", \"source\": \"ROUND SNACK BOXES SET OF 4 FRUITS\"}, {\"target\": \"SET OF 3 HEART COOKIE CUTTERS\", \"source\": \"SET OF 3 BUTTERFLY COOKIE CUTTERS\"}, {\"target\": \"SET OF 3 BUTTERFLY COOKIE CUTTERS\", \"source\": \"SET OF 3 HEART COOKIE CUTTERS\"}, {\"target\": \"SET/6 RED SPOTTY PAPER CUPS\", \"source\": \"SET/6 RED SPOTTY PAPER PLATES\"}, {\"target\": \"SET/6 RED SPOTTY PAPER PLATES\", \"source\": \"SET/6 RED SPOTTY PAPER CUPS\"}, {\"target\": \"SWEETHEART CERAMIC TRINKET BOX\", \"source\": \"STRAWBERRY CERAMIC TRINKET BOX\"}, {\"target\": \"STRAWBERRY CERAMIC TRINKET BOX\", \"source\": \"SWEETHEART CERAMIC TRINKET BOX\"}, {\"target\": \"WHITE HANGING HEART T-LIGHT HOLDER\", \"source\": \"STRAWBERRY CERAMIC TRINKET BOX\"}, {\"target\": \"STRAWBERRY CERAMIC TRINKET BOX\", \"source\": \"WHITE HANGING HEART T-LIGHT HOLDER\"}, {\"target\": \"WOODLAND CHARLOTTE BAG\", \"source\": \"STRAWBERRY CHARLOTTE BAG\"}, {\"target\": \"STRAWBERRY CHARLOTTE BAG\", \"source\": \"WOODLAND CHARLOTTE BAG\"}, {\"target\": \"VINTAGE SNAP CARDS\", \"source\": \"VINTAGE HEADS AND TAILS CARD GAME\"}, {\"target\": \"VINTAGE HEADS AND TAILS CARD GAME\", \"source\": \"VINTAGE SNAP CARDS\"}, {\"target\": \"WHITE HANGING HEART T-LIGHT HOLDER\", \"source\": \"WOOD 2 DRAWER CABINET WHITE FINISH\"}, {\"target\": \"WOOD 2 DRAWER CABINET WHITE FINISH\", \"source\": \"WHITE HANGING HEART T-LIGHT HOLDER\"}, {\"target\": \"WOOD S/3 CABINET ANT WHITE FINISH\", \"source\": \"WHITE HANGING HEART T-LIGHT HOLDER\"}, {\"target\": \"WHITE HANGING HEART T-LIGHT HOLDER\", \"source\": \"WOOD S/3 CABINET ANT WHITE FINISH\"}, {\"target\": \"WHITE HANGING HEART T-LIGHT HOLDER\", \"source\": \"WOODEN FRAME ANTIQUE WHITE\"}, {\"target\": \"WOODEN FRAME ANTIQUE WHITE\", \"source\": \"WHITE HANGING HEART T-LIGHT HOLDER\"}, {\"target\": \"WOODEN PICTURE FRAME WHITE FINISH\", \"source\": \"WHITE HANGING HEART T-LIGHT HOLDER\"}, {\"target\": \"WHITE HANGING HEART T-LIGHT HOLDER\", \"source\": \"WOODEN PICTURE FRAME WHITE FINISH\"}, {\"target\": \"WHITE HANGING HEART T-LIGHT HOLDER\", \"source\": \"ZINC METAL HEART DECORATION\"}, {\"target\": \"ZINC METAL HEART DECORATION\", \"source\": \"WHITE HANGING HEART T-LIGHT HOLDER\"}, {\"target\": \"WOOD S/3 CABINET ANT WHITE FINISH\", \"source\": \"WOOD 2 DRAWER CABINET WHITE FINISH\"}, {\"target\": \"WOOD 2 DRAWER CABINET WHITE FINISH\", \"source\": \"WOOD S/3 CABINET ANT WHITE FINISH\"}, {\"target\": \"WOOD 2 DRAWER CABINET WHITE FINISH\", \"source\": \"WOODEN FRAME ANTIQUE WHITE\"}, {\"target\": \"WOODEN FRAME ANTIQUE WHITE\", \"source\": \"WOOD 2 DRAWER CABINET WHITE FINISH\"}, {\"target\": \"WOODEN PICTURE FRAME WHITE FINISH\", \"source\": \"WOOD 2 DRAWER CABINET WHITE FINISH\"}, {\"target\": \"WOOD 2 DRAWER CABINET WHITE FINISH\", \"source\": \"WOODEN PICTURE FRAME WHITE FINISH\"}, {\"target\": \"WOOD S/3 CABINET ANT WHITE FINISH\", \"source\": \"WOODEN FRAME ANTIQUE WHITE\"}, {\"target\": \"WOODEN FRAME ANTIQUE WHITE\", \"source\": \"WOOD S/3 CABINET ANT WHITE FINISH\"}, {\"target\": \"WOOD S/3 CABINET ANT WHITE FINISH\", \"source\": \"WOODEN PICTURE FRAME WHITE FINISH\"}, {\"target\": \"WOODEN PICTURE FRAME WHITE FINISH\", \"source\": \"WOOD S/3 CABINET ANT WHITE FINISH\"}, {\"target\": \"WOODEN PICTURE FRAME WHITE FINISH\", \"source\": \"WOODEN FRAME ANTIQUE WHITE\"}, {\"target\": \"WOODEN FRAME ANTIQUE WHITE\", \"source\": \"WOODEN PICTURE FRAME WHITE FINISH\"}, {\"target\": \"WOODEN STAR CHRISTMAS SCANDINAVIAN\", \"source\": \"WOODEN HEART CHRISTMAS SCANDINAVIAN\"}, {\"target\": \"WOODEN HEART CHRISTMAS SCANDINAVIAN\", \"source\": \"WOODEN STAR CHRISTMAS SCANDINAVIAN\"}], \"categories\": [{\"name\": \"WHITE HANGING HEART T-LIGHT HOLDER\"}, {\"name\": \"JUMBO BAG RED RETROSPOT\"}, {\"name\": \"LUNCH BAG BLACK SKULL.\"}, {\"name\": \"60 TEATIME FAIRY CAKE CASES\"}, {\"name\": \"REGENCY CAKESTAND 3 TIER\"}, {\"name\": \"PLEASE ONE PERSON METAL SIGN\"}, {\"name\": \"PLASTERS IN TIN SPACEBOY\"}, {\"name\": \"WOOD 2 DRAWER CABINET WHITE FINISH\"}, {\"name\": \"ALARM CLOCK BAKELIKE GREEN\"}, {\"name\": \"Others\"}, {\"name\": \"CHOCOLATE HOT WATER BOTTLE\"}, {\"name\": \"HAND WARMER OWL DESIGN\"}], \"roam\": true, \"label\": {\"show\": false, \"position\": \"right\", \"formatter\": \"{b}\"}, \"edgeLabel\": {\"show\": false, \"position\": \"right\", \"formatter\": \"{b}\", \"fontSize\": 20}, \"symbol\": \"circle\", \"symbolSize\": 10, \"edgeSymbol\": [null, \"triangle\"], \"edgeSymbolSize\": [10, 10], \"lineStyle\": {\"color\": \"source\", \"curveness\": 0.2, \"width\": 1, \"opacity\": 0.5}, \"scaleLimit\": {\"min\": 0.4, \"max\": 5}, \"emphasis\": {\"focus\": \"adjacency\", \"lineStyle\": {\"width\": 10}, \"label\": {\"show\": false, \"position\": \"right\", \"formatter\": \"{b}\"}, \"edgeLabel\": {\"show\": false}}, \"zoom\": 1.0, \"draggable\": true, \"force\": {\"gravity\": 0.1, \"repulsion\": 50, \"edgeLength\": 30, \"friction\": 0.6}}]});\n",
       "                }\n",
       "            )\n",
       "        </script>\n",
       "    "
      ],
      "text/plain": [
       "<IPython.core.display.HTML object>"
      ]
     },
     "execution_count": 107,
     "metadata": {},
     "output_type": "execute_result"
    }
   ],
   "source": [
    "# JupyterEcharts.show(profile_force_option)"
   ]
  },
  {
   "cell_type": "markdown",
   "id": "d16308a0",
   "metadata": {
    "deletable": false,
    "editable": false,
    "run_control": {
     "frozen": true
    }
   },
   "source": [
    "![Description](images/profile_network.png)"
   ]
  },
  {
   "cell_type": "markdown",
   "id": "1a81ae96",
   "metadata": {
    "ExecuteTime": {
     "end_time": "2024-05-15T10:07:48.681479Z",
     "start_time": "2024-05-15T10:07:48.672822Z"
    },
    "deletable": false,
    "editable": false,
    "run_control": {
     "frozen": true
    }
   },
   "source": [
    "### Product Network"
   ]
  },
  {
   "cell_type": "markdown",
   "id": "ff960703",
   "metadata": {
    "deletable": false,
    "editable": false,
    "run_control": {
     "frozen": true
    }
   },
   "source": [
    "After we know our network profile, we can select and assess individual product networks."
   ]
  },
  {
   "cell_type": "code",
   "execution_count": 108,
   "id": "ecdc262c",
   "metadata": {
    "ExecuteTime": {
     "end_time": "2024-05-18T14:43:23.202027Z",
     "start_time": "2024-05-18T14:43:23.054373Z"
    },
    "deletable": false,
    "editable": false
   },
   "outputs": [],
   "source": [
    "MyPN = ProductNetwork(rules)\n",
    "df_bfs, rules_bfs = MyPN.get_bfs_rules(['RED HANGING HEART T-LIGHT HOLDER'], 'support', 0, 3, 5)\n",
    "df_nodes, df_edges = MyPN.get_graph_features(df_bfs, rules_bfs, strict_rules=True)"
   ]
  },
  {
   "cell_type": "code",
   "execution_count": 111,
   "id": "6d99850b",
   "metadata": {
    "ExecuteTime": {
     "end_time": "2024-05-18T14:43:34.779509Z",
     "start_time": "2024-05-18T14:43:34.767542Z"
    },
    "deletable": false,
    "editable": false
   },
   "outputs": [],
   "source": [
    "df_nodes['label'] = df_nodes['rank'].map(lambda x : {\"show\": True, \"position\": \"right\", \"formatter\": f\"{x}\"})"
   ]
  },
  {
   "cell_type": "code",
   "execution_count": 112,
   "id": "5b844ba7",
   "metadata": {
    "ExecuteTime": {
     "end_time": "2024-05-18T14:43:36.497608Z",
     "start_time": "2024-05-18T14:43:36.477662Z"
    },
    "deletable": false,
    "editable": false
   },
   "outputs": [],
   "source": [
    "product_force = EgraphForce(\n",
    "    df_edges, \n",
    "    df_nodes,\n",
    "    col_category='depth',\n",
    "    col_source='antecedents', \n",
    "    col_target='consequents',\n",
    "    col_name='nodes',\n",
    ")\n",
    "product_force_option = product_force.get_option(show_legend=True)"
   ]
  },
  {
   "cell_type": "code",
   "execution_count": null,
   "id": "8faf0909",
   "metadata": {
    "ExecuteTime": {
     "end_time": "2024-05-15T10:51:18.832514Z",
     "start_time": "2024-05-15T10:51:18.826470Z"
    },
    "deletable": false,
    "editable": false
   },
   "outputs": [],
   "source": [
    "# JupyterEcharts.show(product_force_option)"
   ]
  },
  {
   "cell_type": "markdown",
   "id": "601a61ce",
   "metadata": {
    "deletable": false,
    "editable": false
   },
   "source": [
    "![Description](images/product_network.png)"
   ]
  },
  {
   "cell_type": "markdown",
   "id": "01611486",
   "metadata": {
    "ExecuteTime": {
     "end_time": "2024-05-15T10:21:30.130283Z",
     "start_time": "2024-05-15T10:21:30.120313Z"
    }
   },
   "source": [
    "### Cross Selling Products"
   ]
  },
  {
   "cell_type": "markdown",
   "id": "438acbcb",
   "metadata": {
    "deletable": false,
    "editable": false,
    "run_control": {
     "frozen": true
    }
   },
   "source": [
    "Using this technique, we can bundle our products that are frequently purchased together."
   ]
  },
  {
   "cell_type": "code",
   "execution_count": 114,
   "id": "627dadcf",
   "metadata": {
    "ExecuteTime": {
     "end_time": "2024-05-18T15:08:31.191736Z",
     "start_time": "2024-05-18T15:08:30.795958Z"
    },
    "deletable": false,
    "editable": false
   },
   "outputs": [],
   "source": [
    "MyCSP = CrossSellingProducts(rules)\n",
    "cross_selling_rules = MyCSP.get_cross_selling_products(max_support_ratio_diff=2.0, min_confidence=0.35)"
   ]
  },
  {
   "cell_type": "code",
   "execution_count": 115,
   "id": "db13904f",
   "metadata": {
    "ExecuteTime": {
     "end_time": "2024-05-18T15:08:31.653080Z",
     "start_time": "2024-05-18T15:08:31.590241Z"
    },
    "deletable": false,
    "editable": false
   },
   "outputs": [],
   "source": [
    "df_nodes, df_edges = MyCSP.get_graph_features(cross_selling_rules)\n",
    "df_nodes = NxGrouper.greedy_modularity_communities(df_nodes, df_edges)"
   ]
  },
  {
   "cell_type": "code",
   "execution_count": 116,
   "id": "bff834bc",
   "metadata": {
    "ExecuteTime": {
     "end_time": "2024-05-18T15:08:32.198048Z",
     "start_time": "2024-05-18T15:08:32.184088Z"
    },
    "deletable": false,
    "editable": false
   },
   "outputs": [],
   "source": [
    "csp_force = EgraphForce(\n",
    "    df_edges, df_nodes,\n",
    "    col_source='antecedents',\n",
    "    col_target='consequents',\n",
    "    col_name='nodes',\n",
    ")\n",
    "csp_force_option = csp_force.get_option()"
   ]
  },
  {
   "cell_type": "code",
   "execution_count": null,
   "id": "654c95f2",
   "metadata": {
    "ExecuteTime": {
     "end_time": "2024-05-15T10:51:21.563626Z",
     "start_time": "2024-05-15T10:51:21.556644Z"
    },
    "deletable": false,
    "editable": false
   },
   "outputs": [],
   "source": [
    "# JupyterEcharts.show(csp_force_option)"
   ]
  },
  {
   "cell_type": "markdown",
   "id": "8ee29921",
   "metadata": {
    "deletable": false,
    "editable": false
   },
   "source": [
    "![Description](images/cross_selling_products.png)"
   ]
  },
  {
   "cell_type": "markdown",
   "id": "bc1f2c1b",
   "metadata": {
    "ExecuteTime": {
     "end_time": "2024-05-15T08:12:20.124616Z",
     "start_time": "2024-05-15T08:12:20.108451Z"
    },
    "deletable": false,
    "editable": false,
    "run_control": {
     "frozen": true
    }
   },
   "source": [
    "##  Product Placement with Plotly Heatmap"
   ]
  },
  {
   "cell_type": "markdown",
   "id": "f037c549",
   "metadata": {
    "deletable": false,
    "editable": false,
    "run_control": {
     "frozen": true
    }
   },
   "source": [
    "We can display our products side by side using Plotly heatmap"
   ]
  },
  {
   "cell_type": "code",
   "execution_count": 117,
   "id": "c90de8f5",
   "metadata": {
    "ExecuteTime": {
     "end_time": "2024-05-18T15:09:30.219563Z",
     "start_time": "2024-05-18T15:09:30.197622Z"
    },
    "deletable": false,
    "editable": false
   },
   "outputs": [],
   "source": [
    "MyHM = HeatmapCrosstab(rules)"
   ]
  },
  {
   "cell_type": "code",
   "execution_count": 118,
   "id": "f5cdcc91",
   "metadata": {
    "ExecuteTime": {
     "end_time": "2024-05-18T15:09:31.032368Z",
     "start_time": "2024-05-18T15:09:30.763821Z"
    },
    "deletable": false,
    "editable": false
   },
   "outputs": [],
   "source": [
    "tabular = MyHM.get_tabular_data(\n",
    "    ['WHITE HANGING HEART T-LIGHT HOLDER', 'RED HANGING HEART T-LIGHT HOLDER'], \n",
    "    'support',\n",
    "    max_col=10\n",
    ")"
   ]
  },
  {
   "cell_type": "code",
   "execution_count": 119,
   "id": "4368b4f8",
   "metadata": {
    "ExecuteTime": {
     "end_time": "2024-05-18T15:09:51.522127Z",
     "start_time": "2024-05-18T15:09:32.319451Z"
    },
    "deletable": false,
    "editable": false
   },
   "outputs": [],
   "source": [
    "fig = MyHM.plot_heatmap(tabular)"
   ]
  },
  {
   "cell_type": "code",
   "execution_count": 121,
   "id": "6c6031b3",
   "metadata": {
    "ExecuteTime": {
     "end_time": "2024-05-18T15:10:10.325493Z",
     "start_time": "2024-05-18T15:10:10.309536Z"
    },
    "deletable": false,
    "editable": false
   },
   "outputs": [],
   "source": [
    "# fig.show()"
   ]
  },
  {
   "cell_type": "code",
   "execution_count": null,
   "id": "8e16a28c",
   "metadata": {
    "ExecuteTime": {
     "end_time": "2024-05-15T11:05:47.407417Z",
     "start_time": "2024-05-15T11:05:47.256784Z"
    },
    "deletable": false,
    "editable": false
   },
   "outputs": [],
   "source": [
    "# fig.write_image(\"images/heatmap_xtab.png\")"
   ]
  },
  {
   "cell_type": "markdown",
   "id": "81cd19fe",
   "metadata": {
    "deletable": false,
    "editable": false,
    "run_control": {
     "frozen": true
    }
   },
   "source": [
    "![Description](images/heatmap_xtab.png)"
   ]
  }
 ],
 "metadata": {
  "kernelspec": {
   "display_name": "Python 3 (ipykernel)",
   "language": "python",
   "name": "python3"
  },
  "language_info": {
   "codemirror_mode": {
    "name": "ipython",
    "version": 3
   },
   "file_extension": ".py",
   "mimetype": "text/x-python",
   "name": "python",
   "nbconvert_exporter": "python",
   "pygments_lexer": "ipython3",
   "version": "3.9.12"
  },
  "toc": {
   "base_numbering": 1,
   "nav_menu": {},
   "number_sections": true,
   "sideBar": true,
   "skip_h1_title": false,
   "title_cell": "Table of Contents",
   "title_sidebar": "Contents",
   "toc_cell": false,
   "toc_position": {},
   "toc_section_display": true,
   "toc_window_display": false
  },
  "varInspector": {
   "cols": {
    "lenName": 16,
    "lenType": 16,
    "lenVar": 40
   },
   "kernels_config": {
    "python": {
     "delete_cmd_postfix": "",
     "delete_cmd_prefix": "del ",
     "library": "var_list.py",
     "varRefreshCmd": "print(var_dic_list())"
    },
    "r": {
     "delete_cmd_postfix": ") ",
     "delete_cmd_prefix": "rm(",
     "library": "var_list.r",
     "varRefreshCmd": "cat(var_dic_list()) "
    }
   },
   "types_to_exclude": [
    "module",
    "function",
    "builtin_function_or_method",
    "instance",
    "_Feature"
   ],
   "window_display": false
  }
 },
 "nbformat": 4,
 "nbformat_minor": 5
}
